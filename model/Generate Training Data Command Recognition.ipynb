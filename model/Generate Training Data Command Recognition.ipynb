{
 "cells": [
  {
   "cell_type": "markdown",
   "metadata": {},
   "source": [
    "# Prepare audio data for image recognition\n",
    "\n",
    "The data is pretty good, but there's a few samples that aren't exactly 1 second long and some samples that are either truncated or don't contain very much of the word.\n",
    "\n",
    "The code in the notebook attempts to filter out the broken audio so that we are only using good audio.\n",
    "\n",
    "We then generate spectrograms of each word. We mix in background noise with the words to make it a more realistic audio sample."
   ]
  },
  {
   "cell_type": "markdown",
   "metadata": {},
   "source": [
    "## Download data set\n",
    "Download from: https://storage.cloud.google.com/download.tensorflow.org/data/speech_commands_v0.02.tar.gz - approx 2.3 GB\n",
    "\n",
    "And then run\n",
    "```\n",
    "tar -xzf data_speech_commands_v0.02.tar.gz -C speech_data\n",
    "```"
   ]
  },
  {
   "cell_type": "code",
   "execution_count": 1,
   "metadata": {},
   "outputs": [],
   "source": [
    "import tensorflow as tf\n",
    "import numpy as np\n",
    "from tensorflow.io import gfile\n",
    "import tensorflow_io as tfio\n",
    "from tensorflow.python.ops import gen_audio_ops as audio_ops\n",
    "from tqdm.notebook import tqdm\n",
    "import matplotlib.pyplot as plt\n",
    "from tensorflow.python.ops import gen_audio_ops as audio_ops"
   ]
  },
  {
   "cell_type": "code",
   "execution_count": 2,
   "metadata": {},
   "outputs": [],
   "source": [
    "SPEECH_DATA='speech_data'\n",
    "\n",
    "# The audio is all sampled at 16KHz and should all be 1 second in length - so 1 second is 16000 samples\n",
    "EXPECTED_SAMPLES=16000\n",
    "# Noise floor to detect if any audio is present\n",
    "NOISE_FLOOR=0.1\n",
    "# How many samples should be abover the noise floor?\n",
    "MINIMUM_VOICE_LENGTH=EXPECTED_SAMPLES/4\n",
    "\n",
    "# list of folders we want to process in the speech_data folder\n",
    "command_words = [\n",
    "    'forward',\n",
    "    'backward',\n",
    "    'left',\n",
    "    'right',\n",
    "    '_invalid',\n",
    "]\n",
    "nonsense_words = [\n",
    "    'stop',\n",
    "    'go',\n",
    "    'on',\n",
    "    'off',\n",
    "    'up',\n",
    "    'down',\n",
    "    'learn',\n",
    "    'yes',\n",
    "    'no',\n",
    "    'zero',\n",
    "    'one',\n",
    "    'two',\n",
    "    'three',\n",
    "    'four',\n",
    "    'five',\n",
    "    'six',\n",
    "    'seven',\n",
    "    'eight',\n",
    "    'nine',\n",
    "    'follow',\n",
    "    'tree',\n",
    "    'bed',\n",
    "    'bird',\n",
    "    'cat',\n",
    "    'dog',\n",
    "    'happy',\n",
    "    'house',\n",
    "    'marvin',\n",
    "    'sheila',\n",
    "    'visual',\n",
    "    'wow',\n",
    "]\n",
    "\n"
   ]
  },
  {
   "cell_type": "code",
   "execution_count": 3,
   "metadata": {},
   "outputs": [],
   "source": [
    "# get all the files in a directory\n",
    "def get_files(word):\n",
    "    return gfile.glob(SPEECH_DATA + '/'+word+'/*.wav')\n",
    "\n",
    "# get the location of the voice\n",
    "def get_voice_position(audio, noise_floor):\n",
    "    audio = audio - np.mean(audio)\n",
    "    audio = audio / np.max(np.abs(audio))\n",
    "    return tfio.audio.trim(audio, axis=0, epsilon=noise_floor)\n",
    "\n",
    "# Work out how much of the audio file is actually voice\n",
    "def get_voice_length(audio, noise_floor):\n",
    "    position = get_voice_position(audio, noise_floor)\n",
    "    return (position[1] - position[0]).numpy()\n",
    "\n",
    "# is enough voice present?\n",
    "def is_voice_present(audio, noise_floor, required_length):\n",
    "    voice_length = get_voice_length(audio, noise_floor)\n",
    "    return voice_length >= required_length\n",
    "\n",
    "# is the audio the correct length?\n",
    "def is_correct_length(audio, expected_length):\n",
    "    return (audio.shape[0]==expected_length).numpy()"
   ]
  },
  {
   "cell_type": "code",
   "execution_count": 4,
   "metadata": {},
   "outputs": [],
   "source": [
    "\n",
    "\n",
    "\n",
    "def is_valid_file(file_name):\n",
    "    # load the audio file\n",
    "    audio_tensor = tfio.audio.AudioIOTensor(file_name)\n",
    "    # check the file is long enough\n",
    "    if not is_correct_length(audio_tensor, EXPECTED_SAMPLES):\n",
    "        return False\n",
    "    # convert the audio to an array of floats and scale it to betweem -1 and 1\n",
    "    audio = tf.cast(audio_tensor[:], tf.float32)\n",
    "    audio = audio - np.mean(audio)\n",
    "    audio = audio / np.max(np.abs(audio))\n",
    "    # is there any voice in the audio?\n",
    "    if not is_voice_present(audio, NOISE_FLOOR, MINIMUM_VOICE_LENGTH):\n",
    "        return False\n",
    "    return True\n",
    "\n",
    "\n",
    "def get_spectrogram(audio):\n",
    "    # normalise the audio\n",
    "    audio = audio - np.mean(audio)\n",
    "    audio = audio / np.max(np.abs(audio))\n",
    "    # create the spectrogram\n",
    "    spectrogram = audio_ops.audio_spectrogram(audio,\n",
    "                                              window_size=320,\n",
    "                                              stride=160,\n",
    "                                              magnitude_squared=True).numpy()\n",
    "    # reduce the number of frequency bins in our spectrogram to a more sensible level\n",
    "    spectrogram = tf.nn.pool(\n",
    "        input=tf.expand_dims(spectrogram, -1),\n",
    "        window_shape=[1, 6],\n",
    "        strides=[1, 6],\n",
    "        pooling_type='AVG',\n",
    "        padding='SAME')\n",
    "    spectrogram = tf.squeeze(spectrogram, axis=0)\n",
    "    spectrogram = np.log10(spectrogram + 1e-6)\n",
    "    return spectrogram\n",
    "\n",
    "# process a file into its spectrogram\n",
    "def process_file(file_path):\n",
    "    # load the audio file\n",
    "    audio_tensor = tfio.audio.AudioIOTensor(file_path)\n",
    "    # convert the audio to an array of floats and scale it to betweem -1 and 1\n",
    "    audio = tf.cast(audio_tensor[:], tf.float32)\n",
    "    audio = audio - np.mean(audio)\n",
    "    audio = audio / np.max(np.abs(audio))\n",
    "    # randomly reposition the audio in the sample\n",
    "    voice_start, voice_end = get_voice_position(audio, NOISE_FLOOR)\n",
    "    end_gap=len(audio) - voice_end\n",
    "    random_offset = np.random.uniform(0, voice_start+end_gap)\n",
    "    audio = np.roll(audio,-random_offset+end_gap)\n",
    "    # add some random background noise\n",
    "    background_volume = np.random.uniform(0, 0.1)\n",
    "    # get the background noise files\n",
    "    background_files = get_files('_background_noise_')\n",
    "    background_file = np.random.choice(background_files)\n",
    "    background_tensor = tfio.audio.AudioIOTensor(background_file)\n",
    "    background_start = np.random.randint(0, len(background_tensor) - 16000)\n",
    "    # normalise the background noise\n",
    "    background = tf.cast(background_tensor[background_start:background_start+16000], tf.float32)\n",
    "    background = background - np.mean(background)\n",
    "    background = background / np.max(np.abs(background))\n",
    "    # mix the audio with the scaled background\n",
    "    audio = audio + background_volume * background\n",
    "    # get the spectrogram\n",
    "    return get_spectrogram(audio)"
   ]
  },
  {
   "cell_type": "code",
   "execution_count": 5,
   "metadata": {},
   "outputs": [],
   "source": [
    "train = []\n",
    "validate = []\n",
    "test = []\n",
    "\n",
    "TRAIN_SIZE=0.8\n",
    "VALIDATION_SIZE=0.1\n",
    "TEST_SIZE=0.1"
   ]
  },
  {
   "cell_type": "code",
   "execution_count": 6,
   "metadata": {},
   "outputs": [],
   "source": [
    "\n",
    "\n",
    "def process_files(file_names, label, repeat=1):\n",
    "    file_names = tf.repeat(file_names, repeat).numpy()\n",
    "    return [(process_file(file_name), label) for file_name in tqdm(file_names, desc=f\"{word} ({label})\", leave=False)]\n",
    "\n",
    "# process the files for a word into the spectrogram and one hot encoding word value\n",
    "def process_word(word, label, repeat=1):\n",
    "    # get a list of files names for the word\n",
    "    file_names = [file_name for file_name in tqdm(get_files(word), desc=\"Checking\", leave=False) if is_valid_file(file_name)]\n",
    "    # randomly shuffle the filenames\n",
    "    np.random.shuffle(file_names)\n",
    "    # split the files into train, validate and test buckets\n",
    "    train_size=int(TRAIN_SIZE*len(file_names))\n",
    "    validation_size=int(VALIDATION_SIZE*len(file_names))\n",
    "    test_size=int(TEST_SIZE*len(file_names))\n",
    "    # get the training samples\n",
    "    train.extend(\n",
    "        process_files(\n",
    "            file_names[:train_size],\n",
    "            label,\n",
    "            repeat=repeat\n",
    "        )\n",
    "    )\n",
    "    # and the validation samples\n",
    "    validate.extend(\n",
    "        process_files(\n",
    "            file_names[train_size:train_size+validation_size],\n",
    "            label,\n",
    "            repeat=repeat\n",
    "        )\n",
    "    )\n",
    "    # and the test samples\n",
    "    test.extend(\n",
    "        process_files(\n",
    "            file_names[train_size+validation_size:],\n",
    "            label,\n",
    "            repeat=repeat\n",
    "        )\n",
    "    )\n"
   ]
  },
  {
   "cell_type": "code",
   "execution_count": 7,
   "metadata": {},
   "outputs": [
    {
     "data": {
      "application/vnd.jupyter.widget-view+json": {
       "model_id": "55d3d196413345db958796cd4bc73dc6",
       "version_major": 2,
       "version_minor": 0
      },
      "text/plain": [
       "Processing words:   0%|          | 0/5 [00:00<?, ?it/s]"
      ]
     },
     "metadata": {},
     "output_type": "display_data"
    },
    {
     "data": {
      "application/vnd.jupyter.widget-view+json": {
       "model_id": "",
       "version_major": 2,
       "version_minor": 0
      },
      "text/plain": [
       "Checking:   0%|          | 0/1557 [00:00<?, ?it/s]"
      ]
     },
     "metadata": {},
     "output_type": "display_data"
    },
    {
     "data": {
      "application/vnd.jupyter.widget-view+json": {
       "model_id": "",
       "version_major": 2,
       "version_minor": 0
      },
      "text/plain": [
       "forward (0):   0%|          | 0/44520 [00:00<?, ?it/s]"
      ]
     },
     "metadata": {},
     "output_type": "display_data"
    },
    {
     "data": {
      "application/vnd.jupyter.widget-view+json": {
       "model_id": "",
       "version_major": 2,
       "version_minor": 0
      },
      "text/plain": [
       "forward (0):   0%|          | 0/5560 [00:00<?, ?it/s]"
      ]
     },
     "metadata": {},
     "output_type": "display_data"
    },
    {
     "data": {
      "application/vnd.jupyter.widget-view+json": {
       "model_id": "",
       "version_major": 2,
       "version_minor": 0
      },
      "text/plain": [
       "forward (0):   0%|          | 0/5600 [00:00<?, ?it/s]"
      ]
     },
     "metadata": {},
     "output_type": "display_data"
    },
    {
     "data": {
      "application/vnd.jupyter.widget-view+json": {
       "model_id": "",
       "version_major": 2,
       "version_minor": 0
      },
      "text/plain": [
       "Checking:   0%|          | 0/1664 [00:00<?, ?it/s]"
      ]
     },
     "metadata": {},
     "output_type": "display_data"
    },
    {
     "data": {
      "application/vnd.jupyter.widget-view+json": {
       "model_id": "",
       "version_major": 2,
       "version_minor": 0
      },
      "text/plain": [
       "backward (1):   0%|          | 0/49000 [00:00<?, ?it/s]"
      ]
     },
     "metadata": {},
     "output_type": "display_data"
    },
    {
     "data": {
      "application/vnd.jupyter.widget-view+json": {
       "model_id": "",
       "version_major": 2,
       "version_minor": 0
      },
      "text/plain": [
       "backward (1):   0%|          | 0/6120 [00:00<?, ?it/s]"
      ]
     },
     "metadata": {},
     "output_type": "display_data"
    },
    {
     "data": {
      "application/vnd.jupyter.widget-view+json": {
       "model_id": "",
       "version_major": 2,
       "version_minor": 0
      },
      "text/plain": [
       "backward (1):   0%|          | 0/6160 [00:00<?, ?it/s]"
      ]
     },
     "metadata": {},
     "output_type": "display_data"
    },
    {
     "data": {
      "application/vnd.jupyter.widget-view+json": {
       "model_id": "",
       "version_major": 2,
       "version_minor": 0
      },
      "text/plain": [
       "Checking:   0%|          | 0/3801 [00:00<?, ?it/s]"
      ]
     },
     "metadata": {},
     "output_type": "display_data"
    },
    {
     "data": {
      "application/vnd.jupyter.widget-view+json": {
       "model_id": "",
       "version_major": 2,
       "version_minor": 0
      },
      "text/plain": [
       "left (2):   0%|          | 0/37520 [00:00<?, ?it/s]"
      ]
     },
     "metadata": {},
     "output_type": "display_data"
    },
    {
     "data": {
      "application/vnd.jupyter.widget-view+json": {
       "model_id": "",
       "version_major": 2,
       "version_minor": 0
      },
      "text/plain": [
       "left (2):   0%|          | 0/4680 [00:00<?, ?it/s]"
      ]
     },
     "metadata": {},
     "output_type": "display_data"
    },
    {
     "data": {
      "application/vnd.jupyter.widget-view+json": {
       "model_id": "",
       "version_major": 2,
       "version_minor": 0
      },
      "text/plain": [
       "left (2):   0%|          | 0/4700 [00:00<?, ?it/s]"
      ]
     },
     "metadata": {},
     "output_type": "display_data"
    },
    {
     "data": {
      "application/vnd.jupyter.widget-view+json": {
       "model_id": "",
       "version_major": 2,
       "version_minor": 0
      },
      "text/plain": [
       "Checking:   0%|          | 0/3778 [00:00<?, ?it/s]"
      ]
     },
     "metadata": {},
     "output_type": "display_data"
    },
    {
     "data": {
      "application/vnd.jupyter.widget-view+json": {
       "model_id": "",
       "version_major": 2,
       "version_minor": 0
      },
      "text/plain": [
       "right (3):   0%|          | 0/42220 [00:00<?, ?it/s]"
      ]
     },
     "metadata": {},
     "output_type": "display_data"
    },
    {
     "data": {
      "application/vnd.jupyter.widget-view+json": {
       "model_id": "",
       "version_major": 2,
       "version_minor": 0
      },
      "text/plain": [
       "right (3):   0%|          | 0/5260 [00:00<?, ?it/s]"
      ]
     },
     "metadata": {},
     "output_type": "display_data"
    },
    {
     "data": {
      "application/vnd.jupyter.widget-view+json": {
       "model_id": "",
       "version_major": 2,
       "version_minor": 0
      },
      "text/plain": [
       "right (3):   0%|          | 0/5300 [00:00<?, ?it/s]"
      ]
     },
     "metadata": {},
     "output_type": "display_data"
    },
    {
     "data": {
      "application/vnd.jupyter.widget-view+json": {
       "model_id": "0711418eb76841b19750d59338ad5649",
       "version_major": 2,
       "version_minor": 0
      },
      "text/plain": [
       "Processing words:   0%|          | 0/31 [00:00<?, ?it/s]"
      ]
     },
     "metadata": {},
     "output_type": "display_data"
    },
    {
     "data": {
      "application/vnd.jupyter.widget-view+json": {
       "model_id": "",
       "version_major": 2,
       "version_minor": 0
      },
      "text/plain": [
       "Checking:   0%|          | 0/3872 [00:00<?, ?it/s]"
      ]
     },
     "metadata": {},
     "output_type": "display_data"
    },
    {
     "data": {
      "application/vnd.jupyter.widget-view+json": {
       "model_id": "",
       "version_major": 2,
       "version_minor": 0
      },
      "text/plain": [
       "stop (4):   0%|          | 0/2001 [00:00<?, ?it/s]"
      ]
     },
     "metadata": {},
     "output_type": "display_data"
    },
    {
     "data": {
      "application/vnd.jupyter.widget-view+json": {
       "model_id": "",
       "version_major": 2,
       "version_minor": 0
      },
      "text/plain": [
       "stop (4):   0%|          | 0/250 [00:00<?, ?it/s]"
      ]
     },
     "metadata": {},
     "output_type": "display_data"
    },
    {
     "data": {
      "application/vnd.jupyter.widget-view+json": {
       "model_id": "",
       "version_major": 2,
       "version_minor": 0
      },
      "text/plain": [
       "stop (4):   0%|          | 0/251 [00:00<?, ?it/s]"
      ]
     },
     "metadata": {},
     "output_type": "display_data"
    },
    {
     "data": {
      "application/vnd.jupyter.widget-view+json": {
       "model_id": "",
       "version_major": 2,
       "version_minor": 0
      },
      "text/plain": [
       "Checking:   0%|          | 0/3880 [00:00<?, ?it/s]"
      ]
     },
     "metadata": {},
     "output_type": "display_data"
    },
    {
     "data": {
      "application/vnd.jupyter.widget-view+json": {
       "model_id": "",
       "version_major": 2,
       "version_minor": 0
      },
      "text/plain": [
       "go (4):   0%|          | 0/2157 [00:00<?, ?it/s]"
      ]
     },
     "metadata": {},
     "output_type": "display_data"
    },
    {
     "data": {
      "application/vnd.jupyter.widget-view+json": {
       "model_id": "",
       "version_major": 2,
       "version_minor": 0
      },
      "text/plain": [
       "go (4):   0%|          | 0/269 [00:00<?, ?it/s]"
      ]
     },
     "metadata": {},
     "output_type": "display_data"
    },
    {
     "data": {
      "application/vnd.jupyter.widget-view+json": {
       "model_id": "",
       "version_major": 2,
       "version_minor": 0
      },
      "text/plain": [
       "go (4):   0%|          | 0/271 [00:00<?, ?it/s]"
      ]
     },
     "metadata": {},
     "output_type": "display_data"
    },
    {
     "data": {
      "application/vnd.jupyter.widget-view+json": {
       "model_id": "",
       "version_major": 2,
       "version_minor": 0
      },
      "text/plain": [
       "Checking:   0%|          | 0/3845 [00:00<?, ?it/s]"
      ]
     },
     "metadata": {},
     "output_type": "display_data"
    },
    {
     "data": {
      "application/vnd.jupyter.widget-view+json": {
       "model_id": "",
       "version_major": 2,
       "version_minor": 0
      },
      "text/plain": [
       "on (4):   0%|          | 0/2390 [00:00<?, ?it/s]"
      ]
     },
     "metadata": {},
     "output_type": "display_data"
    },
    {
     "data": {
      "application/vnd.jupyter.widget-view+json": {
       "model_id": "",
       "version_major": 2,
       "version_minor": 0
      },
      "text/plain": [
       "on (4):   0%|          | 0/298 [00:00<?, ?it/s]"
      ]
     },
     "metadata": {},
     "output_type": "display_data"
    },
    {
     "data": {
      "application/vnd.jupyter.widget-view+json": {
       "model_id": "",
       "version_major": 2,
       "version_minor": 0
      },
      "text/plain": [
       "on (4):   0%|          | 0/300 [00:00<?, ?it/s]"
      ]
     },
     "metadata": {},
     "output_type": "display_data"
    },
    {
     "data": {
      "application/vnd.jupyter.widget-view+json": {
       "model_id": "",
       "version_major": 2,
       "version_minor": 0
      },
      "text/plain": [
       "Checking:   0%|          | 0/3745 [00:00<?, ?it/s]"
      ]
     },
     "metadata": {},
     "output_type": "display_data"
    },
    {
     "data": {
      "application/vnd.jupyter.widget-view+json": {
       "model_id": "",
       "version_major": 2,
       "version_minor": 0
      },
      "text/plain": [
       "off (4):   0%|          | 0/1188 [00:00<?, ?it/s]"
      ]
     },
     "metadata": {},
     "output_type": "display_data"
    },
    {
     "data": {
      "application/vnd.jupyter.widget-view+json": {
       "model_id": "",
       "version_major": 2,
       "version_minor": 0
      },
      "text/plain": [
       "off (4):   0%|          | 0/148 [00:00<?, ?it/s]"
      ]
     },
     "metadata": {},
     "output_type": "display_data"
    },
    {
     "data": {
      "application/vnd.jupyter.widget-view+json": {
       "model_id": "",
       "version_major": 2,
       "version_minor": 0
      },
      "text/plain": [
       "off (4):   0%|          | 0/150 [00:00<?, ?it/s]"
      ]
     },
     "metadata": {},
     "output_type": "display_data"
    },
    {
     "data": {
      "application/vnd.jupyter.widget-view+json": {
       "model_id": "",
       "version_major": 2,
       "version_minor": 0
      },
      "text/plain": [
       "Checking:   0%|          | 0/3723 [00:00<?, ?it/s]"
      ]
     },
     "metadata": {},
     "output_type": "display_data"
    },
    {
     "data": {
      "application/vnd.jupyter.widget-view+json": {
       "model_id": "",
       "version_major": 2,
       "version_minor": 0
      },
      "text/plain": [
       "up (4):   0%|          | 0/790 [00:00<?, ?it/s]"
      ]
     },
     "metadata": {},
     "output_type": "display_data"
    },
    {
     "data": {
      "application/vnd.jupyter.widget-view+json": {
       "model_id": "",
       "version_major": 2,
       "version_minor": 0
      },
      "text/plain": [
       "up (4):   0%|          | 0/98 [00:00<?, ?it/s]"
      ]
     },
     "metadata": {},
     "output_type": "display_data"
    },
    {
     "data": {
      "application/vnd.jupyter.widget-view+json": {
       "model_id": "",
       "version_major": 2,
       "version_minor": 0
      },
      "text/plain": [
       "up (4):   0%|          | 0/100 [00:00<?, ?it/s]"
      ]
     },
     "metadata": {},
     "output_type": "display_data"
    },
    {
     "data": {
      "application/vnd.jupyter.widget-view+json": {
       "model_id": "",
       "version_major": 2,
       "version_minor": 0
      },
      "text/plain": [
       "Checking:   0%|          | 0/3917 [00:00<?, ?it/s]"
      ]
     },
     "metadata": {},
     "output_type": "display_data"
    },
    {
     "data": {
      "application/vnd.jupyter.widget-view+json": {
       "model_id": "",
       "version_major": 2,
       "version_minor": 0
      },
      "text/plain": [
       "down (4):   0%|          | 0/2623 [00:00<?, ?it/s]"
      ]
     },
     "metadata": {},
     "output_type": "display_data"
    },
    {
     "data": {
      "application/vnd.jupyter.widget-view+json": {
       "model_id": "",
       "version_major": 2,
       "version_minor": 0
      },
      "text/plain": [
       "down (4):   0%|          | 0/327 [00:00<?, ?it/s]"
      ]
     },
     "metadata": {},
     "output_type": "display_data"
    },
    {
     "data": {
      "application/vnd.jupyter.widget-view+json": {
       "model_id": "",
       "version_major": 2,
       "version_minor": 0
      },
      "text/plain": [
       "down (4):   0%|          | 0/329 [00:00<?, ?it/s]"
      ]
     },
     "metadata": {},
     "output_type": "display_data"
    },
    {
     "data": {
      "application/vnd.jupyter.widget-view+json": {
       "model_id": "",
       "version_major": 2,
       "version_minor": 0
      },
      "text/plain": [
       "Checking:   0%|          | 0/1575 [00:00<?, ?it/s]"
      ]
     },
     "metadata": {},
     "output_type": "display_data"
    },
    {
     "data": {
      "application/vnd.jupyter.widget-view+json": {
       "model_id": "",
       "version_major": 2,
       "version_minor": 0
      },
      "text/plain": [
       "learn (4):   0%|          | 0/1096 [00:00<?, ?it/s]"
      ]
     },
     "metadata": {},
     "output_type": "display_data"
    },
    {
     "data": {
      "application/vnd.jupyter.widget-view+json": {
       "model_id": "",
       "version_major": 2,
       "version_minor": 0
      },
      "text/plain": [
       "learn (4):   0%|          | 0/137 [00:00<?, ?it/s]"
      ]
     },
     "metadata": {},
     "output_type": "display_data"
    },
    {
     "data": {
      "application/vnd.jupyter.widget-view+json": {
       "model_id": "",
       "version_major": 2,
       "version_minor": 0
      },
      "text/plain": [
       "learn (4):   0%|          | 0/137 [00:00<?, ?it/s]"
      ]
     },
     "metadata": {},
     "output_type": "display_data"
    },
    {
     "data": {
      "application/vnd.jupyter.widget-view+json": {
       "model_id": "",
       "version_major": 2,
       "version_minor": 0
      },
      "text/plain": [
       "Checking:   0%|          | 0/4044 [00:00<?, ?it/s]"
      ]
     },
     "metadata": {},
     "output_type": "display_data"
    },
    {
     "data": {
      "application/vnd.jupyter.widget-view+json": {
       "model_id": "",
       "version_major": 2,
       "version_minor": 0
      },
      "text/plain": [
       "yes (4):   0%|          | 0/2364 [00:00<?, ?it/s]"
      ]
     },
     "metadata": {},
     "output_type": "display_data"
    },
    {
     "data": {
      "application/vnd.jupyter.widget-view+json": {
       "model_id": "",
       "version_major": 2,
       "version_minor": 0
      },
      "text/plain": [
       "yes (4):   0%|          | 0/295 [00:00<?, ?it/s]"
      ]
     },
     "metadata": {},
     "output_type": "display_data"
    },
    {
     "data": {
      "application/vnd.jupyter.widget-view+json": {
       "model_id": "",
       "version_major": 2,
       "version_minor": 0
      },
      "text/plain": [
       "yes (4):   0%|          | 0/297 [00:00<?, ?it/s]"
      ]
     },
     "metadata": {},
     "output_type": "display_data"
    },
    {
     "data": {
      "application/vnd.jupyter.widget-view+json": {
       "model_id": "",
       "version_major": 2,
       "version_minor": 0
      },
      "text/plain": [
       "Checking:   0%|          | 0/3941 [00:00<?, ?it/s]"
      ]
     },
     "metadata": {},
     "output_type": "display_data"
    },
    {
     "data": {
      "application/vnd.jupyter.widget-view+json": {
       "model_id": "",
       "version_major": 2,
       "version_minor": 0
      },
      "text/plain": [
       "no (4):   0%|          | 0/2464 [00:00<?, ?it/s]"
      ]
     },
     "metadata": {},
     "output_type": "display_data"
    },
    {
     "data": {
      "application/vnd.jupyter.widget-view+json": {
       "model_id": "",
       "version_major": 2,
       "version_minor": 0
      },
      "text/plain": [
       "no (4):   0%|          | 0/308 [00:00<?, ?it/s]"
      ]
     },
     "metadata": {},
     "output_type": "display_data"
    },
    {
     "data": {
      "application/vnd.jupyter.widget-view+json": {
       "model_id": "",
       "version_major": 2,
       "version_minor": 0
      },
      "text/plain": [
       "no (4):   0%|          | 0/309 [00:00<?, ?it/s]"
      ]
     },
     "metadata": {},
     "output_type": "display_data"
    },
    {
     "data": {
      "application/vnd.jupyter.widget-view+json": {
       "model_id": "",
       "version_major": 2,
       "version_minor": 0
      },
      "text/plain": [
       "Checking:   0%|          | 0/4052 [00:00<?, ?it/s]"
      ]
     },
     "metadata": {},
     "output_type": "display_data"
    },
    {
     "data": {
      "application/vnd.jupyter.widget-view+json": {
       "model_id": "",
       "version_major": 2,
       "version_minor": 0
      },
      "text/plain": [
       "zero (4):   0%|          | 0/2957 [00:00<?, ?it/s]"
      ]
     },
     "metadata": {},
     "output_type": "display_data"
    },
    {
     "data": {
      "application/vnd.jupyter.widget-view+json": {
       "model_id": "",
       "version_major": 2,
       "version_minor": 0
      },
      "text/plain": [
       "zero (4):   0%|          | 0/369 [00:00<?, ?it/s]"
      ]
     },
     "metadata": {},
     "output_type": "display_data"
    },
    {
     "data": {
      "application/vnd.jupyter.widget-view+json": {
       "model_id": "",
       "version_major": 2,
       "version_minor": 0
      },
      "text/plain": [
       "zero (4):   0%|          | 0/371 [00:00<?, ?it/s]"
      ]
     },
     "metadata": {},
     "output_type": "display_data"
    },
    {
     "data": {
      "application/vnd.jupyter.widget-view+json": {
       "model_id": "",
       "version_major": 2,
       "version_minor": 0
      },
      "text/plain": [
       "Checking:   0%|          | 0/3890 [00:00<?, ?it/s]"
      ]
     },
     "metadata": {},
     "output_type": "display_data"
    },
    {
     "data": {
      "application/vnd.jupyter.widget-view+json": {
       "model_id": "",
       "version_major": 2,
       "version_minor": 0
      },
      "text/plain": [
       "one (4):   0%|          | 0/2324 [00:00<?, ?it/s]"
      ]
     },
     "metadata": {},
     "output_type": "display_data"
    },
    {
     "data": {
      "application/vnd.jupyter.widget-view+json": {
       "model_id": "",
       "version_major": 2,
       "version_minor": 0
      },
      "text/plain": [
       "one (4):   0%|          | 0/290 [00:00<?, ?it/s]"
      ]
     },
     "metadata": {},
     "output_type": "display_data"
    },
    {
     "data": {
      "application/vnd.jupyter.widget-view+json": {
       "model_id": "",
       "version_major": 2,
       "version_minor": 0
      },
      "text/plain": [
       "one (4):   0%|          | 0/292 [00:00<?, ?it/s]"
      ]
     },
     "metadata": {},
     "output_type": "display_data"
    },
    {
     "data": {
      "application/vnd.jupyter.widget-view+json": {
       "model_id": "",
       "version_major": 2,
       "version_minor": 0
      },
      "text/plain": [
       "Checking:   0%|          | 0/3880 [00:00<?, ?it/s]"
      ]
     },
     "metadata": {},
     "output_type": "display_data"
    },
    {
     "data": {
      "application/vnd.jupyter.widget-view+json": {
       "model_id": "",
       "version_major": 2,
       "version_minor": 0
      },
      "text/plain": [
       "two (4):   0%|          | 0/2164 [00:00<?, ?it/s]"
      ]
     },
     "metadata": {},
     "output_type": "display_data"
    },
    {
     "data": {
      "application/vnd.jupyter.widget-view+json": {
       "model_id": "",
       "version_major": 2,
       "version_minor": 0
      },
      "text/plain": [
       "two (4):   0%|          | 0/270 [00:00<?, ?it/s]"
      ]
     },
     "metadata": {},
     "output_type": "display_data"
    },
    {
     "data": {
      "application/vnd.jupyter.widget-view+json": {
       "model_id": "",
       "version_major": 2,
       "version_minor": 0
      },
      "text/plain": [
       "two (4):   0%|          | 0/271 [00:00<?, ?it/s]"
      ]
     },
     "metadata": {},
     "output_type": "display_data"
    },
    {
     "data": {
      "application/vnd.jupyter.widget-view+json": {
       "model_id": "",
       "version_major": 2,
       "version_minor": 0
      },
      "text/plain": [
       "Checking:   0%|          | 0/3727 [00:00<?, ?it/s]"
      ]
     },
     "metadata": {},
     "output_type": "display_data"
    },
    {
     "data": {
      "application/vnd.jupyter.widget-view+json": {
       "model_id": "",
       "version_major": 2,
       "version_minor": 0
      },
      "text/plain": [
       "three (4):   0%|          | 0/2276 [00:00<?, ?it/s]"
      ]
     },
     "metadata": {},
     "output_type": "display_data"
    },
    {
     "data": {
      "application/vnd.jupyter.widget-view+json": {
       "model_id": "",
       "version_major": 2,
       "version_minor": 0
      },
      "text/plain": [
       "three (4):   0%|          | 0/284 [00:00<?, ?it/s]"
      ]
     },
     "metadata": {},
     "output_type": "display_data"
    },
    {
     "data": {
      "application/vnd.jupyter.widget-view+json": {
       "model_id": "",
       "version_major": 2,
       "version_minor": 0
      },
      "text/plain": [
       "three (4):   0%|          | 0/286 [00:00<?, ?it/s]"
      ]
     },
     "metadata": {},
     "output_type": "display_data"
    },
    {
     "data": {
      "application/vnd.jupyter.widget-view+json": {
       "model_id": "",
       "version_major": 2,
       "version_minor": 0
      },
      "text/plain": [
       "Checking:   0%|          | 0/3728 [00:00<?, ?it/s]"
      ]
     },
     "metadata": {},
     "output_type": "display_data"
    },
    {
     "data": {
      "application/vnd.jupyter.widget-view+json": {
       "model_id": "",
       "version_major": 2,
       "version_minor": 0
      },
      "text/plain": [
       "four (4):   0%|          | 0/2250 [00:00<?, ?it/s]"
      ]
     },
     "metadata": {},
     "output_type": "display_data"
    },
    {
     "data": {
      "application/vnd.jupyter.widget-view+json": {
       "model_id": "",
       "version_major": 2,
       "version_minor": 0
      },
      "text/plain": [
       "four (4):   0%|          | 0/281 [00:00<?, ?it/s]"
      ]
     },
     "metadata": {},
     "output_type": "display_data"
    },
    {
     "data": {
      "application/vnd.jupyter.widget-view+json": {
       "model_id": "",
       "version_major": 2,
       "version_minor": 0
      },
      "text/plain": [
       "four (4):   0%|          | 0/282 [00:00<?, ?it/s]"
      ]
     },
     "metadata": {},
     "output_type": "display_data"
    },
    {
     "data": {
      "application/vnd.jupyter.widget-view+json": {
       "model_id": "",
       "version_major": 2,
       "version_minor": 0
      },
      "text/plain": [
       "Checking:   0%|          | 0/4052 [00:00<?, ?it/s]"
      ]
     },
     "metadata": {},
     "output_type": "display_data"
    },
    {
     "data": {
      "application/vnd.jupyter.widget-view+json": {
       "model_id": "",
       "version_major": 2,
       "version_minor": 0
      },
      "text/plain": [
       "five (4):   0%|          | 0/2376 [00:00<?, ?it/s]"
      ]
     },
     "metadata": {},
     "output_type": "display_data"
    },
    {
     "data": {
      "application/vnd.jupyter.widget-view+json": {
       "model_id": "",
       "version_major": 2,
       "version_minor": 0
      },
      "text/plain": [
       "five (4):   0%|          | 0/297 [00:00<?, ?it/s]"
      ]
     },
     "metadata": {},
     "output_type": "display_data"
    },
    {
     "data": {
      "application/vnd.jupyter.widget-view+json": {
       "model_id": "",
       "version_major": 2,
       "version_minor": 0
      },
      "text/plain": [
       "five (4):   0%|          | 0/297 [00:00<?, ?it/s]"
      ]
     },
     "metadata": {},
     "output_type": "display_data"
    },
    {
     "data": {
      "application/vnd.jupyter.widget-view+json": {
       "model_id": "",
       "version_major": 2,
       "version_minor": 0
      },
      "text/plain": [
       "Checking:   0%|          | 0/3860 [00:00<?, ?it/s]"
      ]
     },
     "metadata": {},
     "output_type": "display_data"
    },
    {
     "data": {
      "application/vnd.jupyter.widget-view+json": {
       "model_id": "",
       "version_major": 2,
       "version_minor": 0
      },
      "text/plain": [
       "six (4):   0%|          | 0/2321 [00:00<?, ?it/s]"
      ]
     },
     "metadata": {},
     "output_type": "display_data"
    },
    {
     "data": {
      "application/vnd.jupyter.widget-view+json": {
       "model_id": "",
       "version_major": 2,
       "version_minor": 0
      },
      "text/plain": [
       "six (4):   0%|          | 0/290 [00:00<?, ?it/s]"
      ]
     },
     "metadata": {},
     "output_type": "display_data"
    },
    {
     "data": {
      "application/vnd.jupyter.widget-view+json": {
       "model_id": "",
       "version_major": 2,
       "version_minor": 0
      },
      "text/plain": [
       "six (4):   0%|          | 0/291 [00:00<?, ?it/s]"
      ]
     },
     "metadata": {},
     "output_type": "display_data"
    },
    {
     "data": {
      "application/vnd.jupyter.widget-view+json": {
       "model_id": "",
       "version_major": 2,
       "version_minor": 0
      },
      "text/plain": [
       "Checking:   0%|          | 0/3998 [00:00<?, ?it/s]"
      ]
     },
     "metadata": {},
     "output_type": "display_data"
    },
    {
     "data": {
      "application/vnd.jupyter.widget-view+json": {
       "model_id": "",
       "version_major": 2,
       "version_minor": 0
      },
      "text/plain": [
       "seven (4):   0%|          | 0/2753 [00:00<?, ?it/s]"
      ]
     },
     "metadata": {},
     "output_type": "display_data"
    },
    {
     "data": {
      "application/vnd.jupyter.widget-view+json": {
       "model_id": "",
       "version_major": 2,
       "version_minor": 0
      },
      "text/plain": [
       "seven (4):   0%|          | 0/344 [00:00<?, ?it/s]"
      ]
     },
     "metadata": {},
     "output_type": "display_data"
    },
    {
     "data": {
      "application/vnd.jupyter.widget-view+json": {
       "model_id": "",
       "version_major": 2,
       "version_minor": 0
      },
      "text/plain": [
       "seven (4):   0%|          | 0/345 [00:00<?, ?it/s]"
      ]
     },
     "metadata": {},
     "output_type": "display_data"
    },
    {
     "data": {
      "application/vnd.jupyter.widget-view+json": {
       "model_id": "",
       "version_major": 2,
       "version_minor": 0
      },
      "text/plain": [
       "Checking:   0%|          | 0/3787 [00:00<?, ?it/s]"
      ]
     },
     "metadata": {},
     "output_type": "display_data"
    },
    {
     "data": {
      "application/vnd.jupyter.widget-view+json": {
       "model_id": "",
       "version_major": 2,
       "version_minor": 0
      },
      "text/plain": [
       "eight (4):   0%|          | 0/1858 [00:00<?, ?it/s]"
      ]
     },
     "metadata": {},
     "output_type": "display_data"
    },
    {
     "data": {
      "application/vnd.jupyter.widget-view+json": {
       "model_id": "",
       "version_major": 2,
       "version_minor": 0
      },
      "text/plain": [
       "eight (4):   0%|          | 0/232 [00:00<?, ?it/s]"
      ]
     },
     "metadata": {},
     "output_type": "display_data"
    },
    {
     "data": {
      "application/vnd.jupyter.widget-view+json": {
       "model_id": "",
       "version_major": 2,
       "version_minor": 0
      },
      "text/plain": [
       "eight (4):   0%|          | 0/233 [00:00<?, ?it/s]"
      ]
     },
     "metadata": {},
     "output_type": "display_data"
    },
    {
     "data": {
      "application/vnd.jupyter.widget-view+json": {
       "model_id": "",
       "version_major": 2,
       "version_minor": 0
      },
      "text/plain": [
       "Checking:   0%|          | 0/3934 [00:00<?, ?it/s]"
      ]
     },
     "metadata": {},
     "output_type": "display_data"
    },
    {
     "data": {
      "application/vnd.jupyter.widget-view+json": {
       "model_id": "",
       "version_major": 2,
       "version_minor": 0
      },
      "text/plain": [
       "nine (4):   0%|          | 0/2758 [00:00<?, ?it/s]"
      ]
     },
     "metadata": {},
     "output_type": "display_data"
    },
    {
     "data": {
      "application/vnd.jupyter.widget-view+json": {
       "model_id": "",
       "version_major": 2,
       "version_minor": 0
      },
      "text/plain": [
       "nine (4):   0%|          | 0/344 [00:00<?, ?it/s]"
      ]
     },
     "metadata": {},
     "output_type": "display_data"
    },
    {
     "data": {
      "application/vnd.jupyter.widget-view+json": {
       "model_id": "",
       "version_major": 2,
       "version_minor": 0
      },
      "text/plain": [
       "nine (4):   0%|          | 0/346 [00:00<?, ?it/s]"
      ]
     },
     "metadata": {},
     "output_type": "display_data"
    },
    {
     "data": {
      "application/vnd.jupyter.widget-view+json": {
       "model_id": "",
       "version_major": 2,
       "version_minor": 0
      },
      "text/plain": [
       "Checking:   0%|          | 0/1579 [00:00<?, ?it/s]"
      ]
     },
     "metadata": {},
     "output_type": "display_data"
    },
    {
     "data": {
      "application/vnd.jupyter.widget-view+json": {
       "model_id": "",
       "version_major": 2,
       "version_minor": 0
      },
      "text/plain": [
       "follow (4):   0%|          | 0/1063 [00:00<?, ?it/s]"
      ]
     },
     "metadata": {},
     "output_type": "display_data"
    },
    {
     "data": {
      "application/vnd.jupyter.widget-view+json": {
       "model_id": "",
       "version_major": 2,
       "version_minor": 0
      },
      "text/plain": [
       "follow (4):   0%|          | 0/132 [00:00<?, ?it/s]"
      ]
     },
     "metadata": {},
     "output_type": "display_data"
    },
    {
     "data": {
      "application/vnd.jupyter.widget-view+json": {
       "model_id": "",
       "version_major": 2,
       "version_minor": 0
      },
      "text/plain": [
       "follow (4):   0%|          | 0/134 [00:00<?, ?it/s]"
      ]
     },
     "metadata": {},
     "output_type": "display_data"
    },
    {
     "data": {
      "application/vnd.jupyter.widget-view+json": {
       "model_id": "",
       "version_major": 2,
       "version_minor": 0
      },
      "text/plain": [
       "Checking:   0%|          | 0/1759 [00:00<?, ?it/s]"
      ]
     },
     "metadata": {},
     "output_type": "display_data"
    },
    {
     "data": {
      "application/vnd.jupyter.widget-view+json": {
       "model_id": "",
       "version_major": 2,
       "version_minor": 0
      },
      "text/plain": [
       "tree (4):   0%|          | 0/1118 [00:00<?, ?it/s]"
      ]
     },
     "metadata": {},
     "output_type": "display_data"
    },
    {
     "data": {
      "application/vnd.jupyter.widget-view+json": {
       "model_id": "",
       "version_major": 2,
       "version_minor": 0
      },
      "text/plain": [
       "tree (4):   0%|          | 0/139 [00:00<?, ?it/s]"
      ]
     },
     "metadata": {},
     "output_type": "display_data"
    },
    {
     "data": {
      "application/vnd.jupyter.widget-view+json": {
       "model_id": "",
       "version_major": 2,
       "version_minor": 0
      },
      "text/plain": [
       "tree (4):   0%|          | 0/141 [00:00<?, ?it/s]"
      ]
     },
     "metadata": {},
     "output_type": "display_data"
    },
    {
     "data": {
      "application/vnd.jupyter.widget-view+json": {
       "model_id": "",
       "version_major": 2,
       "version_minor": 0
      },
      "text/plain": [
       "Checking:   0%|          | 0/2014 [00:00<?, ?it/s]"
      ]
     },
     "metadata": {},
     "output_type": "display_data"
    },
    {
     "data": {
      "application/vnd.jupyter.widget-view+json": {
       "model_id": "",
       "version_major": 2,
       "version_minor": 0
      },
      "text/plain": [
       "bed (4):   0%|          | 0/998 [00:00<?, ?it/s]"
      ]
     },
     "metadata": {},
     "output_type": "display_data"
    },
    {
     "data": {
      "application/vnd.jupyter.widget-view+json": {
       "model_id": "",
       "version_major": 2,
       "version_minor": 0
      },
      "text/plain": [
       "bed (4):   0%|          | 0/124 [00:00<?, ?it/s]"
      ]
     },
     "metadata": {},
     "output_type": "display_data"
    },
    {
     "data": {
      "application/vnd.jupyter.widget-view+json": {
       "model_id": "",
       "version_major": 2,
       "version_minor": 0
      },
      "text/plain": [
       "bed (4):   0%|          | 0/126 [00:00<?, ?it/s]"
      ]
     },
     "metadata": {},
     "output_type": "display_data"
    },
    {
     "data": {
      "application/vnd.jupyter.widget-view+json": {
       "model_id": "",
       "version_major": 2,
       "version_minor": 0
      },
      "text/plain": [
       "Checking:   0%|          | 0/2064 [00:00<?, ?it/s]"
      ]
     },
     "metadata": {},
     "output_type": "display_data"
    },
    {
     "data": {
      "application/vnd.jupyter.widget-view+json": {
       "model_id": "",
       "version_major": 2,
       "version_minor": 0
      },
      "text/plain": [
       "bird (4):   0%|          | 0/1293 [00:00<?, ?it/s]"
      ]
     },
     "metadata": {},
     "output_type": "display_data"
    },
    {
     "data": {
      "application/vnd.jupyter.widget-view+json": {
       "model_id": "",
       "version_major": 2,
       "version_minor": 0
      },
      "text/plain": [
       "bird (4):   0%|          | 0/161 [00:00<?, ?it/s]"
      ]
     },
     "metadata": {},
     "output_type": "display_data"
    },
    {
     "data": {
      "application/vnd.jupyter.widget-view+json": {
       "model_id": "",
       "version_major": 2,
       "version_minor": 0
      },
      "text/plain": [
       "bird (4):   0%|          | 0/163 [00:00<?, ?it/s]"
      ]
     },
     "metadata": {},
     "output_type": "display_data"
    },
    {
     "data": {
      "application/vnd.jupyter.widget-view+json": {
       "model_id": "",
       "version_major": 2,
       "version_minor": 0
      },
      "text/plain": [
       "Checking:   0%|          | 0/2031 [00:00<?, ?it/s]"
      ]
     },
     "metadata": {},
     "output_type": "display_data"
    },
    {
     "data": {
      "application/vnd.jupyter.widget-view+json": {
       "model_id": "",
       "version_major": 2,
       "version_minor": 0
      },
      "text/plain": [
       "cat (4):   0%|          | 0/921 [00:00<?, ?it/s]"
      ]
     },
     "metadata": {},
     "output_type": "display_data"
    },
    {
     "data": {
      "application/vnd.jupyter.widget-view+json": {
       "model_id": "",
       "version_major": 2,
       "version_minor": 0
      },
      "text/plain": [
       "cat (4):   0%|          | 0/115 [00:00<?, ?it/s]"
      ]
     },
     "metadata": {},
     "output_type": "display_data"
    },
    {
     "data": {
      "application/vnd.jupyter.widget-view+json": {
       "model_id": "",
       "version_major": 2,
       "version_minor": 0
      },
      "text/plain": [
       "cat (4):   0%|          | 0/116 [00:00<?, ?it/s]"
      ]
     },
     "metadata": {},
     "output_type": "display_data"
    },
    {
     "data": {
      "application/vnd.jupyter.widget-view+json": {
       "model_id": "",
       "version_major": 2,
       "version_minor": 0
      },
      "text/plain": [
       "Checking:   0%|          | 0/2128 [00:00<?, ?it/s]"
      ]
     },
     "metadata": {},
     "output_type": "display_data"
    },
    {
     "data": {
      "application/vnd.jupyter.widget-view+json": {
       "model_id": "",
       "version_major": 2,
       "version_minor": 0
      },
      "text/plain": [
       "dog (4):   0%|          | 0/1306 [00:00<?, ?it/s]"
      ]
     },
     "metadata": {},
     "output_type": "display_data"
    },
    {
     "data": {
      "application/vnd.jupyter.widget-view+json": {
       "model_id": "",
       "version_major": 2,
       "version_minor": 0
      },
      "text/plain": [
       "dog (4):   0%|          | 0/163 [00:00<?, ?it/s]"
      ]
     },
     "metadata": {},
     "output_type": "display_data"
    },
    {
     "data": {
      "application/vnd.jupyter.widget-view+json": {
       "model_id": "",
       "version_major": 2,
       "version_minor": 0
      },
      "text/plain": [
       "dog (4):   0%|          | 0/164 [00:00<?, ?it/s]"
      ]
     },
     "metadata": {},
     "output_type": "display_data"
    },
    {
     "data": {
      "application/vnd.jupyter.widget-view+json": {
       "model_id": "",
       "version_major": 2,
       "version_minor": 0
      },
      "text/plain": [
       "Checking:   0%|          | 0/2054 [00:00<?, ?it/s]"
      ]
     },
     "metadata": {},
     "output_type": "display_data"
    },
    {
     "data": {
      "application/vnd.jupyter.widget-view+json": {
       "model_id": "",
       "version_major": 2,
       "version_minor": 0
      },
      "text/plain": [
       "happy (4):   0%|          | 0/1285 [00:00<?, ?it/s]"
      ]
     },
     "metadata": {},
     "output_type": "display_data"
    },
    {
     "data": {
      "application/vnd.jupyter.widget-view+json": {
       "model_id": "",
       "version_major": 2,
       "version_minor": 0
      },
      "text/plain": [
       "happy (4):   0%|          | 0/160 [00:00<?, ?it/s]"
      ]
     },
     "metadata": {},
     "output_type": "display_data"
    },
    {
     "data": {
      "application/vnd.jupyter.widget-view+json": {
       "model_id": "",
       "version_major": 2,
       "version_minor": 0
      },
      "text/plain": [
       "happy (4):   0%|          | 0/162 [00:00<?, ?it/s]"
      ]
     },
     "metadata": {},
     "output_type": "display_data"
    },
    {
     "data": {
      "application/vnd.jupyter.widget-view+json": {
       "model_id": "",
       "version_major": 2,
       "version_minor": 0
      },
      "text/plain": [
       "Checking:   0%|          | 0/2113 [00:00<?, ?it/s]"
      ]
     },
     "metadata": {},
     "output_type": "display_data"
    },
    {
     "data": {
      "application/vnd.jupyter.widget-view+json": {
       "model_id": "",
       "version_major": 2,
       "version_minor": 0
      },
      "text/plain": [
       "house (4):   0%|          | 0/1132 [00:00<?, ?it/s]"
      ]
     },
     "metadata": {},
     "output_type": "display_data"
    },
    {
     "data": {
      "application/vnd.jupyter.widget-view+json": {
       "model_id": "",
       "version_major": 2,
       "version_minor": 0
      },
      "text/plain": [
       "house (4):   0%|          | 0/141 [00:00<?, ?it/s]"
      ]
     },
     "metadata": {},
     "output_type": "display_data"
    },
    {
     "data": {
      "application/vnd.jupyter.widget-view+json": {
       "model_id": "",
       "version_major": 2,
       "version_minor": 0
      },
      "text/plain": [
       "house (4):   0%|          | 0/142 [00:00<?, ?it/s]"
      ]
     },
     "metadata": {},
     "output_type": "display_data"
    },
    {
     "data": {
      "application/vnd.jupyter.widget-view+json": {
       "model_id": "",
       "version_major": 2,
       "version_minor": 0
      },
      "text/plain": [
       "Checking:   0%|          | 0/2100 [00:00<?, ?it/s]"
      ]
     },
     "metadata": {},
     "output_type": "display_data"
    },
    {
     "data": {
      "application/vnd.jupyter.widget-view+json": {
       "model_id": "",
       "version_major": 2,
       "version_minor": 0
      },
      "text/plain": [
       "marvin (4):   0%|          | 0/1438 [00:00<?, ?it/s]"
      ]
     },
     "metadata": {},
     "output_type": "display_data"
    },
    {
     "data": {
      "application/vnd.jupyter.widget-view+json": {
       "model_id": "",
       "version_major": 2,
       "version_minor": 0
      },
      "text/plain": [
       "marvin (4):   0%|          | 0/179 [00:00<?, ?it/s]"
      ]
     },
     "metadata": {},
     "output_type": "display_data"
    },
    {
     "data": {
      "application/vnd.jupyter.widget-view+json": {
       "model_id": "",
       "version_major": 2,
       "version_minor": 0
      },
      "text/plain": [
       "marvin (4):   0%|          | 0/181 [00:00<?, ?it/s]"
      ]
     },
     "metadata": {},
     "output_type": "display_data"
    },
    {
     "data": {
      "application/vnd.jupyter.widget-view+json": {
       "model_id": "",
       "version_major": 2,
       "version_minor": 0
      },
      "text/plain": [
       "Checking:   0%|          | 0/2022 [00:00<?, ?it/s]"
      ]
     },
     "metadata": {},
     "output_type": "display_data"
    },
    {
     "data": {
      "application/vnd.jupyter.widget-view+json": {
       "model_id": "",
       "version_major": 2,
       "version_minor": 0
      },
      "text/plain": [
       "sheila (4):   0%|          | 0/1384 [00:00<?, ?it/s]"
      ]
     },
     "metadata": {},
     "output_type": "display_data"
    },
    {
     "data": {
      "application/vnd.jupyter.widget-view+json": {
       "model_id": "",
       "version_major": 2,
       "version_minor": 0
      },
      "text/plain": [
       "sheila (4):   0%|          | 0/173 [00:00<?, ?it/s]"
      ]
     },
     "metadata": {},
     "output_type": "display_data"
    },
    {
     "data": {
      "application/vnd.jupyter.widget-view+json": {
       "model_id": "",
       "version_major": 2,
       "version_minor": 0
      },
      "text/plain": [
       "sheila (4):   0%|          | 0/173 [00:00<?, ?it/s]"
      ]
     },
     "metadata": {},
     "output_type": "display_data"
    },
    {
     "data": {
      "application/vnd.jupyter.widget-view+json": {
       "model_id": "",
       "version_major": 2,
       "version_minor": 0
      },
      "text/plain": [
       "Checking:   0%|          | 0/1592 [00:00<?, ?it/s]"
      ]
     },
     "metadata": {},
     "output_type": "display_data"
    },
    {
     "data": {
      "application/vnd.jupyter.widget-view+json": {
       "model_id": "",
       "version_major": 2,
       "version_minor": 0
      },
      "text/plain": [
       "visual (4):   0%|          | 0/1149 [00:00<?, ?it/s]"
      ]
     },
     "metadata": {},
     "output_type": "display_data"
    },
    {
     "data": {
      "application/vnd.jupyter.widget-view+json": {
       "model_id": "",
       "version_major": 2,
       "version_minor": 0
      },
      "text/plain": [
       "visual (4):   0%|          | 0/143 [00:00<?, ?it/s]"
      ]
     },
     "metadata": {},
     "output_type": "display_data"
    },
    {
     "data": {
      "application/vnd.jupyter.widget-view+json": {
       "model_id": "",
       "version_major": 2,
       "version_minor": 0
      },
      "text/plain": [
       "visual (4):   0%|          | 0/145 [00:00<?, ?it/s]"
      ]
     },
     "metadata": {},
     "output_type": "display_data"
    },
    {
     "data": {
      "application/vnd.jupyter.widget-view+json": {
       "model_id": "",
       "version_major": 2,
       "version_minor": 0
      },
      "text/plain": [
       "Checking:   0%|          | 0/2123 [00:00<?, ?it/s]"
      ]
     },
     "metadata": {},
     "output_type": "display_data"
    },
    {
     "data": {
      "application/vnd.jupyter.widget-view+json": {
       "model_id": "",
       "version_major": 2,
       "version_minor": 0
      },
      "text/plain": [
       "wow (4):   0%|          | 0/1356 [00:00<?, ?it/s]"
      ]
     },
     "metadata": {},
     "output_type": "display_data"
    },
    {
     "data": {
      "application/vnd.jupyter.widget-view+json": {
       "model_id": "",
       "version_major": 2,
       "version_minor": 0
      },
      "text/plain": [
       "wow (4):   0%|          | 0/169 [00:00<?, ?it/s]"
      ]
     },
     "metadata": {},
     "output_type": "display_data"
    },
    {
     "data": {
      "application/vnd.jupyter.widget-view+json": {
       "model_id": "",
       "version_major": 2,
       "version_minor": 0
      },
      "text/plain": [
       "wow (4):   0%|          | 0/170 [00:00<?, ?it/s]"
      ]
     },
     "metadata": {},
     "output_type": "display_data"
    },
    {
     "name": "stdout",
     "output_type": "stream",
     "text": [
      "228813 28735 28550\n"
     ]
    }
   ],
   "source": [
    "\n",
    "# process all the command words\n",
    "for word in tqdm(command_words, desc=\"Processing words\"):\n",
    "    if '_' not in word:\n",
    "        repeat = 40 if word in ('forward','backward') else 20\n",
    "        process_word(word, command_words.index(word), repeat=repeat)\n",
    "        \n",
    "# all the nonsense words\n",
    "for word in tqdm(nonsense_words, desc=\"Processing words\"):\n",
    "    if '_' not in word:\n",
    "        process_word(word, command_words.index('_invalid'), repeat=1)\n",
    "\n",
    "print(len(train), len(test), len(validate))"
   ]
  },
  {
   "cell_type": "code",
   "execution_count": 8,
   "metadata": {},
   "outputs": [
    {
     "data": {
      "application/vnd.jupyter.widget-view+json": {
       "model_id": "94b59d11d7af48de8eb453183db5125a",
       "version_major": 2,
       "version_minor": 0
      },
      "text/plain": [
       "Processing Background Noise:   0%|          | 0/6 [00:00<?, ?it/s]"
      ]
     },
     "metadata": {},
     "output_type": "display_data"
    },
    {
     "data": {
      "application/vnd.jupyter.widget-view+json": {
       "model_id": "",
       "version_major": 2,
       "version_minor": 0
      },
      "text/plain": [
       "speech_data\\_background_noise_\\doing_the_dishes.wav:   0%|          | 0/95 [00:00<?, ?it/s]"
      ]
     },
     "metadata": {},
     "output_type": "display_data"
    },
    {
     "data": {
      "application/vnd.jupyter.widget-view+json": {
       "model_id": "",
       "version_major": 2,
       "version_minor": 0
      },
      "text/plain": [
       "Simulated Words:   0%|          | 0/1000 [00:00<?, ?it/s]"
      ]
     },
     "metadata": {},
     "output_type": "display_data"
    },
    {
     "data": {
      "application/vnd.jupyter.widget-view+json": {
       "model_id": "",
       "version_major": 2,
       "version_minor": 0
      },
      "text/plain": [
       "speech_data\\_background_noise_\\dude_miaowing.wav:   0%|          | 0/61 [00:00<?, ?it/s]"
      ]
     },
     "metadata": {},
     "output_type": "display_data"
    },
    {
     "data": {
      "application/vnd.jupyter.widget-view+json": {
       "model_id": "",
       "version_major": 2,
       "version_minor": 0
      },
      "text/plain": [
       "Simulated Words:   0%|          | 0/1000 [00:00<?, ?it/s]"
      ]
     },
     "metadata": {},
     "output_type": "display_data"
    },
    {
     "data": {
      "application/vnd.jupyter.widget-view+json": {
       "model_id": "",
       "version_major": 2,
       "version_minor": 0
      },
      "text/plain": [
       "speech_data\\_background_noise_\\exercise_bike.wav:   0%|          | 0/61 [00:00<?, ?it/s]"
      ]
     },
     "metadata": {},
     "output_type": "display_data"
    },
    {
     "data": {
      "application/vnd.jupyter.widget-view+json": {
       "model_id": "",
       "version_major": 2,
       "version_minor": 0
      },
      "text/plain": [
       "Simulated Words:   0%|          | 0/1000 [00:00<?, ?it/s]"
      ]
     },
     "metadata": {},
     "output_type": "display_data"
    },
    {
     "data": {
      "application/vnd.jupyter.widget-view+json": {
       "model_id": "",
       "version_major": 2,
       "version_minor": 0
      },
      "text/plain": [
       "speech_data\\_background_noise_\\pink_noise.wav:   0%|          | 0/59 [00:00<?, ?it/s]"
      ]
     },
     "metadata": {},
     "output_type": "display_data"
    },
    {
     "data": {
      "application/vnd.jupyter.widget-view+json": {
       "model_id": "",
       "version_major": 2,
       "version_minor": 0
      },
      "text/plain": [
       "Simulated Words:   0%|          | 0/1000 [00:00<?, ?it/s]"
      ]
     },
     "metadata": {},
     "output_type": "display_data"
    },
    {
     "data": {
      "application/vnd.jupyter.widget-view+json": {
       "model_id": "",
       "version_major": 2,
       "version_minor": 0
      },
      "text/plain": [
       "speech_data\\_background_noise_\\running_tap.wav:   0%|          | 0/61 [00:00<?, ?it/s]"
      ]
     },
     "metadata": {},
     "output_type": "display_data"
    },
    {
     "data": {
      "application/vnd.jupyter.widget-view+json": {
       "model_id": "",
       "version_major": 2,
       "version_minor": 0
      },
      "text/plain": [
       "Simulated Words:   0%|          | 0/1000 [00:00<?, ?it/s]"
      ]
     },
     "metadata": {},
     "output_type": "display_data"
    },
    {
     "data": {
      "application/vnd.jupyter.widget-view+json": {
       "model_id": "",
       "version_major": 2,
       "version_minor": 0
      },
      "text/plain": [
       "speech_data\\_background_noise_\\white_noise.wav:   0%|          | 0/59 [00:00<?, ?it/s]"
      ]
     },
     "metadata": {},
     "output_type": "display_data"
    },
    {
     "data": {
      "application/vnd.jupyter.widget-view+json": {
       "model_id": "",
       "version_major": 2,
       "version_minor": 0
      },
      "text/plain": [
       "Simulated Words:   0%|          | 0/1000 [00:00<?, ?it/s]"
      ]
     },
     "metadata": {},
     "output_type": "display_data"
    },
    {
     "name": "stdout",
     "output_type": "stream",
     "text": [
      "233927 29380 29187\n"
     ]
    }
   ],
   "source": [
    "# process the background noise files\n",
    "def process_background(file_name, label):\n",
    "    # load the audio file\n",
    "    audio_tensor = tfio.audio.AudioIOTensor(file_name)\n",
    "    audio = tf.cast(audio_tensor[:], tf.float32)\n",
    "    audio_length = len(audio)\n",
    "    samples = []\n",
    "    for section_start in tqdm(range(0, audio_length-EXPECTED_SAMPLES, 16000), desc=file_name, leave=False):\n",
    "        section_end = section_start + EXPECTED_SAMPLES\n",
    "        section = audio[section_start:section_end]\n",
    "        # get the spectrogram\n",
    "        spectrogram = get_spectrogram(section)\n",
    "        samples.append((spectrogram, label))\n",
    "\n",
    "    # simulate random utterances\n",
    "    for section_index in tqdm(range(1000), desc=\"Simulated Words\", leave=False):\n",
    "        section_start = np.random.randint(0, audio_length - EXPECTED_SAMPLES)\n",
    "        section_end = section_start + EXPECTED_SAMPLES\n",
    "        section = np.reshape(audio[section_start:section_end], (EXPECTED_SAMPLES))\n",
    "\n",
    "        result = np.zeros((EXPECTED_SAMPLES))\n",
    "        # create a pseudo bit of voice\n",
    "        voice_length = np.random.randint(MINIMUM_VOICE_LENGTH/2, EXPECTED_SAMPLES)\n",
    "        voice_start = np.random.randint(0, EXPECTED_SAMPLES - voice_length)\n",
    "        hamming = np.hamming(voice_length)\n",
    "        # amplify the voice section\n",
    "        result[voice_start:voice_start+voice_length] = hamming * section[voice_start:voice_start+voice_length]\n",
    "        # get the spectrogram\n",
    "        spectrogram = get_spectrogram(np.reshape(section, (16000, 1)))\n",
    "        samples.append((spectrogram, label))\n",
    "        \n",
    "    \n",
    "    np.random.shuffle(samples)\n",
    "    \n",
    "    train_size=int(TRAIN_SIZE*len(samples))\n",
    "    validation_size=int(VALIDATION_SIZE*len(samples))\n",
    "    test_size=int(TEST_SIZE*len(samples))\n",
    "    \n",
    "    train.extend(samples[:train_size])\n",
    "\n",
    "    validate.extend(samples[train_size:train_size+validation_size])\n",
    "\n",
    "    test.extend(samples[train_size+validation_size:])\n",
    "\n",
    "        \n",
    "for file_name in tqdm(get_files('_background_noise_'), desc=\"Processing Background Noise\"):\n",
    "    process_background(file_name, command_words.index(\"_invalid\"))\n",
    "    \n",
    "print(len(train), len(test), len(validate))"
   ]
  },
  {
   "cell_type": "code",
   "execution_count": null,
   "metadata": {},
   "outputs": [],
   "source": []
  },
  {
   "cell_type": "code",
   "execution_count": 9,
   "metadata": {},
   "outputs": [],
   "source": [
    "\n",
    "# # simulate random utterances\n",
    "# for section_index in tqdm(range(1000), desc=\"Simulated Words\", leave=False):\n",
    "#     section_start = np.random.randint(0, audio_length - EXPECTED_SAMPLES)\n",
    "#     section_end = section_start + EXPECTED_SAMPLES\n",
    "#     section = np.reshape(audio[section_start:section_end], (EXPECTED_SAMPLES))\n",
    "\n",
    "#     result = np.zeros((EXPECTED_SAMPLES))\n",
    "#     # create a pseudo bit of voice\n",
    "#     voice_length = np.random.randint(MINIMUM_VOICE_LENGTH/2, EXPECTED_SAMPLES)\n",
    "#     voice_start = np.random.randint(0, EXPECTED_SAMPLES - voice_length)\n",
    "#     hamming = np.hamming(voice_length)\n",
    "#     # amplify the voice section\n",
    "#     result[voice_start:voice_start+voice_length] = hamming * section[voice_start:voice_start+voice_length]\n",
    "#     # get the spectrogram\n",
    "#     spectrogram = get_spectrogram(np.reshape(section, (16000, 1)))\n",
    "#     samples.append((spectrogram, label))\n",
    "        \n",
    "    \n",
    "# np.random.shuffle(samples)\n",
    "    \n",
    "# train_size=int(TRAIN_SIZE*len(samples))\n",
    "# validation_size=int(VALIDATION_SIZE*len(samples))\n",
    "# test_size=int(TEST_SIZE*len(samples))\n",
    "    \n",
    "# train.extend(samples[:train_size])\n",
    "\n",
    "# validate.extend(samples[train_size:train_size+validation_size])\n",
    "\n",
    "# test.extend(samples[train_size+validation_size:])\n",
    "\n",
    "\n",
    "\n",
    "\n",
    "        \n",
    "# for file_name in tqdm(get_files('C/Users/vaoni/voice-controlled-robot/model/new_speech_command/_background_noise_'), desc=\"Processing Background Noise\"):\n",
    "#     process_background(file_name, command_words.index(\"_invalid\"))\n",
    "    \n",
    "# print(len(train), len(test), len(validate))\n",
    "\n"
   ]
  },
  {
   "cell_type": "code",
   "execution_count": 10,
   "metadata": {},
   "outputs": [],
   "source": [
    "# def process_problem_noise(file_name, label):\n",
    "#     samples = []\n",
    "#     # load the audio file\n",
    "#     audio_tensor = tfio.audio.AudioIOTensor(file_name)\n",
    "#     audio = tf.cast(audio_tensor[:], tf.float32)\n",
    "#     audio_length = len(audio)\n",
    "#     samples = []\n",
    "#     for section_start in tqdm(range(0, audio_length-EXPECTED_SAMPLES, 800), desc=file_name, leave=False):\n",
    "#         section_end = section_start + EXPECTED_SAMPLES\n",
    "#         section = audio[section_start:section_end]\n",
    "#         # get the spectrogram\n",
    "#         spectrogram = get_spectrogram(section)\n",
    "#         samples.append((spectrogram, label))\n",
    "        \n",
    "#     np.random.shuffle(samples)\n",
    "    \n",
    "#     train_size=int(TRAIN_SIZE*len(samples))\n",
    "#     validation_size=int(VALIDATION_SIZE*len(samples))\n",
    "#     test_size=int(TEST_SIZE*len(samples))\n",
    "    \n",
    "#     train.extend(samples[:train_size])\n",
    "#     validate.extend(samples[train_size:train_size+validation_size])\n",
    "#     test.extend(samples[train_size+validation_size:])\n",
    "\n",
    "\n",
    "# for file_name in tqdm(get_files(\"_problem_noise_\"), desc=\"Processing problem noise\"):\n",
    "#     process_problem_noise(file_name, command_words.index(\"_invalid\"))"
   ]
  },
  {
   "cell_type": "code",
   "execution_count": 11,
   "metadata": {},
   "outputs": [],
   "source": [
    "# get_files('_background_noise_')"
   ]
  },
  {
   "cell_type": "code",
   "execution_count": 9,
   "metadata": {},
   "outputs": [
    {
     "name": "stdout",
     "output_type": "stream",
     "text": [
      "233927 29380 29187\n"
     ]
    }
   ],
   "source": [
    "print(len(train), len(test), len(validate))\n"
   ]
  },
  {
   "cell_type": "code",
   "execution_count": 10,
   "metadata": {},
   "outputs": [],
   "source": [
    "# randomise the training samples\n",
    "np.random.shuffle(train)\n"
   ]
  },
  {
   "cell_type": "code",
   "execution_count": 11,
   "metadata": {},
   "outputs": [],
   "source": [
    "X_train, Y_train = zip(*train)\n",
    "X_validate, Y_validate = zip(*validate)\n",
    "X_test, Y_test = zip(*test)"
   ]
  },
  {
   "cell_type": "code",
   "execution_count": 12,
   "metadata": {},
   "outputs": [
    {
     "name": "stdout",
     "output_type": "stream",
     "text": [
      "Saved training data\n"
     ]
    }
   ],
   "source": [
    "# save the computed data\n",
    "np.savez_compressed(\n",
    "    \"training_spectrogram.npz\",\n",
    "    X=X_train, Y=Y_train)\n",
    "print(\"Saved training data\")\n"
   ]
  },
  {
   "cell_type": "code",
   "execution_count": 13,
   "metadata": {},
   "outputs": [
    {
     "name": "stdout",
     "output_type": "stream",
     "text": [
      "Saved validation data\n"
     ]
    }
   ],
   "source": [
    "np.savez_compressed(\n",
    "    \"validation_spectrogram.npz\",\n",
    "    X=X_validate, Y=Y_validate)\n",
    "print(\"Saved validation data\")\n"
   ]
  },
  {
   "cell_type": "code",
   "execution_count": 14,
   "metadata": {},
   "outputs": [
    {
     "name": "stdout",
     "output_type": "stream",
     "text": [
      "Saved test data\n"
     ]
    }
   ],
   "source": [
    "np.savez_compressed(\n",
    "    \"test_spectrogram.npz\",\n",
    "    X=X_test, Y=Y_test)\n",
    "print(\"Saved test data\")"
   ]
  },
  {
   "cell_type": "code",
   "execution_count": 16,
   "metadata": {},
   "outputs": [],
   "source": [
    "# get the width and height of the spectrogram \"image\"\n",
    "IMG_WIDTH=X_train[0].shape[0]\n",
    "IMG_HEIGHT=X_train[0].shape[1]"
   ]
  },
  {
   "cell_type": "code",
   "execution_count": 17,
   "metadata": {},
   "outputs": [],
   "source": [
    "def plot_images2(images_arr, imageWidth, imageHeight):\n",
    "    fig, axes = plt.subplots(2, 5, figsize=(10, 10))\n",
    "    axes = axes.flatten()\n",
    "    for img, ax in zip(images_arr, axes):\n",
    "        ax.imshow(np.reshape(img, (imageWidth, imageHeight)))\n",
    "        ax.axis(\"off\")\n",
    "    plt.tight_layout()\n",
    "    plt.show()\n",
    "    "
   ]
  },
  {
   "cell_type": "code",
   "execution_count": null,
   "metadata": {},
   "outputs": [],
   "source": [
    "word_index = command_words.index(\"left\")\n",
    "\n",
    "X_left = np.array(X_train)[np.array(Y_train) == word_index]\n",
    "plot_images2(X_left[:10], IMG_WIDTH, IMG_HEIGHT)"
   ]
  },
  {
   "cell_type": "code",
   "execution_count": null,
   "metadata": {},
   "outputs": [],
   "source": [
    "word_index = command_words.index(\"right\")\n",
    "\n",
    "X_right = np.array(X_train)[np.array(Y_train) == word_index]\n",
    "plot_images2(X_right[:10], IMG_WIDTH, IMG_HEIGHT)"
   ]
  },
  {
   "cell_type": "code",
   "execution_count": null,
   "metadata": {},
   "outputs": [],
   "source": [
    "# pwd"
   ]
  },
  {
   "cell_type": "code",
   "execution_count": null,
   "metadata": {},
   "outputs": [],
   "source": [
    "# ls"
   ]
  },
  {
   "cell_type": "code",
   "execution_count": null,
   "metadata": {},
   "outputs": [],
   "source": [
    "# cd ..\n"
   ]
  },
  {
   "cell_type": "code",
   "execution_count": null,
   "metadata": {},
   "outputs": [],
   "source": [
    "# ls\n"
   ]
  },
  {
   "cell_type": "code",
   "execution_count": null,
   "metadata": {},
   "outputs": [],
   "source": [
    "# cd new_speech_command/\n"
   ]
  },
  {
   "cell_type": "code",
   "execution_count": null,
   "metadata": {},
   "outputs": [],
   "source": [
    "# ls"
   ]
  },
  {
   "cell_type": "code",
   "execution_count": null,
   "metadata": {},
   "outputs": [],
   "source": [
    "# cd wow"
   ]
  },
  {
   "cell_type": "code",
   "execution_count": null,
   "metadata": {},
   "outputs": [],
   "source": [
    "# ls"
   ]
  },
  {
   "cell_type": "code",
   "execution_count": null,
   "metadata": {},
   "outputs": [],
   "source": [
    "# a = [1,2,4]\n",
    "\n",
    "# a.extend([2,3])\n",
    "\n",
    "# a\n",
    "\n",
    "# gfile.glob(SPEECH_DATA + '/'+word+'/*.wav')\n",
    "\n",
    "# word\n",
    "\n",
    "\n",
    "\n",
    "# SPEECH_DATA\n",
    "\n",
    "# import os\n",
    "\n",
    "# os.path.exists(\"speech_data/_background_noise_\")\n",
    "\n"
   ]
  },
  {
   "cell_type": "code",
   "execution_count": null,
   "metadata": {},
   "outputs": [],
   "source": []
  }
 ],
 "metadata": {
  "kernelspec": {
   "display_name": "Python 3 (ipykernel)",
   "language": "python",
   "name": "python3"
  },
  "language_info": {
   "codemirror_mode": {
    "name": "ipython",
    "version": 3
   },
   "file_extension": ".py",
   "mimetype": "text/x-python",
   "name": "python",
   "nbconvert_exporter": "python",
   "pygments_lexer": "ipython3",
   "version": "3.9.13"
  },
  "widgets": {
   "application/vnd.jupyter.widget-state+json": {
    "state": {
     "0015b83c97a64064b890c096cff74c66": {
      "model_module": "@jupyter-widgets/controls",
      "model_module_version": "1.5.0",
      "model_name": "HTMLModel",
      "state": {
       "layout": "IPY_MODEL_7efe370d5c3a431aa9c0b84f77d1da44",
       "style": "IPY_MODEL_077b2834a6fc4984a8f668a6b64ed340",
       "value": " 59/61 [00:00&lt;00:00, 150.73it/s]"
      }
     },
     "003193957551400f85498f8bd4769491": {
      "model_module": "@jupyter-widgets/controls",
      "model_module_version": "1.5.0",
      "model_name": "DescriptionStyleModel",
      "state": {
       "description_width": ""
      }
     },
     "0038f52cc7b541a7847b1e7b1630d40a": {
      "model_module": "@jupyter-widgets/controls",
      "model_module_version": "1.5.0",
      "model_name": "HTMLModel",
      "state": {
       "layout": "IPY_MODEL_496d4c75469b4dc0a5ca0738d5d68597",
       "style": "IPY_MODEL_5d67f9e410264275a2146da94300717c",
       "value": "Checking: 100%"
      }
     },
     "00a6927953db4bd5ab8267eca220f714": {
      "model_module": "@jupyter-widgets/controls",
      "model_module_version": "1.5.0",
      "model_name": "HTMLModel",
      "state": {
       "layout": "IPY_MODEL_7c3ee5a96ecb4963b538608b7b403de6",
       "style": "IPY_MODEL_19a5636faa2742ea9b715377d92a441b",
       "value": "happy (4):  96%"
      }
     },
     "00f99854be6148138963256603cde02f": {
      "model_module": "@jupyter-widgets/controls",
      "model_module_version": "1.5.0",
      "model_name": "ProgressStyleModel",
      "state": {
       "description_width": ""
      }
     },
     "00ff8b5a3ce74ca68aa29a81a7cccfe1": {
      "model_module": "@jupyter-widgets/controls",
      "model_module_version": "1.5.0",
      "model_name": "ProgressStyleModel",
      "state": {
       "description_width": ""
      }
     },
     "01bead5372724d218ce506f7c4e76ee7": {
      "model_module": "@jupyter-widgets/base",
      "model_module_version": "1.2.0",
      "model_name": "LayoutModel",
      "state": {}
     },
     "01da207c20ff4d86b7b219c124f1827a": {
      "model_module": "@jupyter-widgets/controls",
      "model_module_version": "1.5.0",
      "model_name": "FloatProgressModel",
      "state": {
       "layout": "IPY_MODEL_2066d141a3614fdbb6e2676e34f6baff",
       "max": 998,
       "style": "IPY_MODEL_73c1c93990f64d1fa5c27a0fb4d3dc6b",
       "value": 998
      }
     },
     "0222e22972e048a5836c0a274165950e": {
      "model_module": "@jupyter-widgets/controls",
      "model_module_version": "1.5.0",
      "model_name": "FloatProgressModel",
      "state": {
       "layout": "IPY_MODEL_f8ec9e882b364178ba88d8a406c7a114",
       "max": 61,
       "style": "IPY_MODEL_0288e132e1264ac8839a4b9568c8e786",
       "value": 61
      }
     },
     "024b07b8b1444bff9e55494883f7141f": {
      "model_module": "@jupyter-widgets/base",
      "model_module_version": "1.2.0",
      "model_name": "LayoutModel",
      "state": {}
     },
     "0288e132e1264ac8839a4b9568c8e786": {
      "model_module": "@jupyter-widgets/controls",
      "model_module_version": "1.5.0",
      "model_name": "ProgressStyleModel",
      "state": {
       "description_width": ""
      }
     },
     "02bb79df973b480c93ffa514c5b36f98": {
      "model_module": "@jupyter-widgets/controls",
      "model_module_version": "1.5.0",
      "model_name": "HTMLModel",
      "state": {
       "layout": "IPY_MODEL_da81c8801b5b4cf2aaf95c3e91c50e33",
       "style": "IPY_MODEL_0344e49d916c49c9863631c58d4c5f0b",
       "value": " 109/115 [00:01&lt;00:00, 63.75it/s]"
      }
     },
     "02ff95ede87f4f8a85ee4e705bf02cdd": {
      "model_module": "@jupyter-widgets/controls",
      "model_module_version": "1.5.0",
      "model_name": "DescriptionStyleModel",
      "state": {
       "description_width": ""
      }
     },
     "0314d9c0f49b481aa69456cd10f26571": {
      "model_module": "@jupyter-widgets/base",
      "model_module_version": "1.2.0",
      "model_name": "LayoutModel",
      "state": {}
     },
     "0319f77ebea54121b18f02361457fccb": {
      "model_module": "@jupyter-widgets/base",
      "model_module_version": "1.2.0",
      "model_name": "LayoutModel",
      "state": {}
     },
     "032eac2c0ef240e1a335384827781a9c": {
      "model_module": "@jupyter-widgets/base",
      "model_module_version": "1.2.0",
      "model_name": "LayoutModel",
      "state": {}
     },
     "0331efcb9a6e445998f807fd9b6b3f11": {
      "model_module": "@jupyter-widgets/controls",
      "model_module_version": "1.5.0",
      "model_name": "ProgressStyleModel",
      "state": {
       "description_width": ""
      }
     },
     "0344e49d916c49c9863631c58d4c5f0b": {
      "model_module": "@jupyter-widgets/controls",
      "model_module_version": "1.5.0",
      "model_name": "DescriptionStyleModel",
      "state": {
       "description_width": ""
      }
     },
     "03511b305d9640bda75b979c8e461daf": {
      "model_module": "@jupyter-widgets/controls",
      "model_module_version": "1.5.0",
      "model_name": "HTMLModel",
      "state": {
       "layout": "IPY_MODEL_31a56a0cff624046a280e0988b170f3b",
       "style": "IPY_MODEL_b0b6dc7f8afb42a58644866b73cac7cb",
       "value": " 1304/1306 [00:20&lt;00:00, 61.21it/s]"
      }
     },
     "036f18c648884f98bc68e97576bb55b4": {
      "model_module": "@jupyter-widgets/controls",
      "model_module_version": "1.5.0",
      "model_name": "ProgressStyleModel",
      "state": {
       "description_width": ""
      }
     },
     "0393fac1c3de42938d3274f8ed0fc92d": {
      "model_module": "@jupyter-widgets/controls",
      "model_module_version": "1.5.0",
      "model_name": "HTMLModel",
      "state": {
       "layout": "IPY_MODEL_e1123ac6a46b4418b68ae622d6336739",
       "style": "IPY_MODEL_901aed540ce94a7182656120cd1cf2a6",
       "value": " 2014/2014 [00:54&lt;00:00, 36.39it/s]"
      }
     },
     "03d5a589ff704f429627ca3c2fb3605d": {
      "model_module": "@jupyter-widgets/controls",
      "model_module_version": "1.5.0",
      "model_name": "FloatProgressModel",
      "state": {
       "layout": "IPY_MODEL_d7782500fcf44903ac51f2f785654103",
       "max": 44520,
       "style": "IPY_MODEL_ffabd4fa2f8040fa84b6d0fd78a0a46f",
       "value": 44520
      }
     },
     "03ed1049baf543bc9e73723ec328310d": {
      "model_module": "@jupyter-widgets/controls",
      "model_module_version": "1.5.0",
      "model_name": "FloatProgressModel",
      "state": {
       "layout": "IPY_MODEL_59304ade2e624dc2880c58c0d1506535",
       "max": 2758,
       "style": "IPY_MODEL_4f79a3ec6187457b948cae845a1df90a",
       "value": 2758
      }
     },
     "03f7fd45ce304123a3d16b47b4050dd7": {
      "model_module": "@jupyter-widgets/controls",
      "model_module_version": "1.5.0",
      "model_name": "HTMLModel",
      "state": {
       "layout": "IPY_MODEL_4f99f96df4594395a73cfe2ba57ab2b3",
       "style": "IPY_MODEL_b67949b084b841a39e08279894622f4f",
       "value": "Checking: 100%"
      }
     },
     "04372398fdc442418391b55a52a83e9c": {
      "model_module": "@jupyter-widgets/base",
      "model_module_version": "1.2.0",
      "model_name": "LayoutModel",
      "state": {}
     },
     "0455371202024d029d0cc93cf8b52324": {
      "model_module": "@jupyter-widgets/base",
      "model_module_version": "1.2.0",
      "model_name": "LayoutModel",
      "state": {}
     },
     "047f89b7aa2a4432bea11389055f4b85": {
      "model_module": "@jupyter-widgets/base",
      "model_module_version": "1.2.0",
      "model_name": "LayoutModel",
      "state": {}
     },
     "048e961590124761810c69344e857a3b": {
      "model_module": "@jupyter-widgets/controls",
      "model_module_version": "1.5.0",
      "model_name": "DescriptionStyleModel",
      "state": {
       "description_width": ""
      }
     },
     "04a7c08d764b4900ac69123d2240e09e": {
      "model_module": "@jupyter-widgets/base",
      "model_module_version": "1.2.0",
      "model_name": "LayoutModel",
      "state": {}
     },
     "04e0b96c9b084bd1a7edd66f9bea113e": {
      "model_module": "@jupyter-widgets/base",
      "model_module_version": "1.2.0",
      "model_name": "LayoutModel",
      "state": {
       "visibility": "hidden"
      }
     },
     "04f0417abcde4f12b77c14ddbbfc942e": {
      "model_module": "@jupyter-widgets/base",
      "model_module_version": "1.2.0",
      "model_name": "LayoutModel",
      "state": {
       "visibility": "hidden"
      }
     },
     "050321e8c8e845f5bbbbc7e3f1dd0127": {
      "model_module": "@jupyter-widgets/controls",
      "model_module_version": "1.5.0",
      "model_name": "DescriptionStyleModel",
      "state": {
       "description_width": ""
      }
     },
     "050682d3ed3f4c2e91eafca3fdab55cd": {
      "model_module": "@jupyter-widgets/controls",
      "model_module_version": "1.5.0",
      "model_name": "HTMLModel",
      "state": {
       "layout": "IPY_MODEL_78b78f7ab4174e7681c6a411eeff702b",
       "style": "IPY_MODEL_faedee70fffe4a9aa96db20445f73a1c",
       "value": "one (4): 100%"
      }
     },
     "057fe4e5987844fdbb1c339af31b9367": {
      "model_module": "@jupyter-widgets/base",
      "model_module_version": "1.2.0",
      "model_name": "LayoutModel",
      "state": {
       "visibility": "hidden"
      }
     },
     "05916aedb53243a9935a72140e0ea4f2": {
      "model_module": "@jupyter-widgets/base",
      "model_module_version": "1.2.0",
      "model_name": "LayoutModel",
      "state": {}
     },
     "05e4fe0ee99a4077bfbe5696ce3bd197": {
      "model_module": "@jupyter-widgets/controls",
      "model_module_version": "1.5.0",
      "model_name": "DescriptionStyleModel",
      "state": {
       "description_width": ""
      }
     },
     "06391ce3d52743dcac6825275fca1e1f": {
      "model_module": "@jupyter-widgets/base",
      "model_module_version": "1.2.0",
      "model_name": "LayoutModel",
      "state": {}
     },
     "06540289351740f29149943bb0621319": {
      "model_module": "@jupyter-widgets/controls",
      "model_module_version": "1.5.0",
      "model_name": "ProgressStyleModel",
      "state": {
       "description_width": ""
      }
     },
     "0684c19b7e164a32aa3b9d055703e54a": {
      "model_module": "@jupyter-widgets/controls",
      "model_module_version": "1.5.0",
      "model_name": "FloatProgressModel",
      "state": {
       "layout": "IPY_MODEL_3eae3b93c42643d9920551c8626ad00a",
       "max": 371,
       "style": "IPY_MODEL_ae94a29738d74e0e8bbe30bc5c7ef496",
       "value": 371
      }
     },
     "06993e4aeb294951a93dbb6ae50c3b3a": {
      "model_module": "@jupyter-widgets/base",
      "model_module_version": "1.2.0",
      "model_name": "LayoutModel",
      "state": {}
     },
     "06abc34c584849569186a9a2ce67402c": {
      "model_module": "@jupyter-widgets/controls",
      "model_module_version": "1.5.0",
      "model_name": "HTMLModel",
      "state": {
       "layout": "IPY_MODEL_8ca37c0045ef49e7af2552d4efaa6db4",
       "style": "IPY_MODEL_d246b27a358549288db42e9f388ccb8e",
       "value": "right (3): 100%"
      }
     },
     "06cd2bc31f994fc8ae79c09bbe9cd81c": {
      "model_module": "@jupyter-widgets/controls",
      "model_module_version": "1.5.0",
      "model_name": "DescriptionStyleModel",
      "state": {
       "description_width": ""
      }
     },
     "06cda733c5c2419fb80851fb2a9895ac": {
      "model_module": "@jupyter-widgets/base",
      "model_module_version": "1.2.0",
      "model_name": "LayoutModel",
      "state": {}
     },
     "0752ad05b5834082bc1ed5d8afb09fed": {
      "model_module": "@jupyter-widgets/controls",
      "model_module_version": "1.5.0",
      "model_name": "HTMLModel",
      "state": {
       "layout": "IPY_MODEL_7a4d858ad4314597ad6b4c05ad170248",
       "style": "IPY_MODEL_ba09fed0dc004bfc958ba88cb6d74642",
       "value": " 5560/5560 [01:27&lt;00:00, 63.36it/s]"
      }
     },
     "077b2834a6fc4984a8f668a6b64ed340": {
      "model_module": "@jupyter-widgets/controls",
      "model_module_version": "1.5.0",
      "model_name": "DescriptionStyleModel",
      "state": {
       "description_width": ""
      }
     },
     "078eca45457a448c93e169b294ec2b0a": {
      "model_module": "@jupyter-widgets/controls",
      "model_module_version": "1.5.0",
      "model_name": "DescriptionStyleModel",
      "state": {
       "description_width": ""
      }
     },
     "07ee2b2ce66e4a508f90520e7a129338": {
      "model_module": "@jupyter-widgets/base",
      "model_module_version": "1.2.0",
      "model_name": "LayoutModel",
      "state": {}
     },
     "085a3f9a969c43e2832616f87561f9fb": {
      "model_module": "@jupyter-widgets/base",
      "model_module_version": "1.2.0",
      "model_name": "LayoutModel",
      "state": {}
     },
     "089a367096184ed0b84a18f41832c21c": {
      "model_module": "@jupyter-widgets/base",
      "model_module_version": "1.2.0",
      "model_name": "LayoutModel",
      "state": {
       "visibility": "hidden"
      }
     },
     "08b9bfa1aea94a90aae6ede275c43b5e": {
      "model_module": "@jupyter-widgets/base",
      "model_module_version": "1.2.0",
      "model_name": "LayoutModel",
      "state": {}
     },
     "08e37596073b48dfb901c541ace27b49": {
      "model_module": "@jupyter-widgets/controls",
      "model_module_version": "1.5.0",
      "model_name": "ProgressStyleModel",
      "state": {
       "description_width": ""
      }
     },
     "08f21c761a254a6d82e001410a0e4c20": {
      "model_module": "@jupyter-widgets/controls",
      "model_module_version": "1.5.0",
      "model_name": "DescriptionStyleModel",
      "state": {
       "description_width": ""
      }
     },
     "093927f6aedc415f9364ee258ed0401d": {
      "model_module": "@jupyter-widgets/controls",
      "model_module_version": "1.5.0",
      "model_name": "DescriptionStyleModel",
      "state": {
       "description_width": ""
      }
     },
     "097770ba5baf4fe5b6d48e7bbd70aac6": {
      "model_module": "@jupyter-widgets/controls",
      "model_module_version": "1.5.0",
      "model_name": "HTMLModel",
      "state": {
       "layout": "IPY_MODEL_2dfe6185658746edadb88d21f082d9c1",
       "style": "IPY_MODEL_02ff95ede87f4f8a85ee4e705bf02cdd",
       "value": " 2757/2758 [00:44&lt;00:00, 62.75it/s]"
      }
     },
     "09844f47599b4f62a7c8e66a7bc2aa9a": {
      "model_module": "@jupyter-widgets/base",
      "model_module_version": "1.2.0",
      "model_name": "LayoutModel",
      "state": {}
     },
     "0985e77b57aa4a258bc02ff7edd2de24": {
      "model_module": "@jupyter-widgets/controls",
      "model_module_version": "1.5.0",
      "model_name": "DescriptionStyleModel",
      "state": {
       "description_width": ""
      }
     },
     "098837123cac4b048a9a9dff63bdb013": {
      "model_module": "@jupyter-widgets/base",
      "model_module_version": "1.2.0",
      "model_name": "LayoutModel",
      "state": {
       "visibility": "hidden"
      }
     },
     "0a0c61597cb3400aab579805348f212b": {
      "model_module": "@jupyter-widgets/base",
      "model_module_version": "1.2.0",
      "model_name": "LayoutModel",
      "state": {}
     },
     "0a1e5821b92047bcb01121aae2d2bd9f": {
      "model_module": "@jupyter-widgets/base",
      "model_module_version": "1.2.0",
      "model_name": "LayoutModel",
      "state": {}
     },
     "0a63c4c80d8d4d699619451162e303d7": {
      "model_module": "@jupyter-widgets/controls",
      "model_module_version": "1.5.0",
      "model_name": "FloatProgressModel",
      "state": {
       "layout": "IPY_MODEL_384224741adb43b598514ad5b1eb38ad",
       "max": 1000,
       "style": "IPY_MODEL_6c064ceebb294fd88d70caa90a5a90ec",
       "value": 1000
      }
     },
     "0a7b798554f749ddb1910f9d2b784b22": {
      "model_module": "@jupyter-widgets/controls",
      "model_module_version": "1.5.0",
      "model_name": "DescriptionStyleModel",
      "state": {
       "description_width": ""
      }
     },
     "0a8a81eb1f8c44968dcc597fcbaa8017": {
      "model_module": "@jupyter-widgets/base",
      "model_module_version": "1.2.0",
      "model_name": "LayoutModel",
      "state": {}
     },
     "0aabc5c5c9a145b9b615b0a0ece0fc0c": {
      "model_module": "@jupyter-widgets/controls",
      "model_module_version": "1.5.0",
      "model_name": "ProgressStyleModel",
      "state": {
       "description_width": ""
      }
     },
     "0af4c8eee1084f209632826e11d0d2db": {
      "model_module": "@jupyter-widgets/base",
      "model_module_version": "1.2.0",
      "model_name": "LayoutModel",
      "state": {}
     },
     "0b18990e8bc14c93b617e653321b87b2": {
      "model_module": "@jupyter-widgets/controls",
      "model_module_version": "1.5.0",
      "model_name": "DescriptionStyleModel",
      "state": {
       "description_width": ""
      }
     },
     "0b37e404392848cdb1502980b8566ba6": {
      "model_module": "@jupyter-widgets/controls",
      "model_module_version": "1.5.0",
      "model_name": "DescriptionStyleModel",
      "state": {
       "description_width": ""
      }
     },
     "0b4db54aa682463fb12ddb9495308673": {
      "model_module": "@jupyter-widgets/base",
      "model_module_version": "1.2.0",
      "model_name": "LayoutModel",
      "state": {}
     },
     "0b60e7ddbcaf4aadb7708973c50de735": {
      "model_module": "@jupyter-widgets/controls",
      "model_module_version": "1.5.0",
      "model_name": "DescriptionStyleModel",
      "state": {
       "description_width": ""
      }
     },
     "0c07cf83f9f14a21ba4decb2b22f02dd": {
      "model_module": "@jupyter-widgets/base",
      "model_module_version": "1.2.0",
      "model_name": "LayoutModel",
      "state": {}
     },
     "0c0a4a28fd8349988951fc1bdc31a46c": {
      "model_module": "@jupyter-widgets/controls",
      "model_module_version": "1.5.0",
      "model_name": "FloatProgressModel",
      "state": {
       "layout": "IPY_MODEL_e7292a9db0ad43c695a8c618ca2f2896",
       "max": 250,
       "style": "IPY_MODEL_f12a6426e01e4341998a0b40e4558894",
       "value": 250
      }
     },
     "0c285939802b4793b8e522d5b82a6764": {
      "model_module": "@jupyter-widgets/controls",
      "model_module_version": "1.5.0",
      "model_name": "HTMLModel",
      "state": {
       "layout": "IPY_MODEL_73341b1ab31b485cbf80021896328a1b",
       "style": "IPY_MODEL_6473cf350d03409eb3e24b770fa7aa3e",
       "value": "Checking: 100%"
      }
     },
     "0c630f3d67544c4587d51b11072f9b29": {
      "model_module": "@jupyter-widgets/base",
      "model_module_version": "1.2.0",
      "model_name": "LayoutModel",
      "state": {}
     },
     "0cc8178ca52b427aa407a33de35d8a50": {
      "model_module": "@jupyter-widgets/controls",
      "model_module_version": "1.5.0",
      "model_name": "HTMLModel",
      "state": {
       "layout": "IPY_MODEL_241f18debd8e48a5afa09708dc0a1991",
       "style": "IPY_MODEL_8679a8a8cc804f42a15c8ff79ccb0329",
       "value": "happy (4): 100%"
      }
     },
     "0cf5a3bb1e8c47608a60e950ab9954b2": {
      "model_module": "@jupyter-widgets/base",
      "model_module_version": "1.2.0",
      "model_name": "LayoutModel",
      "state": {
       "visibility": "hidden"
      }
     },
     "0d03d82c92ca4ac3a8699b17f4d208af": {
      "model_module": "@jupyter-widgets/controls",
      "model_module_version": "1.5.0",
      "model_name": "HTMLModel",
      "state": {
       "layout": "IPY_MODEL_8b8fcb26e16949669d3d40753bd6cc3c",
       "style": "IPY_MODEL_96d058c530d64d84af3412a8cd752313",
       "value": " 3886/3890 [01:35&lt;00:00, 44.87it/s]"
      }
     },
     "0d9addfb061d462c8952688fa4ab6477": {
      "model_module": "@jupyter-widgets/controls",
      "model_module_version": "1.5.0",
      "model_name": "DescriptionStyleModel",
      "state": {
       "description_width": ""
      }
     },
     "0db3d856e0b1466aaef3c301048e3b73": {
      "model_module": "@jupyter-widgets/base",
      "model_module_version": "1.2.0",
      "model_name": "LayoutModel",
      "state": {
       "visibility": "hidden"
      }
     },
     "0db97e697e144952804c047281457580": {
      "model_module": "@jupyter-widgets/controls",
      "model_module_version": "1.5.0",
      "model_name": "DescriptionStyleModel",
      "state": {
       "description_width": ""
      }
     },
     "0ded807334a94163b65ff05b3e14ce42": {
      "model_module": "@jupyter-widgets/controls",
      "model_module_version": "1.5.0",
      "model_name": "HTMLModel",
      "state": {
       "layout": "IPY_MODEL_07ee2b2ce66e4a508f90520e7a129338",
       "style": "IPY_MODEL_d4e51b080f2345f39a56e568645efc42",
       "value": " 158/163 [00:02&lt;00:00, 62.08it/s]"
      }
     },
     "0e24e33dccbb405897909831c8b575a1": {
      "model_module": "@jupyter-widgets/base",
      "model_module_version": "1.2.0",
      "model_name": "LayoutModel",
      "state": {}
     },
     "0e342f56bf684cbb8702440f4aa7db02": {
      "model_module": "@jupyter-widgets/controls",
      "model_module_version": "1.5.0",
      "model_name": "ProgressStyleModel",
      "state": {
       "description_width": ""
      }
     },
     "0e4f6b614faa4d69b84d97e64a18a9fb": {
      "model_module": "@jupyter-widgets/controls",
      "model_module_version": "1.5.0",
      "model_name": "HTMLModel",
      "state": {
       "layout": "IPY_MODEL_bfb42143385f4905b45c03462b2ef1a1",
       "style": "IPY_MODEL_78658eeec1da4ca6af8ef4c1d9355129",
       "value": "six (4): 100%"
      }
     },
     "0e9af5901eb2474ca29f033bce2f8601": {
      "model_module": "@jupyter-widgets/controls",
      "model_module_version": "1.5.0",
      "model_name": "HTMLModel",
      "state": {
       "layout": "IPY_MODEL_4242632868f14e32be3cf22466f976e9",
       "style": "IPY_MODEL_c22fdd6939bd46fcab078cee1f97da33",
       "value": "Checking: 100%"
      }
     },
     "0eb0de42cf6f437cae196418a5ec8a41": {
      "model_module": "@jupyter-widgets/controls",
      "model_module_version": "1.5.0",
      "model_name": "HTMLModel",
      "state": {
       "layout": "IPY_MODEL_dd2f259f022d42768e72a2f221d7eeac",
       "style": "IPY_MODEL_d0d1c8dda28f4778ac37a7d782db1508",
       "value": " 1575/1575 [00:51&lt;00:00, 37.70it/s]"
      }
     },
     "0ed17898430f4e80bc10080fea11b818": {
      "model_module": "@jupyter-widgets/controls",
      "model_module_version": "1.5.0",
      "model_name": "DescriptionStyleModel",
      "state": {
       "description_width": ""
      }
     },
     "0ed28717b2aa4018b19b26341ef9ac85": {
      "model_module": "@jupyter-widgets/base",
      "model_module_version": "1.2.0",
      "model_name": "LayoutModel",
      "state": {}
     },
     "0f19f6e7e7f14efca82de5e2001adb1d": {
      "model_module": "@jupyter-widgets/base",
      "model_module_version": "1.2.0",
      "model_name": "LayoutModel",
      "state": {
       "visibility": "hidden"
      }
     },
     "0f27aedea7ca406f8b1e8436eb662d7f": {
      "model_module": "@jupyter-widgets/base",
      "model_module_version": "1.2.0",
      "model_name": "LayoutModel",
      "state": {}
     },
     "0f287370022d4bca9c0ede3887d32d47": {
      "model_module": "@jupyter-widgets/controls",
      "model_module_version": "1.5.0",
      "model_name": "DescriptionStyleModel",
      "state": {
       "description_width": ""
      }
     },
     "0f4cf6420e2f49c08f2180dc73f0460e": {
      "model_module": "@jupyter-widgets/controls",
      "model_module_version": "1.5.0",
      "model_name": "FloatProgressModel",
      "state": {
       "layout": "IPY_MODEL_aa2b8a8550ed41c6b907f1b3805da544",
       "max": 1592,
       "style": "IPY_MODEL_e962688aeebb4e2c9e19b01a74ab8659",
       "value": 1592
      }
     },
     "0f69f70614d446a89884e6f61056d5f0": {
      "model_module": "@jupyter-widgets/controls",
      "model_module_version": "1.5.0",
      "model_name": "ProgressStyleModel",
      "state": {
       "description_width": ""
      }
     },
     "0f82b9e0c12a405ca643997c11d2034f": {
      "model_module": "@jupyter-widgets/base",
      "model_module_version": "1.2.0",
      "model_name": "LayoutModel",
      "state": {
       "visibility": "hidden"
      }
     },
     "0fbb1ec5dbe141dc8460f1c8bcf93ec6": {
      "model_module": "@jupyter-widgets/controls",
      "model_module_version": "1.5.0",
      "model_name": "HTMLModel",
      "state": {
       "layout": "IPY_MODEL_e2dce5758535414ca8308e3c9483816c",
       "style": "IPY_MODEL_75b9b2baa9ea4af4a34767bdd7bfbe62",
       "value": " 1556/1557 [01:13&lt;00:00, 26.30it/s]"
      }
     },
     "0fbb862f8e994203a92f9744fb6243fe": {
      "model_module": "@jupyter-widgets/controls",
      "model_module_version": "1.5.0",
      "model_name": "HTMLModel",
      "state": {
       "layout": "IPY_MODEL_141a0fdf1a844fcc808ae0ab5792ff12",
       "style": "IPY_MODEL_ea3ce6c9fb6d4383bdd146324b5f733e",
       "value": "Simulated Words:  98%"
      }
     },
     "0ff112d077294933ae64e625a5ce3827": {
      "model_module": "@jupyter-widgets/base",
      "model_module_version": "1.2.0",
      "model_name": "LayoutModel",
      "state": {}
     },
     "104185ba99a349b9babe7094a05f02a0": {
      "model_module": "@jupyter-widgets/base",
      "model_module_version": "1.2.0",
      "model_name": "LayoutModel",
      "state": {}
     },
     "10b9145b57054f7dad694200c1b70d97": {
      "model_module": "@jupyter-widgets/base",
      "model_module_version": "1.2.0",
      "model_name": "LayoutModel",
      "state": {
       "visibility": "hidden"
      }
     },
     "10c934ca5b6849c99bf340ebf73d694d": {
      "model_module": "@jupyter-widgets/controls",
      "model_module_version": "1.5.0",
      "model_name": "DescriptionStyleModel",
      "state": {
       "description_width": ""
      }
     },
     "10dcdb1dca214f84a61bfa63c9639385": {
      "model_module": "@jupyter-widgets/controls",
      "model_module_version": "1.5.0",
      "model_name": "ProgressStyleModel",
      "state": {
       "description_width": ""
      }
     },
     "10ddf4ec2d9a439280e635dcbc9233ea": {
      "model_module": "@jupyter-widgets/base",
      "model_module_version": "1.2.0",
      "model_name": "LayoutModel",
      "state": {}
     },
     "10fc3e04ac2942e893778c0863bf6ae9": {
      "model_module": "@jupyter-widgets/controls",
      "model_module_version": "1.5.0",
      "model_name": "FloatProgressModel",
      "state": {
       "layout": "IPY_MODEL_f7e6082d92a246379de22e2ddc67571b",
       "max": 126,
       "style": "IPY_MODEL_9fe7b985d4ae428b82130775b6bc2dcd",
       "value": 126
      }
     },
     "112d67343d424186b2f9bb88963f54fb": {
      "model_module": "@jupyter-widgets/base",
      "model_module_version": "1.2.0",
      "model_name": "LayoutModel",
      "state": {}
     },
     "119575717c7643b8b889f6cea79a11bb": {
      "model_module": "@jupyter-widgets/controls",
      "model_module_version": "1.5.0",
      "model_name": "DescriptionStyleModel",
      "state": {
       "description_width": ""
      }
     },
     "11e4f48ed0ce438aa2c0220e89ebc5c6": {
      "model_module": "@jupyter-widgets/base",
      "model_module_version": "1.2.0",
      "model_name": "LayoutModel",
      "state": {
       "visibility": "hidden"
      }
     },
     "122063f8bb0642a09bc9110a0c81637f": {
      "model_module": "@jupyter-widgets/controls",
      "model_module_version": "1.5.0",
      "model_name": "FloatProgressModel",
      "state": {
       "layout": "IPY_MODEL_76264e3f04c34112b730026b8f100ec1",
       "max": 3917,
       "style": "IPY_MODEL_205f13ef9ffe47ff9554ccfa2341e932",
       "value": 3917
      }
     },
     "1251aa8896c8438a9b82a015641d0a4e": {
      "model_module": "@jupyter-widgets/controls",
      "model_module_version": "1.5.0",
      "model_name": "ProgressStyleModel",
      "state": {
       "description_width": ""
      }
     },
     "12a2cd92b8cc4e5492e66de96cd8cd8f": {
      "model_module": "@jupyter-widgets/controls",
      "model_module_version": "1.5.0",
      "model_name": "DescriptionStyleModel",
      "state": {
       "description_width": ""
      }
     },
     "12b36970a01743fe86564fc2788a811e": {
      "model_module": "@jupyter-widgets/base",
      "model_module_version": "1.2.0",
      "model_name": "LayoutModel",
      "state": {}
     },
     "12bc42397dd84a3ea14b876aeab45a9e": {
      "model_module": "@jupyter-widgets/controls",
      "model_module_version": "1.5.0",
      "model_name": "HTMLModel",
      "state": {
       "layout": "IPY_MODEL_1374ca0b1a1341d288498442788d8fb1",
       "style": "IPY_MODEL_732903e3eafb42b8adc672c558bc98c1",
       "value": "five (4):  98%"
      }
     },
     "12bc72fe7a3445d18f1f85ce65f7ad1d": {
      "model_module": "@jupyter-widgets/controls",
      "model_module_version": "1.5.0",
      "model_name": "ProgressStyleModel",
      "state": {
       "description_width": ""
      }
     },
     "12f428b945a94498a8e9ecce00420f7d": {
      "model_module": "@jupyter-widgets/controls",
      "model_module_version": "1.5.0",
      "model_name": "DescriptionStyleModel",
      "state": {
       "description_width": ""
      }
     },
     "12fbe258d85649099185a5fb180f35b2": {
      "model_module": "@jupyter-widgets/base",
      "model_module_version": "1.2.0",
      "model_name": "LayoutModel",
      "state": {}
     },
     "1364d8761fae4994888eb2a5399ff0d5": {
      "model_module": "@jupyter-widgets/base",
      "model_module_version": "1.2.0",
      "model_name": "LayoutModel",
      "state": {
       "visibility": "hidden"
      }
     },
     "1374ca0b1a1341d288498442788d8fb1": {
      "model_module": "@jupyter-widgets/base",
      "model_module_version": "1.2.0",
      "model_name": "LayoutModel",
      "state": {}
     },
     "13930f46172a4e708e5114339e955fbd": {
      "model_module": "@jupyter-widgets/base",
      "model_module_version": "1.2.0",
      "model_name": "LayoutModel",
      "state": {}
     },
     "13cedad4491a4f1486c0241068cde38f": {
      "model_module": "@jupyter-widgets/controls",
      "model_module_version": "1.5.0",
      "model_name": "DescriptionStyleModel",
      "state": {
       "description_width": ""
      }
     },
     "141a0fdf1a844fcc808ae0ab5792ff12": {
      "model_module": "@jupyter-widgets/base",
      "model_module_version": "1.2.0",
      "model_name": "LayoutModel",
      "state": {}
     },
     "144dee325b674f7a85188fcb46bb0f2e": {
      "model_module": "@jupyter-widgets/controls",
      "model_module_version": "1.5.0",
      "model_name": "HTMLModel",
      "state": {
       "layout": "IPY_MODEL_9b85883cdb6342f6a8c26926be58dd21",
       "style": "IPY_MODEL_4132e6c0c12c411ebadd3bac10dbdf05",
       "value": " 2028/2031 [01:11&lt;00:00, 26.37it/s]"
      }
     },
     "1462d5c3179243b7bee72aaa490c9d4d": {
      "model_module": "@jupyter-widgets/controls",
      "model_module_version": "1.5.0",
      "model_name": "FloatProgressModel",
      "state": {
       "layout": "IPY_MODEL_684a4e38a92c4e08a4940223e38afdec",
       "max": 2128,
       "style": "IPY_MODEL_0aabc5c5c9a145b9b615b0a0ece0fc0c",
       "value": 2128
      }
     },
     "14633559ce4e4d648e7c80bb026fec9a": {
      "model_module": "@jupyter-widgets/controls",
      "model_module_version": "1.5.0",
      "model_name": "HTMLModel",
      "state": {
       "layout": "IPY_MODEL_6d8d98e12ea34fe09fedb651092eb0b0",
       "style": "IPY_MODEL_ba86f3eb118d4365832619bce8c4c873",
       "value": " 265/269 [00:04&lt;00:00, 54.91it/s]"
      }
     },
     "149048a883f64a42a91be1f1a78c744e": {
      "model_module": "@jupyter-widgets/controls",
      "model_module_version": "1.5.0",
      "model_name": "ProgressStyleModel",
      "state": {
       "description_width": ""
      }
     },
     "14dc7128f98e4c8eb9387bc218eae1ca": {
      "model_module": "@jupyter-widgets/base",
      "model_module_version": "1.2.0",
      "model_name": "LayoutModel",
      "state": {}
     },
     "14f0f577c1f6480dbee7f163f0c18de0": {
      "model_module": "@jupyter-widgets/controls",
      "model_module_version": "1.5.0",
      "model_name": "DescriptionStyleModel",
      "state": {
       "description_width": ""
      }
     },
     "14fd9baa318748d09f5c3ff91a181961": {
      "model_module": "@jupyter-widgets/controls",
      "model_module_version": "1.5.0",
      "model_name": "FloatProgressModel",
      "state": {
       "layout": "IPY_MODEL_74e077f6e8194773bcb949f93602a30b",
       "max": 169,
       "style": "IPY_MODEL_d55432a6fdf94a7ea32ba5aac11444ca",
       "value": 169
      }
     },
     "152e93993fa649408b314ac6cc658178": {
      "model_module": "@jupyter-widgets/controls",
      "model_module_version": "1.5.0",
      "model_name": "ProgressStyleModel",
      "state": {
       "description_width": ""
      }
     },
     "15d5b4d028fa49efa9f123717b587490": {
      "model_module": "@jupyter-widgets/controls",
      "model_module_version": "1.5.0",
      "model_name": "HTMLModel",
      "state": {
       "layout": "IPY_MODEL_75a5d88346ea4917a024e87866f2ad0a",
       "style": "IPY_MODEL_264141c6fcb44ea3a209499863f03e30",
       "value": " 123/124 [00:01&lt;00:00, 62.13it/s]"
      }
     },
     "15f47ea92f5b42d2bdea85d30149253c": {
      "model_module": "@jupyter-widgets/controls",
      "model_module_version": "1.5.0",
      "model_name": "HTMLModel",
      "state": {
       "layout": "IPY_MODEL_1b3b3fff30af4819a9b4c30aa62b66bb",
       "style": "IPY_MODEL_d7d5453378684aaebcdaf30f361615fa",
       "value": "Simulated Words: 100%"
      }
     },
     "1628dfa7a15c44db8b4e681b355c9a8b": {
      "model_module": "@jupyter-widgets/controls",
      "model_module_version": "1.5.0",
      "model_name": "HTMLModel",
      "state": {
       "layout": "IPY_MODEL_5d89022e1b054c96b49d89bca3bb3160",
       "style": "IPY_MODEL_4158ed03b2564ea19d5811946a501fb7",
       "value": " 268/270 [00:04&lt;00:00, 63.87it/s]"
      }
     },
     "1744b218982448cb873985b4901b2d8c": {
      "model_module": "@jupyter-widgets/controls",
      "model_module_version": "1.5.0",
      "model_name": "DescriptionStyleModel",
      "state": {
       "description_width": ""
      }
     },
     "1769647e56ed4f388746aaf691f91b62": {
      "model_module": "@jupyter-widgets/base",
      "model_module_version": "1.2.0",
      "model_name": "LayoutModel",
      "state": {}
     },
     "17942f55f622465596c077805ca33c29": {
      "model_module": "@jupyter-widgets/base",
      "model_module_version": "1.2.0",
      "model_name": "LayoutModel",
      "state": {}
     },
     "17ef8b8c417b42f08240bc565c8f0cca": {
      "model_module": "@jupyter-widgets/controls",
      "model_module_version": "1.5.0",
      "model_name": "ProgressStyleModel",
      "state": {
       "description_width": ""
      }
     },
     "181ce7b33be34cff83cf124f4dcb1143": {
      "model_module": "@jupyter-widgets/base",
      "model_module_version": "1.2.0",
      "model_name": "LayoutModel",
      "state": {}
     },
     "181f4be5d82e4b8eaac5bb19da227e00": {
      "model_module": "@jupyter-widgets/base",
      "model_module_version": "1.2.0",
      "model_name": "LayoutModel",
      "state": {}
     },
     "18435beebd5e4eedb1dfb91f121b1096": {
      "model_module": "@jupyter-widgets/controls",
      "model_module_version": "1.5.0",
      "model_name": "DescriptionStyleModel",
      "state": {
       "description_width": ""
      }
     },
     "1871066ed3d64b3e86faed5a44611131": {
      "model_module": "@jupyter-widgets/base",
      "model_module_version": "1.2.0",
      "model_name": "LayoutModel",
      "state": {}
     },
     "18e4a4bdfea343f98d7dc2b82f6152c8": {
      "model_module": "@jupyter-widgets/controls",
      "model_module_version": "1.5.0",
      "model_name": "HTMLModel",
      "state": {
       "layout": "IPY_MODEL_fc4b78265a9746cc9add9da3e02139b3",
       "style": "IPY_MODEL_43e51b32e8594ff28cdafbb0f92348ee",
       "value": " 1577/1579 [00:39&lt;00:00, 46.13it/s]"
      }
     },
     "1968cbfa34e242128e2efb5cf2ad9e77": {
      "model_module": "@jupyter-widgets/controls",
      "model_module_version": "1.5.0",
      "model_name": "FloatProgressModel",
      "state": {
       "layout": "IPY_MODEL_b44943da7f3b4c74b0cdf080b61b53ae",
       "max": 163,
       "style": "IPY_MODEL_b45b7ad4cc904f259e703a584d383c5e",
       "value": 163
      }
     },
     "196bd8bdac8b4f1fab07bc5144426175": {
      "model_module": "@jupyter-widgets/controls",
      "model_module_version": "1.5.0",
      "model_name": "DescriptionStyleModel",
      "state": {
       "description_width": ""
      }
     },
     "19a5636faa2742ea9b715377d92a441b": {
      "model_module": "@jupyter-widgets/controls",
      "model_module_version": "1.5.0",
      "model_name": "DescriptionStyleModel",
      "state": {
       "description_width": ""
      }
     },
     "19aed38b1998439a90b4752130ebab9c": {
      "model_module": "@jupyter-widgets/controls",
      "model_module_version": "1.5.0",
      "model_name": "HTMLModel",
      "state": {
       "layout": "IPY_MODEL_bb376e445f704ac8af1cf723c247b5fe",
       "style": "IPY_MODEL_efec8e3b4bc64c178a2aa6fe584f177e",
       "value": " 1350/1356 [00:21&lt;00:00, 64.01it/s]"
      }
     },
     "19cc1268cad343478067a74360c0004b": {
      "model_module": "@jupyter-widgets/controls",
      "model_module_version": "1.5.0",
      "model_name": "DescriptionStyleModel",
      "state": {
       "description_width": ""
      }
     },
     "19e03307082742c4814a5f8206412ffa": {
      "model_module": "@jupyter-widgets/controls",
      "model_module_version": "1.5.0",
      "model_name": "HTMLModel",
      "state": {
       "layout": "IPY_MODEL_8321128f4bc949eea3b06aaaa3cd65a9",
       "style": "IPY_MODEL_ad009e225c7a48168eaf8894009674a3",
       "value": "Checking: 100%"
      }
     },
     "19ff23bc9c1741eab617ba55587ed303": {
      "model_module": "@jupyter-widgets/base",
      "model_module_version": "1.2.0",
      "model_name": "LayoutModel",
      "state": {
       "visibility": "hidden"
      }
     },
     "1a5fe93d163a4fb99e3334f8a20eb19e": {
      "model_module": "@jupyter-widgets/base",
      "model_module_version": "1.2.0",
      "model_name": "LayoutModel",
      "state": {}
     },
     "1a755625fd5f452cba0c7aa021ed71bd": {
      "model_module": "@jupyter-widgets/controls",
      "model_module_version": "1.5.0",
      "model_name": "DescriptionStyleModel",
      "state": {
       "description_width": ""
      }
     },
     "1a8294e44c08478ab968591478290694": {
      "model_module": "@jupyter-widgets/controls",
      "model_module_version": "1.5.0",
      "model_name": "FloatProgressModel",
      "state": {
       "layout": "IPY_MODEL_caf139bd722248dca947fce1c046e35a",
       "max": 164,
       "style": "IPY_MODEL_8a2559579bf84d05b9e82b46bea0cc1e",
       "value": 164
      }
     },
     "1abff566a8e74db2bbbe1dbe2c4563b8": {
      "model_module": "@jupyter-widgets/base",
      "model_module_version": "1.2.0",
      "model_name": "LayoutModel",
      "state": {
       "visibility": "hidden"
      }
     },
     "1b24521edb914f93b86e0db9bdd26d77": {
      "model_module": "@jupyter-widgets/controls",
      "model_module_version": "1.5.0",
      "model_name": "HTMLModel",
      "state": {
       "layout": "IPY_MODEL_50a42548f832432eaf1913a56672929d",
       "style": "IPY_MODEL_6cf9b4ec382b46ff87e8a027bb9e72ce",
       "value": "Checking: 100%"
      }
     },
     "1b3b3fff30af4819a9b4c30aa62b66bb": {
      "model_module": "@jupyter-widgets/base",
      "model_module_version": "1.2.0",
      "model_name": "LayoutModel",
      "state": {}
     },
     "1b4a0f87bc864072a4b51c4fe3a482c8": {
      "model_module": "@jupyter-widgets/base",
      "model_module_version": "1.2.0",
      "model_name": "LayoutModel",
      "state": {}
     },
     "1b63aa1e6a204dc7860eb79ff139976f": {
      "model_module": "@jupyter-widgets/controls",
      "model_module_version": "1.5.0",
      "model_name": "DescriptionStyleModel",
      "state": {
       "description_width": ""
      }
     },
     "1b8a12ed2b914c32a1ed8b6457fb30a2": {
      "model_module": "@jupyter-widgets/controls",
      "model_module_version": "1.5.0",
      "model_name": "DescriptionStyleModel",
      "state": {
       "description_width": ""
      }
     },
     "1bd035257e9547adbdc528faf893df86": {
      "model_module": "@jupyter-widgets/controls",
      "model_module_version": "1.5.0",
      "model_name": "HTMLModel",
      "state": {
       "layout": "IPY_MODEL_181f4be5d82e4b8eaac5bb19da227e00",
       "style": "IPY_MODEL_5a53e64259e0450089cc7b33d8327203",
       "value": "left (2): 100%"
      }
     },
     "1c8e22698440405f91b784d91ee46cd9": {
      "model_module": "@jupyter-widgets/controls",
      "model_module_version": "1.5.0",
      "model_name": "ProgressStyleModel",
      "state": {
       "description_width": ""
      }
     },
     "1c90493d73eb4835b93687261b7eb27c": {
      "model_module": "@jupyter-widgets/controls",
      "model_module_version": "1.5.0",
      "model_name": "DescriptionStyleModel",
      "state": {
       "description_width": ""
      }
     },
     "1cc8698dcbf44983a6841fe8400f9fee": {
      "model_module": "@jupyter-widgets/base",
      "model_module_version": "1.2.0",
      "model_name": "LayoutModel",
      "state": {}
     },
     "1cd7fb6224154f6bbccb25fedd58dcfa": {
      "model_module": "@jupyter-widgets/controls",
      "model_module_version": "1.5.0",
      "model_name": "HTMLModel",
      "state": {
       "layout": "IPY_MODEL_7b6699c47dc440af9d7ad6ba0a205d06",
       "style": "IPY_MODEL_64d48e24ae1d4098beeed6bfe750a914",
       "value": " 5596/5600 [01:29&lt;00:00, 63.51it/s]"
      }
     },
     "1d0ebbbf63944b0f847491b3d478fcea": {
      "model_module": "@jupyter-widgets/controls",
      "model_module_version": "1.5.0",
      "model_name": "ProgressStyleModel",
      "state": {
       "description_width": ""
      }
     },
     "1ded186881474159b9e8fc9fdec31c32": {
      "model_module": "@jupyter-widgets/controls",
      "model_module_version": "1.5.0",
      "model_name": "DescriptionStyleModel",
      "state": {
       "description_width": ""
      }
     },
     "1df3bfca34e042c08caae8a6fc7705e9": {
      "model_module": "@jupyter-widgets/base",
      "model_module_version": "1.2.0",
      "model_name": "LayoutModel",
      "state": {}
     },
     "1e398e9d51ae4bbb93d70f86232322ec": {
      "model_module": "@jupyter-widgets/controls",
      "model_module_version": "1.5.0",
      "model_name": "FloatProgressModel",
      "state": {
       "layout": "IPY_MODEL_762c0da9daef4d21a2e1c5bff17345b0",
       "max": 1096,
       "style": "IPY_MODEL_b5f77fefb6694499afc7681387a90a42",
       "value": 1096
      }
     },
     "1e549850a1374cb2bea7f2cd0214debb": {
      "model_module": "@jupyter-widgets/controls",
      "model_module_version": "1.5.0",
      "model_name": "DescriptionStyleModel",
      "state": {
       "description_width": ""
      }
     },
     "1e93aaa84ae949fb974b0c2e19f77dc6": {
      "model_module": "@jupyter-widgets/base",
      "model_module_version": "1.2.0",
      "model_name": "LayoutModel",
      "state": {
       "visibility": "hidden"
      }
     },
     "1ed1a8d3487a4c2288328fd8d6f1c727": {
      "model_module": "@jupyter-widgets/controls",
      "model_module_version": "1.5.0",
      "model_name": "DescriptionStyleModel",
      "state": {
       "description_width": ""
      }
     },
     "1f0134055a3547b8beb9a172ebf8db06": {
      "model_module": "@jupyter-widgets/base",
      "model_module_version": "1.2.0",
      "model_name": "LayoutModel",
      "state": {
       "visibility": "hidden"
      }
     },
     "1f12dfff892a432d8911ff380a4bd579": {
      "model_module": "@jupyter-widgets/base",
      "model_module_version": "1.2.0",
      "model_name": "LayoutModel",
      "state": {
       "visibility": "hidden"
      }
     },
     "1f29f530a3424235958e1f3a925916e6": {
      "model_module": "@jupyter-widgets/controls",
      "model_module_version": "1.5.0",
      "model_name": "HTMLModel",
      "state": {
       "layout": "IPY_MODEL_71b069f16fa74606aedc449c80b72b30",
       "style": "IPY_MODEL_a562e1538c354aaab93541a318fdf41f",
       "value": "cat (4):  95%"
      }
     },
     "1f2dc7372eea47f39bc9a603bcf7a0eb": {
      "model_module": "@jupyter-widgets/controls",
      "model_module_version": "1.5.0",
      "model_name": "DescriptionStyleModel",
      "state": {
       "description_width": ""
      }
     },
     "1f948b0212fa43da89b0d31c8fcf0c92": {
      "model_module": "@jupyter-widgets/base",
      "model_module_version": "1.2.0",
      "model_name": "LayoutModel",
      "state": {
       "visibility": "hidden"
      }
     },
     "1fb99cc602504ff19f607752c131f381": {
      "model_module": "@jupyter-widgets/controls",
      "model_module_version": "1.5.0",
      "model_name": "FloatProgressModel",
      "state": {
       "layout": "IPY_MODEL_343e201c61d0401ca07b9f09e13d5fa2",
       "max": 59,
       "style": "IPY_MODEL_eeb30998f0c5493dadec8761ae629897",
       "value": 59
      }
     },
     "1fe0d5016f0d4febb3411ae6ce38bea4": {
      "model_module": "@jupyter-widgets/controls",
      "model_module_version": "1.5.0",
      "model_name": "DescriptionStyleModel",
      "state": {
       "description_width": ""
      }
     },
     "200cd5544f8c4ae0b6f542bea387de6e": {
      "model_module": "@jupyter-widgets/controls",
      "model_module_version": "1.5.0",
      "model_name": "DescriptionStyleModel",
      "state": {
       "description_width": ""
      }
     },
     "2023b6ced76b4212b9fea48c6e3f3af1": {
      "model_module": "@jupyter-widgets/controls",
      "model_module_version": "1.5.0",
      "model_name": "HTMLModel",
      "state": {
       "layout": "IPY_MODEL_454a05ecc8e445578f23d3189d560a7b",
       "style": "IPY_MODEL_35608d16f91a45d48577d87217b6066d",
       "value": " 37516/37520 [14:48&lt;00:00, 29.50it/s]"
      }
     },
     "205f13ef9ffe47ff9554ccfa2341e932": {
      "model_module": "@jupyter-widgets/controls",
      "model_module_version": "1.5.0",
      "model_name": "ProgressStyleModel",
      "state": {
       "description_width": ""
      }
     },
     "2066d141a3614fdbb6e2676e34f6baff": {
      "model_module": "@jupyter-widgets/base",
      "model_module_version": "1.2.0",
      "model_name": "LayoutModel",
      "state": {}
     },
     "207a65d6ec5c489699e3ddf7d5c0ccc1": {
      "model_module": "@jupyter-widgets/base",
      "model_module_version": "1.2.0",
      "model_name": "LayoutModel",
      "state": {}
     },
     "20b0e26c8fc44430ad529d91094510bd": {
      "model_module": "@jupyter-widgets/base",
      "model_module_version": "1.2.0",
      "model_name": "LayoutModel",
      "state": {}
     },
     "20b1539e335b4571a88816afc8f7e3d9": {
      "model_module": "@jupyter-widgets/controls",
      "model_module_version": "1.5.0",
      "model_name": "FloatProgressModel",
      "state": {
       "layout": "IPY_MODEL_5387f34b9f20480d8f0edd5db22399f1",
       "max": 3723,
       "style": "IPY_MODEL_37187b1a4cbc4b18a59b3dce4af20cb9",
       "value": 3723
      }
     },
     "20cba8db42e84d908286642bce6c1fd1": {
      "model_module": "@jupyter-widgets/controls",
      "model_module_version": "1.5.0",
      "model_name": "DescriptionStyleModel",
      "state": {
       "description_width": ""
      }
     },
     "20ef4d9fae09414dade6269270cebb24": {
      "model_module": "@jupyter-widgets/controls",
      "model_module_version": "1.5.0",
      "model_name": "DescriptionStyleModel",
      "state": {
       "description_width": ""
      }
     },
     "20f4f1a3a12c4ee3835108b7f20d95d5": {
      "model_module": "@jupyter-widgets/controls",
      "model_module_version": "1.5.0",
      "model_name": "HTMLModel",
      "state": {
       "layout": "IPY_MODEL_2dc57eba8ff947a0b784df4b0c6496dd",
       "style": "IPY_MODEL_5b490bcee78047a4a1ef549f9d757b0c",
       "value": "right (3): 100%"
      }
     },
     "211ceb7967174d729bc5cd58df5205a6": {
      "model_module": "@jupyter-widgets/controls",
      "model_module_version": "1.5.0",
      "model_name": "HTMLModel",
      "state": {
       "layout": "IPY_MODEL_837c49efc26149c18d201da3eb4f2435",
       "style": "IPY_MODEL_0985e77b57aa4a258bc02ff7edd2de24",
       "value": " 137/141 [00:02&lt;00:00, 63.76it/s]"
      }
     },
     "2166bca9634742ed9e273876295a6f0a": {
      "model_module": "@jupyter-widgets/controls",
      "model_module_version": "1.5.0",
      "model_name": "FloatProgressModel",
      "state": {
       "layout": "IPY_MODEL_9576835bf38c4da5883233fa4ef2f703",
       "max": 2390,
       "style": "IPY_MODEL_8397959cae12425f833114a2e13d1bbe",
       "value": 2390
      }
     },
     "2198d68e430f4833b01ee23c58a40e13": {
      "model_module": "@jupyter-widgets/base",
      "model_module_version": "1.2.0",
      "model_name": "LayoutModel",
      "state": {}
     },
     "21a0d7ad124442b9ac706cf344453304": {
      "model_module": "@jupyter-widgets/controls",
      "model_module_version": "1.5.0",
      "model_name": "FloatProgressModel",
      "state": {
       "layout": "IPY_MODEL_e7867b10f87f4678b4d56ec6610283ad",
       "max": 3880,
       "style": "IPY_MODEL_7429f7af5a104e949233cb93bb2e1729",
       "value": 3880
      }
     },
     "21b32d78e8834aba9d2426be85c963bf": {
      "model_module": "@jupyter-widgets/controls",
      "model_module_version": "1.5.0",
      "model_name": "HTMLModel",
      "state": {
       "layout": "IPY_MODEL_1b4a0f87bc864072a4b51c4fe3a482c8",
       "style": "IPY_MODEL_e12000933e1743da8d668e1efcba1496",
       "value": " 3931/3934 [02:03&lt;00:00, 35.13it/s]"
      }
     },
     "21e32f4f08d44b2f821f5974bd645d80": {
      "model_module": "@jupyter-widgets/controls",
      "model_module_version": "1.5.0",
      "model_name": "HTMLModel",
      "state": {
       "layout": "IPY_MODEL_dfcf1a1e34e440319ca4299b45ba91af",
       "style": "IPY_MODEL_05e4fe0ee99a4077bfbe5696ce3bd197",
       "value": " 338/344 [00:05&lt;00:00, 63.56it/s]"
      }
     },
     "2215099065614fe6a286ade1e4db1994": {
      "model_module": "@jupyter-widgets/base",
      "model_module_version": "1.2.0",
      "model_name": "LayoutModel",
      "state": {}
     },
     "223119fd077c4e4b801cc141f652d86c": {
      "model_module": "@jupyter-widgets/base",
      "model_module_version": "1.2.0",
      "model_name": "LayoutModel",
      "state": {}
     },
     "225a891fec9847b48189d506f71de5de": {
      "model_module": "@jupyter-widgets/base",
      "model_module_version": "1.2.0",
      "model_name": "LayoutModel",
      "state": {}
     },
     "227b6b08866c442aad74a5abff50ad11": {
      "model_module": "@jupyter-widgets/base",
      "model_module_version": "1.2.0",
      "model_name": "LayoutModel",
      "state": {}
     },
     "228eb48a7e974fc398cca13cb237c8e4": {
      "model_module": "@jupyter-widgets/base",
      "model_module_version": "1.2.0",
      "model_name": "LayoutModel",
      "state": {}
     },
     "2298696b121b43a0a09908896d88d46b": {
      "model_module": "@jupyter-widgets/controls",
      "model_module_version": "1.5.0",
      "model_name": "ProgressStyleModel",
      "state": {
       "description_width": ""
      }
     },
     "2358e58417f448e496ef126780fa4373": {
      "model_module": "@jupyter-widgets/base",
      "model_module_version": "1.2.0",
      "model_name": "LayoutModel",
      "state": {}
     },
     "237216857db14763ab26ab51ffea2249": {
      "model_module": "@jupyter-widgets/base",
      "model_module_version": "1.2.0",
      "model_name": "LayoutModel",
      "state": {}
     },
     "23778a98710d4ebe9844c7f74e6487af": {
      "model_module": "@jupyter-widgets/base",
      "model_module_version": "1.2.0",
      "model_name": "LayoutModel",
      "state": {}
     },
     "2386d829c91f40b8b7ff6445391852cf": {
      "model_module": "@jupyter-widgets/base",
      "model_module_version": "1.2.0",
      "model_name": "LayoutModel",
      "state": {}
     },
     "239499bf6c274b259c8bcc2e61d0d721": {
      "model_module": "@jupyter-widgets/controls",
      "model_module_version": "1.5.0",
      "model_name": "HTMLModel",
      "state": {
       "layout": "IPY_MODEL_7181e9b778994c82a2c24addddc45d88",
       "style": "IPY_MODEL_b04cf9b578c74a1c94101b5dc3a861a1",
       "value": "six (4):  99%"
      }
     },
     "2395fde805fc468bb80cf82e6b2e7fce": {
      "model_module": "@jupyter-widgets/controls",
      "model_module_version": "1.5.0",
      "model_name": "HTMLModel",
      "state": {
       "layout": "IPY_MODEL_5dfcf836944d4805961e33af597f2a17",
       "style": "IPY_MODEL_2b237e670066407b8cb1af1ba2b60542",
       "value": "dog (4):  97%"
      }
     },
     "23b5f7e6b6c44c3c80e45514fa948843": {
      "model_module": "@jupyter-widgets/controls",
      "model_module_version": "1.5.0",
      "model_name": "FloatProgressModel",
      "state": {
       "layout": "IPY_MODEL_2215099065614fe6a286ade1e4db1994",
       "max": 3880,
       "style": "IPY_MODEL_a360d4f1944e46079c8fa94e2d95b020",
       "value": 3880
      }
     },
     "23fdb16c957f43298810857194b03f5d": {
      "model_module": "@jupyter-widgets/controls",
      "model_module_version": "1.5.0",
      "model_name": "HTMLModel",
      "state": {
       "layout": "IPY_MODEL_693efddcb1284192b279b605da35e50e",
       "style": "IPY_MODEL_40d3744474414c74955119f347f3d46d",
       "value": " 147/148 [00:04&lt;00:00, 29.40it/s]"
      }
     },
     "2402d693fc2e4f788b36da4ece0f6825": {
      "model_module": "@jupyter-widgets/base",
      "model_module_version": "1.2.0",
      "model_name": "LayoutModel",
      "state": {}
     },
     "2416b4cf05464b72aaa9ff148fd57098": {
      "model_module": "@jupyter-widgets/controls",
      "model_module_version": "1.5.0",
      "model_name": "DescriptionStyleModel",
      "state": {
       "description_width": ""
      }
     },
     "241f18debd8e48a5afa09708dc0a1991": {
      "model_module": "@jupyter-widgets/base",
      "model_module_version": "1.2.0",
      "model_name": "LayoutModel",
      "state": {}
     },
     "244acddf2c0d418199f7558e4499606d": {
      "model_module": "@jupyter-widgets/controls",
      "model_module_version": "1.5.0",
      "model_name": "FloatProgressModel",
      "state": {
       "layout": "IPY_MODEL_903df27266024d1594729906e6ddaf63",
       "max": 346,
       "style": "IPY_MODEL_65d85bd227524f35b146a4e37bb547d1",
       "value": 346
      }
     },
     "2476d065a2f043cda47cf6fa9758f4da": {
      "model_module": "@jupyter-widgets/controls",
      "model_module_version": "1.5.0",
      "model_name": "FloatProgressModel",
      "state": {
       "bar_style": "success",
       "layout": "IPY_MODEL_e90e0b39ae51444ea357880431515b52",
       "max": 5,
       "style": "IPY_MODEL_29431173423f41119124200a81b6e6c8",
       "value": 5
      }
     },
     "247795b13fdd424a9d5d655b88a8bfb3": {
      "model_module": "@jupyter-widgets/controls",
      "model_module_version": "1.5.0",
      "model_name": "HTMLModel",
      "state": {
       "layout": "IPY_MODEL_fdc1ad694e034107869a675bae4f2f67",
       "style": "IPY_MODEL_bb04952e3ce04b3fbf5c0bc465dcde9c",
       "value": "Simulated Words:  99%"
      }
     },
     "24df86cec1904bae8e2427626312c1d0": {
      "model_module": "@jupyter-widgets/controls",
      "model_module_version": "1.5.0",
      "model_name": "HTMLModel",
      "state": {
       "layout": "IPY_MODEL_fb9c7f27f6e340a6a4792063b231c4d5",
       "style": "IPY_MODEL_2c1efe851c2f499bb80bf4b413a2d45d",
       "value": "tree (4):  98%"
      }
     },
     "25517575240d4288834ad424e015765a": {
      "model_module": "@jupyter-widgets/controls",
      "model_module_version": "1.5.0",
      "model_name": "ProgressStyleModel",
      "state": {
       "description_width": ""
      }
     },
     "2569e0f559314905b077ff7fbe4207d8": {
      "model_module": "@jupyter-widgets/base",
      "model_module_version": "1.2.0",
      "model_name": "LayoutModel",
      "state": {
       "visibility": "hidden"
      }
     },
     "260de0e714b84c809aada5bd5f323a02": {
      "model_module": "@jupyter-widgets/controls",
      "model_module_version": "1.5.0",
      "model_name": "FloatProgressModel",
      "state": {
       "layout": "IPY_MODEL_0314d9c0f49b481aa69456cd10f26571",
       "max": 1306,
       "style": "IPY_MODEL_1d0ebbbf63944b0f847491b3d478fcea",
       "value": 1306
      }
     },
     "263bea93ce214ec0b051850e8ccce755": {
      "model_module": "@jupyter-widgets/controls",
      "model_module_version": "1.5.0",
      "model_name": "FloatProgressModel",
      "state": {
       "layout": "IPY_MODEL_2bdf1d6a6f0145d0ab1680fd29542288",
       "max": 4052,
       "style": "IPY_MODEL_bcf9e4118be34c68996bbb9c49e3447c",
       "value": 4052
      }
     },
     "264141c6fcb44ea3a209499863f03e30": {
      "model_module": "@jupyter-widgets/controls",
      "model_module_version": "1.5.0",
      "model_name": "DescriptionStyleModel",
      "state": {
       "description_width": ""
      }
     },
     "264f66403d474006bc3f359351b23e3b": {
      "model_module": "@jupyter-widgets/controls",
      "model_module_version": "1.5.0",
      "model_name": "FloatProgressModel",
      "state": {
       "layout": "IPY_MODEL_28be8c04036b4bbdbd382177078ecbb1",
       "max": 290,
       "style": "IPY_MODEL_8d78e1b123764a1a84b9e7dc8bc67d39",
       "value": 290
      }
     },
     "2684a87c32134072bded8ff52c3dc303": {
      "model_module": "@jupyter-widgets/controls",
      "model_module_version": "1.5.0",
      "model_name": "FloatProgressModel",
      "state": {
       "layout": "IPY_MODEL_53cf2ce4c2f24f708f8482c59920dee9",
       "max": 270,
       "style": "IPY_MODEL_37f54d59fbd743cea2d46e55498f116b",
       "value": 270
      }
     },
     "26bdd1de196140dd8daf10ffbff3a726": {
      "model_module": "@jupyter-widgets/controls",
      "model_module_version": "1.5.0",
      "model_name": "DescriptionStyleModel",
      "state": {
       "description_width": ""
      }
     },
     "26fbbbeadff9457893da4d580f1fd14e": {
      "model_module": "@jupyter-widgets/base",
      "model_module_version": "1.2.0",
      "model_name": "LayoutModel",
      "state": {
       "visibility": "hidden"
      }
     },
     "26fd2bd241e54ee58a3ce5c9087482ab": {
      "model_module": "@jupyter-widgets/controls",
      "model_module_version": "1.5.0",
      "model_name": "HTMLModel",
      "state": {
       "layout": "IPY_MODEL_10ddf4ec2d9a439280e635dcbc9233ea",
       "style": "IPY_MODEL_beede60b78794de9b337ed2104097390",
       "value": "Checking: 100%"
      }
     },
     "26fd9cd9ca524ac4a89cfdf5aa9d069a": {
      "model_module": "@jupyter-widgets/base",
      "model_module_version": "1.2.0",
      "model_name": "LayoutModel",
      "state": {}
     },
     "274fbda7237b4134a6cd90c57b7a5334": {
      "model_module": "@jupyter-widgets/base",
      "model_module_version": "1.2.0",
      "model_name": "LayoutModel",
      "state": {}
     },
     "277f57a5d1214ef0a0c6a611583a8830": {
      "model_module": "@jupyter-widgets/base",
      "model_module_version": "1.2.0",
      "model_name": "LayoutModel",
      "state": {}
     },
     "27fc332b3a504508980a476cf32ba5d8": {
      "model_module": "@jupyter-widgets/controls",
      "model_module_version": "1.5.0",
      "model_name": "HTMLModel",
      "state": {
       "layout": "IPY_MODEL_662e78b7da9d46988ee8903a3dea0046",
       "style": "IPY_MODEL_5ba3537a7d1d44ef9b05f64d85dc08e2",
       "value": "Checking: 100%"
      }
     },
     "2819cabfd33f4723ad38938ca9569869": {
      "model_module": "@jupyter-widgets/base",
      "model_module_version": "1.2.0",
      "model_name": "LayoutModel",
      "state": {}
     },
     "28be8c04036b4bbdbd382177078ecbb1": {
      "model_module": "@jupyter-widgets/base",
      "model_module_version": "1.2.0",
      "model_name": "LayoutModel",
      "state": {}
     },
     "28c12a31083b4f2897203471481bf8b3": {
      "model_module": "@jupyter-widgets/controls",
      "model_module_version": "1.5.0",
      "model_name": "ProgressStyleModel",
      "state": {
       "description_width": ""
      }
     },
     "28f6da1dc7f14f89a24af9da0c40b1d0": {
      "model_module": "@jupyter-widgets/base",
      "model_module_version": "1.2.0",
      "model_name": "LayoutModel",
      "state": {
       "visibility": "hidden"
      }
     },
     "2906b074d2414c189b28970b911a8cf0": {
      "model_module": "@jupyter-widgets/controls",
      "model_module_version": "1.5.0",
      "model_name": "HTMLModel",
      "state": {
       "layout": "IPY_MODEL_7694eec0d9d4441cb5c02688eb3e0a04",
       "style": "IPY_MODEL_8531fb351ed0448dbab6b858ff80ce60",
       "value": "sheila (4):  99%"
      }
     },
     "29431173423f41119124200a81b6e6c8": {
      "model_module": "@jupyter-widgets/controls",
      "model_module_version": "1.5.0",
      "model_name": "ProgressStyleModel",
      "state": {
       "description_width": ""
      }
     },
     "294e6662cb4e42cc8579566d9c7eb2d5": {
      "model_module": "@jupyter-widgets/base",
      "model_module_version": "1.2.0",
      "model_name": "LayoutModel",
      "state": {
       "visibility": "hidden"
      }
     },
     "2961eb7a5d76416f9b599d7e9f3e738c": {
      "model_module": "@jupyter-widgets/controls",
      "model_module_version": "1.5.0",
      "model_name": "FloatProgressModel",
      "state": {
       "layout": "IPY_MODEL_a84cd20738cb41cc81213d97bc512538",
       "max": 61,
       "style": "IPY_MODEL_a86bb96cb10b4a1587e30d1090152fea",
       "value": 61
      }
     },
     "29bb9a453d5343a8984727662d02646a": {
      "model_module": "@jupyter-widgets/controls",
      "model_module_version": "1.5.0",
      "model_name": "HTMLModel",
      "state": {
       "layout": "IPY_MODEL_421267fa2d8f4835871ad13b1ffca531",
       "style": "IPY_MODEL_8d05d6ef20714215b8904d86f5d1f080",
       "value": "Processing words: 100%"
      }
     },
     "29f2a8c65565447dba572911dccc8d16": {
      "model_module": "@jupyter-widgets/base",
      "model_module_version": "1.2.0",
      "model_name": "LayoutModel",
      "state": {}
     },
     "29fb49f33e4c43ce8a152e3f13bf54bf": {
      "model_module": "@jupyter-widgets/base",
      "model_module_version": "1.2.0",
      "model_name": "LayoutModel",
      "state": {}
     },
     "2a0ba41e474b47b0b49dcb9cdb865500": {
      "model_module": "@jupyter-widgets/controls",
      "model_module_version": "1.5.0",
      "model_name": "HTMLModel",
      "state": {
       "layout": "IPY_MODEL_a78863999dad4a4aadc36503bef6c245",
       "style": "IPY_MODEL_7c6d65b0a0254d4da2bb6017b5e31003",
       "value": "bird (4):  97%"
      }
     },
     "2a92308867cc4d14ac6d35f90ebf6e61": {
      "model_module": "@jupyter-widgets/controls",
      "model_module_version": "1.5.0",
      "model_name": "HTMLModel",
      "state": {
       "layout": "IPY_MODEL_04a7c08d764b4900ac69123d2240e09e",
       "style": "IPY_MODEL_b455ec2448894599b29fa6ce68cfb577",
       "value": " 1093/1096 [00:19&lt;00:00, 58.82it/s]"
      }
     },
     "2ab0377b9f154821906c08852d415fff": {
      "model_module": "@jupyter-widgets/base",
      "model_module_version": "1.2.0",
      "model_name": "LayoutModel",
      "state": {}
     },
     "2ae67cdafee84bddafd23b2f3617b9d2": {
      "model_module": "@jupyter-widgets/controls",
      "model_module_version": "1.5.0",
      "model_name": "ProgressStyleModel",
      "state": {
       "description_width": ""
      }
     },
     "2b237e670066407b8cb1af1ba2b60542": {
      "model_module": "@jupyter-widgets/controls",
      "model_module_version": "1.5.0",
      "model_name": "DescriptionStyleModel",
      "state": {
       "description_width": ""
      }
     },
     "2b25a4de9ede45bbae503f715173b966": {
      "model_module": "@jupyter-widgets/controls",
      "model_module_version": "1.5.0",
      "model_name": "ProgressStyleModel",
      "state": {
       "description_width": ""
      }
     },
     "2b3b451825af4a9ca9fc69a3b9bca414": {
      "model_module": "@jupyter-widgets/base",
      "model_module_version": "1.2.0",
      "model_name": "LayoutModel",
      "state": {}
     },
     "2bd6fc71df4a436e82b3e5cea3f64598": {
      "model_module": "@jupyter-widgets/controls",
      "model_module_version": "1.5.0",
      "model_name": "DescriptionStyleModel",
      "state": {
       "description_width": ""
      }
     },
     "2bdf1d6a6f0145d0ab1680fd29542288": {
      "model_module": "@jupyter-widgets/base",
      "model_module_version": "1.2.0",
      "model_name": "LayoutModel",
      "state": {}
     },
     "2c1d057c98c74fcc955f5a8a2ba8fc18": {
      "model_module": "@jupyter-widgets/controls",
      "model_module_version": "1.5.0",
      "model_name": "DescriptionStyleModel",
      "state": {
       "description_width": ""
      }
     },
     "2c1efe851c2f499bb80bf4b413a2d45d": {
      "model_module": "@jupyter-widgets/controls",
      "model_module_version": "1.5.0",
      "model_name": "DescriptionStyleModel",
      "state": {
       "description_width": ""
      }
     },
     "2c6f204e0da5472bab68f9405029cfdc": {
      "model_module": "@jupyter-widgets/controls",
      "model_module_version": "1.5.0",
      "model_name": "DescriptionStyleModel",
      "state": {
       "description_width": ""
      }
     },
     "2c7a59dc0671427ea90b52559b3b68c0": {
      "model_module": "@jupyter-widgets/base",
      "model_module_version": "1.2.0",
      "model_name": "LayoutModel",
      "state": {}
     },
     "2c8046d727364a67ab06b71bce38d01d": {
      "model_module": "@jupyter-widgets/base",
      "model_module_version": "1.2.0",
      "model_name": "LayoutModel",
      "state": {
       "visibility": "hidden"
      }
     },
     "2c82cd5b962340c4bdc0a1f8311e9822": {
      "model_module": "@jupyter-widgets/controls",
      "model_module_version": "1.5.0",
      "model_name": "ProgressStyleModel",
      "state": {
       "description_width": ""
      }
     },
     "2ca3d5790684448ea9838233431ff62a": {
      "model_module": "@jupyter-widgets/controls",
      "model_module_version": "1.5.0",
      "model_name": "DescriptionStyleModel",
      "state": {
       "description_width": ""
      }
     },
     "2cac0916b69847b28957bd71badc23af": {
      "model_module": "@jupyter-widgets/base",
      "model_module_version": "1.2.0",
      "model_name": "LayoutModel",
      "state": {}
     },
     "2cbf70f79fcf49b498d61f7608227be6": {
      "model_module": "@jupyter-widgets/base",
      "model_module_version": "1.2.0",
      "model_name": "LayoutModel",
      "state": {
       "visibility": "hidden"
      }
     },
     "2d6a2c3677f94243bdbe3e59018f1785": {
      "model_module": "@jupyter-widgets/controls",
      "model_module_version": "1.5.0",
      "model_name": "HTMLModel",
      "state": {
       "layout": "IPY_MODEL_893a512c94fb4eae9eae5817796c1303",
       "style": "IPY_MODEL_6717760729f14dc4919a1dee4d25a1ef",
       "value": "Checking: 100%"
      }
     },
     "2d8218993a7f4dae9a667a2482ea57e0": {
      "model_module": "@jupyter-widgets/controls",
      "model_module_version": "1.5.0",
      "model_name": "HTMLModel",
      "state": {
       "layout": "IPY_MODEL_5f9142772a6d4f9abe4d7da4ea206461",
       "style": "IPY_MODEL_5ec1d684ca944a3cb7df07e7c4b72463",
       "value": " 2127/2128 [01:00&lt;00:00, 38.22it/s]"
      }
     },
     "2dc57eba8ff947a0b784df4b0c6496dd": {
      "model_module": "@jupyter-widgets/base",
      "model_module_version": "1.2.0",
      "model_name": "LayoutModel",
      "state": {}
     },
     "2df1fd00161a402ca80e360bf8e9e0ff": {
      "model_module": "@jupyter-widgets/base",
      "model_module_version": "1.2.0",
      "model_name": "LayoutModel",
      "state": {}
     },
     "2df4a508b6524654ac4e7a25fc6c36dc": {
      "model_module": "@jupyter-widgets/base",
      "model_module_version": "1.2.0",
      "model_name": "LayoutModel",
      "state": {}
     },
     "2dfe6185658746edadb88d21f082d9c1": {
      "model_module": "@jupyter-widgets/base",
      "model_module_version": "1.2.0",
      "model_name": "LayoutModel",
      "state": {}
     },
     "2e167ca2e19c4f198b33634c5ce5e483": {
      "model_module": "@jupyter-widgets/controls",
      "model_module_version": "1.5.0",
      "model_name": "HTMLModel",
      "state": {
       "layout": "IPY_MODEL_4633214862ee4852a97e53708e2f461e",
       "style": "IPY_MODEL_b16b5470453c406eb1c240bfd6957230",
       "value": "Checking: 100%"
      }
     },
     "2e6111f3d61e416399f5b5428181695f": {
      "model_module": "@jupyter-widgets/base",
      "model_module_version": "1.2.0",
      "model_name": "LayoutModel",
      "state": {
       "visibility": "hidden"
      }
     },
     "2e74091f68914ae58da5e1f150ed7a65": {
      "model_module": "@jupyter-widgets/base",
      "model_module_version": "1.2.0",
      "model_name": "LayoutModel",
      "state": {}
     },
     "2f252630869642f8850d2004400161f3": {
      "model_module": "@jupyter-widgets/controls",
      "model_module_version": "1.5.0",
      "model_name": "FloatProgressModel",
      "state": {
       "layout": "IPY_MODEL_1a5fe93d163a4fb99e3334f8a20eb19e",
       "max": 42220,
       "style": "IPY_MODEL_3f863d6c1b024d78881defe6b3dcc6ff",
       "value": 42220
      }
     },
     "2f48d01f07ed4f3588c2d85fb74a0995": {
      "model_module": "@jupyter-widgets/controls",
      "model_module_version": "1.5.0",
      "model_name": "DescriptionStyleModel",
      "state": {
       "description_width": ""
      }
     },
     "2f804b780a52491495a1efb6ab227c30": {
      "model_module": "@jupyter-widgets/controls",
      "model_module_version": "1.5.0",
      "model_name": "DescriptionStyleModel",
      "state": {
       "description_width": ""
      }
     },
     "2fa200c54035428cb7ceb4b17ba67f58": {
      "model_module": "@jupyter-widgets/base",
      "model_module_version": "1.2.0",
      "model_name": "LayoutModel",
      "state": {
       "visibility": "hidden"
      }
     },
     "2fb3df621748477a9a71770b62ba2114": {
      "model_module": "@jupyter-widgets/controls",
      "model_module_version": "1.5.0",
      "model_name": "HTMLModel",
      "state": {
       "layout": "IPY_MODEL_4a63985ccb894fdb855346439ff070ce",
       "style": "IPY_MODEL_4a72a99ba7454246a270df7f2696cd33",
       "value": " 297/298 [00:05&lt;00:00, 55.78it/s]"
      }
     },
     "301b44f94e59427090f144e7a5016050": {
      "model_module": "@jupyter-widgets/controls",
      "model_module_version": "1.5.0",
      "model_name": "DescriptionStyleModel",
      "state": {
       "description_width": ""
      }
     },
     "306caee61542437e9f9f5b170359f940": {
      "model_module": "@jupyter-widgets/controls",
      "model_module_version": "1.5.0",
      "model_name": "HTMLModel",
      "state": {
       "layout": "IPY_MODEL_3d980efa6c4c41a6b01bbd335cf473f5",
       "style": "IPY_MODEL_90fc4c6cc5f44bf28f9a3f70d9724aa5",
       "value": " 145/145 [00:02&lt;00:00, 59.19it/s]"
      }
     },
     "30ad344ab3374762a0d456a1ad3f3433": {
      "model_module": "@jupyter-widgets/base",
      "model_module_version": "1.2.0",
      "model_name": "LayoutModel",
      "state": {}
     },
     "314ce71ebccb42008f246ebda5ba3e8d": {
      "model_module": "@jupyter-widgets/base",
      "model_module_version": "1.2.0",
      "model_name": "LayoutModel",
      "state": {}
     },
     "3168e0379e684260ad33fecefd50dd28": {
      "model_module": "@jupyter-widgets/base",
      "model_module_version": "1.2.0",
      "model_name": "LayoutModel",
      "state": {}
     },
     "317c370f33b94e0fac5d9fe7343867d9": {
      "model_module": "@jupyter-widgets/controls",
      "model_module_version": "1.5.0",
      "model_name": "HTMLModel",
      "state": {
       "layout": "IPY_MODEL_ff6aca03015744c19712a5ed1f292121",
       "style": "IPY_MODEL_66621fe78ab949ae9de2c623df657d2f",
       "value": " 175/179 [00:02&lt;00:00, 62.07it/s]"
      }
     },
     "319032d0cd10478781f7264b18eae723": {
      "model_module": "@jupyter-widgets/base",
      "model_module_version": "1.2.0",
      "model_name": "LayoutModel",
      "state": {}
     },
     "319459a896304021b3e1ad4982ab7386": {
      "model_module": "@jupyter-widgets/controls",
      "model_module_version": "1.5.0",
      "model_name": "HTMLModel",
      "state": {
       "layout": "IPY_MODEL_73e8bf95812b4bd48c9660cfe0842285",
       "style": "IPY_MODEL_1c90493d73eb4835b93687261b7eb27c",
       "value": " 299/300 [00:05&lt;00:00, 55.36it/s]"
      }
     },
     "31a56a0cff624046a280e0988b170f3b": {
      "model_module": "@jupyter-widgets/base",
      "model_module_version": "1.2.0",
      "model_name": "LayoutModel",
      "state": {}
     },
     "31d817a8fd0147ba95056b7d6cab3d7f": {
      "model_module": "@jupyter-widgets/controls",
      "model_module_version": "1.5.0",
      "model_name": "HTMLModel",
      "state": {
       "layout": "IPY_MODEL_0ed28717b2aa4018b19b26341ef9ac85",
       "style": "IPY_MODEL_889b1682e06647caacb900eea0098128",
       "value": "no (4): 100%"
      }
     },
     "31fa83fcf5a24e739fa59cff43eef885": {
      "model_module": "@jupyter-widgets/controls",
      "model_module_version": "1.5.0",
      "model_name": "FloatProgressModel",
      "state": {
       "layout": "IPY_MODEL_e7616ac1abff4b57ae47f905b2166f51",
       "max": 269,
       "style": "IPY_MODEL_ca1d505556914fb8a8c90071381c9c51",
       "value": 269
      }
     },
     "32080393cd8f41e8bf7b6346087f1fc6": {
      "model_module": "@jupyter-widgets/controls",
      "model_module_version": "1.5.0",
      "model_name": "HTMLModel",
      "state": {
       "layout": "IPY_MODEL_ffb8f0c70b3c4f2296b3ac7f3c8cbe16",
       "style": "IPY_MODEL_477df18a02ab43c08faddd5f49f929f6",
       "value": "Checking: 100%"
      }
     },
     "3235073f563b4ed7b2cbc15fa88bc42e": {
      "model_module": "@jupyter-widgets/controls",
      "model_module_version": "1.5.0",
      "model_name": "FloatProgressModel",
      "state": {
       "layout": "IPY_MODEL_966d3aff8e5f4459b662090e57132a40",
       "max": 1000,
       "style": "IPY_MODEL_6f483f7d3b6d43ebbd7c5e9b37758293",
       "value": 1000
      }
     },
     "3241a6785f064436a5d599883f6d6dc5": {
      "model_module": "@jupyter-widgets/controls",
      "model_module_version": "1.5.0",
      "model_name": "ProgressStyleModel",
      "state": {
       "description_width": ""
      }
     },
     "325f30deffbc4c089d89a788a78c90b8": {
      "model_module": "@jupyter-widgets/controls",
      "model_module_version": "1.5.0",
      "model_name": "DescriptionStyleModel",
      "state": {
       "description_width": ""
      }
     },
     "327dba0d242045f19296f35d52fd341f": {
      "model_module": "@jupyter-widgets/base",
      "model_module_version": "1.2.0",
      "model_name": "LayoutModel",
      "state": {}
     },
     "3282f9f8467c4613a7bd64912e34f872": {
      "model_module": "@jupyter-widgets/base",
      "model_module_version": "1.2.0",
      "model_name": "LayoutModel",
      "state": {}
     },
     "33028aabcb9b4301b43c2308533d0bc2": {
      "model_module": "@jupyter-widgets/controls",
      "model_module_version": "1.5.0",
      "model_name": "HTMLModel",
      "state": {
       "layout": "IPY_MODEL_f7d969507d5c4458ad8c1deb2ab583f1",
       "style": "IPY_MODEL_f3145d7905b24978b238c510e4431b67",
       "value": "on (4): 100%"
      }
     },
     "3302eab131644a27a2e67c287e382f8d": {
      "model_module": "@jupyter-widgets/base",
      "model_module_version": "1.2.0",
      "model_name": "LayoutModel",
      "state": {
       "visibility": "hidden"
      }
     },
     "3322cae4cfc645d7ba12c3f34b318600": {
      "model_module": "@jupyter-widgets/controls",
      "model_module_version": "1.5.0",
      "model_name": "HTMLModel",
      "state": {
       "layout": "IPY_MODEL_b7b9ce110f2044dd93964d34aea1cfbd",
       "style": "IPY_MODEL_558fdd4a0dfa42848bc13beae77fdf3f",
       "value": "dog (4): 100%"
      }
     },
     "332609c63d3446998e98838ac8092316": {
      "model_module": "@jupyter-widgets/controls",
      "model_module_version": "1.5.0",
      "model_name": "FloatProgressModel",
      "state": {
       "layout": "IPY_MODEL_c7f140aa62b747cf805dacca08100d8a",
       "max": 141,
       "style": "IPY_MODEL_631374b5410d4a62ae46e4a08060c33f",
       "value": 141
      }
     },
     "33505c19062d4e778002cd7d042a37b8": {
      "model_module": "@jupyter-widgets/controls",
      "model_module_version": "1.5.0",
      "model_name": "DescriptionStyleModel",
      "state": {
       "description_width": ""
      }
     },
     "335f337636bf4c22bbaadfdedcf5ba43": {
      "model_module": "@jupyter-widgets/controls",
      "model_module_version": "1.5.0",
      "model_name": "FloatProgressModel",
      "state": {
       "layout": "IPY_MODEL_f0b0a7cf3fc544219f414f043a61700e",
       "max": 1000,
       "style": "IPY_MODEL_47e951fc4a724bdca7ac958ba049aa15",
       "value": 1000
      }
     },
     "33968f0aed4e49dca2d7f504b3da5141": {
      "model_module": "@jupyter-widgets/controls",
      "model_module_version": "1.5.0",
      "model_name": "ProgressStyleModel",
      "state": {
       "description_width": ""
      }
     },
     "33c81940c361494989d7c2bea242aea4": {
      "model_module": "@jupyter-widgets/controls",
      "model_module_version": "1.5.0",
      "model_name": "HTMLModel",
      "state": {
       "layout": "IPY_MODEL_9c0cd951e0b44745b2ba23e025532d90",
       "style": "IPY_MODEL_f358911f3f3e4b03a1b224eea96ec118",
       "value": "sheila (4):  98%"
      }
     },
     "33dd4fe68f164f01968868aec28c4df5": {
      "model_module": "@jupyter-widgets/base",
      "model_module_version": "1.2.0",
      "model_name": "LayoutModel",
      "state": {}
     },
     "33ed578e177f43fdb888fefd5f8b7676": {
      "model_module": "@jupyter-widgets/controls",
      "model_module_version": "1.5.0",
      "model_name": "HTMLModel",
      "state": {
       "layout": "IPY_MODEL_f3877bf485f24682b2b4f4f9ed635be2",
       "style": "IPY_MODEL_d3b9c29bad4c46d18d104b31600b4068",
       "value": " 3723/3727 [01:49&lt;00:00, 36.43it/s]"
      }
     },
     "33fa39ecb45a418fa329413fb081bac4": {
      "model_module": "@jupyter-widgets/base",
      "model_module_version": "1.2.0",
      "model_name": "LayoutModel",
      "state": {}
     },
     "343e201c61d0401ca07b9f09e13d5fa2": {
      "model_module": "@jupyter-widgets/base",
      "model_module_version": "1.2.0",
      "model_name": "LayoutModel",
      "state": {}
     },
     "3479a0e9a1da4511bca56001e3dfaf81": {
      "model_module": "@jupyter-widgets/base",
      "model_module_version": "1.2.0",
      "model_name": "LayoutModel",
      "state": {
       "visibility": "hidden"
      }
     },
     "348b8027bc4b4022a7cf803549680a30": {
      "model_module": "@jupyter-widgets/base",
      "model_module_version": "1.2.0",
      "model_name": "LayoutModel",
      "state": {}
     },
     "34c91b83117d4d7d894bc0788a7a9704": {
      "model_module": "@jupyter-widgets/controls",
      "model_module_version": "1.5.0",
      "model_name": "ProgressStyleModel",
      "state": {
       "description_width": ""
      }
     },
     "34d32b15ab3f4e27a492a84257186bda": {
      "model_module": "@jupyter-widgets/base",
      "model_module_version": "1.2.0",
      "model_name": "LayoutModel",
      "state": {}
     },
     "351391392d01459e9a322a5b4fae0a07": {
      "model_module": "@jupyter-widgets/controls",
      "model_module_version": "1.5.0",
      "model_name": "HTMLModel",
      "state": {
       "layout": "IPY_MODEL_112d67343d424186b2f9bb88963f54fb",
       "style": "IPY_MODEL_f683a5af93a34b8684a7f3e69ac8809a",
       "value": "bed (4): 100%"
      }
     },
     "35608d16f91a45d48577d87217b6066d": {
      "model_module": "@jupyter-widgets/controls",
      "model_module_version": "1.5.0",
      "model_name": "DescriptionStyleModel",
      "state": {
       "description_width": ""
      }
     },
     "357e98a2418b4f02a42a7f1c3431898b": {
      "model_module": "@jupyter-widgets/controls",
      "model_module_version": "1.5.0",
      "model_name": "DescriptionStyleModel",
      "state": {
       "description_width": ""
      }
     },
     "35883864a2864db1abb2029a632f5366": {
      "model_module": "@jupyter-widgets/controls",
      "model_module_version": "1.5.0",
      "model_name": "DescriptionStyleModel",
      "state": {
       "description_width": ""
      }
     },
     "35e1d3cbbb6a4979a4302cf3e6562aca": {
      "model_module": "@jupyter-widgets/controls",
      "model_module_version": "1.5.0",
      "model_name": "DescriptionStyleModel",
      "state": {
       "description_width": ""
      }
     },
     "36aace59119942df84fc15e2f7dca7d7": {
      "model_module": "@jupyter-widgets/controls",
      "model_module_version": "1.5.0",
      "model_name": "HTMLModel",
      "state": {
       "layout": "IPY_MODEL_85f4f997975b44f4928a918845a038bd",
       "style": "IPY_MODEL_ebde4cd1d5d6467d98b7e0321d5d3f9d",
       "value": " 6/6 [00:48&lt;00:00,  7.33s/it]"
      }
     },
     "36c7e85058844cb7bba4bf2e5aa649d6": {
      "model_module": "@jupyter-widgets/controls",
      "model_module_version": "1.5.0",
      "model_name": "ProgressStyleModel",
      "state": {
       "description_width": ""
      }
     },
     "36de89649b484dfb97d29fe9f976f898": {
      "model_module": "@jupyter-widgets/base",
      "model_module_version": "1.2.0",
      "model_name": "LayoutModel",
      "state": {
       "visibility": "hidden"
      }
     },
     "36edc4b8b0504430bd0aa4f117eadb0e": {
      "model_module": "@jupyter-widgets/controls",
      "model_module_version": "1.5.0",
      "model_name": "ProgressStyleModel",
      "state": {
       "description_width": ""
      }
     },
     "370d920d33ee44599cf3651f21d78cac": {
      "model_module": "@jupyter-widgets/controls",
      "model_module_version": "1.5.0",
      "model_name": "HTMLModel",
      "state": {
       "layout": "IPY_MODEL_78a74985d73844d09245db2ed4ebef7a",
       "style": "IPY_MODEL_89780f5ed85a4ca0b9d0053f38d4978b",
       "value": " 3744/3745 [02:43&lt;00:00, 14.44it/s]"
      }
     },
     "370f836cafa74828b9c12f5e44807a2c": {
      "model_module": "@jupyter-widgets/controls",
      "model_module_version": "1.5.0",
      "model_name": "ProgressStyleModel",
      "state": {
       "description_width": ""
      }
     },
     "371559247f20459493e452a2b0b0f3d1": {
      "model_module": "@jupyter-widgets/base",
      "model_module_version": "1.2.0",
      "model_name": "LayoutModel",
      "state": {}
     },
     "37187b1a4cbc4b18a59b3dce4af20cb9": {
      "model_module": "@jupyter-widgets/controls",
      "model_module_version": "1.5.0",
      "model_name": "ProgressStyleModel",
      "state": {
       "description_width": ""
      }
     },
     "372d26bfce7a4547998980938aed7d5e": {
      "model_module": "@jupyter-widgets/controls",
      "model_module_version": "1.5.0",
      "model_name": "ProgressStyleModel",
      "state": {
       "description_width": ""
      }
     },
     "3752f5b8d2304ec69a839b13f3cfc9d8": {
      "model_module": "@jupyter-widgets/controls",
      "model_module_version": "1.5.0",
      "model_name": "DescriptionStyleModel",
      "state": {
       "description_width": ""
      }
     },
     "3776d80589974e8ebc470295c6d2e7b2": {
      "model_module": "@jupyter-widgets/base",
      "model_module_version": "1.2.0",
      "model_name": "LayoutModel",
      "state": {}
     },
     "37882075d3ef46e0b9d66fbbbbe42d5f": {
      "model_module": "@jupyter-widgets/controls",
      "model_module_version": "1.5.0",
      "model_name": "HTMLModel",
      "state": {
       "layout": "IPY_MODEL_0a0c61597cb3400aab579805348f212b",
       "style": "IPY_MODEL_48641cc73b9142f8bcbb0961d6bf1132",
       "value": " 97/98 [00:01&lt;00:00, 53.86it/s]"
      }
     },
     "37982ff73aa24b7a95f4fb29a71afab2": {
      "model_module": "@jupyter-widgets/controls",
      "model_module_version": "1.5.0",
      "model_name": "HTMLModel",
      "state": {
       "layout": "IPY_MODEL_d3cc015e75054e3eacde574aff777687",
       "style": "IPY_MODEL_8a1d81feab3c4958a33d569333859d35",
       "value": "stop (4):  99%"
      }
     },
     "37d3ca728a4e442c8bf3875c1af2676a": {
      "model_module": "@jupyter-widgets/base",
      "model_module_version": "1.2.0",
      "model_name": "LayoutModel",
      "state": {}
     },
     "37f54d59fbd743cea2d46e55498f116b": {
      "model_module": "@jupyter-widgets/controls",
      "model_module_version": "1.5.0",
      "model_name": "ProgressStyleModel",
      "state": {
       "description_width": ""
      }
     },
     "383947a67699429882d71f6465595f5f": {
      "model_module": "@jupyter-widgets/controls",
      "model_module_version": "1.5.0",
      "model_name": "HTMLModel",
      "state": {
       "layout": "IPY_MODEL_977aa73d45a44077b74a6bd90ed6a980",
       "style": "IPY_MODEL_96ec65a226a243b0a04c79038e5b264f",
       "value": " 137/142 [00:02&lt;00:00, 60.83it/s]"
      }
     },
     "384224741adb43b598514ad5b1eb38ad": {
      "model_module": "@jupyter-widgets/base",
      "model_module_version": "1.2.0",
      "model_name": "LayoutModel",
      "state": {}
     },
     "38827d79b02541a1b08aacdf25bf04b8": {
      "model_module": "@jupyter-widgets/base",
      "model_module_version": "1.2.0",
      "model_name": "LayoutModel",
      "state": {
       "visibility": "hidden"
      }
     },
     "3920bdbe3ce84af79218463a338d3713": {
      "model_module": "@jupyter-widgets/controls",
      "model_module_version": "1.5.0",
      "model_name": "ProgressStyleModel",
      "state": {
       "description_width": ""
      }
     },
     "392cb1863ef54289874d9a0e391513f8": {
      "model_module": "@jupyter-widgets/controls",
      "model_module_version": "1.5.0",
      "model_name": "ProgressStyleModel",
      "state": {
       "description_width": ""
      }
     },
     "392fdec495154308a770524ebec5921f": {
      "model_module": "@jupyter-widgets/controls",
      "model_module_version": "1.5.0",
      "model_name": "HTMLModel",
      "state": {
       "layout": "IPY_MODEL_7e759fafb72b4d13b84427a0c98b2c9d",
       "style": "IPY_MODEL_e010c634726c449caf7b96c6c00d55b3",
       "value": " 303/309 [00:04&lt;00:00, 63.25it/s]"
      }
     },
     "39300a4ceb014d3994eb0b2812d20a56": {
      "model_module": "@jupyter-widgets/controls",
      "model_module_version": "1.5.0",
      "model_name": "HTMLModel",
      "state": {
       "layout": "IPY_MODEL_f6d8f67bfce840128c8bf8ffdcb43b1d",
       "style": "IPY_MODEL_7365bcdf2c1b4a28a81b8ff39b54242e",
       "value": "zero (4):  99%"
      }
     },
     "3950dd6d777c4ee38844f7664850d93c": {
      "model_module": "@jupyter-widgets/controls",
      "model_module_version": "1.5.0",
      "model_name": "HTMLModel",
      "state": {
       "layout": "IPY_MODEL_87cac04b397c4bb5827ed45d99e9ede1",
       "style": "IPY_MODEL_716a7b3694ca4e32a3ca60d7b10497b9",
       "value": " 2052/2054 [00:50&lt;00:00, 41.67it/s]"
      }
     },
     "397c8d66abed419f91915ab149e593ba": {
      "model_module": "@jupyter-widgets/controls",
      "model_module_version": "1.5.0",
      "model_name": "DescriptionStyleModel",
      "state": {
       "description_width": ""
      }
     },
     "3994824622f1480095a0805b699d3e3b": {
      "model_module": "@jupyter-widgets/base",
      "model_module_version": "1.2.0",
      "model_name": "LayoutModel",
      "state": {
       "visibility": "hidden"
      }
     },
     "39c7e547b0c54a558007d90bc36c606b": {
      "model_module": "@jupyter-widgets/base",
      "model_module_version": "1.2.0",
      "model_name": "LayoutModel",
      "state": {}
     },
     "39cf7d57cf9d41679a03c9cccec9a14c": {
      "model_module": "@jupyter-widgets/base",
      "model_module_version": "1.2.0",
      "model_name": "LayoutModel",
      "state": {}
     },
     "39de96f871e4491a900cbb5a6b95540b": {
      "model_module": "@jupyter-widgets/controls",
      "model_module_version": "1.5.0",
      "model_name": "HTMLModel",
      "state": {
       "layout": "IPY_MODEL_a0907c84ff49490c98033653baf48ddb",
       "style": "IPY_MODEL_7329b973b73847049cadbdf07316ae41",
       "value": "learn (4):  97%"
      }
     },
     "39f2af059f65420ca339bcf57190727d": {
      "model_module": "@jupyter-widgets/controls",
      "model_module_version": "1.5.0",
      "model_name": "DescriptionStyleModel",
      "state": {
       "description_width": ""
      }
     },
     "39fb5e6121d44a3287a428344b4659cd": {
      "model_module": "@jupyter-widgets/controls",
      "model_module_version": "1.5.0",
      "model_name": "FloatProgressModel",
      "state": {
       "layout": "IPY_MODEL_2c7a59dc0671427ea90b52559b3b68c0",
       "max": 1000,
       "style": "IPY_MODEL_9a87961670d34e5bad6129fc64f92b9f",
       "value": 1000
      }
     },
     "3a393e4a53234a7ea9e8a62f3628fb85": {
      "model_module": "@jupyter-widgets/base",
      "model_module_version": "1.2.0",
      "model_name": "LayoutModel",
      "state": {
       "visibility": "hidden"
      }
     },
     "3a399db1cdc14167a41c02e81e5b906f": {
      "model_module": "@jupyter-widgets/base",
      "model_module_version": "1.2.0",
      "model_name": "LayoutModel",
      "state": {
       "visibility": "hidden"
      }
     },
     "3a44937e838345ccaa9563be0b01bdc1": {
      "model_module": "@jupyter-widgets/controls",
      "model_module_version": "1.5.0",
      "model_name": "DescriptionStyleModel",
      "state": {
       "description_width": ""
      }
     },
     "3a5a7ad92f4646f0aa4453e5bc39405f": {
      "model_module": "@jupyter-widgets/base",
      "model_module_version": "1.2.0",
      "model_name": "LayoutModel",
      "state": {}
     },
     "3a6f005d29594c6fa10289e38dd6c395": {
      "model_module": "@jupyter-widgets/base",
      "model_module_version": "1.2.0",
      "model_name": "LayoutModel",
      "state": {}
     },
     "3a8060dc8ee04044a6b136200277254f": {
      "model_module": "@jupyter-widgets/controls",
      "model_module_version": "1.5.0",
      "model_name": "DescriptionStyleModel",
      "state": {
       "description_width": ""
      }
     },
     "3b4d79d3d666416c99917d83c6b1686d": {
      "model_module": "@jupyter-widgets/base",
      "model_module_version": "1.2.0",
      "model_name": "LayoutModel",
      "state": {
       "visibility": "hidden"
      }
     },
     "3b9196cdecc44cee98d18e96a6edd6ad": {
      "model_module": "@jupyter-widgets/base",
      "model_module_version": "1.2.0",
      "model_name": "LayoutModel",
      "state": {}
     },
     "3b9dabf76c4e4c799ee09c0ee3401e68": {
      "model_module": "@jupyter-widgets/base",
      "model_module_version": "1.2.0",
      "model_name": "LayoutModel",
      "state": {
       "visibility": "hidden"
      }
     },
     "3b9e51578cde4d3fbc124e0ec74cd29f": {
      "model_module": "@jupyter-widgets/controls",
      "model_module_version": "1.5.0",
      "model_name": "DescriptionStyleModel",
      "state": {
       "description_width": ""
      }
     },
     "3bb5ebf18b5d42439ccec3efba93a74a": {
      "model_module": "@jupyter-widgets/base",
      "model_module_version": "1.2.0",
      "model_name": "LayoutModel",
      "state": {}
     },
     "3bbeb6c908514e8690fe581c13a02898": {
      "model_module": "@jupyter-widgets/controls",
      "model_module_version": "1.5.0",
      "model_name": "ProgressStyleModel",
      "state": {
       "description_width": ""
      }
     },
     "3bcb4f0d4da048ee890898e38661dfb9": {
      "model_module": "@jupyter-widgets/controls",
      "model_module_version": "1.5.0",
      "model_name": "HTMLModel",
      "state": {
       "layout": "IPY_MODEL_3282f9f8467c4613a7bd64912e34f872",
       "style": "IPY_MODEL_76eeef0efdb54452b357dace709d8070",
       "value": "stop (4): 100%"
      }
     },
     "3be43ba8cad54f49bcefda89e8c167b0": {
      "model_module": "@jupyter-widgets/controls",
      "model_module_version": "1.5.0",
      "model_name": "ProgressStyleModel",
      "state": {
       "description_width": ""
      }
     },
     "3c090fa3f81249fe82dcdc5acb90db7d": {
      "model_module": "@jupyter-widgets/controls",
      "model_module_version": "1.5.0",
      "model_name": "HTMLModel",
      "state": {
       "layout": "IPY_MODEL_eb87adc4d89242638cda1f0f4ed34956",
       "style": "IPY_MODEL_325f30deffbc4c089d89a788a78c90b8",
       "value": " 295/297 [00:05&lt;00:00, 54.58it/s]"
      }
     },
     "3c157946c68046ebac8d95dd3e9757cc": {
      "model_module": "@jupyter-widgets/controls",
      "model_module_version": "1.5.0",
      "model_name": "FloatProgressModel",
      "state": {
       "bar_style": "success",
       "layout": "IPY_MODEL_ed5c700b226d4df5bda31af2cb4d0ee9",
       "max": 6,
       "style": "IPY_MODEL_d118c06add9544679ad3cb3d88d994b0",
       "value": 6
      }
     },
     "3c1e620ce4d44e55a7a9ef141ac86f88": {
      "model_module": "@jupyter-widgets/base",
      "model_module_version": "1.2.0",
      "model_name": "LayoutModel",
      "state": {}
     },
     "3c871caa4ebc43a48163092caf2149ed": {
      "model_module": "@jupyter-widgets/base",
      "model_module_version": "1.2.0",
      "model_name": "LayoutModel",
      "state": {
       "visibility": "hidden"
      }
     },
     "3c892754dda24bcb92eb89d18fb8c916": {
      "model_module": "@jupyter-widgets/base",
      "model_module_version": "1.2.0",
      "model_name": "LayoutModel",
      "state": {
       "visibility": "hidden"
      }
     },
     "3cb6d1ac422b4f339a679090dcec0d1d": {
      "model_module": "@jupyter-widgets/controls",
      "model_module_version": "1.5.0",
      "model_name": "FloatProgressModel",
      "state": {
       "layout": "IPY_MODEL_a0d3d69f711d4fd8a67412731416812f",
       "max": 4700,
       "style": "IPY_MODEL_ea64726e80c3434d84e85da06f6568ab",
       "value": 4700
      }
     },
     "3ce3d2ba90ec4d8c81042952c27e9598": {
      "model_module": "@jupyter-widgets/base",
      "model_module_version": "1.2.0",
      "model_name": "LayoutModel",
      "state": {}
     },
     "3d0bfff598ac42618aced699414be7df": {
      "model_module": "@jupyter-widgets/controls",
      "model_module_version": "1.5.0",
      "model_name": "DescriptionStyleModel",
      "state": {
       "description_width": ""
      }
     },
     "3d980efa6c4c41a6b01bbd335cf473f5": {
      "model_module": "@jupyter-widgets/base",
      "model_module_version": "1.2.0",
      "model_name": "LayoutModel",
      "state": {}
     },
     "3d9e9f1a2e794143862ec4c416e9bfed": {
      "model_module": "@jupyter-widgets/controls",
      "model_module_version": "1.5.0",
      "model_name": "ProgressStyleModel",
      "state": {
       "description_width": ""
      }
     },
     "3dcd97517f89489fb697c2ada64183a2": {
      "model_module": "@jupyter-widgets/controls",
      "model_module_version": "1.5.0",
      "model_name": "FloatProgressModel",
      "state": {
       "layout": "IPY_MODEL_8bdb230268f04b20b4d383c71a292acc",
       "max": 297,
       "style": "IPY_MODEL_4ec3d3bbfa2a4facbebcfdf0bd6fcc26",
       "value": 297
      }
     },
     "3e3f8236983140b681c4901486799fa4": {
      "model_module": "@jupyter-widgets/base",
      "model_module_version": "1.2.0",
      "model_name": "LayoutModel",
      "state": {
       "visibility": "hidden"
      }
     },
     "3e3ffaccd47e4ff3b87bd7b229af1017": {
      "model_module": "@jupyter-widgets/base",
      "model_module_version": "1.2.0",
      "model_name": "LayoutModel",
      "state": {}
     },
     "3e52af787658485c9dddd5d5c24a4b06": {
      "model_module": "@jupyter-widgets/base",
      "model_module_version": "1.2.0",
      "model_name": "LayoutModel",
      "state": {}
     },
     "3eae3b93c42643d9920551c8626ad00a": {
      "model_module": "@jupyter-widgets/base",
      "model_module_version": "1.2.0",
      "model_name": "LayoutModel",
      "state": {}
     },
     "3ed5cf2a7f85433abfe0179578a0f07e": {
      "model_module": "@jupyter-widgets/controls",
      "model_module_version": "1.5.0",
      "model_name": "ProgressStyleModel",
      "state": {
       "description_width": ""
      }
     },
     "3f2576e460d34493821b15dd91c255a4": {
      "model_module": "@jupyter-widgets/base",
      "model_module_version": "1.2.0",
      "model_name": "LayoutModel",
      "state": {}
     },
     "3f73a2b3a9414b2d924b383b1179b57f": {
      "model_module": "@jupyter-widgets/base",
      "model_module_version": "1.2.0",
      "model_name": "LayoutModel",
      "state": {}
     },
     "3f863d6c1b024d78881defe6b3dcc6ff": {
      "model_module": "@jupyter-widgets/controls",
      "model_module_version": "1.5.0",
      "model_name": "ProgressStyleModel",
      "state": {
       "description_width": ""
      }
     },
     "3f8d969d1c654e2993a9990af7e706c0": {
      "model_module": "@jupyter-widgets/base",
      "model_module_version": "1.2.0",
      "model_name": "LayoutModel",
      "state": {}
     },
     "3fda6a1c083243eebfc22e82698be11f": {
      "model_module": "@jupyter-widgets/controls",
      "model_module_version": "1.5.0",
      "model_name": "HTMLModel",
      "state": {
       "layout": "IPY_MODEL_6e3eb97b85e94e388609d45d995cc991",
       "style": "IPY_MODEL_96a5daf60ca442a19c38eac4c4ac3549",
       "value": "Checking: 100%"
      }
     },
     "40490c074abf4906a13200d7ee11b5cb": {
      "model_module": "@jupyter-widgets/controls",
      "model_module_version": "1.5.0",
      "model_name": "FloatProgressModel",
      "state": {
       "layout": "IPY_MODEL_cef07774c4ef4e55af2bc95936f94b1d",
       "max": 232,
       "style": "IPY_MODEL_557792a267314b1b89e97a823db05061",
       "value": 232
      }
     },
     "4067e2aebb924b69a43cbb2021ebe7e2": {
      "model_module": "@jupyter-widgets/controls",
      "model_module_version": "1.5.0",
      "model_name": "HTMLModel",
      "state": {
       "layout": "IPY_MODEL_f2c2ec3a6f5349eeaa6ee68664a74f0f",
       "style": "IPY_MODEL_942c35bd594d40129f20a1764c23c0dd",
       "value": "Checking: 100%"
      }
     },
     "4067ee32ce7a425f8155f35972681b26": {
      "model_module": "@jupyter-widgets/base",
      "model_module_version": "1.2.0",
      "model_name": "LayoutModel",
      "state": {}
     },
     "40d3744474414c74955119f347f3d46d": {
      "model_module": "@jupyter-widgets/controls",
      "model_module_version": "1.5.0",
      "model_name": "DescriptionStyleModel",
      "state": {
       "description_width": ""
      }
     },
     "40fb5ebab4704f93a41cac5f7080b87e": {
      "model_module": "@jupyter-widgets/controls",
      "model_module_version": "1.5.0",
      "model_name": "DescriptionStyleModel",
      "state": {
       "description_width": ""
      }
     },
     "410adb1de4f74868a4c08947321357bc": {
      "model_module": "@jupyter-widgets/base",
      "model_module_version": "1.2.0",
      "model_name": "LayoutModel",
      "state": {
       "visibility": "hidden"
      }
     },
     "410c37d3ec38428db7af6a6b582b21fd": {
      "model_module": "@jupyter-widgets/controls",
      "model_module_version": "1.5.0",
      "model_name": "DescriptionStyleModel",
      "state": {
       "description_width": ""
      }
     },
     "4132e6c0c12c411ebadd3bac10dbdf05": {
      "model_module": "@jupyter-widgets/controls",
      "model_module_version": "1.5.0",
      "model_name": "DescriptionStyleModel",
      "state": {
       "description_width": ""
      }
     },
     "415121494afc4609a27bfb8441bb6fd8": {
      "model_module": "@jupyter-widgets/controls",
      "model_module_version": "1.5.0",
      "model_name": "FloatProgressModel",
      "state": {
       "layout": "IPY_MODEL_3f8d969d1c654e2993a9990af7e706c0",
       "max": 2014,
       "style": "IPY_MODEL_77a22326a7254e4d855e64f3dcfd7279",
       "value": 2014
      }
     },
     "4158ed03b2564ea19d5811946a501fb7": {
      "model_module": "@jupyter-widgets/controls",
      "model_module_version": "1.5.0",
      "model_name": "DescriptionStyleModel",
      "state": {
       "description_width": ""
      }
     },
     "41872820e8d041f1aa0d5b500268573e": {
      "model_module": "@jupyter-widgets/base",
      "model_module_version": "1.2.0",
      "model_name": "LayoutModel",
      "state": {
       "visibility": "hidden"
      }
     },
     "4193f3d0bf5642c08b580f2248fed11a": {
      "model_module": "@jupyter-widgets/controls",
      "model_module_version": "1.5.0",
      "model_name": "DescriptionStyleModel",
      "state": {
       "description_width": ""
      }
     },
     "41bed1b031e94eda86eadfab3ce5dbd0": {
      "model_module": "@jupyter-widgets/base",
      "model_module_version": "1.2.0",
      "model_name": "LayoutModel",
      "state": {
       "visibility": "hidden"
      }
     },
     "41bf5448b7af494facecbe60a6dec3c2": {
      "model_module": "@jupyter-widgets/base",
      "model_module_version": "1.2.0",
      "model_name": "LayoutModel",
      "state": {}
     },
     "421267fa2d8f4835871ad13b1ffca531": {
      "model_module": "@jupyter-widgets/base",
      "model_module_version": "1.2.0",
      "model_name": "LayoutModel",
      "state": {}
     },
     "4228f97a41674d87acde8fc12efc0f8d": {
      "model_module": "@jupyter-widgets/controls",
      "model_module_version": "1.5.0",
      "model_name": "DescriptionStyleModel",
      "state": {
       "description_width": ""
      }
     },
     "423245289d48475586b8edcfcc274ff3": {
      "model_module": "@jupyter-widgets/base",
      "model_module_version": "1.2.0",
      "model_name": "LayoutModel",
      "state": {}
     },
     "4239917db6c04fc4b131541870c3d24f": {
      "model_module": "@jupyter-widgets/controls",
      "model_module_version": "1.5.0",
      "model_name": "FloatProgressModel",
      "state": {
       "layout": "IPY_MODEL_b1245d19340f455eb1a5eea156c357aa",
       "max": 4680,
       "style": "IPY_MODEL_12bc72fe7a3445d18f1f85ce65f7ad1d",
       "value": 4680
      }
     },
     "423dd6c8b57d4a31a6345a2492581de8": {
      "model_module": "@jupyter-widgets/controls",
      "model_module_version": "1.5.0",
      "model_name": "FloatProgressModel",
      "state": {
       "layout": "IPY_MODEL_c0593c5d1b6a4c4e90923e7ae531b679",
       "max": 1118,
       "style": "IPY_MODEL_c836b0fa2d2e44278ddce4774b06f56d",
       "value": 1118
      }
     },
     "4242632868f14e32be3cf22466f976e9": {
      "model_module": "@jupyter-widgets/base",
      "model_module_version": "1.2.0",
      "model_name": "LayoutModel",
      "state": {}
     },
     "42661ce69c80418886c3159e7358a6dc": {
      "model_module": "@jupyter-widgets/base",
      "model_module_version": "1.2.0",
      "model_name": "LayoutModel",
      "state": {}
     },
     "4271c1381d144758b47f19a2a526f72a": {
      "model_module": "@jupyter-widgets/base",
      "model_module_version": "1.2.0",
      "model_name": "LayoutModel",
      "state": {}
     },
     "4294ff191942487f857daf701b5be45c": {
      "model_module": "@jupyter-widgets/controls",
      "model_module_version": "1.5.0",
      "model_name": "ProgressStyleModel",
      "state": {
       "description_width": ""
      }
     },
     "434ee47eec284428b7119d70b458c1b2": {
      "model_module": "@jupyter-widgets/base",
      "model_module_version": "1.2.0",
      "model_name": "LayoutModel",
      "state": {
       "visibility": "hidden"
      }
     },
     "43694d6680ad440a9038dd58f74346a5": {
      "model_module": "@jupyter-widgets/controls",
      "model_module_version": "1.5.0",
      "model_name": "DescriptionStyleModel",
      "state": {
       "description_width": ""
      }
     },
     "43c5113804ab4d8bb87264f0401aba47": {
      "model_module": "@jupyter-widgets/base",
      "model_module_version": "1.2.0",
      "model_name": "LayoutModel",
      "state": {}
     },
     "43c7e1f964aa4f44b0e96791c003652c": {
      "model_module": "@jupyter-widgets/controls",
      "model_module_version": "1.5.0",
      "model_name": "FloatProgressModel",
      "state": {
       "layout": "IPY_MODEL_904a952e2a22433b8415c2491b26aecb",
       "max": 308,
       "style": "IPY_MODEL_6d5c047981524c1188825aa94882b2a7",
       "value": 308
      }
     },
     "43cb319783474caab245cf4cc3221194": {
      "model_module": "@jupyter-widgets/controls",
      "model_module_version": "1.5.0",
      "model_name": "FloatProgressModel",
      "state": {
       "layout": "IPY_MODEL_44e8111fa1844416af9bd7370e2cee55",
       "max": 327,
       "style": "IPY_MODEL_f9571b3eae3546ff9198c4b703ecd4bf",
       "value": 327
      }
     },
     "43d1c79905644f66b1cdb8da6eb96fcc": {
      "model_module": "@jupyter-widgets/controls",
      "model_module_version": "1.5.0",
      "model_name": "HTMLModel",
      "state": {
       "layout": "IPY_MODEL_50eaa1507bcc401ab4e7561c030651d9",
       "style": "IPY_MODEL_f732d82e226144b4850becbcd53336df",
       "value": " 1279/1285 [00:20&lt;00:00, 60.73it/s]"
      }
     },
     "43e51b32e8594ff28cdafbb0f92348ee": {
      "model_module": "@jupyter-widgets/controls",
      "model_module_version": "1.5.0",
      "model_name": "DescriptionStyleModel",
      "state": {
       "description_width": ""
      }
     },
     "440165e2ff6b47f29e05247e908137a8": {
      "model_module": "@jupyter-widgets/controls",
      "model_module_version": "1.5.0",
      "model_name": "HTMLModel",
      "state": {
       "layout": "IPY_MODEL_a431fae5cb3e460a8a82d8e4191b7a7d",
       "style": "IPY_MODEL_fce76e53233847598b85c7c0f25b1300",
       "value": " 284/290 [00:04&lt;00:00, 63.05it/s]"
      }
     },
     "440254ff22a847fd990b285b7831492a": {
      "model_module": "@jupyter-widgets/controls",
      "model_module_version": "1.5.0",
      "model_name": "FloatProgressModel",
      "state": {
       "layout": "IPY_MODEL_39c7e547b0c54a558007d90bc36c606b",
       "max": 150,
       "style": "IPY_MODEL_da8acc1681334c7bad31b882dbeb5103",
       "value": 150
      }
     },
     "444541a747c5463c8ca08f7e0597c9bd": {
      "model_module": "@jupyter-widgets/controls",
      "model_module_version": "1.5.0",
      "model_name": "FloatProgressModel",
      "state": {
       "layout": "IPY_MODEL_bc0a30144f3a4f05adf18dc81e12aa8b",
       "max": 297,
       "style": "IPY_MODEL_9f69e0ec30ee48b2a85d818f427a1e13",
       "value": 297
      }
     },
     "44bd2f31a4fd4ff19667fd6e0baa483f": {
      "model_module": "@jupyter-widgets/controls",
      "model_module_version": "1.5.0",
      "model_name": "DescriptionStyleModel",
      "state": {
       "description_width": ""
      }
     },
     "44e8111fa1844416af9bd7370e2cee55": {
      "model_module": "@jupyter-widgets/base",
      "model_module_version": "1.2.0",
      "model_name": "LayoutModel",
      "state": {}
     },
     "4523185d96fb46b68d26b6531c6fb97b": {
      "model_module": "@jupyter-widgets/controls",
      "model_module_version": "1.5.0",
      "model_name": "HTMLModel",
      "state": {
       "layout": "IPY_MODEL_09844f47599b4f62a7c8e66a7bc2aa9a",
       "style": "IPY_MODEL_ce3a924b9ad9482f99c1127aed3cd23e",
       "value": " 154/160 [00:02&lt;00:00, 63.04it/s]"
      }
     },
     "45343d0c8d834ec4b94c340ff965efcf": {
      "model_module": "@jupyter-widgets/base",
      "model_module_version": "1.2.0",
      "model_name": "LayoutModel",
      "state": {
       "visibility": "hidden"
      }
     },
     "453a75ed63ae4efe9755d3f00533cbdf": {
      "model_module": "@jupyter-widgets/base",
      "model_module_version": "1.2.0",
      "model_name": "LayoutModel",
      "state": {}
     },
     "454a05ecc8e445578f23d3189d560a7b": {
      "model_module": "@jupyter-widgets/base",
      "model_module_version": "1.2.0",
      "model_name": "LayoutModel",
      "state": {}
     },
     "455ca9ffafaa46c0be1c3a8c5bd828c2": {
      "model_module": "@jupyter-widgets/controls",
      "model_module_version": "1.5.0",
      "model_name": "FloatProgressModel",
      "state": {
       "layout": "IPY_MODEL_e8aeee10c29e439eb22f5ad832d398af",
       "max": 921,
       "style": "IPY_MODEL_dfc64e399b164ee9ba08183c0411aa17",
       "value": 921
      }
     },
     "45613daf8ed74b38b25671b405111f61": {
      "model_module": "@jupyter-widgets/controls",
      "model_module_version": "1.5.0",
      "model_name": "DescriptionStyleModel",
      "state": {
       "description_width": ""
      }
     },
     "456d4263802945cabdac0fbd1b452ca3": {
      "model_module": "@jupyter-widgets/base",
      "model_module_version": "1.2.0",
      "model_name": "LayoutModel",
      "state": {
       "visibility": "hidden"
      }
     },
     "45a03d67b62346f18fda751ea89e7579": {
      "model_module": "@jupyter-widgets/controls",
      "model_module_version": "1.5.0",
      "model_name": "FloatProgressModel",
      "state": {
       "layout": "IPY_MODEL_26fd9cd9ca524ac4a89cfdf5aa9d069a",
       "max": 1132,
       "style": "IPY_MODEL_95118c9e8fe8473daa7d7887f92c08c7",
       "value": 1132
      }
     },
     "45c490c55ff641c6ac85f5c544d5f13f": {
      "model_module": "@jupyter-widgets/controls",
      "model_module_version": "1.5.0",
      "model_name": "FloatProgressModel",
      "state": {
       "layout": "IPY_MODEL_e3b02ff159b8404aaa05a95f809a9321",
       "max": 281,
       "style": "IPY_MODEL_7c618dbe5d154b18bdd014810316bdbc",
       "value": 281
      }
     },
     "45c8d8363af14609a1466b35d4ba7c67": {
      "model_module": "@jupyter-widgets/controls",
      "model_module_version": "1.5.0",
      "model_name": "FloatProgressModel",
      "state": {
       "layout": "IPY_MODEL_5bfa900cad7141e88e3132eb96f24101",
       "max": 1438,
       "style": "IPY_MODEL_9411799423884efb87eba1c1fa69d494",
       "value": 1438
      }
     },
     "45ca63087c1443368c664691a0da361c": {
      "model_module": "@jupyter-widgets/controls",
      "model_module_version": "1.5.0",
      "model_name": "ProgressStyleModel",
      "state": {
       "description_width": ""
      }
     },
     "4633214862ee4852a97e53708e2f461e": {
      "model_module": "@jupyter-widgets/base",
      "model_module_version": "1.2.0",
      "model_name": "LayoutModel",
      "state": {}
     },
     "4666b64558394ec196e37a41eb21bbc2": {
      "model_module": "@jupyter-widgets/controls",
      "model_module_version": "1.5.0",
      "model_name": "ProgressStyleModel",
      "state": {
       "description_width": ""
      }
     },
     "46b7cbbf60834bf4b015db3852ce7008": {
      "model_module": "@jupyter-widgets/controls",
      "model_module_version": "1.5.0",
      "model_name": "FloatProgressModel",
      "state": {
       "layout": "IPY_MODEL_83112bc5fe364889b5b9dd1affc07564",
       "max": 173,
       "style": "IPY_MODEL_45ca63087c1443368c664691a0da361c",
       "value": 173
      }
     },
     "46f73ff092994fa0b9e9641219f14088": {
      "model_module": "@jupyter-widgets/controls",
      "model_module_version": "1.5.0",
      "model_name": "FloatProgressModel",
      "state": {
       "layout": "IPY_MODEL_7154620778324747946f9349d59dbb0b",
       "max": 2064,
       "style": "IPY_MODEL_bec8821729994d968f1b21cec91e5b59",
       "value": 2064
      }
     },
     "46fe4ca70baf4dbaa4eb4da32006d7b7": {
      "model_module": "@jupyter-widgets/controls",
      "model_module_version": "1.5.0",
      "model_name": "DescriptionStyleModel",
      "state": {
       "description_width": ""
      }
     },
     "4728992252a443c0953698e8c908127b": {
      "model_module": "@jupyter-widgets/controls",
      "model_module_version": "1.5.0",
      "model_name": "HTMLModel",
      "state": {
       "layout": "IPY_MODEL_2198d68e430f4833b01ee23c58a40e13",
       "style": "IPY_MODEL_aa3003fce144464faaba9d3e7548d60a",
       "value": " 3941/3941 [01:55&lt;00:00, 39.76it/s]"
      }
     },
     "4732274638a74bf2a25ddb4e356bf03f": {
      "model_module": "@jupyter-widgets/base",
      "model_module_version": "1.2.0",
      "model_name": "LayoutModel",
      "state": {}
     },
     "477df18a02ab43c08faddd5f49f929f6": {
      "model_module": "@jupyter-widgets/controls",
      "model_module_version": "1.5.0",
      "model_name": "DescriptionStyleModel",
      "state": {
       "description_width": ""
      }
     },
     "479b813e96ec43a394738a94fbb5025b": {
      "model_module": "@jupyter-widgets/base",
      "model_module_version": "1.2.0",
      "model_name": "LayoutModel",
      "state": {}
     },
     "47e951fc4a724bdca7ac958ba049aa15": {
      "model_module": "@jupyter-widgets/controls",
      "model_module_version": "1.5.0",
      "model_name": "ProgressStyleModel",
      "state": {
       "description_width": ""
      }
     },
     "47f37a320c184941bbce6a44e377146f": {
      "model_module": "@jupyter-widgets/controls",
      "model_module_version": "1.5.0",
      "model_name": "DescriptionStyleModel",
      "state": {
       "description_width": ""
      }
     },
     "47fb66fd12af45ddaf405bbcb5a4298d": {
      "model_module": "@jupyter-widgets/controls",
      "model_module_version": "1.5.0",
      "model_name": "HTMLModel",
      "state": {
       "layout": "IPY_MODEL_b6cee6b3439847fb83fe005fc07f99a7",
       "style": "IPY_MODEL_73bda4d5d9754001996330531acfce16",
       "value": "follow (4):  96%"
      }
     },
     "480a1c5c41534a34b368000695eef8ab": {
      "model_module": "@jupyter-widgets/controls",
      "model_module_version": "1.5.0",
      "model_name": "ProgressStyleModel",
      "state": {
       "description_width": ""
      }
     },
     "483c64eb8044425a8c5a80a9cdf803f9": {
      "model_module": "@jupyter-widgets/base",
      "model_module_version": "1.2.0",
      "model_name": "LayoutModel",
      "state": {}
     },
     "48641cc73b9142f8bcbb0961d6bf1132": {
      "model_module": "@jupyter-widgets/controls",
      "model_module_version": "1.5.0",
      "model_name": "DescriptionStyleModel",
      "state": {
       "description_width": ""
      }
     },
     "48df54192bdb40ec8f2599621757ac98": {
      "model_module": "@jupyter-widgets/base",
      "model_module_version": "1.2.0",
      "model_name": "LayoutModel",
      "state": {}
     },
     "491291924c834b46a14dccecf945a91a": {
      "model_module": "@jupyter-widgets/controls",
      "model_module_version": "1.5.0",
      "model_name": "DescriptionStyleModel",
      "state": {
       "description_width": ""
      }
     },
     "491570ed355746bc89f7ea28b90158b3": {
      "model_module": "@jupyter-widgets/base",
      "model_module_version": "1.2.0",
      "model_name": "LayoutModel",
      "state": {
       "visibility": "hidden"
      }
     },
     "496d4c75469b4dc0a5ca0738d5d68597": {
      "model_module": "@jupyter-widgets/base",
      "model_module_version": "1.2.0",
      "model_name": "LayoutModel",
      "state": {}
     },
     "49c9dddc1c4a4f60b8772644f970ec5c": {
      "model_module": "@jupyter-widgets/base",
      "model_module_version": "1.2.0",
      "model_name": "LayoutModel",
      "state": {}
     },
     "49de1175d78349b1928f029b6dc94176": {
      "model_module": "@jupyter-widgets/controls",
      "model_module_version": "1.5.0",
      "model_name": "FloatProgressModel",
      "state": {
       "layout": "IPY_MODEL_59a2b05450dc4e58bc92c385cf69f3ac",
       "max": 1557,
       "style": "IPY_MODEL_c2f2c878d33640a9bba675393de52cfa",
       "value": 1557
      }
     },
     "4a01f9a7faf3457aa11b4176a3cd6211": {
      "model_module": "@jupyter-widgets/base",
      "model_module_version": "1.2.0",
      "model_name": "LayoutModel",
      "state": {}
     },
     "4a11452c46f042cf8feb693fe6b8da00": {
      "model_module": "@jupyter-widgets/controls",
      "model_module_version": "1.5.0",
      "model_name": "DescriptionStyleModel",
      "state": {
       "description_width": ""
      }
     },
     "4a63985ccb894fdb855346439ff070ce": {
      "model_module": "@jupyter-widgets/base",
      "model_module_version": "1.2.0",
      "model_name": "LayoutModel",
      "state": {}
     },
     "4a72a99ba7454246a270df7f2696cd33": {
      "model_module": "@jupyter-widgets/controls",
      "model_module_version": "1.5.0",
      "model_name": "DescriptionStyleModel",
      "state": {
       "description_width": ""
      }
     },
     "4a92276267c8476880248ebb82b76f05": {
      "model_module": "@jupyter-widgets/base",
      "model_module_version": "1.2.0",
      "model_name": "LayoutModel",
      "state": {
       "visibility": "hidden"
      }
     },
     "4a9862d7616f4f7092267f2e9a9179c2": {
      "model_module": "@jupyter-widgets/controls",
      "model_module_version": "1.5.0",
      "model_name": "HTMLModel",
      "state": {
       "layout": "IPY_MODEL_ccad7ece44ca46ed873b8a9235785896",
       "style": "IPY_MODEL_65c11421665b46e79875ee14230fd3d5",
       "value": " 3845/3845 [02:07&lt;00:00, 21.99it/s]"
      }
     },
     "4b0e6da1916f408eb34c3d58e81390ec": {
      "model_module": "@jupyter-widgets/controls",
      "model_module_version": "1.5.0",
      "model_name": "HTMLModel",
      "state": {
       "layout": "IPY_MODEL_cf54ff60f7a7479e85952c2803e46a01",
       "style": "IPY_MODEL_4c69d3b9fcc243619fbb2ad2e456ae19",
       "value": "two (4):  99%"
      }
     },
     "4b14a29ffb24404ebb697b246c64c14a": {
      "model_module": "@jupyter-widgets/controls",
      "model_module_version": "1.5.0",
      "model_name": "ProgressStyleModel",
      "state": {
       "description_width": ""
      }
     },
     "4b16e5f992cc487699ec6a825964efcc": {
      "model_module": "@jupyter-widgets/base",
      "model_module_version": "1.2.0",
      "model_name": "LayoutModel",
      "state": {}
     },
     "4b39528b446341abac78fb329ad5f9e5": {
      "model_module": "@jupyter-widgets/base",
      "model_module_version": "1.2.0",
      "model_name": "LayoutModel",
      "state": {
       "visibility": "hidden"
      }
     },
     "4b5cea509880433cba2abcf078875e34": {
      "model_module": "@jupyter-widgets/base",
      "model_module_version": "1.2.0",
      "model_name": "LayoutModel",
      "state": {
       "visibility": "hidden"
      }
     },
     "4b93592036f5460ab56b35e94b41114d": {
      "model_module": "@jupyter-widgets/controls",
      "model_module_version": "1.5.0",
      "model_name": "DescriptionStyleModel",
      "state": {
       "description_width": ""
      }
     },
     "4ba6ed205d2e450abbc7a3d35b500416": {
      "model_module": "@jupyter-widgets/controls",
      "model_module_version": "1.5.0",
      "model_name": "HTMLModel",
      "state": {
       "layout": "IPY_MODEL_a1333f9a31844479838b1183bdfe7220",
       "style": "IPY_MODEL_a0fa2bf160734da1b285cd936515fc79",
       "value": "Checking: 100%"
      }
     },
     "4bc37ea6c7b440a6b5e939b02f37d301": {
      "model_module": "@jupyter-widgets/base",
      "model_module_version": "1.2.0",
      "model_name": "LayoutModel",
      "state": {
       "visibility": "hidden"
      }
     },
     "4bc6946124e842ceb507b67ea7f6e4ad": {
      "model_module": "@jupyter-widgets/controls",
      "model_module_version": "1.5.0",
      "model_name": "DescriptionStyleModel",
      "state": {
       "description_width": ""
      }
     },
     "4bd984e374ce4ffdb9d86434a51dbe3b": {
      "model_module": "@jupyter-widgets/base",
      "model_module_version": "1.2.0",
      "model_name": "LayoutModel",
      "state": {}
     },
     "4c4eff35f12d4033ab126e04c2ec1c9f": {
      "model_module": "@jupyter-widgets/controls",
      "model_module_version": "1.5.0",
      "model_name": "DescriptionStyleModel",
      "state": {
       "description_width": ""
      }
     },
     "4c69d3b9fcc243619fbb2ad2e456ae19": {
      "model_module": "@jupyter-widgets/controls",
      "model_module_version": "1.5.0",
      "model_name": "DescriptionStyleModel",
      "state": {
       "description_width": ""
      }
     },
     "4cb2f7957bac47b9a9a35b162177f1a7": {
      "model_module": "@jupyter-widgets/controls",
      "model_module_version": "1.5.0",
      "model_name": "HTMLModel",
      "state": {
       "layout": "IPY_MODEL_f3a82e2d40cc4e11978b1cc56f50ebfb",
       "style": "IPY_MODEL_aced36d2435a4e2e9021bcd4064aec47",
       "value": "Checking: 100%"
      }
     },
     "4cddaed720714a3ab60aedc5478b5a55": {
      "model_module": "@jupyter-widgets/base",
      "model_module_version": "1.2.0",
      "model_name": "LayoutModel",
      "state": {}
     },
     "4d015096d4a44cee8d6d0834a9fa64b9": {
      "model_module": "@jupyter-widgets/controls",
      "model_module_version": "1.5.0",
      "model_name": "DescriptionStyleModel",
      "state": {
       "description_width": ""
      }
     },
     "4d2e1afaebef4467bda354191525d376": {
      "model_module": "@jupyter-widgets/controls",
      "model_module_version": "1.5.0",
      "model_name": "DescriptionStyleModel",
      "state": {
       "description_width": ""
      }
     },
     "4d54877b64414ffa8c423331b64805fc": {
      "model_module": "@jupyter-widgets/controls",
      "model_module_version": "1.5.0",
      "model_name": "DescriptionStyleModel",
      "state": {
       "description_width": ""
      }
     },
     "4d613c69694d49a4a3647b6cffef3d2c": {
      "model_module": "@jupyter-widgets/controls",
      "model_module_version": "1.5.0",
      "model_name": "HTMLModel",
      "state": {
       "layout": "IPY_MODEL_d9cc5b57d3c64d37a626d8b275dd7f24",
       "style": "IPY_MODEL_ca791d6666014ae5a8b749d902893bbc",
       "value": " 3860/3860 [01:57&lt;00:00, 30.04it/s]"
      }
     },
     "4d61a2eab3b54f16aaa3bb5106190958": {
      "model_module": "@jupyter-widgets/controls",
      "model_module_version": "1.5.0",
      "model_name": "DescriptionStyleModel",
      "state": {
       "description_width": ""
      }
     },
     "4d699648f14141dda9b00c5d15aa31e7": {
      "model_module": "@jupyter-widgets/controls",
      "model_module_version": "1.5.0",
      "model_name": "FloatProgressModel",
      "state": {
       "layout": "IPY_MODEL_8414c147f7f44449931f888ed18c8ff1",
       "max": 162,
       "style": "IPY_MODEL_aeb53615aeb04d368a89bf3f98470a64",
       "value": 162
      }
     },
     "4d73b9c74b834278b3a8530c3f4ca9e6": {
      "model_module": "@jupyter-widgets/base",
      "model_module_version": "1.2.0",
      "model_name": "LayoutModel",
      "state": {}
     },
     "4dbff6903bb24e71b3ea14e07b286b95": {
      "model_module": "@jupyter-widgets/base",
      "model_module_version": "1.2.0",
      "model_name": "LayoutModel",
      "state": {}
     },
     "4dc8cf5d022446758bb3648b6f313147": {
      "model_module": "@jupyter-widgets/base",
      "model_module_version": "1.2.0",
      "model_name": "LayoutModel",
      "state": {}
     },
     "4e176d8f44b44ffa851bde25427a7b26": {
      "model_module": "@jupyter-widgets/controls",
      "model_module_version": "1.5.0",
      "model_name": "DescriptionStyleModel",
      "state": {
       "description_width": ""
      }
     },
     "4e1cef3e841e4c408694407cfa7600c5": {
      "model_module": "@jupyter-widgets/controls",
      "model_module_version": "1.5.0",
      "model_name": "DescriptionStyleModel",
      "state": {
       "description_width": ""
      }
     },
     "4e2f898333f24a9c8caebe15421b9ef6": {
      "model_module": "@jupyter-widgets/controls",
      "model_module_version": "1.5.0",
      "model_name": "DescriptionStyleModel",
      "state": {
       "description_width": ""
      }
     },
     "4e335a131ed844bc9f3cf229852f2312": {
      "model_module": "@jupyter-widgets/controls",
      "model_module_version": "1.5.0",
      "model_name": "HTMLModel",
      "state": {
       "layout": "IPY_MODEL_13930f46172a4e708e5114339e955fbd",
       "style": "IPY_MODEL_50e7b7ebea3c4e36b80857d08d218642",
       "value": " 1995/2001 [00:34&lt;00:00, 61.58it/s]"
      }
     },
     "4e66d960bda248599847560496340969": {
      "model_module": "@jupyter-widgets/controls",
      "model_module_version": "1.5.0",
      "model_name": "ProgressStyleModel",
      "state": {
       "description_width": ""
      }
     },
     "4e813d96a03246d48d3bad1e3a724584": {
      "model_module": "@jupyter-widgets/base",
      "model_module_version": "1.2.0",
      "model_name": "LayoutModel",
      "state": {}
     },
     "4e95b68d8107427d8ae635e83ce58074": {
      "model_module": "@jupyter-widgets/controls",
      "model_module_version": "1.5.0",
      "model_name": "DescriptionStyleModel",
      "state": {
       "description_width": ""
      }
     },
     "4ec3d3bbfa2a4facbebcfdf0bd6fcc26": {
      "model_module": "@jupyter-widgets/controls",
      "model_module_version": "1.5.0",
      "model_name": "ProgressStyleModel",
      "state": {
       "description_width": ""
      }
     },
     "4ec8ecc2924040d18a49a18055193805": {
      "model_module": "@jupyter-widgets/base",
      "model_module_version": "1.2.0",
      "model_name": "LayoutModel",
      "state": {}
     },
     "4f1afba9492f4f8e9e33429c80f60096": {
      "model_module": "@jupyter-widgets/controls",
      "model_module_version": "1.5.0",
      "model_name": "FloatProgressModel",
      "state": {
       "layout": "IPY_MODEL_277f57a5d1214ef0a0c6a611583a8830",
       "max": 3745,
       "style": "IPY_MODEL_2c82cd5b962340c4bdc0a1f8311e9822",
       "value": 3745
      }
     },
     "4f4e0216bb3b4a828f9cd6219c89025b": {
      "model_module": "@jupyter-widgets/controls",
      "model_module_version": "1.5.0",
      "model_name": "HTMLModel",
      "state": {
       "layout": "IPY_MODEL_64d18c48a9ef478a90cd26ae714d2068",
       "style": "IPY_MODEL_4228f97a41674d87acde8fc12efc0f8d",
       "value": " 115/116 [00:01&lt;00:00, 63.52it/s]"
      }
     },
     "4f5c532aafd141c39271d5f35eed6191": {
      "model_module": "@jupyter-widgets/base",
      "model_module_version": "1.2.0",
      "model_name": "LayoutModel",
      "state": {}
     },
     "4f79a3ec6187457b948cae845a1df90a": {
      "model_module": "@jupyter-widgets/controls",
      "model_module_version": "1.5.0",
      "model_name": "ProgressStyleModel",
      "state": {
       "description_width": ""
      }
     },
     "4f99f96df4594395a73cfe2ba57ab2b3": {
      "model_module": "@jupyter-widgets/base",
      "model_module_version": "1.2.0",
      "model_name": "LayoutModel",
      "state": {}
     },
     "4fc6f690d29941e083841799ae7b3e7e": {
      "model_module": "@jupyter-widgets/controls",
      "model_module_version": "1.5.0",
      "model_name": "HTMLModel",
      "state": {
       "layout": "IPY_MODEL_20b0e26c8fc44430ad529d91094510bd",
       "style": "IPY_MODEL_ef43054354b34cb49d02f7748646a5ad",
       "value": " 2364/2364 [00:42&lt;00:00, 58.84it/s]"
      }
     },
     "4ff2106d75fd45f9b77639845263125a": {
      "model_module": "@jupyter-widgets/controls",
      "model_module_version": "1.5.0",
      "model_name": "FloatProgressModel",
      "state": {
       "layout": "IPY_MODEL_b5e13b61887c4d9682e2f548df9c1fb8",
       "max": 284,
       "style": "IPY_MODEL_7f56ac165f144d1f96eb4cb482a7df05",
       "value": 284
      }
     },
     "50167cbe58ac4026af7509ccd8413b0e": {
      "model_module": "@jupyter-widgets/controls",
      "model_module_version": "1.5.0",
      "model_name": "FloatProgressModel",
      "state": {
       "layout": "IPY_MODEL_db76731e981b44cbac07797cf0ccd3b2",
       "max": 115,
       "style": "IPY_MODEL_fa79afb2df9d4b7da99f1c9a4b26b1c8",
       "value": 115
      }
     },
     "502389b7872e4303830d21e60cbd9c2b": {
      "model_module": "@jupyter-widgets/base",
      "model_module_version": "1.2.0",
      "model_name": "LayoutModel",
      "state": {
       "visibility": "hidden"
      }
     },
     "5057c1e74be24711bb0c66cc5720611d": {
      "model_module": "@jupyter-widgets/controls",
      "model_module_version": "1.5.0",
      "model_name": "FloatProgressModel",
      "state": {
       "layout": "IPY_MODEL_e1749db8f11545e69d7a73fc8ee5dc9f",
       "max": 2623,
       "style": "IPY_MODEL_fd40d8650e7c4efab968cc263045fa11",
       "value": 2623
      }
     },
     "50729bbef1324d82bb1283091f7687fd": {
      "model_module": "@jupyter-widgets/base",
      "model_module_version": "1.2.0",
      "model_name": "LayoutModel",
      "state": {}
     },
     "50a42548f832432eaf1913a56672929d": {
      "model_module": "@jupyter-widgets/base",
      "model_module_version": "1.2.0",
      "model_name": "LayoutModel",
      "state": {}
     },
     "50ac15f9091149b2a07350ba48fddfd2": {
      "model_module": "@jupyter-widgets/controls",
      "model_module_version": "1.5.0",
      "model_name": "FloatProgressModel",
      "state": {
       "layout": "IPY_MODEL_1871066ed3d64b3e86faed5a44611131",
       "max": 5600,
       "style": "IPY_MODEL_3be43ba8cad54f49bcefda89e8c167b0",
       "value": 5600
      }
     },
     "50e7b7ebea3c4e36b80857d08d218642": {
      "model_module": "@jupyter-widgets/controls",
      "model_module_version": "1.5.0",
      "model_name": "DescriptionStyleModel",
      "state": {
       "description_width": ""
      }
     },
     "50eaa1507bcc401ab4e7561c030651d9": {
      "model_module": "@jupyter-widgets/base",
      "model_module_version": "1.2.0",
      "model_name": "LayoutModel",
      "state": {}
     },
     "514836a4789a419b8937da7ca08f4467": {
      "model_module": "@jupyter-widgets/controls",
      "model_module_version": "1.5.0",
      "model_name": "HTMLModel",
      "state": {
       "layout": "IPY_MODEL_423245289d48475586b8edcfcc274ff3",
       "style": "IPY_MODEL_c47b74ed4fab49d2a39eebd764aa5d73",
       "value": "nine (4):  98%"
      }
     },
     "514c89d6373148109e2c1bfe4a185654": {
      "model_module": "@jupyter-widgets/controls",
      "model_module_version": "1.5.0",
      "model_name": "HTMLModel",
      "state": {
       "layout": "IPY_MODEL_4732274638a74bf2a25ddb4e356bf03f",
       "style": "IPY_MODEL_daf07afa94ee44a7bf1fb98bcfb2e9b2",
       "value": "on (4): 100%"
      }
     },
     "51ed4b8fa6304eae9f333955c924f8a6": {
      "model_module": "@jupyter-widgets/controls",
      "model_module_version": "1.5.0",
      "model_name": "ProgressStyleModel",
      "state": {
       "description_width": ""
      }
     },
     "51f170560a9c458eb9e60e09039db257": {
      "model_module": "@jupyter-widgets/controls",
      "model_module_version": "1.5.0",
      "model_name": "FloatProgressModel",
      "state": {
       "layout": "IPY_MODEL_3bb5ebf18b5d42439ccec3efba93a74a",
       "max": 329,
       "style": "IPY_MODEL_f268edc1d63847f394b54e6e42f08a59",
       "value": 329
      }
     },
     "527ffe1410424edda99ecb85ae1582c1": {
      "model_module": "@jupyter-widgets/base",
      "model_module_version": "1.2.0",
      "model_name": "LayoutModel",
      "state": {
       "visibility": "hidden"
      }
     },
     "529c61ea7aba46478bf7019628e682cc": {
      "model_module": "@jupyter-widgets/base",
      "model_module_version": "1.2.0",
      "model_name": "LayoutModel",
      "state": {}
     },
     "52a72d48ea9a470e9f33eee44715bef6": {
      "model_module": "@jupyter-widgets/base",
      "model_module_version": "1.2.0",
      "model_name": "LayoutModel",
      "state": {}
     },
     "52f064354cda40c9becffaaf92767a7a": {
      "model_module": "@jupyter-widgets/controls",
      "model_module_version": "1.5.0",
      "model_name": "HTMLModel",
      "state": {
       "layout": "IPY_MODEL_8376527390fd4ef3aab94d8c45e56217",
       "style": "IPY_MODEL_56c150b0d26e470ebeb03afb0b17568e",
       "value": " 2272/2276 [00:36&lt;00:00, 59.64it/s]"
      }
     },
     "52f28f77008b48f3965e694580d4c619": {
      "model_module": "@jupyter-widgets/base",
      "model_module_version": "1.2.0",
      "model_name": "LayoutModel",
      "state": {}
     },
     "531618c81e9f4d5089ade2156f701648": {
      "model_module": "@jupyter-widgets/controls",
      "model_module_version": "1.5.0",
      "model_name": "DescriptionStyleModel",
      "state": {
       "description_width": ""
      }
     },
     "532418c473514b19a85f2ab0927cedfd": {
      "model_module": "@jupyter-widgets/controls",
      "model_module_version": "1.5.0",
      "model_name": "HTMLModel",
      "state": {
       "layout": "IPY_MODEL_024b07b8b1444bff9e55494883f7141f",
       "style": "IPY_MODEL_fafc9074b90b47b9a054a08ee3defbfb",
       "value": " 1148/1149 [00:19&lt;00:00, 54.75it/s]"
      }
     },
     "5334efc65fd04cb593292394ac371d65": {
      "model_module": "@jupyter-widgets/controls",
      "model_module_version": "1.5.0",
      "model_name": "FloatProgressModel",
      "state": {
       "layout": "IPY_MODEL_cef26fc0be1b4925a22876798096db44",
       "max": 1285,
       "style": "IPY_MODEL_36edc4b8b0504430bd0aa4f117eadb0e",
       "value": 1285
      }
     },
     "533647a0b652452ebb001d7d4775f98d": {
      "model_module": "@jupyter-widgets/base",
      "model_module_version": "1.2.0",
      "model_name": "LayoutModel",
      "state": {
       "visibility": "hidden"
      }
     },
     "5345970e2f7645bf82cfb0bd34a7d0b6": {
      "model_module": "@jupyter-widgets/controls",
      "model_module_version": "1.5.0",
      "model_name": "DescriptionStyleModel",
      "state": {
       "description_width": ""
      }
     },
     "537fd91df6c142a29af67909276340ca": {
      "model_module": "@jupyter-widgets/controls",
      "model_module_version": "1.5.0",
      "model_name": "FloatProgressModel",
      "state": {
       "layout": "IPY_MODEL_6803ced2582a465081a2f13188c0f4f3",
       "max": 2753,
       "style": "IPY_MODEL_33968f0aed4e49dca2d7f504b3da5141",
       "value": 2753
      }
     },
     "5387f34b9f20480d8f0edd5db22399f1": {
      "model_module": "@jupyter-widgets/base",
      "model_module_version": "1.2.0",
      "model_name": "LayoutModel",
      "state": {}
     },
     "53b459b61e5340e8985a1288e935bece": {
      "model_module": "@jupyter-widgets/controls",
      "model_module_version": "1.5.0",
      "model_name": "HTMLModel",
      "state": {
       "layout": "IPY_MODEL_9d489e3a5c844a488b43733bb4dcb95a",
       "style": "IPY_MODEL_2416b4cf05464b72aaa9ff148fd57098",
       "value": " 85/95 [00:04&lt;00:00, 70.86it/s]"
      }
     },
     "53c7c79958984a78a1fbaca503066bec": {
      "model_module": "@jupyter-widgets/controls",
      "model_module_version": "1.5.0",
      "model_name": "HTMLModel",
      "state": {
       "layout": "IPY_MODEL_6749d1b12949453c831ee7108173b27b",
       "style": "IPY_MODEL_45613daf8ed74b38b25671b405111f61",
       "value": " 5/5 [1:14:14&lt;00:00, 1142.38s/it]"
      }
     },
     "53c955d7b96b4b20a756d042019f6946": {
      "model_module": "@jupyter-widgets/controls",
      "model_module_version": "1.5.0",
      "model_name": "HTMLModel",
      "state": {
       "layout": "IPY_MODEL_cc71eb1f34d14d70a508b1040fdac39c",
       "style": "IPY_MODEL_fe88f1d837e4469abc95af40f8622919",
       "value": "seven (4):  99%"
      }
     },
     "53cf2ce4c2f24f708f8482c59920dee9": {
      "model_module": "@jupyter-widgets/base",
      "model_module_version": "1.2.0",
      "model_name": "LayoutModel",
      "state": {}
     },
     "53ee1040b604477281b8cc8713d4325b": {
      "model_module": "@jupyter-widgets/controls",
      "model_module_version": "1.5.0",
      "model_name": "HTMLModel",
      "state": {
       "layout": "IPY_MODEL_e3be943e16cd437aac06585596991525",
       "style": "IPY_MODEL_9da9a158d5db458a8d05bd431ff05cc8",
       "value": " 290/295 [00:05&lt;00:00, 55.24it/s]"
      }
     },
     "53f9fa93bbcb4c0d8daa73db51ea8467": {
      "model_module": "@jupyter-widgets/base",
      "model_module_version": "1.2.0",
      "model_name": "LayoutModel",
      "state": {
       "visibility": "hidden"
      }
     },
     "544d5758c1ce40ed944cd9ecd771f56a": {
      "model_module": "@jupyter-widgets/controls",
      "model_module_version": "1.5.0",
      "model_name": "DescriptionStyleModel",
      "state": {
       "description_width": ""
      }
     },
     "547b1255ccde4d9da92ae529eeb836c9": {
      "model_module": "@jupyter-widgets/controls",
      "model_module_version": "1.5.0",
      "model_name": "HTMLModel",
      "state": {
       "layout": "IPY_MODEL_3ce3d2ba90ec4d8c81042952c27e9598",
       "style": "IPY_MODEL_e3a258f995d34f259829870d068617fb",
       "value": " 2747/2753 [00:43&lt;00:00, 64.02it/s]"
      }
     },
     "54aadba64cf341f79dc45c6a9c44c9a8": {
      "model_module": "@jupyter-widgets/base",
      "model_module_version": "1.2.0",
      "model_name": "LayoutModel",
      "state": {}
     },
     "54be17c2d1944435b7e7e108d8c1d251": {
      "model_module": "@jupyter-widgets/base",
      "model_module_version": "1.2.0",
      "model_name": "LayoutModel",
      "state": {
       "visibility": "hidden"
      }
     },
     "54d54f4973144385afbe8dce289a33e6": {
      "model_module": "@jupyter-widgets/controls",
      "model_module_version": "1.5.0",
      "model_name": "HTMLModel",
      "state": {
       "layout": "IPY_MODEL_effd1a03ecfe4381b384015144f1169c",
       "style": "IPY_MODEL_dff0ac8565d440d4ac7300dd2e0d26fe",
       "value": "learn (4):  99%"
      }
     },
     "554e26fcaa52472ea3b17c31e255de72": {
      "model_module": "@jupyter-widgets/controls",
      "model_module_version": "1.5.0",
      "model_name": "DescriptionStyleModel",
      "state": {
       "description_width": ""
      }
     },
     "555296dd00dd45e39fd45d11b65bb260": {
      "model_module": "@jupyter-widgets/controls",
      "model_module_version": "1.5.0",
      "model_name": "DescriptionStyleModel",
      "state": {
       "description_width": ""
      }
     },
     "5569cdeefbf040b98fd48d92449b4c27": {
      "model_module": "@jupyter-widgets/controls",
      "model_module_version": "1.5.0",
      "model_name": "HTMLModel",
      "state": {
       "layout": "IPY_MODEL_2358e58417f448e496ef126780fa4373",
       "style": "IPY_MODEL_d196ff3cf0784152a0c32d235dafcc20",
       "value": "no (4):  98%"
      }
     },
     "557792a267314b1b89e97a823db05061": {
      "model_module": "@jupyter-widgets/controls",
      "model_module_version": "1.5.0",
      "model_name": "ProgressStyleModel",
      "state": {
       "description_width": ""
      }
     },
     "55786f0be53545f798281f62bd2b4253": {
      "model_module": "@jupyter-widgets/controls",
      "model_module_version": "1.5.0",
      "model_name": "HTMLModel",
      "state": {
       "layout": "IPY_MODEL_06391ce3d52743dcac6825275fca1e1f",
       "style": "IPY_MODEL_bf05b394c66b4bac821d845a7cfbf3b2",
       "value": " 990/1000 [00:06&lt;00:00, 172.48it/s]"
      }
     },
     "55809e9ffe69467fb454604ba6a77fdd": {
      "model_module": "@jupyter-widgets/base",
      "model_module_version": "1.2.0",
      "model_name": "LayoutModel",
      "state": {}
     },
     "558a68124a494102b8987b86e9322603": {
      "model_module": "@jupyter-widgets/controls",
      "model_module_version": "1.5.0",
      "model_name": "HTMLModel",
      "state": {
       "layout": "IPY_MODEL_29f2a8c65565447dba572911dccc8d16",
       "style": "IPY_MODEL_a7d25b9c365c4c17ab68de4834bb4214",
       "value": " 2385/2390 [00:42&lt;00:00, 57.19it/s]"
      }
     },
     "558fdd4a0dfa42848bc13beae77fdf3f": {
      "model_module": "@jupyter-widgets/controls",
      "model_module_version": "1.5.0",
      "model_name": "DescriptionStyleModel",
      "state": {
       "description_width": ""
      }
     },
     "55beb1b0d237477b8d00b6192aea73ce": {
      "model_module": "@jupyter-widgets/controls",
      "model_module_version": "1.5.0",
      "model_name": "HTMLModel",
      "state": {
       "layout": "IPY_MODEL_8d653c0f79ad4bdcbd7f20b5fe08cc91",
       "style": "IPY_MODEL_d3b2cde5a54549d7a60ee6342172dff5",
       "value": " 267/271 [00:05&lt;00:00, 53.23it/s]"
      }
     },
     "55f905857e6c4819944c5477ed08d7c7": {
      "model_module": "@jupyter-widgets/base",
      "model_module_version": "1.2.0",
      "model_name": "LayoutModel",
      "state": {}
     },
     "560c9c20ff834020b82fdf31d5943149": {
      "model_module": "@jupyter-widgets/base",
      "model_module_version": "1.2.0",
      "model_name": "LayoutModel",
      "state": {}
     },
     "5632b593ee5f48ec9523f2e44f783c7e": {
      "model_module": "@jupyter-widgets/controls",
      "model_module_version": "1.5.0",
      "model_name": "FloatProgressModel",
      "state": {
       "layout": "IPY_MODEL_9c97f09c401a48059338d3707e91aac9",
       "max": 61,
       "style": "IPY_MODEL_c73cc9b6e0324877b74538c36af1aaec",
       "value": 61
      }
     },
     "5635ceeed29d4c12bf1330c5f1d34cf7": {
      "model_module": "@jupyter-widgets/base",
      "model_module_version": "1.2.0",
      "model_name": "LayoutModel",
      "state": {}
     },
     "569bce614cf440c39b680bf25576387a": {
      "model_module": "@jupyter-widgets/base",
      "model_module_version": "1.2.0",
      "model_name": "LayoutModel",
      "state": {}
     },
     "56c150b0d26e470ebeb03afb0b17568e": {
      "model_module": "@jupyter-widgets/controls",
      "model_module_version": "1.5.0",
      "model_name": "DescriptionStyleModel",
      "state": {
       "description_width": ""
      }
     },
     "56e60644f3894be9a05ad7caccf2c4e4": {
      "model_module": "@jupyter-widgets/controls",
      "model_module_version": "1.5.0",
      "model_name": "DescriptionStyleModel",
      "state": {
       "description_width": ""
      }
     },
     "5785d615f5ad4baa80e506a68e4ff9ec": {
      "model_module": "@jupyter-widgets/base",
      "model_module_version": "1.2.0",
      "model_name": "LayoutModel",
      "state": {}
     },
     "579707503b544923878f2ba162a4cf27": {
      "model_module": "@jupyter-widgets/controls",
      "model_module_version": "1.5.0",
      "model_name": "ProgressStyleModel",
      "state": {
       "description_width": ""
      }
     },
     "57d7568f34914485a9f9fa426e8f72c1": {
      "model_module": "@jupyter-widgets/controls",
      "model_module_version": "1.5.0",
      "model_name": "HTMLModel",
      "state": {
       "layout": "IPY_MODEL_085a3f9a969c43e2832616f87561f9fb",
       "style": "IPY_MODEL_f79a0427bb374bfc8a083d8bbda56178",
       "value": "cat (4):  99%"
      }
     },
     "57f5a6c31acb4479a1eb3a9e14a429bf": {
      "model_module": "@jupyter-widgets/controls",
      "model_module_version": "1.5.0",
      "model_name": "ProgressStyleModel",
      "state": {
       "description_width": ""
      }
     },
     "57f9fa21d9904a73b1752acb57cf5f2b": {
      "model_module": "@jupyter-widgets/base",
      "model_module_version": "1.2.0",
      "model_name": "LayoutModel",
      "state": {}
     },
     "5851f6e9cf3e4a9682aa9d44c7e32e05": {
      "model_module": "@jupyter-widgets/controls",
      "model_module_version": "1.5.0",
      "model_name": "HTMLModel",
      "state": {
       "layout": "IPY_MODEL_f8a317d0a4414956a660b0e7606fdf55",
       "style": "IPY_MODEL_050321e8c8e845f5bbbbc7e3f1dd0127",
       "value": " 4052/4052 [02:06&lt;00:00, 28.43it/s]"
      }
     },
     "586717f1cffb4c64bf30e0a7727796e4": {
      "model_module": "@jupyter-widgets/controls",
      "model_module_version": "1.5.0",
      "model_name": "ProgressStyleModel",
      "state": {
       "description_width": ""
      }
     },
     "5886a34ed4bc4c89b29b79b98ca4b8fc": {
      "model_module": "@jupyter-widgets/base",
      "model_module_version": "1.2.0",
      "model_name": "LayoutModel",
      "state": {}
     },
     "58b14006694f47358938c9405b9d1562": {
      "model_module": "@jupyter-widgets/controls",
      "model_module_version": "1.5.0",
      "model_name": "DescriptionStyleModel",
      "state": {
       "description_width": ""
      }
     },
     "58b2fa6f64f94b8fae2d6b7c775857c8": {
      "model_module": "@jupyter-widgets/controls",
      "model_module_version": "1.5.0",
      "model_name": "HTMLModel",
      "state": {
       "layout": "IPY_MODEL_319032d0cd10478781f7264b18eae723",
       "style": "IPY_MODEL_fab98ba9ef114dad9c98bc0bbd0ef8cd",
       "value": " 157/162 [00:02&lt;00:00, 63.70it/s]"
      }
     },
     "58e841ca776140f0b6349eef0f1e9b09": {
      "model_module": "@jupyter-widgets/controls",
      "model_module_version": "1.5.0",
      "model_name": "DescriptionStyleModel",
      "state": {
       "description_width": ""
      }
     },
     "58f48ba5add04fb6a9ca427f0a8294ca": {
      "model_module": "@jupyter-widgets/base",
      "model_module_version": "1.2.0",
      "model_name": "LayoutModel",
      "state": {}
     },
     "59304ade2e624dc2880c58c0d1506535": {
      "model_module": "@jupyter-widgets/base",
      "model_module_version": "1.2.0",
      "model_name": "LayoutModel",
      "state": {}
     },
     "594cca89e02148b083914683f8196825": {
      "model_module": "@jupyter-widgets/controls",
      "model_module_version": "1.5.0",
      "model_name": "DescriptionStyleModel",
      "state": {
       "description_width": ""
      }
     },
     "595b4092494d4c7fa8c0d4acf8cd3fde": {
      "model_module": "@jupyter-widgets/base",
      "model_module_version": "1.2.0",
      "model_name": "LayoutModel",
      "state": {}
     },
     "5960a09de2764652826f33dfd66f2462": {
      "model_module": "@jupyter-widgets/controls",
      "model_module_version": "1.5.0",
      "model_name": "FloatProgressModel",
      "state": {
       "layout": "IPY_MODEL_d6cf4b9055794e41bc4847825226715e",
       "max": 286,
       "style": "IPY_MODEL_d92735f3add34f1d88ae43794ca3b646",
       "value": 286
      }
     },
     "59646e5cf6e54070b9351711b1ad9f7d": {
      "model_module": "@jupyter-widgets/base",
      "model_module_version": "1.2.0",
      "model_name": "LayoutModel",
      "state": {}
     },
     "598616f6dce34d4eb4fb25f240fa0ad7": {
      "model_module": "@jupyter-widgets/controls",
      "model_module_version": "1.5.0",
      "model_name": "DescriptionStyleModel",
      "state": {
       "description_width": ""
      }
     },
     "59a2b05450dc4e58bc92c385cf69f3ac": {
      "model_module": "@jupyter-widgets/base",
      "model_module_version": "1.2.0",
      "model_name": "LayoutModel",
      "state": {}
     },
     "5a0f67a55be74e36ae0e6862ec6d8a05": {
      "model_module": "@jupyter-widgets/base",
      "model_module_version": "1.2.0",
      "model_name": "LayoutModel",
      "state": {
       "visibility": "hidden"
      }
     },
     "5a11c539ab4d4edea1e904e0f7ffad16": {
      "model_module": "@jupyter-widgets/controls",
      "model_module_version": "1.5.0",
      "model_name": "ProgressStyleModel",
      "state": {
       "description_width": ""
      }
     },
     "5a33d9d1453149b0ad1fe51fdab09905": {
      "model_module": "@jupyter-widgets/controls",
      "model_module_version": "1.5.0",
      "model_name": "ProgressStyleModel",
      "state": {
       "description_width": ""
      }
     },
     "5a53e64259e0450089cc7b33d8327203": {
      "model_module": "@jupyter-widgets/controls",
      "model_module_version": "1.5.0",
      "model_name": "DescriptionStyleModel",
      "state": {
       "description_width": ""
      }
     },
     "5aafc0490dcb4c3bbf952391213e323d": {
      "model_module": "@jupyter-widgets/controls",
      "model_module_version": "1.5.0",
      "model_name": "DescriptionStyleModel",
      "state": {
       "description_width": ""
      }
     },
     "5ad70b5f6afd4ef289a7630df47431b1": {
      "model_module": "@jupyter-widgets/base",
      "model_module_version": "1.2.0",
      "model_name": "LayoutModel",
      "state": {
       "visibility": "hidden"
      }
     },
     "5af92db733174762be2558b8f610d727": {
      "model_module": "@jupyter-widgets/base",
      "model_module_version": "1.2.0",
      "model_name": "LayoutModel",
      "state": {}
     },
     "5b040b98e3d6405db6830d958fd8fc59": {
      "model_module": "@jupyter-widgets/controls",
      "model_module_version": "1.5.0",
      "model_name": "HTMLModel",
      "state": {
       "layout": "IPY_MODEL_d5b1dd9dd6a146fb86e137ca7c1a972f",
       "style": "IPY_MODEL_88c10bb3a85d4e54b88ba6fa6e4e31c1",
       "value": "tree (4):  97%"
      }
     },
     "5b07f8630c304117a75005e520510fba": {
      "model_module": "@jupyter-widgets/base",
      "model_module_version": "1.2.0",
      "model_name": "LayoutModel",
      "state": {
       "visibility": "hidden"
      }
     },
     "5b0f799f84384b7ba436dec16075a9b1": {
      "model_module": "@jupyter-widgets/controls",
      "model_module_version": "1.5.0",
      "model_name": "HTMLModel",
      "state": {
       "layout": "IPY_MODEL_49c9dddc1c4a4f60b8772644f970ec5c",
       "style": "IPY_MODEL_ac83e0bc45ee49d5b1c548e4a473d3e4",
       "value": "marvin (4):  98%"
      }
     },
     "5b490bcee78047a4a1ef549f9d757b0c": {
      "model_module": "@jupyter-widgets/controls",
      "model_module_version": "1.5.0",
      "model_name": "DescriptionStyleModel",
      "state": {
       "description_width": ""
      }
     },
     "5b529f1a57704067b8a26a8e72e0d615": {
      "model_module": "@jupyter-widgets/base",
      "model_module_version": "1.2.0",
      "model_name": "LayoutModel",
      "state": {}
     },
     "5ba3537a7d1d44ef9b05f64d85dc08e2": {
      "model_module": "@jupyter-widgets/controls",
      "model_module_version": "1.5.0",
      "model_name": "DescriptionStyleModel",
      "state": {
       "description_width": ""
      }
     },
     "5bfa900cad7141e88e3132eb96f24101": {
      "model_module": "@jupyter-widgets/base",
      "model_module_version": "1.2.0",
      "model_name": "LayoutModel",
      "state": {}
     },
     "5c21040621a5476284fc56ad720207d6": {
      "model_module": "@jupyter-widgets/controls",
      "model_module_version": "1.5.0",
      "model_name": "FloatProgressModel",
      "state": {
       "layout": "IPY_MODEL_17942f55f622465596c077805ca33c29",
       "max": 2054,
       "style": "IPY_MODEL_51ed4b8fa6304eae9f333955c924f8a6",
       "value": 2054
      }
     },
     "5c268b01bf75419b9397021af6c400d0": {
      "model_module": "@jupyter-widgets/controls",
      "model_module_version": "1.5.0",
      "model_name": "FloatProgressModel",
      "state": {
       "layout": "IPY_MODEL_8063167c06544e4797e356f617b687b1",
       "max": 1188,
       "style": "IPY_MODEL_674ccf370b094c30b945b7e3267d0ad3",
       "value": 1188
      }
     },
     "5c36abac1f3e4ebc912b42eb63735a78": {
      "model_module": "@jupyter-widgets/controls",
      "model_module_version": "1.5.0",
      "model_name": "FloatProgressModel",
      "state": {
       "layout": "IPY_MODEL_c2be2a2d70594a329fddd6dcd9d7ba41",
       "max": 124,
       "style": "IPY_MODEL_36c7e85058844cb7bba4bf2e5aa649d6",
       "value": 124
      }
     },
     "5c5450c293b740f69457aee9dd7296a9": {
      "model_module": "@jupyter-widgets/base",
      "model_module_version": "1.2.0",
      "model_name": "LayoutModel",
      "state": {
       "visibility": "hidden"
      }
     },
     "5c5ff5057af84902b1bb5c24da2531bc": {
      "model_module": "@jupyter-widgets/controls",
      "model_module_version": "1.5.0",
      "model_name": "HTMLModel",
      "state": {
       "layout": "IPY_MODEL_529c61ea7aba46478bf7019628e682cc",
       "style": "IPY_MODEL_8b75aa241b734705af834c2a5bc7232f",
       "value": "up (4):  99%"
      }
     },
     "5cc620f7c4fd475eaa7801159f950e50": {
      "model_module": "@jupyter-widgets/base",
      "model_module_version": "1.2.0",
      "model_name": "LayoutModel",
      "state": {}
     },
     "5cc842bb53e445b09b01b97adfac1c38": {
      "model_module": "@jupyter-widgets/base",
      "model_module_version": "1.2.0",
      "model_name": "LayoutModel",
      "state": {}
     },
     "5cf4f6f8396a4c5281f3e49ea7424072": {
      "model_module": "@jupyter-widgets/base",
      "model_module_version": "1.2.0",
      "model_name": "LayoutModel",
      "state": {
       "visibility": "hidden"
      }
     },
     "5d0005aead9b4cbb91c0c30c3029443b": {
      "model_module": "@jupyter-widgets/controls",
      "model_module_version": "1.5.0",
      "model_name": "HTMLModel",
      "state": {
       "layout": "IPY_MODEL_9aea77bf969a4a2eb2e58a5674060e53",
       "style": "IPY_MODEL_5aafc0490dcb4c3bbf952391213e323d",
       "value": "yes (4):  98%"
      }
     },
     "5d67f9e410264275a2146da94300717c": {
      "model_module": "@jupyter-widgets/controls",
      "model_module_version": "1.5.0",
      "model_name": "DescriptionStyleModel",
      "state": {
       "description_width": ""
      }
     },
     "5d89022e1b054c96b49d89bca3bb3160": {
      "model_module": "@jupyter-widgets/base",
      "model_module_version": "1.2.0",
      "model_name": "LayoutModel",
      "state": {}
     },
     "5dfcf836944d4805961e33af597f2a17": {
      "model_module": "@jupyter-widgets/base",
      "model_module_version": "1.2.0",
      "model_name": "LayoutModel",
      "state": {}
     },
     "5e0bdfb7b382494b857f28fde2991aaa": {
      "model_module": "@jupyter-widgets/controls",
      "model_module_version": "1.5.0",
      "model_name": "HTMLModel",
      "state": {
       "layout": "IPY_MODEL_181ce7b33be34cff83cf124f4dcb1143",
       "style": "IPY_MODEL_8962eadbc7ad4aa4a5ba463955d63f2c",
       "value": "three (4): 100%"
      }
     },
     "5e1f4271d4d346a7a43745e72e802351": {
      "model_module": "@jupyter-widgets/controls",
      "model_module_version": "1.5.0",
      "model_name": "DescriptionStyleModel",
      "state": {
       "description_width": ""
      }
     },
     "5e6795da11be45dab071b950f4b26270": {
      "model_module": "@jupyter-widgets/base",
      "model_module_version": "1.2.0",
      "model_name": "LayoutModel",
      "state": {
       "visibility": "hidden"
      }
     },
     "5ec1d684ca944a3cb7df07e7c4b72463": {
      "model_module": "@jupyter-widgets/controls",
      "model_module_version": "1.5.0",
      "model_name": "DescriptionStyleModel",
      "state": {
       "description_width": ""
      }
     },
     "5ef1325aad684baab6bcd094f2b1b852": {
      "model_module": "@jupyter-widgets/controls",
      "model_module_version": "1.5.0",
      "model_name": "DescriptionStyleModel",
      "state": {
       "description_width": ""
      }
     },
     "5f19f25b54c943848264a05651d9bd27": {
      "model_module": "@jupyter-widgets/controls",
      "model_module_version": "1.5.0",
      "model_name": "HTMLModel",
      "state": {
       "layout": "IPY_MODEL_db1d673ae2d04226a748f679fa76d550",
       "style": "IPY_MODEL_803cf516b69445b792137a54a03ea77d",
       "value": "down (4):  99%"
      }
     },
     "5f4ee2ce73764a72bca3472f9e1f3bba": {
      "model_module": "@jupyter-widgets/controls",
      "model_module_version": "1.5.0",
      "model_name": "HTMLModel",
      "state": {
       "layout": "IPY_MODEL_f6d39ae7ee074f92938fdf2ee10476c9",
       "style": "IPY_MODEL_e9c20f5be927454d899bf0089e582492",
       "value": "Checking: 100%"
      }
     },
     "5f7ca5ada6a34b1784e02dce1602cce6": {
      "model_module": "@jupyter-widgets/controls",
      "model_module_version": "1.5.0",
      "model_name": "HTMLModel",
      "state": {
       "layout": "IPY_MODEL_560c9c20ff834020b82fdf31d5943149",
       "style": "IPY_MODEL_78bcbecd0a77407eb3e1728f799ed41b",
       "value": " 276/282 [00:04&lt;00:00, 62.70it/s]"
      }
     },
     "5f7cf375d5684325b9d8eea41bc39090": {
      "model_module": "@jupyter-widgets/base",
      "model_module_version": "1.2.0",
      "model_name": "LayoutModel",
      "state": {}
     },
     "5f9142772a6d4f9abe4d7da4ea206461": {
      "model_module": "@jupyter-widgets/base",
      "model_module_version": "1.2.0",
      "model_name": "LayoutModel",
      "state": {}
     },
     "5fabcf4fef2a4057b793b8d1f29ded5c": {
      "model_module": "@jupyter-widgets/base",
      "model_module_version": "1.2.0",
      "model_name": "LayoutModel",
      "state": {
       "visibility": "hidden"
      }
     },
     "5fe1ad5d76db418d99bd87921b6b5fea": {
      "model_module": "@jupyter-widgets/base",
      "model_module_version": "1.2.0",
      "model_name": "LayoutModel",
      "state": {}
     },
     "5feec53794814493a3fc2fbf7a9111a5": {
      "model_module": "@jupyter-widgets/controls",
      "model_module_version": "1.5.0",
      "model_name": "FloatProgressModel",
      "state": {
       "layout": "IPY_MODEL_85e7505bd51d4002bfbc11860c4442ea",
       "max": 3845,
       "style": "IPY_MODEL_34c91b83117d4d7d894bc0788a7a9704",
       "value": 3845
      }
     },
     "5ff9b1c517df471b92d8aa9e2577dcaa": {
      "model_module": "@jupyter-widgets/base",
      "model_module_version": "1.2.0",
      "model_name": "LayoutModel",
      "state": {}
     },
     "600e8643039d46c69e200b2ca8a2b1f5": {
      "model_module": "@jupyter-widgets/controls",
      "model_module_version": "1.5.0",
      "model_name": "DescriptionStyleModel",
      "state": {
       "description_width": ""
      }
     },
     "604652b4a80f4469b8f11388d5a885f4": {
      "model_module": "@jupyter-widgets/base",
      "model_module_version": "1.2.0",
      "model_name": "LayoutModel",
      "state": {}
     },
     "60668fc871bf4096b44f90f87816286e": {
      "model_module": "@jupyter-widgets/base",
      "model_module_version": "1.2.0",
      "model_name": "LayoutModel",
      "state": {
       "visibility": "hidden"
      }
     },
     "609c997c5ae84ca5abba7e6c943ad116": {
      "model_module": "@jupyter-widgets/controls",
      "model_module_version": "1.5.0",
      "model_name": "HTMLModel",
      "state": {
       "layout": "IPY_MODEL_c7e604b56bec43ce954b2ec41d28be08",
       "style": "IPY_MODEL_764a53477a8a41b6b835b57d539f4889",
       "value": " 326/329 [00:05&lt;00:00, 53.64it/s]"
      }
     },
     "61161658ee0a44fa86d4e1d3ec1b853d": {
      "model_module": "@jupyter-widgets/base",
      "model_module_version": "1.2.0",
      "model_name": "LayoutModel",
      "state": {}
     },
     "615e21c9c4c443278936940ca077a8cb": {
      "model_module": "@jupyter-widgets/controls",
      "model_module_version": "1.5.0",
      "model_name": "HTMLModel",
      "state": {
       "layout": "IPY_MODEL_05916aedb53243a9935a72140e0ea4f2",
       "style": "IPY_MODEL_abeff08a4f614fc1ada0e929fcb47ce0",
       "value": " 5299/5300 [01:42&lt;00:00, 56.32it/s]"
      }
     },
     "6196fc882c694d858b9200c407f26fb0": {
      "model_module": "@jupyter-widgets/controls",
      "model_module_version": "1.5.0",
      "model_name": "FloatProgressModel",
      "state": {
       "layout": "IPY_MODEL_52a72d48ea9a470e9f33eee44715bef6",
       "max": 5260,
       "style": "IPY_MODEL_25517575240d4288834ad424e015765a",
       "value": 5260
      }
     },
     "61b45cd16b8a46abba9c5e1fe6c7b730": {
      "model_module": "@jupyter-widgets/controls",
      "model_module_version": "1.5.0",
      "model_name": "HTMLModel",
      "state": {
       "layout": "IPY_MODEL_dfd65074f8bd45c587fe7de67f0e48a4",
       "style": "IPY_MODEL_98bf4fbc1c024249a50551f813e8928a",
       "value": " 133/137 [00:02&lt;00:00, 51.50it/s]"
      }
     },
     "61c0c1cd345a47c89a3fe5c24c42d54f": {
      "model_module": "@jupyter-widgets/controls",
      "model_module_version": "1.5.0",
      "model_name": "HTMLModel",
      "state": {
       "layout": "IPY_MODEL_33fa39ecb45a418fa329413fb081bac4",
       "style": "IPY_MODEL_0a7b798554f749ddb1910f9d2b784b22",
       "value": "bed (4):  98%"
      }
     },
     "61cc646106df41e2ade49e6bec386471": {
      "model_module": "@jupyter-widgets/controls",
      "model_module_version": "1.5.0",
      "model_name": "DescriptionStyleModel",
      "state": {
       "description_width": ""
      }
     },
     "620c2a5295b64e0896ed6d2de9a5390d": {
      "model_module": "@jupyter-widgets/controls",
      "model_module_version": "1.5.0",
      "model_name": "HTMLModel",
      "state": {
       "layout": "IPY_MODEL_7452076090654b6fad8ea16cff70837d",
       "style": "IPY_MODEL_7ca9f2a7fd3b4bd0ac9fe43c8760e6b4",
       "value": " 282/284 [00:05&lt;00:00, 59.52it/s]"
      }
     },
     "621b64565d16476aa7f0a5d0e5d8a9f2": {
      "model_module": "@jupyter-widgets/base",
      "model_module_version": "1.2.0",
      "model_name": "LayoutModel",
      "state": {}
     },
     "624e99feaf61486d81cd9a1036da13fb": {
      "model_module": "@jupyter-widgets/controls",
      "model_module_version": "1.5.0",
      "model_name": "FloatProgressModel",
      "state": {
       "layout": "IPY_MODEL_aec83cc569834dc196373e57bb1fa641",
       "max": 1063,
       "style": "IPY_MODEL_cd212c1eaaaf4fa1b7cbbf8ff5c390d4",
       "value": 1063
      }
     },
     "6291162e5bd646a2a5a83bba61e78679": {
      "model_module": "@jupyter-widgets/base",
      "model_module_version": "1.2.0",
      "model_name": "LayoutModel",
      "state": {
       "visibility": "hidden"
      }
     },
     "629f9c89a3864f859a2976240b8681d9": {
      "model_module": "@jupyter-widgets/controls",
      "model_module_version": "1.5.0",
      "model_name": "HTMLModel",
      "state": {
       "layout": "IPY_MODEL_4ec8ecc2924040d18a49a18055193805",
       "style": "IPY_MODEL_921d50cab5d846959bfbc79963d52b3c",
       "value": " 339/344 [00:05&lt;00:00, 63.68it/s]"
      }
     },
     "62eaf9c08b034e54a7b1034482b80dc4": {
      "model_module": "@jupyter-widgets/controls",
      "model_module_version": "1.5.0",
      "model_name": "ProgressStyleModel",
      "state": {
       "description_width": ""
      }
     },
     "62f1b09cbd364a32b02072dd95402c70": {
      "model_module": "@jupyter-widgets/controls",
      "model_module_version": "1.5.0",
      "model_name": "HTMLModel",
      "state": {
       "layout": "IPY_MODEL_9a6071778f954bdc9a1152c580b55302",
       "style": "IPY_MODEL_787193ac63bd493d9b74821f9b137c5a",
       "value": " 129/134 [00:02&lt;00:00, 61.82it/s]"
      }
     },
     "631374b5410d4a62ae46e4a08060c33f": {
      "model_module": "@jupyter-widgets/controls",
      "model_module_version": "1.5.0",
      "model_name": "ProgressStyleModel",
      "state": {
       "description_width": ""
      }
     },
     "633a755418264cd298f6b1291b2c8b74": {
      "model_module": "@jupyter-widgets/controls",
      "model_module_version": "1.5.0",
      "model_name": "FloatProgressModel",
      "state": {
       "layout": "IPY_MODEL_0455371202024d029d0cc93cf8b52324",
       "max": 298,
       "style": "IPY_MODEL_2298696b121b43a0a09908896d88d46b",
       "value": 298
      }
     },
     "634f248aa30e44e98f018e4d57889e72": {
      "model_module": "@jupyter-widgets/controls",
      "model_module_version": "1.5.0",
      "model_name": "DescriptionStyleModel",
      "state": {
       "description_width": ""
      }
     },
     "638f1322de4d44e0b52c44de328f9c3f": {
      "model_module": "@jupyter-widgets/controls",
      "model_module_version": "1.5.0",
      "model_name": "FloatProgressModel",
      "state": {
       "layout": "IPY_MODEL_f5e12ef10202435b8d5d79cfd625cf86",
       "max": 98,
       "style": "IPY_MODEL_8b0055a84d8944dd82179a0b6dbe561d",
       "value": 98
      }
     },
     "63970448ec2c4ddeaa438810560746b8": {
      "model_module": "@jupyter-widgets/controls",
      "model_module_version": "1.5.0",
      "model_name": "DescriptionStyleModel",
      "state": {
       "description_width": ""
      }
     },
     "63f313ceab3d4463b1df21b64c5f37d6": {
      "model_module": "@jupyter-widgets/base",
      "model_module_version": "1.2.0",
      "model_name": "LayoutModel",
      "state": {}
     },
     "6416676fa3fe4948b30bf2e1dee1b1ff": {
      "model_module": "@jupyter-widgets/controls",
      "model_module_version": "1.5.0",
      "model_name": "DescriptionStyleModel",
      "state": {
       "description_width": ""
      }
     },
     "6465b68e409342f4806d25a29da23981": {
      "model_module": "@jupyter-widgets/base",
      "model_module_version": "1.2.0",
      "model_name": "LayoutModel",
      "state": {}
     },
     "6473cf350d03409eb3e24b770fa7aa3e": {
      "model_module": "@jupyter-widgets/controls",
      "model_module_version": "1.5.0",
      "model_name": "DescriptionStyleModel",
      "state": {
       "description_width": ""
      }
     },
     "649b6d0470694556854d0824fdbb2577": {
      "model_module": "@jupyter-widgets/controls",
      "model_module_version": "1.5.0",
      "model_name": "DescriptionStyleModel",
      "state": {
       "description_width": ""
      }
     },
     "64a31c860b784233a797ef6579f353ad": {
      "model_module": "@jupyter-widgets/controls",
      "model_module_version": "1.5.0",
      "model_name": "HTMLModel",
      "state": {
       "layout": "IPY_MODEL_8eba164597714ba8a83c44c7e28e9fae",
       "style": "IPY_MODEL_a3524af4bf53498c9539ebcc2100d06a",
       "value": "bird (4): 100%"
      }
     },
     "64d18c48a9ef478a90cd26ae714d2068": {
      "model_module": "@jupyter-widgets/base",
      "model_module_version": "1.2.0",
      "model_name": "LayoutModel",
      "state": {}
     },
     "64d48e24ae1d4098beeed6bfe750a914": {
      "model_module": "@jupyter-widgets/controls",
      "model_module_version": "1.5.0",
      "model_name": "DescriptionStyleModel",
      "state": {
       "description_width": ""
      }
     },
     "64d56f4e342342da888ee21720d44816": {
      "model_module": "@jupyter-widgets/controls",
      "model_module_version": "1.5.0",
      "model_name": "FloatProgressModel",
      "state": {
       "layout": "IPY_MODEL_5b529f1a57704067b8a26a8e72e0d615",
       "max": 2957,
       "style": "IPY_MODEL_d70b9595da994ee3b46fed8df060d842",
       "value": 2957
      }
     },
     "657740c2ebc7485da305bce8948c30e0": {
      "model_module": "@jupyter-widgets/controls",
      "model_module_version": "1.5.0",
      "model_name": "HTMLModel",
      "state": {
       "layout": "IPY_MODEL_3f2576e460d34493821b15dd91c255a4",
       "style": "IPY_MODEL_2c1d057c98c74fcc955f5a8a2ba8fc18",
       "value": "eight (4): 100%"
      }
     },
     "6581bfdfb5104936ac26ca5ba2a806e3": {
      "model_module": "@jupyter-widgets/controls",
      "model_module_version": "1.5.0",
      "model_name": "DescriptionStyleModel",
      "state": {
       "description_width": ""
      }
     },
     "65c11421665b46e79875ee14230fd3d5": {
      "model_module": "@jupyter-widgets/controls",
      "model_module_version": "1.5.0",
      "model_name": "DescriptionStyleModel",
      "state": {
       "description_width": ""
      }
     },
     "65d85bd227524f35b146a4e37bb547d1": {
      "model_module": "@jupyter-widgets/controls",
      "model_module_version": "1.5.0",
      "model_name": "ProgressStyleModel",
      "state": {
       "description_width": ""
      }
     },
     "65f444d16c864d45a60ff7ac5746ebd6": {
      "model_module": "@jupyter-widgets/base",
      "model_module_version": "1.2.0",
      "model_name": "LayoutModel",
      "state": {}
     },
     "66184d7657d64d3bb3eaac0bb7df67e8": {
      "model_module": "@jupyter-widgets/controls",
      "model_module_version": "1.5.0",
      "model_name": "DescriptionStyleModel",
      "state": {
       "description_width": ""
      }
     },
     "662e78b7da9d46988ee8903a3dea0046": {
      "model_module": "@jupyter-widgets/base",
      "model_module_version": "1.2.0",
      "model_name": "LayoutModel",
      "state": {}
     },
     "66621fe78ab949ae9de2c623df657d2f": {
      "model_module": "@jupyter-widgets/controls",
      "model_module_version": "1.5.0",
      "model_name": "DescriptionStyleModel",
      "state": {
       "description_width": ""
      }
     },
     "669bb2427ace420eada0f0bcb10a2602": {
      "model_module": "@jupyter-widgets/controls",
      "model_module_version": "1.5.0",
      "model_name": "FloatProgressModel",
      "state": {
       "layout": "IPY_MODEL_032eac2c0ef240e1a335384827781a9c",
       "max": 1356,
       "style": "IPY_MODEL_69ffdc4dbeb048779175000eeb7e324f",
       "value": 1356
      }
     },
     "66b48186c52244b8b9246e91b1a008a2": {
      "model_module": "@jupyter-widgets/base",
      "model_module_version": "1.2.0",
      "model_name": "LayoutModel",
      "state": {}
     },
     "66da413f1ea44a12b949cbb757c60595": {
      "model_module": "@jupyter-widgets/controls",
      "model_module_version": "1.5.0",
      "model_name": "HTMLModel",
      "state": {
       "layout": "IPY_MODEL_800ac3e5f5504c3080d83156153368bd",
       "style": "IPY_MODEL_598616f6dce34d4eb4fb25f240fa0ad7",
       "value": "follow (4): 100%"
      }
     },
     "66e7ec6bd98d4a989ffcb7dad10c7239": {
      "model_module": "@jupyter-widgets/base",
      "model_module_version": "1.2.0",
      "model_name": "LayoutModel",
      "state": {
       "visibility": "hidden"
      }
     },
     "66f236d7195044eb88cab58f710b38fe": {
      "model_module": "@jupyter-widgets/base",
      "model_module_version": "1.2.0",
      "model_name": "LayoutModel",
      "state": {}
     },
     "6717760729f14dc4919a1dee4d25a1ef": {
      "model_module": "@jupyter-widgets/controls",
      "model_module_version": "1.5.0",
      "model_name": "DescriptionStyleModel",
      "state": {
       "description_width": ""
      }
     },
     "672991b5c9f24cd6a256bb426dcdade8": {
      "model_module": "@jupyter-widgets/controls",
      "model_module_version": "1.5.0",
      "model_name": "HTMLModel",
      "state": {
       "layout": "IPY_MODEL_cefd32a4600a476eb6204f6676b170ac",
       "style": "IPY_MODEL_c0f7c9c2746b425f9b2c7742746f80f5",
       "value": "down (4):  99%"
      }
     },
     "6749d1b12949453c831ee7108173b27b": {
      "model_module": "@jupyter-widgets/base",
      "model_module_version": "1.2.0",
      "model_name": "LayoutModel",
      "state": {}
     },
     "674ccf370b094c30b945b7e3267d0ad3": {
      "model_module": "@jupyter-widgets/controls",
      "model_module_version": "1.5.0",
      "model_name": "ProgressStyleModel",
      "state": {
       "description_width": ""
      }
     },
     "6786a92d73494ab0a32994a18d41fe16": {
      "model_module": "@jupyter-widgets/base",
      "model_module_version": "1.2.0",
      "model_name": "LayoutModel",
      "state": {
       "visibility": "hidden"
      }
     },
     "678ad070a3c14b52b9d86d36bc4f545a": {
      "model_module": "@jupyter-widgets/controls",
      "model_module_version": "1.5.0",
      "model_name": "HTMLModel",
      "state": {
       "layout": "IPY_MODEL_dc4c867832984a2ead1ab661f14a42f7",
       "style": "IPY_MODEL_0f287370022d4bca9c0ede3887d32d47",
       "value": "marvin (4): 100%"
      }
     },
     "67c41fcbe09044398598a9761b4d8d7c": {
      "model_module": "@jupyter-widgets/base",
      "model_module_version": "1.2.0",
      "model_name": "LayoutModel",
      "state": {}
     },
     "6803ced2582a465081a2f13188c0f4f3": {
      "model_module": "@jupyter-widgets/base",
      "model_module_version": "1.2.0",
      "model_name": "LayoutModel",
      "state": {}
     },
     "6847ba1789ef419e95686f43674b7aa7": {
      "model_module": "@jupyter-widgets/controls",
      "model_module_version": "1.5.0",
      "model_name": "HTMLModel",
      "state": {
       "layout": "IPY_MODEL_7e0acc7d2a584cb6bc776df32af92859",
       "style": "IPY_MODEL_fdacb3cd9522451599221a5819bcd1b7",
       "value": "no (4):  98%"
      }
     },
     "684a4e38a92c4e08a4940223e38afdec": {
      "model_module": "@jupyter-widgets/base",
      "model_module_version": "1.2.0",
      "model_name": "LayoutModel",
      "state": {}
     },
     "688836c1eec24ef684aac8f49c1d7679": {
      "model_module": "@jupyter-widgets/base",
      "model_module_version": "1.2.0",
      "model_name": "LayoutModel",
      "state": {}
     },
     "6888544c9b4e4eb3930571cb293a1b9f": {
      "model_module": "@jupyter-widgets/controls",
      "model_module_version": "1.5.0",
      "model_name": "HTMLModel",
      "state": {
       "layout": "IPY_MODEL_4dbff6903bb24e71b3ea14e07b286b95",
       "style": "IPY_MODEL_8223fd4b28f4462da1a18f5a584652db",
       "value": " 2100/2100 [00:58&lt;00:00, 37.13it/s]"
      }
     },
     "68bbc95563df41e1b056d03b925f06de": {
      "model_module": "@jupyter-widgets/controls",
      "model_module_version": "1.5.0",
      "model_name": "ProgressStyleModel",
      "state": {
       "description_width": ""
      }
     },
     "68f2a08971b64ae8881f95b8b505715d": {
      "model_module": "@jupyter-widgets/controls",
      "model_module_version": "1.5.0",
      "model_name": "HTMLModel",
      "state": {
       "layout": "IPY_MODEL_66f236d7195044eb88cab58f710b38fe",
       "style": "IPY_MODEL_e426c0aed8814702a900093e43d7e517",
       "value": " 340/345 [00:05&lt;00:00, 60.44it/s]"
      }
     },
     "68fa36e476664fef8a9a27c264f455f4": {
      "model_module": "@jupyter-widgets/base",
      "model_module_version": "1.2.0",
      "model_name": "LayoutModel",
      "state": {}
     },
     "690199c11c644f0fa33b58ed06f27321": {
      "model_module": "@jupyter-widgets/base",
      "model_module_version": "1.2.0",
      "model_name": "LayoutModel",
      "state": {}
     },
     "6926f60ff62c4b9ba5d17083769c1a0c": {
      "model_module": "@jupyter-widgets/controls",
      "model_module_version": "1.5.0",
      "model_name": "HTMLModel",
      "state": {
       "layout": "IPY_MODEL_12b36970a01743fe86564fc2788a811e",
       "style": "IPY_MODEL_a3b3258f699544838fee68a0fc802646",
       "value": " 3914/3917 [02:21&lt;00:00, 34.46it/s]"
      }
     },
     "693efddcb1284192b279b605da35e50e": {
      "model_module": "@jupyter-widgets/base",
      "model_module_version": "1.2.0",
      "model_name": "LayoutModel",
      "state": {}
     },
     "69ffdc4dbeb048779175000eeb7e324f": {
      "model_module": "@jupyter-widgets/controls",
      "model_module_version": "1.5.0",
      "model_name": "ProgressStyleModel",
      "state": {
       "description_width": ""
      }
     },
     "6ac3ce043536492893385f585c21f4c4": {
      "model_module": "@jupyter-widgets/base",
      "model_module_version": "1.2.0",
      "model_name": "LayoutModel",
      "state": {}
     },
     "6aea777d08434733b7c29067b0b439bc": {
      "model_module": "@jupyter-widgets/controls",
      "model_module_version": "1.5.0",
      "model_name": "HTMLModel",
      "state": {
       "layout": "IPY_MODEL_93c5bd095bdc45d8bf1bf1598136e07a",
       "style": "IPY_MODEL_0b18990e8bc14c93b617e653321b87b2",
       "value": " 291/297 [00:04&lt;00:00, 63.74it/s]"
      }
     },
     "6b3c7374676141c08dccb1934765c088": {
      "model_module": "@jupyter-widgets/controls",
      "model_module_version": "1.5.0",
      "model_name": "DescriptionStyleModel",
      "state": {
       "description_width": ""
      }
     },
     "6c064ceebb294fd88d70caa90a5a90ec": {
      "model_module": "@jupyter-widgets/controls",
      "model_module_version": "1.5.0",
      "model_name": "ProgressStyleModel",
      "state": {
       "description_width": ""
      }
     },
     "6c1e49b49e75489ab79f36d816dcc984": {
      "model_module": "@jupyter-widgets/controls",
      "model_module_version": "1.5.0",
      "model_name": "FloatProgressModel",
      "state": {
       "layout": "IPY_MODEL_eaae18b50e7649e0a9ee91cf13764591",
       "max": 2031,
       "style": "IPY_MODEL_57f5a6c31acb4479a1eb3a9e14a429bf",
       "value": 2031
      }
     },
     "6cc7909f4a3f44278e92d6ab5a70aeb1": {
      "model_module": "@jupyter-widgets/controls",
      "model_module_version": "1.5.0",
      "model_name": "HTMLModel",
      "state": {
       "layout": "IPY_MODEL_68fa36e476664fef8a9a27c264f455f4",
       "style": "IPY_MODEL_d34c304e50394c999b1d1871ec32b39f",
       "value": "Checking: 100%"
      }
     },
     "6cdee2ed44034520b40d50745264e53f": {
      "model_module": "@jupyter-widgets/controls",
      "model_module_version": "1.5.0",
      "model_name": "FloatProgressModel",
      "state": {
       "layout": "IPY_MODEL_5ff9b1c517df471b92d8aa9e2577dcaa",
       "max": 2324,
       "style": "IPY_MODEL_e07f27aa04374600a957f6793cfe4f77",
       "value": 2324
      }
     },
     "6cf9b4ec382b46ff87e8a027bb9e72ce": {
      "model_module": "@jupyter-widgets/controls",
      "model_module_version": "1.5.0",
      "model_name": "DescriptionStyleModel",
      "state": {
       "description_width": ""
      }
     },
     "6cfb4f34f85b4eaa84f99f4d6ca1c005": {
      "model_module": "@jupyter-widgets/base",
      "model_module_version": "1.2.0",
      "model_name": "LayoutModel",
      "state": {}
     },
     "6cff393af0d14b0c807f38c9895d5360": {
      "model_module": "@jupyter-widgets/controls",
      "model_module_version": "1.5.0",
      "model_name": "FloatProgressModel",
      "state": {
       "layout": "IPY_MODEL_c0712ebac95f429cba5153b4f337c7a3",
       "max": 2100,
       "style": "IPY_MODEL_e48d961b92ef451c9e7320815b5e2c40",
       "value": 2100
      }
     },
     "6d41917b98a0411198b667a950a33de0": {
      "model_module": "@jupyter-widgets/controls",
      "model_module_version": "1.5.0",
      "model_name": "HTMLModel",
      "state": {
       "layout": "IPY_MODEL_0319f77ebea54121b18f02361457fccb",
       "style": "IPY_MODEL_e35396b4fab94e9ca271f3eeacb1f756",
       "value": "eight (4): 100%"
      }
     },
     "6d5c047981524c1188825aa94882b2a7": {
      "model_module": "@jupyter-widgets/controls",
      "model_module_version": "1.5.0",
      "model_name": "ProgressStyleModel",
      "state": {
       "description_width": ""
      }
     },
     "6d7a4907deeb4456aeea78a853de08c6": {
      "model_module": "@jupyter-widgets/controls",
      "model_module_version": "1.5.0",
      "model_name": "ProgressStyleModel",
      "state": {
       "description_width": ""
      }
     },
     "6d85e3bd19104e92aa51f897ef0012eb": {
      "model_module": "@jupyter-widgets/controls",
      "model_module_version": "1.5.0",
      "model_name": "HTMLModel",
      "state": {
       "layout": "IPY_MODEL_b02db45f0d6e441a8648b08efe2ab7cb",
       "style": "IPY_MODEL_b829e604abac41a3babd8c9440edff46",
       "value": "speech_data\\_background_noise_\\dude_miaowing.wav:  79%"
      }
     },
     "6d8d98e12ea34fe09fedb651092eb0b0": {
      "model_module": "@jupyter-widgets/base",
      "model_module_version": "1.2.0",
      "model_name": "LayoutModel",
      "state": {}
     },
     "6dfdf351ce714eeab3aa450402a9509f": {
      "model_module": "@jupyter-widgets/base",
      "model_module_version": "1.2.0",
      "model_name": "LayoutModel",
      "state": {}
     },
     "6e0c536f21b944829e10f1566c0101da": {
      "model_module": "@jupyter-widgets/controls",
      "model_module_version": "1.5.0",
      "model_name": "DescriptionStyleModel",
      "state": {
       "description_width": ""
      }
     },
     "6e2ec7b5d9364e338b6d1c1252877fef": {
      "model_module": "@jupyter-widgets/controls",
      "model_module_version": "1.5.0",
      "model_name": "DescriptionStyleModel",
      "state": {
       "description_width": ""
      }
     },
     "6e3ab83f849f48ab86aac67a7d4ded5f": {
      "model_module": "@jupyter-widgets/base",
      "model_module_version": "1.2.0",
      "model_name": "LayoutModel",
      "state": {}
     },
     "6e3eb97b85e94e388609d45d995cc991": {
      "model_module": "@jupyter-widgets/base",
      "model_module_version": "1.2.0",
      "model_name": "LayoutModel",
      "state": {}
     },
     "6e6b607204e640328160a98cc693a564": {
      "model_module": "@jupyter-widgets/base",
      "model_module_version": "1.2.0",
      "model_name": "LayoutModel",
      "state": {
       "visibility": "hidden"
      }
     },
     "6ec5ae75dc85424a86d9ae43f36340cc": {
      "model_module": "@jupyter-widgets/controls",
      "model_module_version": "1.5.0",
      "model_name": "HTMLModel",
      "state": {
       "layout": "IPY_MODEL_e7f8588af5fc4c4d8a1d63c57444f539",
       "style": "IPY_MODEL_56e60644f3894be9a05ad7caccf2c4e4",
       "value": "Checking: 100%"
      }
     },
     "6f483f7d3b6d43ebbd7c5e9b37758293": {
      "model_module": "@jupyter-widgets/controls",
      "model_module_version": "1.5.0",
      "model_name": "ProgressStyleModel",
      "state": {
       "description_width": ""
      }
     },
     "6f623f7f5b2448aeb6c9c9fb3f7daa26": {
      "model_module": "@jupyter-widgets/base",
      "model_module_version": "1.2.0",
      "model_name": "LayoutModel",
      "state": {
       "visibility": "hidden"
      }
     },
     "6f6b925cd55e480f8fd5ee79fe003816": {
      "model_module": "@jupyter-widgets/base",
      "model_module_version": "1.2.0",
      "model_name": "LayoutModel",
      "state": {}
     },
     "6f95470eb56345b5b69cbf11e12127e0": {
      "model_module": "@jupyter-widgets/base",
      "model_module_version": "1.2.0",
      "model_name": "LayoutModel",
      "state": {}
     },
     "700b5f1e69ee4b7d9eb6dc717a7cdcbf": {
      "model_module": "@jupyter-widgets/base",
      "model_module_version": "1.2.0",
      "model_name": "LayoutModel",
      "state": {}
     },
     "703abbba457c418394bddce2245ea27e": {
      "model_module": "@jupyter-widgets/base",
      "model_module_version": "1.2.0",
      "model_name": "LayoutModel",
      "state": {
       "visibility": "hidden"
      }
     },
     "70523a98c254462297c39e1132d24517": {
      "model_module": "@jupyter-widgets/base",
      "model_module_version": "1.2.0",
      "model_name": "LayoutModel",
      "state": {
       "visibility": "hidden"
      }
     },
     "706d22314e804862a0c9a2f741ec953a": {
      "model_module": "@jupyter-widgets/base",
      "model_module_version": "1.2.0",
      "model_name": "LayoutModel",
      "state": {}
     },
     "70caad3de3eb4c1484051f33b0f75d6f": {
      "model_module": "@jupyter-widgets/base",
      "model_module_version": "1.2.0",
      "model_name": "LayoutModel",
      "state": {}
     },
     "714d4689801442a1b2f248578cfd0605": {
      "model_module": "@jupyter-widgets/controls",
      "model_module_version": "1.5.0",
      "model_name": "HTMLModel",
      "state": {
       "layout": "IPY_MODEL_228eb48a7e974fc398cca13cb237c8e4",
       "style": "IPY_MODEL_74b3b71a13064fdbb540ed427e211d4c",
       "value": "bed (4):  99%"
      }
     },
     "7154620778324747946f9349d59dbb0b": {
      "model_module": "@jupyter-widgets/base",
      "model_module_version": "1.2.0",
      "model_name": "LayoutModel",
      "state": {}
     },
     "7169aef36d874d998ade9dc9a3899495": {
      "model_module": "@jupyter-widgets/controls",
      "model_module_version": "1.5.0",
      "model_name": "DescriptionStyleModel",
      "state": {
       "description_width": ""
      }
     },
     "716a7b3694ca4e32a3ca60d7b10497b9": {
      "model_module": "@jupyter-widgets/controls",
      "model_module_version": "1.5.0",
      "model_name": "DescriptionStyleModel",
      "state": {
       "description_width": ""
      }
     },
     "716ca48ae7bc4400a80797d993084bff": {
      "model_module": "@jupyter-widgets/base",
      "model_module_version": "1.2.0",
      "model_name": "LayoutModel",
      "state": {}
     },
     "71811dc4d38b4a81ad09c55a1bfe6567": {
      "model_module": "@jupyter-widgets/controls",
      "model_module_version": "1.5.0",
      "model_name": "DescriptionStyleModel",
      "state": {
       "description_width": ""
      }
     },
     "71818156a96c4502a58c50d890f25298": {
      "model_module": "@jupyter-widgets/base",
      "model_module_version": "1.2.0",
      "model_name": "LayoutModel",
      "state": {}
     },
     "7181e9b778994c82a2c24addddc45d88": {
      "model_module": "@jupyter-widgets/base",
      "model_module_version": "1.2.0",
      "model_name": "LayoutModel",
      "state": {}
     },
     "71b069f16fa74606aedc449c80b72b30": {
      "model_module": "@jupyter-widgets/base",
      "model_module_version": "1.2.0",
      "model_name": "LayoutModel",
      "state": {}
     },
     "71c12141ba6a49d589cff4514da7f867": {
      "model_module": "@jupyter-widgets/controls",
      "model_module_version": "1.5.0",
      "model_name": "FloatProgressModel",
      "state": {
       "layout": "IPY_MODEL_be4638a09b444c1ea167e6917942e2dc",
       "max": 290,
       "style": "IPY_MODEL_b15c24da07ad46fabfe155c8d0c6f926",
       "value": 290
      }
     },
     "722bbfa725d04e799083e056fbbb9763": {
      "model_module": "@jupyter-widgets/controls",
      "model_module_version": "1.5.0",
      "model_name": "HTMLModel",
      "state": {
       "layout": "IPY_MODEL_a5f22340770d4ee4916a6e8aafa3488a",
       "style": "IPY_MODEL_98f075b75f4a446aa60c82cc24c87d05",
       "value": " 6120/6120 [01:35&lt;00:00, 64.47it/s]"
      }
     },
     "72498d473cbf47e1b0f80333e3771c22": {
      "model_module": "@jupyter-widgets/base",
      "model_module_version": "1.2.0",
      "model_name": "LayoutModel",
      "state": {}
     },
     "72b1d64983f84a7b93bfface852e3aad": {
      "model_module": "@jupyter-widgets/base",
      "model_module_version": "1.2.0",
      "model_name": "LayoutModel",
      "state": {
       "visibility": "hidden"
      }
     },
     "730e512d8322453bbcd400f587937d7b": {
      "model_module": "@jupyter-widgets/controls",
      "model_module_version": "1.5.0",
      "model_name": "HTMLModel",
      "state": {
       "layout": "IPY_MODEL_b9a2ac4dd3d1459eb2d3dc2ebac5afaa",
       "style": "IPY_MODEL_5345970e2f7645bf82cfb0bd34a7d0b6",
       "value": " 45/61 [00:00&lt;00:00, 146.17it/s]"
      }
     },
     "732903e3eafb42b8adc672c558bc98c1": {
      "model_module": "@jupyter-widgets/controls",
      "model_module_version": "1.5.0",
      "model_name": "DescriptionStyleModel",
      "state": {
       "description_width": ""
      }
     },
     "7329b973b73847049cadbdf07316ae41": {
      "model_module": "@jupyter-widgets/controls",
      "model_module_version": "1.5.0",
      "model_name": "DescriptionStyleModel",
      "state": {
       "description_width": ""
      }
     },
     "7333c922b9b540e1b9a19a6b9a8a9875": {
      "model_module": "@jupyter-widgets/controls",
      "model_module_version": "1.5.0",
      "model_name": "HTMLModel",
      "state": {
       "layout": "IPY_MODEL_9a0ccb66614146a58efcb365a910e7fe",
       "style": "IPY_MODEL_4d015096d4a44cee8d6d0834a9fa64b9",
       "value": " 983/1000 [00:05&lt;00:00, 168.87it/s]"
      }
     },
     "73341b1ab31b485cbf80021896328a1b": {
      "model_module": "@jupyter-widgets/base",
      "model_module_version": "1.2.0",
      "model_name": "LayoutModel",
      "state": {}
     },
     "7365bcdf2c1b4a28a81b8ff39b54242e": {
      "model_module": "@jupyter-widgets/controls",
      "model_module_version": "1.5.0",
      "model_name": "DescriptionStyleModel",
      "state": {
       "description_width": ""
      }
     },
     "738d313d69524e2b97c50af9cd404388": {
      "model_module": "@jupyter-widgets/controls",
      "model_module_version": "1.5.0",
      "model_name": "DescriptionStyleModel",
      "state": {
       "description_width": ""
      }
     },
     "739ec3ddebf24a868678997020298c57": {
      "model_module": "@jupyter-widgets/controls",
      "model_module_version": "1.5.0",
      "model_name": "DescriptionStyleModel",
      "state": {
       "description_width": ""
      }
     },
     "73bda4d5d9754001996330531acfce16": {
      "model_module": "@jupyter-widgets/controls",
      "model_module_version": "1.5.0",
      "model_name": "DescriptionStyleModel",
      "state": {
       "description_width": ""
      }
     },
     "73c1c93990f64d1fa5c27a0fb4d3dc6b": {
      "model_module": "@jupyter-widgets/controls",
      "model_module_version": "1.5.0",
      "model_name": "ProgressStyleModel",
      "state": {
       "description_width": ""
      }
     },
     "73e8bf95812b4bd48c9660cfe0842285": {
      "model_module": "@jupyter-widgets/base",
      "model_module_version": "1.2.0",
      "model_name": "LayoutModel",
      "state": {}
     },
     "7403c93fa6394a63b9c6b2e352e9e137": {
      "model_module": "@jupyter-widgets/controls",
      "model_module_version": "1.5.0",
      "model_name": "HTMLModel",
      "state": {
       "layout": "IPY_MODEL_3e3ffaccd47e4ff3b87bd7b229af1017",
       "style": "IPY_MODEL_bb6e2a3170e24d7f90dce4e5548b52c7",
       "value": "tree (4): 100%"
      }
     },
     "7408f150ee5042539e28465fe2ebc508": {
      "model_module": "@jupyter-widgets/controls",
      "model_module_version": "1.5.0",
      "model_name": "HTMLModel",
      "state": {
       "layout": "IPY_MODEL_0a1e5821b92047bcb01121aae2d2bd9f",
       "style": "IPY_MODEL_6b3c7374676141c08dccb1934765c088",
       "value": " 226/232 [00:03&lt;00:00, 63.95it/s]"
      }
     },
     "7429f7af5a104e949233cb93bb2e1729": {
      "model_module": "@jupyter-widgets/controls",
      "model_module_version": "1.5.0",
      "model_name": "ProgressStyleModel",
      "state": {
       "description_width": ""
      }
     },
     "7452076090654b6fad8ea16cff70837d": {
      "model_module": "@jupyter-widgets/base",
      "model_module_version": "1.2.0",
      "model_name": "LayoutModel",
      "state": {}
     },
     "74617202ed524f68ab661989907ca6b9": {
      "model_module": "@jupyter-widgets/controls",
      "model_module_version": "1.5.0",
      "model_name": "FloatProgressModel",
      "state": {
       "layout": "IPY_MODEL_cdb7342aca934ea0968f44d1a63828bf",
       "max": 173,
       "style": "IPY_MODEL_d944e590d91e44af9335eed7c514cdb5",
       "value": 173
      }
     },
     "74b3b71a13064fdbb540ed427e211d4c": {
      "model_module": "@jupyter-widgets/controls",
      "model_module_version": "1.5.0",
      "model_name": "DescriptionStyleModel",
      "state": {
       "description_width": ""
      }
     },
     "74cfabc4dfa94ff0a0f6ada2fcf1037c": {
      "model_module": "@jupyter-widgets/controls",
      "model_module_version": "1.5.0",
      "model_name": "ProgressStyleModel",
      "state": {
       "description_width": ""
      }
     },
     "74d5cb29974f4675a632d2592085f542": {
      "model_module": "@jupyter-widgets/controls",
      "model_module_version": "1.5.0",
      "model_name": "HTMLModel",
      "state": {
       "layout": "IPY_MODEL_29fb49f33e4c43ce8a152e3f13bf54bf",
       "style": "IPY_MODEL_1e549850a1374cb2bea7f2cd0214debb",
       "value": " 1592/1592 [01:01&lt;00:00, 22.73it/s]"
      }
     },
     "74e077f6e8194773bcb949f93602a30b": {
      "model_module": "@jupyter-widgets/base",
      "model_module_version": "1.2.0",
      "model_name": "LayoutModel",
      "state": {}
     },
     "752fb3c2669a443aba097d3ca30e2c3e": {
      "model_module": "@jupyter-widgets/controls",
      "model_module_version": "1.5.0",
      "model_name": "DescriptionStyleModel",
      "state": {
       "description_width": ""
      }
     },
     "7560eea19d704049a73810362920112c": {
      "model_module": "@jupyter-widgets/controls",
      "model_module_version": "1.5.0",
      "model_name": "ProgressStyleModel",
      "state": {
       "description_width": ""
      }
     },
     "75a5d88346ea4917a024e87866f2ad0a": {
      "model_module": "@jupyter-widgets/base",
      "model_module_version": "1.2.0",
      "model_name": "LayoutModel",
      "state": {}
     },
     "75a81dc76fc74099a1070973bb437314": {
      "model_module": "@jupyter-widgets/base",
      "model_module_version": "1.2.0",
      "model_name": "LayoutModel",
      "state": {}
     },
     "75b9b2baa9ea4af4a34767bdd7bfbe62": {
      "model_module": "@jupyter-widgets/controls",
      "model_module_version": "1.5.0",
      "model_name": "DescriptionStyleModel",
      "state": {
       "description_width": ""
      }
     },
     "75c7d99b4986403fb905385b8cc6b000": {
      "model_module": "@jupyter-widgets/controls",
      "model_module_version": "1.5.0",
      "model_name": "HTMLModel",
      "state": {
       "layout": "IPY_MODEL_688836c1eec24ef684aac8f49c1d7679",
       "style": "IPY_MODEL_8c96e743bd344c84962b951d3dad1621",
       "value": "on (4): 100%"
      }
     },
     "75d63a9813a44371831e60570305d989": {
      "model_module": "@jupyter-widgets/controls",
      "model_module_version": "1.5.0",
      "model_name": "HTMLModel",
      "state": {
       "layout": "IPY_MODEL_08b9bfa1aea94a90aae6ede275c43b5e",
       "style": "IPY_MODEL_649b6d0470694556854d0824fdbb2577",
       "value": "Processing words: 100%"
      }
     },
     "76264e3f04c34112b730026b8f100ec1": {
      "model_module": "@jupyter-widgets/base",
      "model_module_version": "1.2.0",
      "model_name": "LayoutModel",
      "state": {}
     },
     "762c0da9daef4d21a2e1c5bff17345b0": {
      "model_module": "@jupyter-widgets/base",
      "model_module_version": "1.2.0",
      "model_name": "LayoutModel",
      "state": {}
     },
     "7642b4f691f5451fb9d49bbda44de330": {
      "model_module": "@jupyter-widgets/controls",
      "model_module_version": "1.5.0",
      "model_name": "FloatProgressModel",
      "state": {
       "layout": "IPY_MODEL_453a75ed63ae4efe9755d3f00533cbdf",
       "max": 137,
       "style": "IPY_MODEL_c630dcf816fb49a9b68df93a0d626aae",
       "value": 137
      }
     },
     "764a53477a8a41b6b835b57d539f4889": {
      "model_module": "@jupyter-widgets/controls",
      "model_module_version": "1.5.0",
      "model_name": "DescriptionStyleModel",
      "state": {
       "description_width": ""
      }
     },
     "766590df5470483faad36b2589c93630": {
      "model_module": "@jupyter-widgets/controls",
      "model_module_version": "1.5.0",
      "model_name": "DescriptionStyleModel",
      "state": {
       "description_width": ""
      }
     },
     "767324cf66404ce2bb75f008bd3d1942": {
      "model_module": "@jupyter-widgets/controls",
      "model_module_version": "1.5.0",
      "model_name": "HTMLModel",
      "state": {
       "layout": "IPY_MODEL_8935b05f2b784a6588f95c0b72daf34b",
       "style": "IPY_MODEL_8a18eef8ca894e2da977a437b8d601f4",
       "value": "Checking: 100%"
      }
     },
     "7675f9cd57da4840a896cf7fe35b83ce": {
      "model_module": "@jupyter-widgets/controls",
      "model_module_version": "1.5.0",
      "model_name": "HTMLModel",
      "state": {
       "layout": "IPY_MODEL_fc013a86d67c44a0bb38566c8733a5fb",
       "style": "IPY_MODEL_77ebaca4ee3d462f9c26cf8f92e2072e",
       "value": "off (4):  99%"
      }
     },
     "76894e1d251b4046a97556e237c1e5c0": {
      "model_module": "@jupyter-widgets/base",
      "model_module_version": "1.2.0",
      "model_name": "LayoutModel",
      "state": {}
     },
     "7694eec0d9d4441cb5c02688eb3e0a04": {
      "model_module": "@jupyter-widgets/base",
      "model_module_version": "1.2.0",
      "model_name": "LayoutModel",
      "state": {}
     },
     "76a0a5abd23446e1bcc16189c82eeed9": {
      "model_module": "@jupyter-widgets/controls",
      "model_module_version": "1.5.0",
      "model_name": "HTMLModel",
      "state": {
       "layout": "IPY_MODEL_3168e0379e684260ad33fecefd50dd28",
       "style": "IPY_MODEL_4a11452c46f042cf8feb693fe6b8da00",
       "value": " 2461/2464 [00:40&lt;00:00, 62.62it/s]"
      }
     },
     "76cdb7eccd3940ffbf30ca97f9625f08": {
      "model_module": "@jupyter-widgets/controls",
      "model_module_version": "1.5.0",
      "model_name": "HTMLModel",
      "state": {
       "layout": "IPY_MODEL_225a891fec9847b48189d506f71de5de",
       "style": "IPY_MODEL_594cca89e02148b083914683f8196825",
       "value": " 270/271 [00:04&lt;00:00, 64.01it/s]"
      }
     },
     "76ee10fb685d45c8b9fbb7fef2b9342b": {
      "model_module": "@jupyter-widgets/controls",
      "model_module_version": "1.5.0",
      "model_name": "ProgressStyleModel",
      "state": {
       "description_width": ""
      }
     },
     "76eeef0efdb54452b357dace709d8070": {
      "model_module": "@jupyter-widgets/controls",
      "model_module_version": "1.5.0",
      "model_name": "DescriptionStyleModel",
      "state": {
       "description_width": ""
      }
     },
     "76fe684dfc254123a120afa809200880": {
      "model_module": "@jupyter-widgets/controls",
      "model_module_version": "1.5.0",
      "model_name": "ProgressStyleModel",
      "state": {
       "description_width": ""
      }
     },
     "7713873ca89f41bebc6a0307fc1ece1f": {
      "model_module": "@jupyter-widgets/controls",
      "model_module_version": "1.5.0",
      "model_name": "FloatProgressModel",
      "state": {
       "layout": "IPY_MODEL_8ea37870753644e890f1916b44afb1b8",
       "max": 3860,
       "style": "IPY_MODEL_68bbc95563df41e1b056d03b925f06de",
       "value": 3860
      }
     },
     "77a22326a7254e4d855e64f3dcfd7279": {
      "model_module": "@jupyter-widgets/controls",
      "model_module_version": "1.5.0",
      "model_name": "ProgressStyleModel",
      "state": {
       "description_width": ""
      }
     },
     "77e362259f554200bee085df43d95079": {
      "model_module": "@jupyter-widgets/base",
      "model_module_version": "1.2.0",
      "model_name": "LayoutModel",
      "state": {
       "visibility": "hidden"
      }
     },
     "77ebaca4ee3d462f9c26cf8f92e2072e": {
      "model_module": "@jupyter-widgets/controls",
      "model_module_version": "1.5.0",
      "model_name": "DescriptionStyleModel",
      "state": {
       "description_width": ""
      }
     },
     "780f79999f034993b28fd312706113ca": {
      "model_module": "@jupyter-widgets/base",
      "model_module_version": "1.2.0",
      "model_name": "LayoutModel",
      "state": {}
     },
     "78658eeec1da4ca6af8ef4c1d9355129": {
      "model_module": "@jupyter-widgets/controls",
      "model_module_version": "1.5.0",
      "model_name": "DescriptionStyleModel",
      "state": {
       "description_width": ""
      }
     },
     "787193ac63bd493d9b74821f9b137c5a": {
      "model_module": "@jupyter-widgets/controls",
      "model_module_version": "1.5.0",
      "model_name": "DescriptionStyleModel",
      "state": {
       "description_width": ""
      }
     },
     "78a74985d73844d09245db2ed4ebef7a": {
      "model_module": "@jupyter-widgets/base",
      "model_module_version": "1.2.0",
      "model_name": "LayoutModel",
      "state": {}
     },
     "78b26a06ae8847439ce2caf890a2d330": {
      "model_module": "@jupyter-widgets/controls",
      "model_module_version": "1.5.0",
      "model_name": "FloatProgressModel",
      "state": {
       "layout": "IPY_MODEL_2df1fd00161a402ca80e360bf8e9e0ff",
       "max": 2250,
       "style": "IPY_MODEL_c784161279eb4b42b17d49d5c59e1cba",
       "value": 2250
      }
     },
     "78b78f7ab4174e7681c6a411eeff702b": {
      "model_module": "@jupyter-widgets/base",
      "model_module_version": "1.2.0",
      "model_name": "LayoutModel",
      "state": {}
     },
     "78bcbecd0a77407eb3e1728f799ed41b": {
      "model_module": "@jupyter-widgets/controls",
      "model_module_version": "1.5.0",
      "model_name": "DescriptionStyleModel",
      "state": {
       "description_width": ""
      }
     },
     "78dcf9438c3442188e682cc79f953ada": {
      "model_module": "@jupyter-widgets/base",
      "model_module_version": "1.2.0",
      "model_name": "LayoutModel",
      "state": {
       "visibility": "hidden"
      }
     },
     "79841fd44de14661bb175cb9520e6d74": {
      "model_module": "@jupyter-widgets/base",
      "model_module_version": "1.2.0",
      "model_name": "LayoutModel",
      "state": {}
     },
     "79c1434a52d74fbf87b994a1a374325a": {
      "model_module": "@jupyter-widgets/base",
      "model_module_version": "1.2.0",
      "model_name": "LayoutModel",
      "state": {
       "visibility": "hidden"
      }
     },
     "79e8ce8806b64738986e9b48ac7b4378": {
      "model_module": "@jupyter-widgets/controls",
      "model_module_version": "1.5.0",
      "model_name": "HTMLModel",
      "state": {
       "layout": "IPY_MODEL_67c41fcbe09044398598a9761b4d8d7c",
       "style": "IPY_MODEL_6e2ec7b5d9364e338b6d1c1252877fef",
       "value": " 44515/44520 [12:11&lt;00:00, 63.94it/s]"
      }
     },
     "7a4d858ad4314597ad6b4c05ad170248": {
      "model_module": "@jupyter-widgets/base",
      "model_module_version": "1.2.0",
      "model_name": "LayoutModel",
      "state": {}
     },
     "7a932bf4c0d24906b5ac9c727f44ccac": {
      "model_module": "@jupyter-widgets/controls",
      "model_module_version": "1.5.0",
      "model_name": "FloatProgressModel",
      "state": {
       "layout": "IPY_MODEL_7d0554dcc84c45d7a249bbbe21ef55cc",
       "max": 132,
       "style": "IPY_MODEL_a231a9b4ff5f4ea7b5468e24685cb007",
       "value": 132
      }
     },
     "7ac013627c28441aad2007d439c3b426": {
      "model_module": "@jupyter-widgets/base",
      "model_module_version": "1.2.0",
      "model_name": "LayoutModel",
      "state": {
       "visibility": "hidden"
      }
     },
     "7af2c8422274433b9c30077514a1863c": {
      "model_module": "@jupyter-widgets/controls",
      "model_module_version": "1.5.0",
      "model_name": "FloatProgressModel",
      "state": {
       "layout": "IPY_MODEL_88dbd8bb8f0744c597919ecb6743d16c",
       "max": 369,
       "style": "IPY_MODEL_d226532cd5bd4baaa108192b385f2b9f",
       "value": 369
      }
     },
     "7af7fc0e5cb64fd49aeacc59fffef290": {
      "model_module": "@jupyter-widgets/base",
      "model_module_version": "1.2.0",
      "model_name": "LayoutModel",
      "state": {
       "visibility": "hidden"
      }
     },
     "7b060bc4bdec418fa14e6427e2aa3ea8": {
      "model_module": "@jupyter-widgets/base",
      "model_module_version": "1.2.0",
      "model_name": "LayoutModel",
      "state": {}
     },
     "7b513278ab8b448a8e70971b5a94618f": {
      "model_module": "@jupyter-widgets/controls",
      "model_module_version": "1.5.0",
      "model_name": "FloatProgressModel",
      "state": {
       "layout": "IPY_MODEL_595b4092494d4c7fa8c0d4acf8cd3fde",
       "max": 1293,
       "style": "IPY_MODEL_4294ff191942487f857daf701b5be45c",
       "value": 1293
      }
     },
     "7b6699c47dc440af9d7ad6ba0a205d06": {
      "model_module": "@jupyter-widgets/base",
      "model_module_version": "1.2.0",
      "model_name": "LayoutModel",
      "state": {}
     },
     "7bc7922cc4884f05af8ffa99e5f4a20c": {
      "model_module": "@jupyter-widgets/controls",
      "model_module_version": "1.5.0",
      "model_name": "HTMLModel",
      "state": {
       "layout": "IPY_MODEL_4271c1381d144758b47f19a2a526f72a",
       "style": "IPY_MODEL_c586651a81d84c66ba49ad68d2a5edc3",
       "value": " 290/290 [00:04&lt;00:00, 63.77it/s]"
      }
     },
     "7bed1c4e5e5b48e49c53b1532555ea6e": {
      "model_module": "@jupyter-widgets/controls",
      "model_module_version": "1.5.0",
      "model_name": "ProgressStyleModel",
      "state": {
       "description_width": ""
      }
     },
     "7c00c7fff74e4366ae44ea64a020d4c8": {
      "model_module": "@jupyter-widgets/controls",
      "model_module_version": "1.5.0",
      "model_name": "FloatProgressModel",
      "state": {
       "layout": "IPY_MODEL_a63cedf5d9f540f381c5cd5ff3c5d3fc",
       "max": 233,
       "style": "IPY_MODEL_f3e95aad34364be89c838a1d85ddbd36",
       "value": 233
      }
     },
     "7c3ee5a96ecb4963b538608b7b403de6": {
      "model_module": "@jupyter-widgets/base",
      "model_module_version": "1.2.0",
      "model_name": "LayoutModel",
      "state": {}
     },
     "7c618dbe5d154b18bdd014810316bdbc": {
      "model_module": "@jupyter-widgets/controls",
      "model_module_version": "1.5.0",
      "model_name": "ProgressStyleModel",
      "state": {
       "description_width": ""
      }
     },
     "7c6d65b0a0254d4da2bb6017b5e31003": {
      "model_module": "@jupyter-widgets/controls",
      "model_module_version": "1.5.0",
      "model_name": "DescriptionStyleModel",
      "state": {
       "description_width": ""
      }
     },
     "7c74e91138cd4148b8b459657c95e4c2": {
      "model_module": "@jupyter-widgets/base",
      "model_module_version": "1.2.0",
      "model_name": "LayoutModel",
      "state": {
       "visibility": "hidden"
      }
     },
     "7ca113ddf50f4bcb81696991ba097250": {
      "model_module": "@jupyter-widgets/controls",
      "model_module_version": "1.5.0",
      "model_name": "FloatProgressModel",
      "state": {
       "layout": "IPY_MODEL_047f89b7aa2a4432bea11389055f4b85",
       "max": 181,
       "style": "IPY_MODEL_2ae67cdafee84bddafd23b2f3617b9d2",
       "value": 181
      }
     },
     "7ca9f2a7fd3b4bd0ac9fe43c8760e6b4": {
      "model_module": "@jupyter-widgets/controls",
      "model_module_version": "1.5.0",
      "model_name": "DescriptionStyleModel",
      "state": {
       "description_width": ""
      }
     },
     "7cc19dc13f394eeab5ef7a50f3151fc6": {
      "model_module": "@jupyter-widgets/base",
      "model_module_version": "1.2.0",
      "model_name": "LayoutModel",
      "state": {}
     },
     "7ce748a5155f4e4b9f969772360d8679": {
      "model_module": "@jupyter-widgets/controls",
      "model_module_version": "1.5.0",
      "model_name": "FloatProgressModel",
      "state": {
       "layout": "IPY_MODEL_4067ee32ce7a425f8155f35972681b26",
       "max": 3787,
       "style": "IPY_MODEL_4e66d960bda248599847560496340969",
       "value": 3787
      }
     },
     "7ce850a4212f41db8f71c960140869c1": {
      "model_module": "@jupyter-widgets/controls",
      "model_module_version": "1.5.0",
      "model_name": "HTMLModel",
      "state": {
       "layout": "IPY_MODEL_79841fd44de14661bb175cb9520e6d74",
       "style": "IPY_MODEL_e2b17986087840bb980ed231fbd15a02",
       "value": " 170/173 [00:02&lt;00:00, 61.16it/s]"
      }
     },
     "7d0554dcc84c45d7a249bbbe21ef55cc": {
      "model_module": "@jupyter-widgets/base",
      "model_module_version": "1.2.0",
      "model_name": "LayoutModel",
      "state": {}
     },
     "7d2151543e8a4ff180340bbba6a27801": {
      "model_module": "@jupyter-widgets/controls",
      "model_module_version": "1.5.0",
      "model_name": "HTMLModel",
      "state": {
       "layout": "IPY_MODEL_2cac0916b69847b28957bd71badc23af",
       "style": "IPY_MODEL_c1cde7fe134740c388701384a0d6d66d",
       "value": "forward (0): 100%"
      }
     },
     "7d3f176386e645649c4cf2dc9f9da9b7": {
      "model_module": "@jupyter-widgets/controls",
      "model_module_version": "1.5.0",
      "model_name": "HTMLModel",
      "state": {
       "layout": "IPY_MODEL_237216857db14763ab26ab51ffea2249",
       "style": "IPY_MODEL_e0025023f9154eed8b48d14604fb833d",
       "value": " 164/170 [00:02&lt;00:00, 63.59it/s]"
      }
     },
     "7d78f8efb958411294b6307ec0ccb5d8": {
      "model_module": "@jupyter-widgets/controls",
      "model_module_version": "1.5.0",
      "model_name": "HTMLModel",
      "state": {
       "layout": "IPY_MODEL_cdefd3ab73af4bc2ad5195683ea0e35d",
       "style": "IPY_MODEL_6e0c536f21b944829e10f1566c0101da",
       "value": "Checking: 100%"
      }
     },
     "7d98b560dd8c4d31a02798d210e6842f": {
      "model_module": "@jupyter-widgets/controls",
      "model_module_version": "1.5.0",
      "model_name": "HTMLModel",
      "state": {
       "layout": "IPY_MODEL_b2151b050fc44e9fa943aef55552badb",
       "style": "IPY_MODEL_13cedad4491a4f1486c0241068cde38f",
       "value": "follow (4):  98%"
      }
     },
     "7dc98b3405f0403890efa2a1b33f8788": {
      "model_module": "@jupyter-widgets/controls",
      "model_module_version": "1.5.0",
      "model_name": "HBoxModel",
      "state": {
       "children": [
        "IPY_MODEL_29bb9a453d5343a8984727662d02646a",
        "IPY_MODEL_2476d065a2f043cda47cf6fa9758f4da",
        "IPY_MODEL_53c7c79958984a78a1fbaca503066bec"
       ],
       "layout": "IPY_MODEL_f8aea49b6d534157b64c623a323bd3d9"
      }
     },
     "7ddeaecfd314496b94751a650ad8a815": {
      "model_module": "@jupyter-widgets/base",
      "model_module_version": "1.2.0",
      "model_name": "LayoutModel",
      "state": {}
     },
     "7e0acc7d2a584cb6bc776df32af92859": {
      "model_module": "@jupyter-widgets/base",
      "model_module_version": "1.2.0",
      "model_name": "LayoutModel",
      "state": {}
     },
     "7e22922988fc4e36b815b5d9717ebb52": {
      "model_module": "@jupyter-widgets/controls",
      "model_module_version": "1.5.0",
      "model_name": "FloatProgressModel",
      "state": {
       "layout": "IPY_MODEL_8026332871734a3ea98ba49a1b0eb8ae",
       "max": 3941,
       "style": "IPY_MODEL_e8c76e07576948ca9a9b032970dcda9f",
       "value": 3941
      }
     },
     "7e759fafb72b4d13b84427a0c98b2c9d": {
      "model_module": "@jupyter-widgets/base",
      "model_module_version": "1.2.0",
      "model_name": "LayoutModel",
      "state": {}
     },
     "7ed1d01f9006416a9e06aaa75b6bfa86": {
      "model_module": "@jupyter-widgets/base",
      "model_module_version": "1.2.0",
      "model_name": "LayoutModel",
      "state": {
       "visibility": "hidden"
      }
     },
     "7efe370d5c3a431aa9c0b84f77d1da44": {
      "model_module": "@jupyter-widgets/base",
      "model_module_version": "1.2.0",
      "model_name": "LayoutModel",
      "state": {}
     },
     "7f1feb6e781241b0bb39eee24e54e347": {
      "model_module": "@jupyter-widgets/base",
      "model_module_version": "1.2.0",
      "model_name": "LayoutModel",
      "state": {
       "visibility": "hidden"
      }
     },
     "7f2a3988aed04e73ac7f0ad190853bf1": {
      "model_module": "@jupyter-widgets/controls",
      "model_module_version": "1.5.0",
      "model_name": "DescriptionStyleModel",
      "state": {
       "description_width": ""
      }
     },
     "7f334f2b3c764484821c051b2b1bba28": {
      "model_module": "@jupyter-widgets/base",
      "model_module_version": "1.2.0",
      "model_name": "LayoutModel",
      "state": {}
     },
     "7f56ac165f144d1f96eb4cb482a7df05": {
      "model_module": "@jupyter-widgets/controls",
      "model_module_version": "1.5.0",
      "model_name": "ProgressStyleModel",
      "state": {
       "description_width": ""
      }
     },
     "7f6633e0313d4b5082f34f89de206574": {
      "model_module": "@jupyter-widgets/controls",
      "model_module_version": "1.5.0",
      "model_name": "HTMLModel",
      "state": {
       "layout": "IPY_MODEL_83815fef853a4a29bcf2ce5a3088ee16",
       "style": "IPY_MODEL_c795cbf346034d54aab74ee8742d7617",
       "value": " 340/346 [00:05&lt;00:00, 64.01it/s]"
      }
     },
     "7f96a943847e4958baf6c960ef374ad2": {
      "model_module": "@jupyter-widgets/base",
      "model_module_version": "1.2.0",
      "model_name": "LayoutModel",
      "state": {}
     },
     "7fe344fc76544d6c8114787a60a6b66b": {
      "model_module": "@jupyter-widgets/base",
      "model_module_version": "1.2.0",
      "model_name": "LayoutModel",
      "state": {}
     },
     "7feaebd87e6649dbb4941084a4888c60": {
      "model_module": "@jupyter-widgets/controls",
      "model_module_version": "1.5.0",
      "model_name": "DescriptionStyleModel",
      "state": {
       "description_width": ""
      }
     },
     "800ac3e5f5504c3080d83156153368bd": {
      "model_module": "@jupyter-widgets/base",
      "model_module_version": "1.2.0",
      "model_name": "LayoutModel",
      "state": {}
     },
     "8023c246579e4c84a3ee271def2eed27": {
      "model_module": "@jupyter-widgets/base",
      "model_module_version": "1.2.0",
      "model_name": "LayoutModel",
      "state": {}
     },
     "8026332871734a3ea98ba49a1b0eb8ae": {
      "model_module": "@jupyter-widgets/base",
      "model_module_version": "1.2.0",
      "model_name": "LayoutModel",
      "state": {}
     },
     "803cf516b69445b792137a54a03ea77d": {
      "model_module": "@jupyter-widgets/controls",
      "model_module_version": "1.5.0",
      "model_name": "DescriptionStyleModel",
      "state": {
       "description_width": ""
      }
     },
     "8063167c06544e4797e356f617b687b1": {
      "model_module": "@jupyter-widgets/base",
      "model_module_version": "1.2.0",
      "model_name": "LayoutModel",
      "state": {}
     },
     "809ab59cbe9340f890637be75c0760f3": {
      "model_module": "@jupyter-widgets/controls",
      "model_module_version": "1.5.0",
      "model_name": "HTMLModel",
      "state": {
       "layout": "IPY_MODEL_f0765af6ba9f421e9bf774d6495ad652",
       "style": "IPY_MODEL_f24d1c50883a4323bc5c6aaea172e834",
       "value": "Checking: 100%"
      }
     },
     "80b1b59bc83b4905998dc79dd5203bc8": {
      "model_module": "@jupyter-widgets/controls",
      "model_module_version": "1.5.0",
      "model_name": "HTMLModel",
      "state": {
       "layout": "IPY_MODEL_ebb25fb6014e4936959feabd8bb6fb1b",
       "style": "IPY_MODEL_35e1d3cbbb6a4979a4302cf3e6562aca",
       "value": "zero (4):  99%"
      }
     },
     "80d243c8cda849efbb6001cc0fb7efa8": {
      "model_module": "@jupyter-widgets/controls",
      "model_module_version": "1.5.0",
      "model_name": "HTMLModel",
      "state": {
       "layout": "IPY_MODEL_5785d615f5ad4baa80e506a68e4ff9ec",
       "style": "IPY_MODEL_0d9addfb061d462c8952688fa4ab6477",
       "value": "house (4): 100%"
      }
     },
     "80e050170bb2416a9002c07c5f4a7dd3": {
      "model_module": "@jupyter-widgets/base",
      "model_module_version": "1.2.0",
      "model_name": "LayoutModel",
      "state": {}
     },
     "811dbf4d1dc3497e85dc9e7e8f95ca0e": {
      "model_module": "@jupyter-widgets/controls",
      "model_module_version": "1.5.0",
      "model_name": "HTMLModel",
      "state": {
       "layout": "IPY_MODEL_6ac3ce043536492893385f585c21f4c4",
       "style": "IPY_MODEL_44bd2f31a4fd4ff19667fd6e0baa483f",
       "value": " 3877/3880 [01:47&lt;00:00, 30.49it/s]"
      }
     },
     "8184c82719fb44d28534d29af184f53c": {
      "model_module": "@jupyter-widgets/controls",
      "model_module_version": "1.5.0",
      "model_name": "HTMLModel",
      "state": {
       "layout": "IPY_MODEL_0ff112d077294933ae64e625a5ce3827",
       "style": "IPY_MODEL_634f248aa30e44e98f018e4d57889e72",
       "value": "visual (4): 100%"
      }
     },
     "81bcf27b766b417bb58132dfa3d6c487": {
      "model_module": "@jupyter-widgets/controls",
      "model_module_version": "1.5.0",
      "model_name": "HTMLModel",
      "state": {
       "layout": "IPY_MODEL_d47a43e2dd574e46807c0038bb9a5cad",
       "style": "IPY_MODEL_4e176d8f44b44ffa851bde25427a7b26",
       "value": " 3801/3801 [02:43&lt;00:00, 34.45it/s]"
      }
     },
     "8223fd4b28f4462da1a18f5a584652db": {
      "model_module": "@jupyter-widgets/controls",
      "model_module_version": "1.5.0",
      "model_name": "DescriptionStyleModel",
      "state": {
       "description_width": ""
      }
     },
     "8242bb0192494157bb541394d15cfb9d": {
      "model_module": "@jupyter-widgets/base",
      "model_module_version": "1.2.0",
      "model_name": "LayoutModel",
      "state": {
       "visibility": "hidden"
      }
     },
     "8260dec2e3204937bcb84e3e18246eb7": {
      "model_module": "@jupyter-widgets/controls",
      "model_module_version": "1.5.0",
      "model_name": "HTMLModel",
      "state": {
       "layout": "IPY_MODEL_2e74091f68914ae58da5e1f150ed7a65",
       "style": "IPY_MODEL_19cc1268cad343478067a74360c0004b",
       "value": " 3784/3787 [02:15&lt;00:00, 36.55it/s]"
      }
     },
     "828d0841cc4e42cdbdf9cd421f5f311c": {
      "model_module": "@jupyter-widgets/controls",
      "model_module_version": "1.5.0",
      "model_name": "HTMLModel",
      "state": {
       "layout": "IPY_MODEL_841354be0d1b414ea1470675b0f40f59",
       "style": "IPY_MODEL_200cd5544f8c4ae0b6f542bea387de6e",
       "value": " 51/59 [00:00&lt;00:00, 144.81it/s]"
      }
     },
     "8298e14a68fe4fc7ae33fad1fb2a5aa4": {
      "model_module": "@jupyter-widgets/base",
      "model_module_version": "1.2.0",
      "model_name": "LayoutModel",
      "state": {
       "visibility": "hidden"
      }
     },
     "82cab7a966b54279bf83fd37ec0db6b4": {
      "model_module": "@jupyter-widgets/base",
      "model_module_version": "1.2.0",
      "model_name": "LayoutModel",
      "state": {}
     },
     "82fb6777edf042e0ad12a3ee0cac327e": {
      "model_module": "@jupyter-widgets/controls",
      "model_module_version": "1.5.0",
      "model_name": "HTMLModel",
      "state": {
       "layout": "IPY_MODEL_e540b30b9b174064b8353f67ccacde08",
       "style": "IPY_MODEL_4bc6946124e842ceb507b67ea7f6e4ad",
       "value": "Checking: 100%"
      }
     },
     "83112bc5fe364889b5b9dd1affc07564": {
      "model_module": "@jupyter-widgets/base",
      "model_module_version": "1.2.0",
      "model_name": "LayoutModel",
      "state": {}
     },
     "8321128f4bc949eea3b06aaaa3cd65a9": {
      "model_module": "@jupyter-widgets/base",
      "model_module_version": "1.2.0",
      "model_name": "LayoutModel",
      "state": {}
     },
     "83628202d49a46eb8ea93dd3828f920f": {
      "model_module": "@jupyter-widgets/controls",
      "model_module_version": "1.5.0",
      "model_name": "HTMLModel",
      "state": {
       "layout": "IPY_MODEL_30ad344ab3374762a0d456a1ad3f3433",
       "style": "IPY_MODEL_d5d89fc6b91e4686b5e3e63955ae7b8e",
       "value": "one (4): 100%"
      }
     },
     "8376527390fd4ef3aab94d8c45e56217": {
      "model_module": "@jupyter-widgets/base",
      "model_module_version": "1.2.0",
      "model_name": "LayoutModel",
      "state": {}
     },
     "837c49efc26149c18d201da3eb4f2435": {
      "model_module": "@jupyter-widgets/base",
      "model_module_version": "1.2.0",
      "model_name": "LayoutModel",
      "state": {}
     },
     "83815fef853a4a29bcf2ce5a3088ee16": {
      "model_module": "@jupyter-widgets/base",
      "model_module_version": "1.2.0",
      "model_name": "LayoutModel",
      "state": {}
     },
     "8397959cae12425f833114a2e13d1bbe": {
      "model_module": "@jupyter-widgets/controls",
      "model_module_version": "1.5.0",
      "model_name": "ProgressStyleModel",
      "state": {
       "description_width": ""
      }
     },
     "83b526065ff44d899d3c4114953bca81": {
      "model_module": "@jupyter-widgets/base",
      "model_module_version": "1.2.0",
      "model_name": "LayoutModel",
      "state": {}
     },
     "83db568d9cf74a248744fb7e41db5a48": {
      "model_module": "@jupyter-widgets/controls",
      "model_module_version": "1.5.0",
      "model_name": "FloatProgressModel",
      "state": {
       "layout": "IPY_MODEL_ad37e5bc97794fe6a1108f0a250760c0",
       "max": 2157,
       "style": "IPY_MODEL_149048a883f64a42a91be1f1a78c744e",
       "value": 2157
      }
     },
     "83f4059999054be9956c286dd4cfc9c3": {
      "model_module": "@jupyter-widgets/controls",
      "model_module_version": "1.5.0",
      "model_name": "ProgressStyleModel",
      "state": {
       "description_width": ""
      }
     },
     "841354be0d1b414ea1470675b0f40f59": {
      "model_module": "@jupyter-widgets/base",
      "model_module_version": "1.2.0",
      "model_name": "LayoutModel",
      "state": {}
     },
     "8414c147f7f44449931f888ed18c8ff1": {
      "model_module": "@jupyter-widgets/base",
      "model_module_version": "1.2.0",
      "model_name": "LayoutModel",
      "state": {}
     },
     "845a3be641d3469da928ce22340a2360": {
      "model_module": "@jupyter-widgets/controls",
      "model_module_version": "1.5.0",
      "model_name": "DescriptionStyleModel",
      "state": {
       "description_width": ""
      }
     },
     "845f10835d12460cb325a2cf98cb8efa": {
      "model_module": "@jupyter-widgets/controls",
      "model_module_version": "1.5.0",
      "model_name": "DescriptionStyleModel",
      "state": {
       "description_width": ""
      }
     },
     "846afeab73dd462f8c2f5cece30d4717": {
      "model_module": "@jupyter-widgets/controls",
      "model_module_version": "1.5.0",
      "model_name": "HTMLModel",
      "state": {
       "layout": "IPY_MODEL_df1e5308cf064614a76dbd57589d04e6",
       "style": "IPY_MODEL_47f37a320c184941bbce6a44e377146f",
       "value": " 996/1000 [00:07&lt;00:00, 168.89it/s]"
      }
     },
     "84df6a65e0af4dd3ba1a263a78df8c5f": {
      "model_module": "@jupyter-widgets/controls",
      "model_module_version": "1.5.0",
      "model_name": "FloatProgressModel",
      "state": {
       "layout": "IPY_MODEL_223119fd077c4e4b801cc141f652d86c",
       "max": 1858,
       "style": "IPY_MODEL_08e37596073b48dfb901c541ace27b49",
       "value": 1858
      }
     },
     "8531fb351ed0448dbab6b858ff80ce60": {
      "model_module": "@jupyter-widgets/controls",
      "model_module_version": "1.5.0",
      "model_name": "DescriptionStyleModel",
      "state": {
       "description_width": ""
      }
     },
     "8591feed0fef4314b27ef5ced99b4467": {
      "model_module": "@jupyter-widgets/base",
      "model_module_version": "1.2.0",
      "model_name": "LayoutModel",
      "state": {}
     },
     "85c487a23feb4ee2880b32a79579c082": {
      "model_module": "@jupyter-widgets/controls",
      "model_module_version": "1.5.0",
      "model_name": "HTMLModel",
      "state": {
       "layout": "IPY_MODEL_ca8baff47f4f4544b3271f7932b9bba7",
       "style": "IPY_MODEL_26bdd1de196140dd8daf10ffbff3a726",
       "value": "left (2): 100%"
      }
     },
     "85e7505bd51d4002bfbc11860c4442ea": {
      "model_module": "@jupyter-widgets/base",
      "model_module_version": "1.2.0",
      "model_name": "LayoutModel",
      "state": {}
     },
     "85f4f997975b44f4928a918845a038bd": {
      "model_module": "@jupyter-widgets/base",
      "model_module_version": "1.2.0",
      "model_name": "LayoutModel",
      "state": {}
     },
     "8679a8a8cc804f42a15c8ff79ccb0329": {
      "model_module": "@jupyter-widgets/controls",
      "model_module_version": "1.5.0",
      "model_name": "DescriptionStyleModel",
      "state": {
       "description_width": ""
      }
     },
     "86818baef745434facb73bc125017ccb": {
      "model_module": "@jupyter-widgets/controls",
      "model_module_version": "1.5.0",
      "model_name": "HTMLModel",
      "state": {
       "layout": "IPY_MODEL_6465b68e409342f4806d25a29da23981",
       "style": "IPY_MODEL_d1dae641f5b8487793168f94a08f8348",
       "value": "marvin (4):  98%"
      }
     },
     "86c126f595184cb29e2d45149d1de3ae": {
      "model_module": "@jupyter-widgets/base",
      "model_module_version": "1.2.0",
      "model_name": "LayoutModel",
      "state": {}
     },
     "86d493f0b700498fb5f550533762f1ea": {
      "model_module": "@jupyter-widgets/controls",
      "model_module_version": "1.5.0",
      "model_name": "FloatProgressModel",
      "state": {
       "layout": "IPY_MODEL_8c18c8ba6eb044cdaa094cc142ff6289",
       "max": 3801,
       "style": "IPY_MODEL_b2ea0868d663485f8415561baf5d45d9",
       "value": 3801
      }
     },
     "86d95fdd66e945aa8de6fd0adcbb7e47": {
      "model_module": "@jupyter-widgets/controls",
      "model_module_version": "1.5.0",
      "model_name": "DescriptionStyleModel",
      "state": {
       "description_width": ""
      }
     },
     "86eb17ff6e274631b900787eb502e62a": {
      "model_module": "@jupyter-widgets/controls",
      "model_module_version": "1.5.0",
      "model_name": "HTMLModel",
      "state": {
       "layout": "IPY_MODEL_928b515a5b9340f797b9784c96d69d52",
       "style": "IPY_MODEL_95dec56765794dd3848ce2b1de7c463e",
       "value": " 4697/4700 [01:51&lt;00:00, 39.72it/s]"
      }
     },
     "8743f536648f42e8ac442bbac3568bc3": {
      "model_module": "@jupyter-widgets/controls",
      "model_module_version": "1.5.0",
      "model_name": "FloatProgressModel",
      "state": {
       "layout": "IPY_MODEL_4bd984e374ce4ffdb9d86434a51dbe3b",
       "max": 1759,
       "style": "IPY_MODEL_28c12a31083b4f2897203471481bf8b3",
       "value": 1759
      }
     },
     "8768009331c646e18e8186d64014ba9c": {
      "model_module": "@jupyter-widgets/base",
      "model_module_version": "1.2.0",
      "model_name": "LayoutModel",
      "state": {}
     },
     "87c09751814d49edb57241b60b9a8f60": {
      "model_module": "@jupyter-widgets/controls",
      "model_module_version": "1.5.0",
      "model_name": "FloatProgressModel",
      "state": {
       "layout": "IPY_MODEL_2819cabfd33f4723ad38938ca9569869",
       "max": 309,
       "style": "IPY_MODEL_f05cfb9b2e70458caacb5d17ce6c994c",
       "value": 309
      }
     },
     "87cac04b397c4bb5827ed45d99e9ede1": {
      "model_module": "@jupyter-widgets/base",
      "model_module_version": "1.2.0",
      "model_name": "LayoutModel",
      "state": {}
     },
     "87d575f3b61a484c93bd22df3a4c0233": {
      "model_module": "@jupyter-widgets/controls",
      "model_module_version": "1.5.0",
      "model_name": "DescriptionStyleModel",
      "state": {
       "description_width": ""
      }
     },
     "87f20f2b88bd48aca20366146bd2be07": {
      "model_module": "@jupyter-widgets/controls",
      "model_module_version": "1.5.0",
      "model_name": "HTMLModel",
      "state": {
       "layout": "IPY_MODEL_c30205d0e6354abeaa5c9845b0db64e5",
       "style": "IPY_MODEL_12f428b945a94498a8e9ecce00420f7d",
       "value": "backward (1): 100%"
      }
     },
     "8826aff927d44e3f8438cb203e350995": {
      "model_module": "@jupyter-widgets/controls",
      "model_module_version": "1.5.0",
      "model_name": "ProgressStyleModel",
      "state": {
       "description_width": ""
      }
     },
     "8855733bf48a40cc9a2774e6fa1d2db2": {
      "model_module": "@jupyter-widgets/base",
      "model_module_version": "1.2.0",
      "model_name": "LayoutModel",
      "state": {
       "visibility": "hidden"
      }
     },
     "889b1682e06647caacb900eea0098128": {
      "model_module": "@jupyter-widgets/controls",
      "model_module_version": "1.5.0",
      "model_name": "DescriptionStyleModel",
      "state": {
       "description_width": ""
      }
     },
     "88c10bb3a85d4e54b88ba6fa6e4e31c1": {
      "model_module": "@jupyter-widgets/controls",
      "model_module_version": "1.5.0",
      "model_name": "DescriptionStyleModel",
      "state": {
       "description_width": ""
      }
     },
     "88dbd8bb8f0744c597919ecb6743d16c": {
      "model_module": "@jupyter-widgets/base",
      "model_module_version": "1.2.0",
      "model_name": "LayoutModel",
      "state": {}
     },
     "8935b05f2b784a6588f95c0b72daf34b": {
      "model_module": "@jupyter-widgets/base",
      "model_module_version": "1.2.0",
      "model_name": "LayoutModel",
      "state": {}
     },
     "893a512c94fb4eae9eae5817796c1303": {
      "model_module": "@jupyter-widgets/base",
      "model_module_version": "1.2.0",
      "model_name": "LayoutModel",
      "state": {}
     },
     "89501c3fb8014f6d8a6b3c1699b2d027": {
      "model_module": "@jupyter-widgets/base",
      "model_module_version": "1.2.0",
      "model_name": "LayoutModel",
      "state": {}
     },
     "8962eadbc7ad4aa4a5ba463955d63f2c": {
      "model_module": "@jupyter-widgets/controls",
      "model_module_version": "1.5.0",
      "model_name": "DescriptionStyleModel",
      "state": {
       "description_width": ""
      }
     },
     "89780f5ed85a4ca0b9d0053f38d4978b": {
      "model_module": "@jupyter-widgets/controls",
      "model_module_version": "1.5.0",
      "model_name": "DescriptionStyleModel",
      "state": {
       "description_width": ""
      }
     },
     "898c67ad3c5b43a1ae0b24a7b366250e": {
      "model_module": "@jupyter-widgets/base",
      "model_module_version": "1.2.0",
      "model_name": "LayoutModel",
      "state": {}
     },
     "89bb3b1c1cd2434a9dfd75b96dd8dcac": {
      "model_module": "@jupyter-widgets/base",
      "model_module_version": "1.2.0",
      "model_name": "LayoutModel",
      "state": {
       "visibility": "hidden"
      }
     },
     "89cefce187a5454886f8973951bdc763": {
      "model_module": "@jupyter-widgets/controls",
      "model_module_version": "1.5.0",
      "model_name": "DescriptionStyleModel",
      "state": {
       "description_width": ""
      }
     },
     "89db08d19c7e461189f319045c12e4a7": {
      "model_module": "@jupyter-widgets/base",
      "model_module_version": "1.2.0",
      "model_name": "LayoutModel",
      "state": {}
     },
     "8a18eef8ca894e2da977a437b8d601f4": {
      "model_module": "@jupyter-widgets/controls",
      "model_module_version": "1.5.0",
      "model_name": "DescriptionStyleModel",
      "state": {
       "description_width": ""
      }
     },
     "8a1d81feab3c4958a33d569333859d35": {
      "model_module": "@jupyter-widgets/controls",
      "model_module_version": "1.5.0",
      "model_name": "DescriptionStyleModel",
      "state": {
       "description_width": ""
      }
     },
     "8a2559579bf84d05b9e82b46bea0cc1e": {
      "model_module": "@jupyter-widgets/controls",
      "model_module_version": "1.5.0",
      "model_name": "ProgressStyleModel",
      "state": {
       "description_width": ""
      }
     },
     "8a67ab8c32a54948b161a0cc22accac7": {
      "model_module": "@jupyter-widgets/controls",
      "model_module_version": "1.5.0",
      "model_name": "FloatProgressModel",
      "state": {
       "layout": "IPY_MODEL_ab2dc190457b4f7b905c3fca6692effc",
       "max": 2321,
       "style": "IPY_MODEL_370f836cafa74828b9c12f5e44807a2c",
       "value": 2321
      }
     },
     "8a6a2772bffd46029f151e5cdab98243": {
      "model_module": "@jupyter-widgets/base",
      "model_module_version": "1.2.0",
      "model_name": "LayoutModel",
      "state": {}
     },
     "8a7cccebfaa54c23a7a58cdc9427293b": {
      "model_module": "@jupyter-widgets/controls",
      "model_module_version": "1.5.0",
      "model_name": "HTMLModel",
      "state": {
       "layout": "IPY_MODEL_706d22314e804862a0c9a2f741ec953a",
       "style": "IPY_MODEL_4c4eff35f12d4033ab126e04c2ec1c9f",
       "value": "four (4):  98%"
      }
     },
     "8a90e68dcdf44a608f44ee9ca0d06b93": {
      "model_module": "@jupyter-widgets/controls",
      "model_module_version": "1.5.0",
      "model_name": "FloatProgressModel",
      "state": {
       "layout": "IPY_MODEL_50729bbef1324d82bb1283091f7687fd",
       "max": 4044,
       "style": "IPY_MODEL_bda9a52b508043c98034385a84f3c3f6",
       "value": 4044
      }
     },
     "8afe4c743f30495fbf999fde88f9fc7e": {
      "model_module": "@jupyter-widgets/base",
      "model_module_version": "1.2.0",
      "model_name": "LayoutModel",
      "state": {}
     },
     "8b0055a84d8944dd82179a0b6dbe561d": {
      "model_module": "@jupyter-widgets/controls",
      "model_module_version": "1.5.0",
      "model_name": "ProgressStyleModel",
      "state": {
       "description_width": ""
      }
     },
     "8b75aa241b734705af834c2a5bc7232f": {
      "model_module": "@jupyter-widgets/controls",
      "model_module_version": "1.5.0",
      "model_name": "DescriptionStyleModel",
      "state": {
       "description_width": ""
      }
     },
     "8b883d7f02ad460ab680c8e3cae13919": {
      "model_module": "@jupyter-widgets/controls",
      "model_module_version": "1.5.0",
      "model_name": "FloatProgressModel",
      "state": {
       "layout": "IPY_MODEL_c19897908177490991f36883df5d672f",
       "max": 163,
       "style": "IPY_MODEL_3bbeb6c908514e8690fe581c13a02898",
       "value": 163
      }
     },
     "8b8fcb26e16949669d3d40753bd6cc3c": {
      "model_module": "@jupyter-widgets/base",
      "model_module_version": "1.2.0",
      "model_name": "LayoutModel",
      "state": {}
     },
     "8b95a102c4264e3bbf5590bbfde33811": {
      "model_module": "@jupyter-widgets/controls",
      "model_module_version": "1.5.0",
      "model_name": "FloatProgressModel",
      "state": {
       "layout": "IPY_MODEL_e1ff1279611e428284d59eafa7ac8120",
       "max": 145,
       "style": "IPY_MODEL_bd66c1ce29894e8bad35f6da3dffc5b8",
       "value": 145
      }
     },
     "8bdb230268f04b20b4d383c71a292acc": {
      "model_module": "@jupyter-widgets/base",
      "model_module_version": "1.2.0",
      "model_name": "LayoutModel",
      "state": {}
     },
     "8bded153755f4ef4a38b7f47c40efcdd": {
      "model_module": "@jupyter-widgets/controls",
      "model_module_version": "1.5.0",
      "model_name": "HTMLModel",
      "state": {
       "layout": "IPY_MODEL_fdb9f14f8694478a996d27010206dc52",
       "style": "IPY_MODEL_14f0f577c1f6480dbee7f163f0c18de0",
       "value": " 3880/3880 [02:06&lt;00:00, 39.27it/s]"
      }
     },
     "8c18c8ba6eb044cdaa094cc142ff6289": {
      "model_module": "@jupyter-widgets/base",
      "model_module_version": "1.2.0",
      "model_name": "LayoutModel",
      "state": {}
     },
     "8c21548e8ca744a5830bde79287178dd": {
      "model_module": "@jupyter-widgets/base",
      "model_module_version": "1.2.0",
      "model_name": "LayoutModel",
      "state": {
       "visibility": "hidden"
      }
     },
     "8c7a9bc0f7424ab3a906c62d874e14c6": {
      "model_module": "@jupyter-widgets/base",
      "model_module_version": "1.2.0",
      "model_name": "LayoutModel",
      "state": {}
     },
     "8c96e743bd344c84962b951d3dad1621": {
      "model_module": "@jupyter-widgets/controls",
      "model_module_version": "1.5.0",
      "model_name": "DescriptionStyleModel",
      "state": {
       "description_width": ""
      }
     },
     "8ca37c0045ef49e7af2552d4efaa6db4": {
      "model_module": "@jupyter-widgets/base",
      "model_module_version": "1.2.0",
      "model_name": "LayoutModel",
      "state": {}
     },
     "8ca81dd3ec304d2f8982b506dd87266c": {
      "model_module": "@jupyter-widgets/controls",
      "model_module_version": "1.5.0",
      "model_name": "HTMLModel",
      "state": {
       "layout": "IPY_MODEL_900a4202665a4dc3b3a6c1eafbbcceb3",
       "style": "IPY_MODEL_d0be8a4690bd468b89cb783001944791",
       "value": " 233/233 [00:03&lt;00:00, 63.28it/s]"
      }
     },
     "8cabc2d67b72450c811993f826edf8c8": {
      "model_module": "@jupyter-widgets/base",
      "model_module_version": "1.2.0",
      "model_name": "LayoutModel",
      "state": {
       "visibility": "hidden"
      }
     },
     "8d05d6ef20714215b8904d86f5d1f080": {
      "model_module": "@jupyter-widgets/controls",
      "model_module_version": "1.5.0",
      "model_name": "DescriptionStyleModel",
      "state": {
       "description_width": ""
      }
     },
     "8d071dfc3d994708bd6f8d5b53bf614a": {
      "model_module": "@jupyter-widgets/controls",
      "model_module_version": "1.5.0",
      "model_name": "HBoxModel",
      "state": {
       "children": [
        "IPY_MODEL_75d63a9813a44371831e60570305d989",
        "IPY_MODEL_a0ad16a620604ccbb266c6ef744ab801",
        "IPY_MODEL_d9a11b40b3484f97b7f7b26ba7f0a986"
       ],
       "layout": "IPY_MODEL_c4f5fb4e5cc84a50aa508cabeeb4f5f4"
      }
     },
     "8d653c0f79ad4bdcbd7f20b5fe08cc91": {
      "model_module": "@jupyter-widgets/base",
      "model_module_version": "1.2.0",
      "model_name": "LayoutModel",
      "state": {}
     },
     "8d6718bfcf854ddfa769bc782e5a6ea0": {
      "model_module": "@jupyter-widgets/base",
      "model_module_version": "1.2.0",
      "model_name": "LayoutModel",
      "state": {}
     },
     "8d78e1b123764a1a84b9e7dc8bc67d39": {
      "model_module": "@jupyter-widgets/controls",
      "model_module_version": "1.5.0",
      "model_name": "ProgressStyleModel",
      "state": {
       "description_width": ""
      }
     },
     "8e5539a14f8d4259a7b859a5a0f4bbba": {
      "model_module": "@jupyter-widgets/base",
      "model_module_version": "1.2.0",
      "model_name": "LayoutModel",
      "state": {}
     },
     "8e7036a3235e4601a28b9b121047f446": {
      "model_module": "@jupyter-widgets/controls",
      "model_module_version": "1.5.0",
      "model_name": "DescriptionStyleModel",
      "state": {
       "description_width": ""
      }
     },
     "8ea37870753644e890f1916b44afb1b8": {
      "model_module": "@jupyter-widgets/base",
      "model_module_version": "1.2.0",
      "model_name": "LayoutModel",
      "state": {}
     },
     "8eba164597714ba8a83c44c7e28e9fae": {
      "model_module": "@jupyter-widgets/base",
      "model_module_version": "1.2.0",
      "model_name": "LayoutModel",
      "state": {}
     },
     "8ee55ceb32474cae940aa609e7d5f0b9": {
      "model_module": "@jupyter-widgets/controls",
      "model_module_version": "1.5.0",
      "model_name": "FloatProgressModel",
      "state": {
       "layout": "IPY_MODEL_c11757e74bf44e53b88f2d37f0a6c0fa",
       "max": 2276,
       "style": "IPY_MODEL_83f4059999054be9956c286dd4cfc9c3",
       "value": 2276
      }
     },
     "8f59a36acc274c55a70e677e1d07049e": {
      "model_module": "@jupyter-widgets/base",
      "model_module_version": "1.2.0",
      "model_name": "LayoutModel",
      "state": {
       "visibility": "hidden"
      }
     },
     "8f95cc0cf42f411381b4f0b7286e3f0c": {
      "model_module": "@jupyter-widgets/base",
      "model_module_version": "1.2.0",
      "model_name": "LayoutModel",
      "state": {}
     },
     "900a4202665a4dc3b3a6c1eafbbcceb3": {
      "model_module": "@jupyter-widgets/base",
      "model_module_version": "1.2.0",
      "model_name": "LayoutModel",
      "state": {}
     },
     "901aed540ce94a7182656120cd1cf2a6": {
      "model_module": "@jupyter-widgets/controls",
      "model_module_version": "1.5.0",
      "model_name": "DescriptionStyleModel",
      "state": {
       "description_width": ""
      }
     },
     "902f89f6e8ed494d9bb8a1870aa5f834": {
      "model_module": "@jupyter-widgets/controls",
      "model_module_version": "1.5.0",
      "model_name": "FloatProgressModel",
      "state": {
       "layout": "IPY_MODEL_9de159fdf8994932b71c65794e34a3b3",
       "max": 1664,
       "style": "IPY_MODEL_579707503b544923878f2ba162a4cf27",
       "value": 1664
      }
     },
     "903df27266024d1594729906e6ddaf63": {
      "model_module": "@jupyter-widgets/base",
      "model_module_version": "1.2.0",
      "model_name": "LayoutModel",
      "state": {}
     },
     "904a952e2a22433b8415c2491b26aecb": {
      "model_module": "@jupyter-widgets/base",
      "model_module_version": "1.2.0",
      "model_name": "LayoutModel",
      "state": {}
     },
     "9068f6f5ea924e8e82df08f05b68e29e": {
      "model_module": "@jupyter-widgets/controls",
      "model_module_version": "1.5.0",
      "model_name": "DescriptionStyleModel",
      "state": {
       "description_width": ""
      }
     },
     "90d97b196af04c43a335406d6ffcb984": {
      "model_module": "@jupyter-widgets/controls",
      "model_module_version": "1.5.0",
      "model_name": "FloatProgressModel",
      "state": {
       "layout": "IPY_MODEL_8023c246579e4c84a3ee271def2eed27",
       "max": 3934,
       "style": "IPY_MODEL_3ed5cf2a7f85433abfe0179578a0f07e",
       "value": 3934
      }
     },
     "90fc4c6cc5f44bf28f9a3f70d9724aa5": {
      "model_module": "@jupyter-widgets/controls",
      "model_module_version": "1.5.0",
      "model_name": "DescriptionStyleModel",
      "state": {
       "description_width": ""
      }
     },
     "910aa157b16842ccb140afc4c6472c29": {
      "model_module": "@jupyter-widgets/controls",
      "model_module_version": "1.5.0",
      "model_name": "HTMLModel",
      "state": {
       "layout": "IPY_MODEL_fd44c57d0f4744bfab70634ca947c8d4",
       "style": "IPY_MODEL_738d313d69524e2b97c50af9cd404388",
       "value": "Simulated Words: 100%"
      }
     },
     "9116c36a51a448cfbeb3e2031deaaa9d": {
      "model_module": "@jupyter-widgets/base",
      "model_module_version": "1.2.0",
      "model_name": "LayoutModel",
      "state": {}
     },
     "912f177b92db42528d6a9f530e517f14": {
      "model_module": "@jupyter-widgets/base",
      "model_module_version": "1.2.0",
      "model_name": "LayoutModel",
      "state": {}
     },
     "913382799c41460baf6e2f86f384f22d": {
      "model_module": "@jupyter-widgets/controls",
      "model_module_version": "1.5.0",
      "model_name": "HTMLModel",
      "state": {
       "layout": "IPY_MODEL_a5027e9a219c4a82b353040c41d3d3cc",
       "style": "IPY_MODEL_63970448ec2c4ddeaa438810560746b8",
       "value": " 3870/3872 [02:34&lt;00:00, 22.70it/s]"
      }
     },
     "9167797ad029499c992a6af0f8376b0f": {
      "model_module": "@jupyter-widgets/controls",
      "model_module_version": "1.5.0",
      "model_name": "HTMLModel",
      "state": {
       "layout": "IPY_MODEL_d8ac454b00934532a3fc40c0a0aa938b",
       "style": "IPY_MODEL_a1aac91d112d42698c2fe2a0077b9939",
       "value": " 5260/5260 [01:31&lt;00:00, 53.70it/s]"
      }
     },
     "918a6d13a56a4baeb07d0aaaa292ef39": {
      "model_module": "@jupyter-widgets/controls",
      "model_module_version": "1.5.0",
      "model_name": "DescriptionStyleModel",
      "state": {
       "description_width": ""
      }
     },
     "91d04fa1d1964debbed067ae94a54bf1": {
      "model_module": "@jupyter-widgets/controls",
      "model_module_version": "1.5.0",
      "model_name": "HTMLModel",
      "state": {
       "layout": "IPY_MODEL_a0680c15a3324a5abcdbc4f0987d7708",
       "style": "IPY_MODEL_4d61a2eab3b54f16aaa3bb5106190958",
       "value": " 3996/3998 [02:29&lt;00:00, 36.85it/s]"
      }
     },
     "91d055d1108a45bcbe93081f11f43cbf": {
      "model_module": "@jupyter-widgets/controls",
      "model_module_version": "1.5.0",
      "model_name": "HTMLModel",
      "state": {
       "layout": "IPY_MODEL_e9b442b8d7d04a73ab4a8171908737b6",
       "style": "IPY_MODEL_10c934ca5b6849c99bf340ebf73d694d",
       "value": "Processing Background Noise: 100%"
      }
     },
     "91d88298b6a942bb85bb5221968f5486": {
      "model_module": "@jupyter-widgets/controls",
      "model_module_version": "1.5.0",
      "model_name": "HTMLModel",
      "state": {
       "layout": "IPY_MODEL_1cc8698dcbf44983a6841fe8400f9fee",
       "style": "IPY_MODEL_66184d7657d64d3bb3eaac0bb7df67e8",
       "value": "dog (4): 100%"
      }
     },
     "91f870118bce485ab5a9d0050c79f7c1": {
      "model_module": "@jupyter-widgets/base",
      "model_module_version": "1.2.0",
      "model_name": "LayoutModel",
      "state": {
       "visibility": "hidden"
      }
     },
     "91fbbbca764c45e99a7c5f0d18c6f4d8": {
      "model_module": "@jupyter-widgets/controls",
      "model_module_version": "1.5.0",
      "model_name": "FloatProgressModel",
      "state": {
       "layout": "IPY_MODEL_8d6718bfcf854ddfa769bc782e5a6ea0",
       "max": 4052,
       "style": "IPY_MODEL_5a11c539ab4d4edea1e904e0f7ffad16",
       "value": 4052
      }
     },
     "91fcdff9591f469f8ec2f7350e821270": {
      "model_module": "@jupyter-widgets/controls",
      "model_module_version": "1.5.0",
      "model_name": "FloatProgressModel",
      "state": {
       "layout": "IPY_MODEL_58f48ba5add04fb6a9ca427f0a8294ca",
       "max": 139,
       "style": "IPY_MODEL_a91d185a532a4028afdcb7ff5328b07f",
       "value": 139
      }
     },
     "91fee7f4e5394ca591d86898c6021f7c": {
      "model_module": "@jupyter-widgets/controls",
      "model_module_version": "1.5.0",
      "model_name": "HTMLModel",
      "state": {
       "layout": "IPY_MODEL_72498d473cbf47e1b0f80333e3771c22",
       "style": "IPY_MODEL_968d0f7388df4e9b9f4d9fc2cba29d48",
       "value": "up (4):  99%"
      }
     },
     "921d50cab5d846959bfbc79963d52b3c": {
      "model_module": "@jupyter-widgets/controls",
      "model_module_version": "1.5.0",
      "model_name": "DescriptionStyleModel",
      "state": {
       "description_width": ""
      }
     },
     "9234d727a50a4917ac56a3f33803c939": {
      "model_module": "@jupyter-widgets/controls",
      "model_module_version": "1.5.0",
      "model_name": "HTMLModel",
      "state": {
       "layout": "IPY_MODEL_e4dca08760af41039c2909a850696e60",
       "style": "IPY_MODEL_b43c32eea4914eb49f44c4d1dedd86db",
       "value": "Simulated Words:  98%"
      }
     },
     "9246b8949ebc4722b60c2eb231a7a10c": {
      "model_module": "@jupyter-widgets/controls",
      "model_module_version": "1.5.0",
      "model_name": "HTMLModel",
      "state": {
       "layout": "IPY_MODEL_82cab7a966b54279bf83fd37ec0db6b4",
       "style": "IPY_MODEL_003193957551400f85498f8bd4769491",
       "value": " 291/292 [00:04&lt;00:00, 62.67it/s]"
      }
     },
     "924c510a6fee427c92f0528e064d5b6b": {
      "model_module": "@jupyter-widgets/controls",
      "model_module_version": "1.5.0",
      "model_name": "FloatProgressModel",
      "state": {
       "layout": "IPY_MODEL_e06edbf086f0412cbf8c701ec7185f4f",
       "max": 2123,
       "style": "IPY_MODEL_480a1c5c41534a34b368000695eef8ab",
       "value": 2123
      }
     },
     "9273f6c3c26143559fb5d0a3eda18a1c": {
      "model_module": "@jupyter-widgets/controls",
      "model_module_version": "1.5.0",
      "model_name": "FloatProgressModel",
      "state": {
       "layout": "IPY_MODEL_41bf5448b7af494facecbe60a6dec3c2",
       "max": 3872,
       "style": "IPY_MODEL_036f18c648884f98bc68e97576bb55b4",
       "value": 3872
      }
     },
     "928b515a5b9340f797b9784c96d69d52": {
      "model_module": "@jupyter-widgets/base",
      "model_module_version": "1.2.0",
      "model_name": "LayoutModel",
      "state": {}
     },
     "93268b1b21be4e0b870e5d8f3c45a968": {
      "model_module": "@jupyter-widgets/base",
      "model_module_version": "1.2.0",
      "model_name": "LayoutModel",
      "state": {
       "visibility": "hidden"
      }
     },
     "93a560be24ae4e4fbc9847b3d792b2da": {
      "model_module": "@jupyter-widgets/controls",
      "model_module_version": "1.5.0",
      "model_name": "HTMLModel",
      "state": {
       "layout": "IPY_MODEL_7f334f2b3c764484821c051b2b1bba28",
       "style": "IPY_MODEL_357e98a2418b4f02a42a7f1c3431898b",
       "value": " 135/137 [00:02&lt;00:00, 56.58it/s]"
      }
     },
     "93c5bd095bdc45d8bf1bf1598136e07a": {
      "model_module": "@jupyter-widgets/base",
      "model_module_version": "1.2.0",
      "model_name": "LayoutModel",
      "state": {}
     },
     "9411799423884efb87eba1c1fa69d494": {
      "model_module": "@jupyter-widgets/controls",
      "model_module_version": "1.5.0",
      "model_name": "ProgressStyleModel",
      "state": {
       "description_width": ""
      }
     },
     "941cdd5df19f42a3b874ad4e1ad9979b": {
      "model_module": "@jupyter-widgets/base",
      "model_module_version": "1.2.0",
      "model_name": "LayoutModel",
      "state": {
       "visibility": "hidden"
      }
     },
     "942c35bd594d40129f20a1764c23c0dd": {
      "model_module": "@jupyter-widgets/controls",
      "model_module_version": "1.5.0",
      "model_name": "DescriptionStyleModel",
      "state": {
       "description_width": ""
      }
     },
     "94691e0c88934e478d0e285bb0df6431": {
      "model_module": "@jupyter-widgets/controls",
      "model_module_version": "1.5.0",
      "model_name": "FloatProgressModel",
      "state": {
       "layout": "IPY_MODEL_2df4a508b6524654ac4e7a25fc6c36dc",
       "max": 49000,
       "style": "IPY_MODEL_9bb3a200b55f47ada74c50b8b5f7f252",
       "value": 49000
      }
     },
     "95118c9e8fe8473daa7d7887f92c08c7": {
      "model_module": "@jupyter-widgets/controls",
      "model_module_version": "1.5.0",
      "model_name": "ProgressStyleModel",
      "state": {
       "description_width": ""
      }
     },
     "952bd1b497cb41158965f7555a846852": {
      "model_module": "@jupyter-widgets/base",
      "model_module_version": "1.2.0",
      "model_name": "LayoutModel",
      "state": {}
     },
     "955d925d29b444df8d84d78c1464edf5": {
      "model_module": "@jupyter-widgets/controls",
      "model_module_version": "1.5.0",
      "model_name": "ProgressStyleModel",
      "state": {
       "description_width": ""
      }
     },
     "9576835bf38c4da5883233fa4ef2f703": {
      "model_module": "@jupyter-widgets/base",
      "model_module_version": "1.2.0",
      "model_name": "LayoutModel",
      "state": {}
     },
     "95d017c3fe854c08bab69f002065e796": {
      "model_module": "@jupyter-widgets/controls",
      "model_module_version": "1.5.0",
      "model_name": "HTMLModel",
      "state": {
       "layout": "IPY_MODEL_3a5a7ad92f4646f0aa4453e5bc39405f",
       "style": "IPY_MODEL_cb5d371522ed44938e728d6d714b8496",
       "value": "speech_data\\_background_noise_\\doing_the_dishes.wav:  89%"
      }
     },
     "95dec56765794dd3848ce2b1de7c463e": {
      "model_module": "@jupyter-widgets/controls",
      "model_module_version": "1.5.0",
      "model_name": "DescriptionStyleModel",
      "state": {
       "description_width": ""
      }
     },
     "9631bf5aac164b819b3f1b71f420be9e": {
      "model_module": "@jupyter-widgets/controls",
      "model_module_version": "1.5.0",
      "model_name": "HTMLModel",
      "state": {
       "layout": "IPY_MODEL_716ca48ae7bc4400a80797d993084bff",
       "style": "IPY_MODEL_971862a8b37142fb97e4d7cc62fda804",
       "value": " 984/1000 [00:05&lt;00:00, 171.14it/s]"
      }
     },
     "963e830f7ff14c3299a327d907de5b68": {
      "model_module": "@jupyter-widgets/controls",
      "model_module_version": "1.5.0",
      "model_name": "HTMLModel",
      "state": {
       "layout": "IPY_MODEL_e83141004c2b41fb972537b0f01769d9",
       "style": "IPY_MODEL_752fb3c2669a443aba097d3ca30e2c3e",
       "value": "Checking: 100%"
      }
     },
     "966d3aff8e5f4459b662090e57132a40": {
      "model_module": "@jupyter-widgets/base",
      "model_module_version": "1.2.0",
      "model_name": "LayoutModel",
      "state": {}
     },
     "968d0f7388df4e9b9f4d9fc2cba29d48": {
      "model_module": "@jupyter-widgets/controls",
      "model_module_version": "1.5.0",
      "model_name": "DescriptionStyleModel",
      "state": {
       "description_width": ""
      }
     },
     "96a5daf60ca442a19c38eac4c4ac3549": {
      "model_module": "@jupyter-widgets/controls",
      "model_module_version": "1.5.0",
      "model_name": "DescriptionStyleModel",
      "state": {
       "description_width": ""
      }
     },
     "96d058c530d64d84af3412a8cd752313": {
      "model_module": "@jupyter-widgets/controls",
      "model_module_version": "1.5.0",
      "model_name": "DescriptionStyleModel",
      "state": {
       "description_width": ""
      }
     },
     "96ec65a226a243b0a04c79038e5b264f": {
      "model_module": "@jupyter-widgets/controls",
      "model_module_version": "1.5.0",
      "model_name": "DescriptionStyleModel",
      "state": {
       "description_width": ""
      }
     },
     "97037618dc2b4b5d93485f5981e73401": {
      "model_module": "@jupyter-widgets/controls",
      "model_module_version": "1.5.0",
      "model_name": "DescriptionStyleModel",
      "state": {
       "description_width": ""
      }
     },
     "9712f6eec2a349caa5e9bbc62fdbc597": {
      "model_module": "@jupyter-widgets/base",
      "model_module_version": "1.2.0",
      "model_name": "LayoutModel",
      "state": {}
     },
     "971862a8b37142fb97e4d7cc62fda804": {
      "model_module": "@jupyter-widgets/controls",
      "model_module_version": "1.5.0",
      "model_name": "DescriptionStyleModel",
      "state": {
       "description_width": ""
      }
     },
     "976049b5038c4c29b9d9979cd22f032f": {
      "model_module": "@jupyter-widgets/base",
      "model_module_version": "1.2.0",
      "model_name": "LayoutModel",
      "state": {}
     },
     "97721a69ef454bddae5fd9ce99b57977": {
      "model_module": "@jupyter-widgets/base",
      "model_module_version": "1.2.0",
      "model_name": "LayoutModel",
      "state": {
       "visibility": "hidden"
      }
     },
     "9777923e90d041519fa3ea5e1137e369": {
      "model_module": "@jupyter-widgets/controls",
      "model_module_version": "1.5.0",
      "model_name": "HTMLModel",
      "state": {
       "layout": "IPY_MODEL_89db08d19c7e461189f319045c12e4a7",
       "style": "IPY_MODEL_4d2e1afaebef4467bda354191525d376",
       "value": " 2246/2250 [00:35&lt;00:00, 63.28it/s]"
      }
     },
     "977aa73d45a44077b74a6bd90ed6a980": {
      "model_module": "@jupyter-widgets/base",
      "model_module_version": "1.2.0",
      "model_name": "LayoutModel",
      "state": {}
     },
     "97b1c130551b482aae028fb2f25c794c": {
      "model_module": "@jupyter-widgets/controls",
      "model_module_version": "1.5.0",
      "model_name": "HTMLModel",
      "state": {
       "layout": "IPY_MODEL_314ce71ebccb42008f246ebda5ba3e8d",
       "style": "IPY_MODEL_3a44937e838345ccaa9563be0b01bdc1",
       "value": "one (4): 100%"
      }
     },
     "97c189e7e847401fa46cca84aae4cd7a": {
      "model_module": "@jupyter-widgets/base",
      "model_module_version": "1.2.0",
      "model_name": "LayoutModel",
      "state": {}
     },
     "9817ebbe111e4027a9d6a1528ef6183a": {
      "model_module": "@jupyter-widgets/base",
      "model_module_version": "1.2.0",
      "model_name": "LayoutModel",
      "state": {}
     },
     "982cd96705c5450d98cc45c67135bbe1": {
      "model_module": "@jupyter-widgets/controls",
      "model_module_version": "1.5.0",
      "model_name": "DescriptionStyleModel",
      "state": {
       "description_width": ""
      }
     },
     "9853d96c3d9a45bb88b3e9310a73ca7b": {
      "model_module": "@jupyter-widgets/controls",
      "model_module_version": "1.5.0",
      "model_name": "HTMLModel",
      "state": {
       "layout": "IPY_MODEL_f7410f9400734a36b7ab14d6ba299dcc",
       "style": "IPY_MODEL_196bd8bdac8b4f1fab07bc5144426175",
       "value": " 288/291 [00:04&lt;00:00, 62.55it/s]"
      }
     },
     "985871712d2b4cb0bf76c89ea681c19b": {
      "model_module": "@jupyter-widgets/base",
      "model_module_version": "1.2.0",
      "model_name": "LayoutModel",
      "state": {
       "visibility": "hidden"
      }
     },
     "98bf4fbc1c024249a50551f813e8928a": {
      "model_module": "@jupyter-widgets/controls",
      "model_module_version": "1.5.0",
      "model_name": "DescriptionStyleModel",
      "state": {
       "description_width": ""
      }
     },
     "98e6425b582c44c9a3440c92ec09de27": {
      "model_module": "@jupyter-widgets/controls",
      "model_module_version": "1.5.0",
      "model_name": "FloatProgressModel",
      "state": {
       "layout": "IPY_MODEL_4a01f9a7faf3457aa11b4176a3cd6211",
       "max": 271,
       "style": "IPY_MODEL_d1d9afe61da54df090b5fb270de034e1",
       "value": 271
      }
     },
     "98f075b75f4a446aa60c82cc24c87d05": {
      "model_module": "@jupyter-widgets/controls",
      "model_module_version": "1.5.0",
      "model_name": "DescriptionStyleModel",
      "state": {
       "description_width": ""
      }
     },
     "99036486d4824e888298efd070e7a30d": {
      "model_module": "@jupyter-widgets/controls",
      "model_module_version": "1.5.0",
      "model_name": "HTMLModel",
      "state": {
       "layout": "IPY_MODEL_207a65d6ec5c489699e3ddf7d5c0ccc1",
       "style": "IPY_MODEL_db9c4621e3f243c19f02896dd673f58e",
       "value": "backward (1): 100%"
      }
     },
     "99137b04196146ef9b773b931dde9c2e": {
      "model_module": "@jupyter-widgets/controls",
      "model_module_version": "1.5.0",
      "model_name": "DescriptionStyleModel",
      "state": {
       "description_width": ""
      }
     },
     "997f723de3704428994123ff12a239e4": {
      "model_module": "@jupyter-widgets/controls",
      "model_module_version": "1.5.0",
      "model_name": "ProgressStyleModel",
      "state": {
       "description_width": ""
      }
     },
     "99dd6ab5d6a040489f7108a36c8abc43": {
      "model_module": "@jupyter-widgets/controls",
      "model_module_version": "1.5.0",
      "model_name": "ProgressStyleModel",
      "state": {
       "description_width": ""
      }
     },
     "9a0ccb66614146a58efcb365a910e7fe": {
      "model_module": "@jupyter-widgets/base",
      "model_module_version": "1.2.0",
      "model_name": "LayoutModel",
      "state": {}
     },
     "9a1fee67cc094ef2b5985d33ef6d1c3e": {
      "model_module": "@jupyter-widgets/base",
      "model_module_version": "1.2.0",
      "model_name": "LayoutModel",
      "state": {
       "visibility": "hidden"
      }
     },
     "9a2da42c0966431782feeca799f80ffd": {
      "model_module": "@jupyter-widgets/base",
      "model_module_version": "1.2.0",
      "model_name": "LayoutModel",
      "state": {}
     },
     "9a6071778f954bdc9a1152c580b55302": {
      "model_module": "@jupyter-widgets/base",
      "model_module_version": "1.2.0",
      "model_name": "LayoutModel",
      "state": {}
     },
     "9a6d86329e4447bbb85bd7159d6b7a47": {
      "model_module": "@jupyter-widgets/base",
      "model_module_version": "1.2.0",
      "model_name": "LayoutModel",
      "state": {}
     },
     "9a87961670d34e5bad6129fc64f92b9f": {
      "model_module": "@jupyter-widgets/controls",
      "model_module_version": "1.5.0",
      "model_name": "ProgressStyleModel",
      "state": {
       "description_width": ""
      }
     },
     "9a9a64444bf546ab8303148ee0d9e3e1": {
      "model_module": "@jupyter-widgets/base",
      "model_module_version": "1.2.0",
      "model_name": "LayoutModel",
      "state": {
       "visibility": "hidden"
      }
     },
     "9aea77bf969a4a2eb2e58a5674060e53": {
      "model_module": "@jupyter-widgets/base",
      "model_module_version": "1.2.0",
      "model_name": "LayoutModel",
      "state": {}
     },
     "9b1f10a106994eda9541face6d2c5424": {
      "model_module": "@jupyter-widgets/base",
      "model_module_version": "1.2.0",
      "model_name": "LayoutModel",
      "state": {
       "visibility": "hidden"
      }
     },
     "9b85883cdb6342f6a8c26926be58dd21": {
      "model_module": "@jupyter-widgets/base",
      "model_module_version": "1.2.0",
      "model_name": "LayoutModel",
      "state": {}
     },
     "9bb3a200b55f47ada74c50b8b5f7f252": {
      "model_module": "@jupyter-widgets/controls",
      "model_module_version": "1.5.0",
      "model_name": "ProgressStyleModel",
      "state": {
       "description_width": ""
      }
     },
     "9bb7fa6459ad4d7387dd9c020b57cb26": {
      "model_module": "@jupyter-widgets/base",
      "model_module_version": "1.2.0",
      "model_name": "LayoutModel",
      "state": {}
     },
     "9bf3bfbf49894c58b8974c705c58b76c": {
      "model_module": "@jupyter-widgets/controls",
      "model_module_version": "1.5.0",
      "model_name": "FloatProgressModel",
      "state": {
       "layout": "IPY_MODEL_8591feed0fef4314b27ef5ced99b4467",
       "max": 6160,
       "style": "IPY_MODEL_62eaf9c08b034e54a7b1034482b80dc4",
       "value": 6160
      }
     },
     "9c0cd951e0b44745b2ba23e025532d90": {
      "model_module": "@jupyter-widgets/base",
      "model_module_version": "1.2.0",
      "model_name": "LayoutModel",
      "state": {}
     },
     "9c2028df4d514912864a83eff2a1ccd3": {
      "model_module": "@jupyter-widgets/controls",
      "model_module_version": "1.5.0",
      "model_name": "ProgressStyleModel",
      "state": {
       "description_width": ""
      }
     },
     "9c3025b2619b4d3985d1a71ff1601947": {
      "model_module": "@jupyter-widgets/base",
      "model_module_version": "1.2.0",
      "model_name": "LayoutModel",
      "state": {}
     },
     "9c8fdf26c6c94f888e2f78dae4fc6001": {
      "model_module": "@jupyter-widgets/base",
      "model_module_version": "1.2.0",
      "model_name": "LayoutModel",
      "state": {}
     },
     "9c97f09c401a48059338d3707e91aac9": {
      "model_module": "@jupyter-widgets/base",
      "model_module_version": "1.2.0",
      "model_name": "LayoutModel",
      "state": {}
     },
     "9cf8d164ce3a4a1eaa35511f38697c09": {
      "model_module": "@jupyter-widgets/controls",
      "model_module_version": "1.5.0",
      "model_name": "HTMLModel",
      "state": {
       "layout": "IPY_MODEL_aaf47a1294b34ba2a8236d0e8387ba38",
       "style": "IPY_MODEL_58b14006694f47358938c9405b9d1562",
       "value": "yes (4): 100%"
      }
     },
     "9d489e3a5c844a488b43733bb4dcb95a": {
      "model_module": "@jupyter-widgets/base",
      "model_module_version": "1.2.0",
      "model_name": "LayoutModel",
      "state": {}
     },
     "9d4b0065fad54fff84dd481834cca117": {
      "model_module": "@jupyter-widgets/controls",
      "model_module_version": "1.5.0",
      "model_name": "DescriptionStyleModel",
      "state": {
       "description_width": ""
      }
     },
     "9d66a736e8834982a366c20c83c05dd8": {
      "model_module": "@jupyter-widgets/base",
      "model_module_version": "1.2.0",
      "model_name": "LayoutModel",
      "state": {}
     },
     "9d71b6c4285240038d42382e095a35c1": {
      "model_module": "@jupyter-widgets/controls",
      "model_module_version": "1.5.0",
      "model_name": "HTMLModel",
      "state": {
       "layout": "IPY_MODEL_569bce614cf440c39b680bf25576387a",
       "style": "IPY_MODEL_ba230aac52e04d5f8de4ac0def6e5f4f",
       "value": "visual (4): 100%"
      }
     },
     "9da17294c5cf45b1b548144ad348e282": {
      "model_module": "@jupyter-widgets/base",
      "model_module_version": "1.2.0",
      "model_name": "LayoutModel",
      "state": {}
     },
     "9da98f117aa14c2398e20822ec2601ef": {
      "model_module": "@jupyter-widgets/controls",
      "model_module_version": "1.5.0",
      "model_name": "HTMLModel",
      "state": {
       "layout": "IPY_MODEL_b845c0b2f86c4fb78ac9031909b91349",
       "style": "IPY_MODEL_df93c6eee29a413ba67420277e410830",
       "value": " 96/100 [00:01&lt;00:00, 48.73it/s]"
      }
     },
     "9da9a158d5db458a8d05bd431ff05cc8": {
      "model_module": "@jupyter-widgets/controls",
      "model_module_version": "1.5.0",
      "model_name": "DescriptionStyleModel",
      "state": {
       "description_width": ""
      }
     },
     "9dcd43ae496645bca267d1f7f928478e": {
      "model_module": "@jupyter-widgets/controls",
      "model_module_version": "1.5.0",
      "model_name": "FloatProgressModel",
      "state": {
       "layout": "IPY_MODEL_4e813d96a03246d48d3bad1e3a724584",
       "max": 161,
       "style": "IPY_MODEL_a77de248f4464584b77e26c3c9b30dc7",
       "value": 161
      }
     },
     "9de159fdf8994932b71c65794e34a3b3": {
      "model_module": "@jupyter-widgets/base",
      "model_module_version": "1.2.0",
      "model_name": "LayoutModel",
      "state": {}
     },
     "9e101dc594844954999cabe558e62a14": {
      "model_module": "@jupyter-widgets/controls",
      "model_module_version": "1.5.0",
      "model_name": "HTMLModel",
      "state": {
       "layout": "IPY_MODEL_61161658ee0a44fa86d4e1d3ec1b853d",
       "style": "IPY_MODEL_35883864a2864db1abb2029a632f5366",
       "value": "wow (4):  96%"
      }
     },
     "9e4909e912b34b5db364f11ae84ca814": {
      "model_module": "@jupyter-widgets/controls",
      "model_module_version": "1.5.0",
      "model_name": "DescriptionStyleModel",
      "state": {
       "description_width": ""
      }
     },
     "9e7a9f698b2f477f88254fd14ac47a2f": {
      "model_module": "@jupyter-widgets/base",
      "model_module_version": "1.2.0",
      "model_name": "LayoutModel",
      "state": {
       "visibility": "hidden"
      }
     },
     "9e7d87e296bb42e59fd8147948ec90d0": {
      "model_module": "@jupyter-widgets/base",
      "model_module_version": "1.2.0",
      "model_name": "LayoutModel",
      "state": {}
     },
     "9e7ffdf730b5416f86c409405a89dac0": {
      "model_module": "@jupyter-widgets/base",
      "model_module_version": "1.2.0",
      "model_name": "LayoutModel",
      "state": {}
     },
     "9e9a6ec8ef2f458ea98f841945da7c97": {
      "model_module": "@jupyter-widgets/controls",
      "model_module_version": "1.5.0",
      "model_name": "HTMLModel",
      "state": {
       "layout": "IPY_MODEL_a2b64611bb0b46bfa2a24b45023d6e03",
       "style": "IPY_MODEL_3b9e51578cde4d3fbc124e0ec74cd29f",
       "value": "house (4):  96%"
      }
     },
     "9ef2278ce0e04258a18ee5eb7142083d": {
      "model_module": "@jupyter-widgets/base",
      "model_module_version": "1.2.0",
      "model_name": "LayoutModel",
      "state": {}
     },
     "9f338dfd80eb4dc1b4bd1d923a9ff138": {
      "model_module": "@jupyter-widgets/controls",
      "model_module_version": "1.5.0",
      "model_name": "ProgressStyleModel",
      "state": {
       "description_width": ""
      }
     },
     "9f5915120f2f4071b987d0f05a4d1bb8": {
      "model_module": "@jupyter-widgets/base",
      "model_module_version": "1.2.0",
      "model_name": "LayoutModel",
      "state": {
       "visibility": "hidden"
      }
     },
     "9f5c514c503f488ebc03f7626298e441": {
      "model_module": "@jupyter-widgets/controls",
      "model_module_version": "1.5.0",
      "model_name": "HTMLModel",
      "state": {
       "layout": "IPY_MODEL_b5d2aef2283845cf8d39d4b07f2f52ba",
       "style": "IPY_MODEL_dc6387fa23c545eebee1e74cd9315a9f",
       "value": "five (4): 100%"
      }
     },
     "9f69e0ec30ee48b2a85d818f427a1e13": {
      "model_module": "@jupyter-widgets/controls",
      "model_module_version": "1.5.0",
      "model_name": "ProgressStyleModel",
      "state": {
       "description_width": ""
      }
     },
     "9fe7b985d4ae428b82130775b6bc2dcd": {
      "model_module": "@jupyter-widgets/controls",
      "model_module_version": "1.5.0",
      "model_name": "ProgressStyleModel",
      "state": {
       "description_width": ""
      }
     },
     "9ff8dd28a8f548e58b570b5c8b6d8cf0": {
      "model_module": "@jupyter-widgets/controls",
      "model_module_version": "1.5.0",
      "model_name": "FloatProgressModel",
      "state": {
       "layout": "IPY_MODEL_9c3025b2619b4d3985d1a71ff1601947",
       "max": 160,
       "style": "IPY_MODEL_3920bdbe3ce84af79218463a338d3713",
       "value": 160
      }
     },
     "9ff962fe8aef48e8bf0a17a1c185fe9d": {
      "model_module": "@jupyter-widgets/base",
      "model_module_version": "1.2.0",
      "model_name": "LayoutModel",
      "state": {
       "visibility": "hidden"
      }
     },
     "a0680c15a3324a5abcdbc4f0987d7708": {
      "model_module": "@jupyter-widgets/base",
      "model_module_version": "1.2.0",
      "model_name": "LayoutModel",
      "state": {}
     },
     "a0907c84ff49490c98033653baf48ddb": {
      "model_module": "@jupyter-widgets/base",
      "model_module_version": "1.2.0",
      "model_name": "LayoutModel",
      "state": {}
     },
     "a0ad16a620604ccbb266c6ef744ab801": {
      "model_module": "@jupyter-widgets/controls",
      "model_module_version": "1.5.0",
      "model_name": "FloatProgressModel",
      "state": {
       "bar_style": "success",
       "layout": "IPY_MODEL_e748674e952843dab782b20a578d17d1",
       "max": 31,
       "style": "IPY_MODEL_f3b3282436744b55a6f01f5aa56f97f6",
       "value": 31
      }
     },
     "a0d3d69f711d4fd8a67412731416812f": {
      "model_module": "@jupyter-widgets/base",
      "model_module_version": "1.2.0",
      "model_name": "LayoutModel",
      "state": {}
     },
     "a0fa2bf160734da1b285cd936515fc79": {
      "model_module": "@jupyter-widgets/controls",
      "model_module_version": "1.5.0",
      "model_name": "DescriptionStyleModel",
      "state": {
       "description_width": ""
      }
     },
     "a11f52eeb68e4dfda78481362565a5fc": {
      "model_module": "@jupyter-widgets/controls",
      "model_module_version": "1.5.0",
      "model_name": "HTMLModel",
      "state": {
       "layout": "IPY_MODEL_e1c81449bd9744fb8fd93bf6a6b99656",
       "style": "IPY_MODEL_ad3d06bbb4e44ecb8aa0aad009fe92ca",
       "value": "three (4):  99%"
      }
     },
     "a12a377965a84c34b9a20d256bbf9852": {
      "model_module": "@jupyter-widgets/controls",
      "model_module_version": "1.5.0",
      "model_name": "ProgressStyleModel",
      "state": {
       "description_width": ""
      }
     },
     "a1333f9a31844479838b1183bdfe7220": {
      "model_module": "@jupyter-widgets/base",
      "model_module_version": "1.2.0",
      "model_name": "LayoutModel",
      "state": {}
     },
     "a1aac91d112d42698c2fe2a0077b9939": {
      "model_module": "@jupyter-widgets/controls",
      "model_module_version": "1.5.0",
      "model_name": "DescriptionStyleModel",
      "state": {
       "description_width": ""
      }
     },
     "a231a9b4ff5f4ea7b5468e24685cb007": {
      "model_module": "@jupyter-widgets/controls",
      "model_module_version": "1.5.0",
      "model_name": "ProgressStyleModel",
      "state": {
       "description_width": ""
      }
     },
     "a2a41d3fc84c4f9fba98fd4b03d2885d": {
      "model_module": "@jupyter-widgets/controls",
      "model_module_version": "1.5.0",
      "model_name": "HTMLModel",
      "state": {
       "layout": "IPY_MODEL_9712f6eec2a349caa5e9bbc62fdbc597",
       "style": "IPY_MODEL_97037618dc2b4b5d93485f5981e73401",
       "value": " 1117/1118 [00:17&lt;00:00, 63.49it/s]"
      }
     },
     "a2b64611bb0b46bfa2a24b45023d6e03": {
      "model_module": "@jupyter-widgets/base",
      "model_module_version": "1.2.0",
      "model_name": "LayoutModel",
      "state": {}
     },
     "a351517a1a0e420bba3861d01d2fc423": {
      "model_module": "@jupyter-widgets/controls",
      "model_module_version": "1.5.0",
      "model_name": "FloatProgressModel",
      "state": {
       "layout": "IPY_MODEL_d9cff96f38e846aba81d1b97fd8e8e41",
       "max": 170,
       "style": "IPY_MODEL_a5c9099b14384287bd163d8773d7afc5",
       "value": 170
      }
     },
     "a3524af4bf53498c9539ebcc2100d06a": {
      "model_module": "@jupyter-widgets/controls",
      "model_module_version": "1.5.0",
      "model_name": "DescriptionStyleModel",
      "state": {
       "description_width": ""
      }
     },
     "a360d4f1944e46079c8fa94e2d95b020": {
      "model_module": "@jupyter-widgets/controls",
      "model_module_version": "1.5.0",
      "model_name": "ProgressStyleModel",
      "state": {
       "description_width": ""
      }
     },
     "a3b3258f699544838fee68a0fc802646": {
      "model_module": "@jupyter-widgets/controls",
      "model_module_version": "1.5.0",
      "model_name": "DescriptionStyleModel",
      "state": {
       "description_width": ""
      }
     },
     "a3c6f7a5c3594fff92eb2eab2c9b195e": {
      "model_module": "@jupyter-widgets/base",
      "model_module_version": "1.2.0",
      "model_name": "LayoutModel",
      "state": {
       "visibility": "hidden"
      }
     },
     "a4050f4475354cbb8d91122a9d26df77": {
      "model_module": "@jupyter-widgets/controls",
      "model_module_version": "1.5.0",
      "model_name": "HTMLModel",
      "state": {
       "layout": "IPY_MODEL_4dc8cf5d022446758bb3648b6f313147",
       "style": "IPY_MODEL_5ef1325aad684baab6bcd094f2b1b852",
       "value": " 171/173 [00:02&lt;00:00, 63.89it/s]"
      }
     },
     "a41c23fa98c44763a4de2a8eef9d0916": {
      "model_module": "@jupyter-widgets/controls",
      "model_module_version": "1.5.0",
      "model_name": "HTMLModel",
      "state": {
       "layout": "IPY_MODEL_2402d693fc2e4f788b36da4ece0f6825",
       "style": "IPY_MODEL_078eca45457a448c93e169b294ec2b0a",
       "value": " 2113/2113 [01:07&lt;00:00, 42.58it/s]"
      }
     },
     "a431fae5cb3e460a8a82d8e4191b7a7d": {
      "model_module": "@jupyter-widgets/base",
      "model_module_version": "1.2.0",
      "model_name": "LayoutModel",
      "state": {}
     },
     "a43f62ae8d434f5dafd966bca6ef7807": {
      "model_module": "@jupyter-widgets/base",
      "model_module_version": "1.2.0",
      "model_name": "LayoutModel",
      "state": {}
     },
     "a461f8184aaa4694bb01518b11359b60": {
      "model_module": "@jupyter-widgets/base",
      "model_module_version": "1.2.0",
      "model_name": "LayoutModel",
      "state": {}
     },
     "a4b9f43b8f0e4a7ba4651713cd54fcb9": {
      "model_module": "@jupyter-widgets/controls",
      "model_module_version": "1.5.0",
      "model_name": "FloatProgressModel",
      "state": {
       "layout": "IPY_MODEL_37d3ca728a4e442c8bf3875c1af2676a",
       "max": 3728,
       "style": "IPY_MODEL_586717f1cffb4c64bf30e0a7727796e4",
       "value": 3728
      }
     },
     "a5027e9a219c4a82b353040c41d3d3cc": {
      "model_module": "@jupyter-widgets/base",
      "model_module_version": "1.2.0",
      "model_name": "LayoutModel",
      "state": {}
     },
     "a555bb2c00f94ea59b01dabdbad3d422": {
      "model_module": "@jupyter-widgets/controls",
      "model_module_version": "1.5.0",
      "model_name": "HTMLModel",
      "state": {
       "layout": "IPY_MODEL_348b8027bc4b4022a7cf803549680a30",
       "style": "IPY_MODEL_0db97e697e144952804c047281457580",
       "value": "eight (4):  97%"
      }
     },
     "a562e1538c354aaab93541a318fdf41f": {
      "model_module": "@jupyter-widgets/controls",
      "model_module_version": "1.5.0",
      "model_name": "DescriptionStyleModel",
      "state": {
       "description_width": ""
      }
     },
     "a5b7998065eb4c058c178307c4c07356": {
      "model_module": "@jupyter-widgets/controls",
      "model_module_version": "1.5.0",
      "model_name": "HTMLModel",
      "state": {
       "layout": "IPY_MODEL_bc5515ee4a71428b8c47445da49fcabd",
       "style": "IPY_MODEL_1b8a12ed2b914c32a1ed8b6457fb30a2",
       "value": "stop (4): 100%"
      }
     },
     "a5c05be4db12490a9c667b411397dd44": {
      "model_module": "@jupyter-widgets/base",
      "model_module_version": "1.2.0",
      "model_name": "LayoutModel",
      "state": {
       "visibility": "hidden"
      }
     },
     "a5c9099b14384287bd163d8773d7afc5": {
      "model_module": "@jupyter-widgets/controls",
      "model_module_version": "1.5.0",
      "model_name": "ProgressStyleModel",
      "state": {
       "description_width": ""
      }
     },
     "a5f22340770d4ee4916a6e8aafa3488a": {
      "model_module": "@jupyter-widgets/base",
      "model_module_version": "1.2.0",
      "model_name": "LayoutModel",
      "state": {}
     },
     "a60511ebccca4b2ebe5f8e136c4b148a": {
      "model_module": "@jupyter-widgets/controls",
      "model_module_version": "1.5.0",
      "model_name": "DescriptionStyleModel",
      "state": {
       "description_width": ""
      }
     },
     "a623cd7b46ff409fb7fbfe153d257840": {
      "model_module": "@jupyter-widgets/controls",
      "model_module_version": "1.5.0",
      "model_name": "HTMLModel",
      "state": {
       "layout": "IPY_MODEL_6dfdf351ce714eeab3aa450402a9509f",
       "style": "IPY_MODEL_600e8643039d46c69e200b2ca8a2b1f5",
       "value": "right (3): 100%"
      }
     },
     "a6364415144c47cf9c49ec39b9bfad77": {
      "model_module": "@jupyter-widgets/controls",
      "model_module_version": "1.5.0",
      "model_name": "HTMLModel",
      "state": {
       "layout": "IPY_MODEL_cb8564345b264d0db4ee4b17fe6cfe71",
       "style": "IPY_MODEL_61cc646106df41e2ade49e6bec386471",
       "value": "yes (4):  99%"
      }
     },
     "a63cedf5d9f540f381c5cd5ff3c5d3fc": {
      "model_module": "@jupyter-widgets/base",
      "model_module_version": "1.2.0",
      "model_name": "LayoutModel",
      "state": {}
     },
     "a67fb4ce4323471ea531d3b4c77444ab": {
      "model_module": "@jupyter-widgets/controls",
      "model_module_version": "1.5.0",
      "model_name": "HTMLModel",
      "state": {
       "layout": "IPY_MODEL_9a6d86329e4447bbb85bd7159d6b7a47",
       "style": "IPY_MODEL_e08288ac6bf3490a9a803e440116dd85",
       "value": " 49/59 [00:00&lt;00:00, 153.52it/s]"
      }
     },
     "a6a1083c9a00478d9d68007cf81e35c0": {
      "model_module": "@jupyter-widgets/controls",
      "model_module_version": "1.5.0",
      "model_name": "DescriptionStyleModel",
      "state": {
       "description_width": ""
      }
     },
     "a6d6409d78cb49a18814461077336821": {
      "model_module": "@jupyter-widgets/controls",
      "model_module_version": "1.5.0",
      "model_name": "ProgressStyleModel",
      "state": {
       "description_width": ""
      }
     },
     "a6d8126398f14da5a47ba5c90a073cd6": {
      "model_module": "@jupyter-widgets/base",
      "model_module_version": "1.2.0",
      "model_name": "LayoutModel",
      "state": {
       "visibility": "hidden"
      }
     },
     "a77de248f4464584b77e26c3c9b30dc7": {
      "model_module": "@jupyter-widgets/controls",
      "model_module_version": "1.5.0",
      "model_name": "ProgressStyleModel",
      "state": {
       "description_width": ""
      }
     },
     "a78863999dad4a4aadc36503bef6c245": {
      "model_module": "@jupyter-widgets/base",
      "model_module_version": "1.2.0",
      "model_name": "LayoutModel",
      "state": {}
     },
     "a7b6ab564c4a4382a1ffeecbd2bb5b84": {
      "model_module": "@jupyter-widgets/controls",
      "model_module_version": "1.5.0",
      "model_name": "HTMLModel",
      "state": {
       "layout": "IPY_MODEL_5cc620f7c4fd475eaa7801159f950e50",
       "style": "IPY_MODEL_c8f2cc41fbf846329ababd2c7bbd459c",
       "value": " 1438/1438 [00:23&lt;00:00, 52.18it/s]"
      }
     },
     "a7d25b9c365c4c17ab68de4834bb4214": {
      "model_module": "@jupyter-widgets/controls",
      "model_module_version": "1.5.0",
      "model_name": "DescriptionStyleModel",
      "state": {
       "description_width": ""
      }
     },
     "a814d5b59ac248d2b5da31ddcccd13ee": {
      "model_module": "@jupyter-widgets/controls",
      "model_module_version": "1.5.0",
      "model_name": "FloatProgressModel",
      "state": {
       "layout": "IPY_MODEL_483c64eb8044425a8c5a80a9cdf803f9",
       "max": 2113,
       "style": "IPY_MODEL_6d7a4907deeb4456aeea78a853de08c6",
       "value": 2113
      }
     },
     "a8268a1195fd4747a5e2621f389a7e0d": {
      "model_module": "@jupyter-widgets/controls",
      "model_module_version": "1.5.0",
      "model_name": "HTMLModel",
      "state": {
       "layout": "IPY_MODEL_a9d328755878480e93029de7ab8eeb3c",
       "style": "IPY_MODEL_33505c19062d4e778002cd7d042a37b8",
       "value": " 155/161 [00:02&lt;00:00, 63.69it/s]"
      }
     },
     "a84cd20738cb41cc81213d97bc512538": {
      "model_module": "@jupyter-widgets/base",
      "model_module_version": "1.2.0",
      "model_name": "LayoutModel",
      "state": {}
     },
     "a8507ca0e14146a49d16b5e48dd5b3d2": {
      "model_module": "@jupyter-widgets/controls",
      "model_module_version": "1.5.0",
      "model_name": "HTMLModel",
      "state": {
       "layout": "IPY_MODEL_7ddeaecfd314496b94751a650ad8a815",
       "style": "IPY_MODEL_fb43067965a54fed8a1bc58bb55f8800",
       "value": " 3777/3778 [02:39&lt;00:00, 26.97it/s]"
      }
     },
     "a86bb96cb10b4a1587e30d1090152fea": {
      "model_module": "@jupyter-widgets/controls",
      "model_module_version": "1.5.0",
      "model_name": "ProgressStyleModel",
      "state": {
       "description_width": ""
      }
     },
     "a8b1dd7c803144d790c7112d17b883c0": {
      "model_module": "@jupyter-widgets/base",
      "model_module_version": "1.2.0",
      "model_name": "LayoutModel",
      "state": {
       "visibility": "hidden"
      }
     },
     "a8b960ff0bb94519b0d075a63c546e86": {
      "model_module": "@jupyter-widgets/controls",
      "model_module_version": "1.5.0",
      "model_name": "HTMLModel",
      "state": {
       "layout": "IPY_MODEL_a43f62ae8d434f5dafd966bca6ef7807",
       "style": "IPY_MODEL_e550ba26187a409aa719a9987c4ccea8",
       "value": " 164/164 [00:02&lt;00:00, 61.26it/s]"
      }
     },
     "a8d7b080d594415483e9f9f678347857": {
      "model_module": "@jupyter-widgets/controls",
      "model_module_version": "1.5.0",
      "model_name": "FloatProgressModel",
      "state": {
       "layout": "IPY_MODEL_c05bc5ac12c84727a392aa7d47b5786e",
       "max": 1579,
       "style": "IPY_MODEL_0331efcb9a6e445998f807fd9b6b3f11",
       "value": 1579
      }
     },
     "a8eb8d2074724cd68bff1333321a02b8": {
      "model_module": "@jupyter-widgets/controls",
      "model_module_version": "1.5.0",
      "model_name": "HTMLModel",
      "state": {
       "layout": "IPY_MODEL_48df54192bdb40ec8f2599621757ac98",
       "style": "IPY_MODEL_e2dd4f2664d64bfc98ec85ebeb307922",
       "value": " 6154/6160 [01:39&lt;00:00, 61.31it/s]"
      }
     },
     "a91bd6b999d04869b1ca0bc0c1caba22": {
      "model_module": "@jupyter-widgets/controls",
      "model_module_version": "1.5.0",
      "model_name": "DescriptionStyleModel",
      "state": {
       "description_width": ""
      }
     },
     "a91d185a532a4028afdcb7ff5328b07f": {
      "model_module": "@jupyter-widgets/controls",
      "model_module_version": "1.5.0",
      "model_name": "ProgressStyleModel",
      "state": {
       "description_width": ""
      }
     },
     "a97247e9d5064e97aa21ed37bbc7de46": {
      "model_module": "@jupyter-widgets/base",
      "model_module_version": "1.2.0",
      "model_name": "LayoutModel",
      "state": {}
     },
     "a9d328755878480e93029de7ab8eeb3c": {
      "model_module": "@jupyter-widgets/base",
      "model_module_version": "1.2.0",
      "model_name": "LayoutModel",
      "state": {}
     },
     "aa0053a48e854de79485f4dcfd373c25": {
      "model_module": "@jupyter-widgets/controls",
      "model_module_version": "1.5.0",
      "model_name": "HTMLModel",
      "state": {
       "layout": "IPY_MODEL_621b64565d16476aa7f0a5d0e5d8a9f2",
       "style": "IPY_MODEL_544d5758c1ce40ed944cd9ecd771f56a",
       "value": "cat (4): 100%"
      }
     },
     "aa2b8a8550ed41c6b907f1b3805da544": {
      "model_module": "@jupyter-widgets/base",
      "model_module_version": "1.2.0",
      "model_name": "LayoutModel",
      "state": {}
     },
     "aa3003fce144464faaba9d3e7548d60a": {
      "model_module": "@jupyter-widgets/controls",
      "model_module_version": "1.5.0",
      "model_name": "DescriptionStyleModel",
      "state": {
       "description_width": ""
      }
     },
     "aa7a02c9ba694948b60044f0a9dbf227": {
      "model_module": "@jupyter-widgets/controls",
      "model_module_version": "1.5.0",
      "model_name": "DescriptionStyleModel",
      "state": {
       "description_width": ""
      }
     },
     "aaa2bb59da364f6199a96e439bd286eb": {
      "model_module": "@jupyter-widgets/controls",
      "model_module_version": "1.5.0",
      "model_name": "HTMLModel",
      "state": {
       "layout": "IPY_MODEL_e460615e50964761b022522f9a54c128",
       "style": "IPY_MODEL_da1bc6051112467cb73aa524a0aefe20",
       "value": " 291/297 [00:04&lt;00:00, 61.35it/s]"
      }
     },
     "aaf47a1294b34ba2a8236d0e8387ba38": {
      "model_module": "@jupyter-widgets/base",
      "model_module_version": "1.2.0",
      "model_name": "LayoutModel",
      "state": {}
     },
     "ab2cb5f0488f4b349eb3ff59c9627bad": {
      "model_module": "@jupyter-widgets/base",
      "model_module_version": "1.2.0",
      "model_name": "LayoutModel",
      "state": {}
     },
     "ab2dc190457b4f7b905c3fca6692effc": {
      "model_module": "@jupyter-widgets/base",
      "model_module_version": "1.2.0",
      "model_name": "LayoutModel",
      "state": {}
     },
     "abca42721e954541872f4c2fb4384b69": {
      "model_module": "@jupyter-widgets/controls",
      "model_module_version": "1.5.0",
      "model_name": "FloatProgressModel",
      "state": {
       "layout": "IPY_MODEL_6cfb4f34f85b4eaa84f99f4d6ca1c005",
       "style": "IPY_MODEL_152e93993fa649408b314ac6cc658178",
       "value": 100
      }
     },
     "abeff08a4f614fc1ada0e929fcb47ce0": {
      "model_module": "@jupyter-widgets/controls",
      "model_module_version": "1.5.0",
      "model_name": "DescriptionStyleModel",
      "state": {
       "description_width": ""
      }
     },
     "ac7a67ec5d6046e8ab2948e0bae77249": {
      "model_module": "@jupyter-widgets/base",
      "model_module_version": "1.2.0",
      "model_name": "LayoutModel",
      "state": {}
     },
     "ac83e0bc45ee49d5b1c548e4a473d3e4": {
      "model_module": "@jupyter-widgets/controls",
      "model_module_version": "1.5.0",
      "model_name": "DescriptionStyleModel",
      "state": {
       "description_width": ""
      }
     },
     "ac84285894254246a269d2c16bf84499": {
      "model_module": "@jupyter-widgets/controls",
      "model_module_version": "1.5.0",
      "model_name": "DescriptionStyleModel",
      "state": {
       "description_width": ""
      }
     },
     "ac97242c29824ff0984a2a4a626d6194": {
      "model_module": "@jupyter-widgets/base",
      "model_module_version": "1.2.0",
      "model_name": "LayoutModel",
      "state": {}
     },
     "acafece44d854a45b87f404de9fb1543": {
      "model_module": "@jupyter-widgets/controls",
      "model_module_version": "1.5.0",
      "model_name": "DescriptionStyleModel",
      "state": {
       "description_width": ""
      }
     },
     "aced36d2435a4e2e9021bcd4064aec47": {
      "model_module": "@jupyter-widgets/controls",
      "model_module_version": "1.5.0",
      "model_name": "DescriptionStyleModel",
      "state": {
       "description_width": ""
      }
     },
     "ad009e225c7a48168eaf8894009674a3": {
      "model_module": "@jupyter-widgets/controls",
      "model_module_version": "1.5.0",
      "model_name": "DescriptionStyleModel",
      "state": {
       "description_width": ""
      }
     },
     "ad150bdceb0a4e85bba4a6c3096fda25": {
      "model_module": "@jupyter-widgets/base",
      "model_module_version": "1.2.0",
      "model_name": "LayoutModel",
      "state": {}
     },
     "ad2fdfdcd2c54f078b2b6ed8b8d33139": {
      "model_module": "@jupyter-widgets/controls",
      "model_module_version": "1.5.0",
      "model_name": "DescriptionStyleModel",
      "state": {
       "description_width": ""
      }
     },
     "ad37e5bc97794fe6a1108f0a250760c0": {
      "model_module": "@jupyter-widgets/base",
      "model_module_version": "1.2.0",
      "model_name": "LayoutModel",
      "state": {}
     },
     "ad3d06bbb4e44ecb8aa0aad009fe92ca": {
      "model_module": "@jupyter-widgets/controls",
      "model_module_version": "1.5.0",
      "model_name": "DescriptionStyleModel",
      "state": {
       "description_width": ""
      }
     },
     "adb0148b9c254f3c92d5cd4ea4406ad0": {
      "model_module": "@jupyter-widgets/base",
      "model_module_version": "1.2.0",
      "model_name": "LayoutModel",
      "state": {}
     },
     "ae69cff5d5024c9e98be7e71912df2c8": {
      "model_module": "@jupyter-widgets/controls",
      "model_module_version": "1.5.0",
      "model_name": "HTMLModel",
      "state": {
       "layout": "IPY_MODEL_690199c11c644f0fa33b58ed06f27321",
       "style": "IPY_MODEL_7169aef36d874d998ade9dc9a3899495",
       "value": " 1381/1384 [00:22&lt;00:00, 63.55it/s]"
      }
     },
     "ae8e0c1c3b4b4f9ca15131646f000352": {
      "model_module": "@jupyter-widgets/base",
      "model_module_version": "1.2.0",
      "model_name": "LayoutModel",
      "state": {
       "visibility": "hidden"
      }
     },
     "ae94a29738d74e0e8bbe30bc5c7ef496": {
      "model_module": "@jupyter-widgets/controls",
      "model_module_version": "1.5.0",
      "model_name": "ProgressStyleModel",
      "state": {
       "description_width": ""
      }
     },
     "aeb53615aeb04d368a89bf3f98470a64": {
      "model_module": "@jupyter-widgets/controls",
      "model_module_version": "1.5.0",
      "model_name": "ProgressStyleModel",
      "state": {
       "description_width": ""
      }
     },
     "aec83cc569834dc196373e57bb1fa641": {
      "model_module": "@jupyter-widgets/base",
      "model_module_version": "1.2.0",
      "model_name": "LayoutModel",
      "state": {}
     },
     "aedbff8118bc41fb9edde98cac4005a8": {
      "model_module": "@jupyter-widgets/controls",
      "model_module_version": "1.5.0",
      "model_name": "HTMLModel",
      "state": {
       "layout": "IPY_MODEL_39cf7d57cf9d41679a03c9cccec9a14c",
       "style": "IPY_MODEL_12a2cd92b8cc4e5492e66de96cd8cd8f",
       "value": "Checking: 100%"
      }
     },
     "aee5faa9cd9944cb9e9755bdbf9d6038": {
      "model_module": "@jupyter-widgets/controls",
      "model_module_version": "1.5.0",
      "model_name": "HTMLModel",
      "state": {
       "layout": "IPY_MODEL_33dd4fe68f164f01968868aec28c4df5",
       "style": "IPY_MODEL_df892380e04f4067884c65b8e9cda511",
       "value": "speech_data\\_background_noise_\\running_tap.wav:  97%"
      }
     },
     "b0110fe81528402897d3409d69822bc5": {
      "model_module": "@jupyter-widgets/controls",
      "model_module_version": "1.5.0",
      "model_name": "FloatProgressModel",
      "state": {
       "layout": "IPY_MODEL_0c630f3d67544c4587d51b11072f9b29",
       "max": 2164,
       "style": "IPY_MODEL_4666b64558394ec196e37a41eb21bbc2",
       "value": 2164
      }
     },
     "b0158cbad8474e50adaf8c68c1f8909f": {
      "model_module": "@jupyter-widgets/base",
      "model_module_version": "1.2.0",
      "model_name": "LayoutModel",
      "state": {
       "visibility": "hidden"
      }
     },
     "b0293fcec9974c19862fcfc415ccac6b": {
      "model_module": "@jupyter-widgets/base",
      "model_module_version": "1.2.0",
      "model_name": "LayoutModel",
      "state": {
       "visibility": "hidden"
      }
     },
     "b02db45f0d6e441a8648b08efe2ab7cb": {
      "model_module": "@jupyter-widgets/base",
      "model_module_version": "1.2.0",
      "model_name": "LayoutModel",
      "state": {}
     },
     "b04cf9b578c74a1c94101b5dc3a861a1": {
      "model_module": "@jupyter-widgets/controls",
      "model_module_version": "1.5.0",
      "model_name": "DescriptionStyleModel",
      "state": {
       "description_width": ""
      }
     },
     "b06d648b08a942df9fadbaf07d2a0062": {
      "model_module": "@jupyter-widgets/controls",
      "model_module_version": "1.5.0",
      "model_name": "ProgressStyleModel",
      "state": {
       "description_width": ""
      }
     },
     "b0b6dc7f8afb42a58644866b73cac7cb": {
      "model_module": "@jupyter-widgets/controls",
      "model_module_version": "1.5.0",
      "model_name": "DescriptionStyleModel",
      "state": {
       "description_width": ""
      }
     },
     "b0bd383e01734fe8a6c34beb52b901a5": {
      "model_module": "@jupyter-widgets/controls",
      "model_module_version": "1.5.0",
      "model_name": "DescriptionStyleModel",
      "state": {
       "description_width": ""
      }
     },
     "b0e89372b94b44a7b50228f9c0cee6f3": {
      "model_module": "@jupyter-widgets/base",
      "model_module_version": "1.2.0",
      "model_name": "LayoutModel",
      "state": {
       "visibility": "hidden"
      }
     },
     "b1245d19340f455eb1a5eea156c357aa": {
      "model_module": "@jupyter-widgets/base",
      "model_module_version": "1.2.0",
      "model_name": "LayoutModel",
      "state": {}
     },
     "b15c24da07ad46fabfe155c8d0c6f926": {
      "model_module": "@jupyter-widgets/controls",
      "model_module_version": "1.5.0",
      "model_name": "ProgressStyleModel",
      "state": {
       "description_width": ""
      }
     },
     "b16b5470453c406eb1c240bfd6957230": {
      "model_module": "@jupyter-widgets/controls",
      "model_module_version": "1.5.0",
      "model_name": "DescriptionStyleModel",
      "state": {
       "description_width": ""
      }
     },
     "b1ccc8ae978148f290386d66be9b26cd": {
      "model_module": "@jupyter-widgets/controls",
      "model_module_version": "1.5.0",
      "model_name": "DescriptionStyleModel",
      "state": {
       "description_width": ""
      }
     },
     "b1cce581af9b49089b865f9c40b61e26": {
      "model_module": "@jupyter-widgets/base",
      "model_module_version": "1.2.0",
      "model_name": "LayoutModel",
      "state": {}
     },
     "b1d4b1e1c5e44dd7b14dbecf92840b34": {
      "model_module": "@jupyter-widgets/base",
      "model_module_version": "1.2.0",
      "model_name": "LayoutModel",
      "state": {}
     },
     "b1daeb218c52413683a84c5bd4315563": {
      "model_module": "@jupyter-widgets/base",
      "model_module_version": "1.2.0",
      "model_name": "LayoutModel",
      "state": {
       "visibility": "hidden"
      }
     },
     "b213572b99404474a690f200bf3bf3e6": {
      "model_module": "@jupyter-widgets/base",
      "model_module_version": "1.2.0",
      "model_name": "LayoutModel",
      "state": {}
     },
     "b2151b050fc44e9fa943aef55552badb": {
      "model_module": "@jupyter-widgets/base",
      "model_module_version": "1.2.0",
      "model_name": "LayoutModel",
      "state": {}
     },
     "b2bbb67c85554d55ac8b6f9ff4420fd6": {
      "model_module": "@jupyter-widgets/controls",
      "model_module_version": "1.5.0",
      "model_name": "HTMLModel",
      "state": {
       "layout": "IPY_MODEL_83b526065ff44d899d3c4114953bca81",
       "style": "IPY_MODEL_d530735caa2f4f7481e49422da7c977a",
       "value": "off (4):  99%"
      }
     },
     "b2ea0868d663485f8415561baf5d45d9": {
      "model_module": "@jupyter-widgets/controls",
      "model_module_version": "1.5.0",
      "model_name": "ProgressStyleModel",
      "state": {
       "description_width": ""
      }
     },
     "b30795b5374a4fada006bcb0418c3042": {
      "model_module": "@jupyter-widgets/controls",
      "model_module_version": "1.5.0",
      "model_name": "HTMLModel",
      "state": {
       "layout": "IPY_MODEL_3f73a2b3a9414b2d924b383b1179b57f",
       "style": "IPY_MODEL_a60511ebccca4b2ebe5f8e136c4b148a",
       "value": " 2122/2123 [01:01&lt;00:00, 30.08it/s]"
      }
     },
     "b355f15ca34d40dca539ca981958b16c": {
      "model_module": "@jupyter-widgets/controls",
      "model_module_version": "1.5.0",
      "model_name": "FloatProgressModel",
      "state": {
       "layout": "IPY_MODEL_71818156a96c4502a58c50d890f25298",
       "max": 292,
       "style": "IPY_MODEL_b06d648b08a942df9fadbaf07d2a0062",
       "value": 292
      }
     },
     "b3a23bfe972741a7988613bb953d24e8": {
      "model_module": "@jupyter-widgets/controls",
      "model_module_version": "1.5.0",
      "model_name": "HTMLModel",
      "state": {
       "layout": "IPY_MODEL_371559247f20459493e452a2b0b0f3d1",
       "style": "IPY_MODEL_4b93592036f5460ab56b35e94b41114d",
       "value": "two (4): 100%"
      }
     },
     "b41dc19e90594be28d937a32ebe0a527": {
      "model_module": "@jupyter-widgets/controls",
      "model_module_version": "1.5.0",
      "model_name": "DescriptionStyleModel",
      "state": {
       "description_width": ""
      }
     },
     "b43c32eea4914eb49f44c4d1dedd86db": {
      "model_module": "@jupyter-widgets/controls",
      "model_module_version": "1.5.0",
      "model_name": "DescriptionStyleModel",
      "state": {
       "description_width": ""
      }
     },
     "b44943da7f3b4c74b0cdf080b61b53ae": {
      "model_module": "@jupyter-widgets/base",
      "model_module_version": "1.2.0",
      "model_name": "LayoutModel",
      "state": {}
     },
     "b455ec2448894599b29fa6ce68cfb577": {
      "model_module": "@jupyter-widgets/controls",
      "model_module_version": "1.5.0",
      "model_name": "DescriptionStyleModel",
      "state": {
       "description_width": ""
      }
     },
     "b45b7ad4cc904f259e703a584d383c5e": {
      "model_module": "@jupyter-widgets/controls",
      "model_module_version": "1.5.0",
      "model_name": "ProgressStyleModel",
      "state": {
       "description_width": ""
      }
     },
     "b4807f99af944f2a918b271d3fbfdaf9": {
      "model_module": "@jupyter-widgets/base",
      "model_module_version": "1.2.0",
      "model_name": "LayoutModel",
      "state": {
       "visibility": "hidden"
      }
     },
     "b4953f9b106447f29d9a9c74e5640c36": {
      "model_module": "@jupyter-widgets/controls",
      "model_module_version": "1.5.0",
      "model_name": "HTMLModel",
      "state": {
       "layout": "IPY_MODEL_7cc19dc13f394eeab5ef7a50f3151fc6",
       "style": "IPY_MODEL_845a3be641d3469da928ce22340a2360",
       "value": " 137/141 [00:02&lt;00:00, 61.27it/s]"
      }
     },
     "b50b6a1ddd814dbe80de5900f6338145": {
      "model_module": "@jupyter-widgets/base",
      "model_module_version": "1.2.0",
      "model_name": "LayoutModel",
      "state": {
       "visibility": "hidden"
      }
     },
     "b5b81856e93d4d619daddfc8799b69d7": {
      "model_module": "@jupyter-widgets/controls",
      "model_module_version": "1.5.0",
      "model_name": "HTMLModel",
      "state": {
       "layout": "IPY_MODEL_4b16e5f992cc487699ec6a825964efcc",
       "style": "IPY_MODEL_ecf451fdba984835bc442de389ea9344",
       "value": "two (4): 100%"
      }
     },
     "b5d2aef2283845cf8d39d4b07f2f52ba": {
      "model_module": "@jupyter-widgets/base",
      "model_module_version": "1.2.0",
      "model_name": "LayoutModel",
      "state": {}
     },
     "b5e13b61887c4d9682e2f548df9c1fb8": {
      "model_module": "@jupyter-widgets/base",
      "model_module_version": "1.2.0",
      "model_name": "LayoutModel",
      "state": {}
     },
     "b5effd07853348b78032c7754d77d0a2": {
      "model_module": "@jupyter-widgets/controls",
      "model_module_version": "1.5.0",
      "model_name": "FloatProgressModel",
      "state": {
       "layout": "IPY_MODEL_db775e36b2ab4d13867f13ab5a8eb62a",
       "max": 271,
       "style": "IPY_MODEL_1c8e22698440405f91b784d91ee46cd9",
       "value": 271
      }
     },
     "b5f77fefb6694499afc7681387a90a42": {
      "model_module": "@jupyter-widgets/controls",
      "model_module_version": "1.5.0",
      "model_name": "ProgressStyleModel",
      "state": {
       "description_width": ""
      }
     },
     "b6373500cbcb48ed9764d9068e6aa44d": {
      "model_module": "@jupyter-widgets/controls",
      "model_module_version": "1.5.0",
      "model_name": "HTMLModel",
      "state": {
       "layout": "IPY_MODEL_d744be8b5d4f4d078045033882df0eec",
       "style": "IPY_MODEL_1fe0d5016f0d4febb3411ae6ce38bea4",
       "value": "wow (4):  98%"
      }
     },
     "b67949b084b841a39e08279894622f4f": {
      "model_module": "@jupyter-widgets/controls",
      "model_module_version": "1.5.0",
      "model_name": "DescriptionStyleModel",
      "state": {
       "description_width": ""
      }
     },
     "b6cee6b3439847fb83fe005fc07f99a7": {
      "model_module": "@jupyter-widgets/base",
      "model_module_version": "1.2.0",
      "model_name": "LayoutModel",
      "state": {}
     },
     "b77cead9e1684cc69768e7bf6dcfaea6": {
      "model_module": "@jupyter-widgets/base",
      "model_module_version": "1.2.0",
      "model_name": "LayoutModel",
      "state": {
       "visibility": "hidden"
      }
     },
     "b7b9ce110f2044dd93964d34aea1cfbd": {
      "model_module": "@jupyter-widgets/base",
      "model_module_version": "1.2.0",
      "model_name": "LayoutModel",
      "state": {}
     },
     "b7ef25ed2aa14828ab17bc7083e73ba2": {
      "model_module": "@jupyter-widgets/controls",
      "model_module_version": "1.5.0",
      "model_name": "HTMLModel",
      "state": {
       "layout": "IPY_MODEL_0b4db54aa682463fb12ddb9495308673",
       "style": "IPY_MODEL_6416676fa3fe4948b30bf2e1dee1b1ff",
       "value": " 4052/4052 [01:57&lt;00:00, 18.69it/s]"
      }
     },
     "b829e604abac41a3babd8c9440edff46": {
      "model_module": "@jupyter-widgets/controls",
      "model_module_version": "1.5.0",
      "model_name": "DescriptionStyleModel",
      "state": {
       "description_width": ""
      }
     },
     "b8391c25e06a46dca1833266e81a770c": {
      "model_module": "@jupyter-widgets/controls",
      "model_module_version": "1.5.0",
      "model_name": "FloatProgressModel",
      "state": {
       "layout": "IPY_MODEL_e94a402f871e48bdba1080a9fb13a17d",
       "max": 148,
       "style": "IPY_MODEL_76fe684dfc254123a120afa809200880",
       "value": 148
      }
     },
     "b845c0b2f86c4fb78ac9031909b91349": {
      "model_module": "@jupyter-widgets/base",
      "model_module_version": "1.2.0",
      "model_name": "LayoutModel",
      "state": {}
     },
     "b88b0504cd89420fa5848461a5d9cc75": {
      "model_module": "@jupyter-widgets/controls",
      "model_module_version": "1.5.0",
      "model_name": "HTMLModel",
      "state": {
       "layout": "IPY_MODEL_ff3610bc4e8a41a280058e454511bff0",
       "style": "IPY_MODEL_048e961590124761810c69344e857a3b",
       "value": " 998/998 [00:16&lt;00:00, 63.05it/s]"
      }
     },
     "b8e549d93fee44a09beef10037f67b2c": {
      "model_module": "@jupyter-widgets/controls",
      "model_module_version": "1.5.0",
      "model_name": "FloatProgressModel",
      "state": {
       "layout": "IPY_MODEL_976049b5038c4c29b9d9979cd22f032f",
       "max": 2022,
       "style": "IPY_MODEL_d93ca28c46084ff6ae7751d2999e4e7d",
       "value": 2022
      }
     },
     "b8f23ecb3adc47369c4453dc5f31b108": {
      "model_module": "@jupyter-widgets/controls",
      "model_module_version": "1.5.0",
      "model_name": "HTMLModel",
      "state": {
       "layout": "IPY_MODEL_9da17294c5cf45b1b548144ad348e282",
       "style": "IPY_MODEL_86d95fdd66e945aa8de6fd0adcbb7e47",
       "value": "go (4):  99%"
      }
     },
     "b96296a250904f81975df9b4f2d998b7": {
      "model_module": "@jupyter-widgets/base",
      "model_module_version": "1.2.0",
      "model_name": "LayoutModel",
      "state": {
       "visibility": "hidden"
      }
     },
     "b9a2ac4dd3d1459eb2d3dc2ebac5afaa": {
      "model_module": "@jupyter-widgets/base",
      "model_module_version": "1.2.0",
      "model_name": "LayoutModel",
      "state": {}
     },
     "b9a6abb6175f405ea111f87bbfa31b42": {
      "model_module": "@jupyter-widgets/controls",
      "model_module_version": "1.5.0",
      "model_name": "HTMLModel",
      "state": {
       "layout": "IPY_MODEL_c43c37bf49b44d18abb1015039cfc655",
       "style": "IPY_MODEL_20cba8db42e84d908286642bce6c1fd1",
       "value": " 282/286 [00:04&lt;00:00, 61.96it/s]"
      }
     },
     "ba09537395704bb2bcf98191b72e2001": {
      "model_module": "@jupyter-widgets/base",
      "model_module_version": "1.2.0",
      "model_name": "LayoutModel",
      "state": {
       "visibility": "hidden"
      }
     },
     "ba09fed0dc004bfc958ba88cb6d74642": {
      "model_module": "@jupyter-widgets/controls",
      "model_module_version": "1.5.0",
      "model_name": "DescriptionStyleModel",
      "state": {
       "description_width": ""
      }
     },
     "ba230aac52e04d5f8de4ac0def6e5f4f": {
      "model_module": "@jupyter-widgets/controls",
      "model_module_version": "1.5.0",
      "model_name": "DescriptionStyleModel",
      "state": {
       "description_width": ""
      }
     },
     "ba36c1e4d9b34a98b154994347027ea9": {
      "model_module": "@jupyter-widgets/controls",
      "model_module_version": "1.5.0",
      "model_name": "FloatProgressModel",
      "state": {
       "layout": "IPY_MODEL_59646e5cf6e54070b9351711b1ad9f7d",
       "max": 5560,
       "style": "IPY_MODEL_7bed1c4e5e5b48e49c53b1532555ea6e",
       "value": 5560
      }
     },
     "ba463655499c4cca93ad7fc3210df729": {
      "model_module": "@jupyter-widgets/controls",
      "model_module_version": "1.5.0",
      "model_name": "HTMLModel",
      "state": {
       "layout": "IPY_MODEL_8a6a2772bffd46029f151e5cdab98243",
       "style": "IPY_MODEL_acafece44d854a45b87f404de9fb1543",
       "value": " 2154/2157 [00:37&lt;00:00, 57.99it/s]"
      }
     },
     "ba86f3eb118d4365832619bce8c4c873": {
      "model_module": "@jupyter-widgets/controls",
      "model_module_version": "1.5.0",
      "model_name": "DescriptionStyleModel",
      "state": {
       "description_width": ""
      }
     },
     "bb04952e3ce04b3fbf5c0bc465dcde9c": {
      "model_module": "@jupyter-widgets/controls",
      "model_module_version": "1.5.0",
      "model_name": "DescriptionStyleModel",
      "state": {
       "description_width": ""
      }
     },
     "bb376e445f704ac8af1cf723c247b5fe": {
      "model_module": "@jupyter-widgets/base",
      "model_module_version": "1.2.0",
      "model_name": "LayoutModel",
      "state": {}
     },
     "bb6e2a3170e24d7f90dce4e5548b52c7": {
      "model_module": "@jupyter-widgets/controls",
      "model_module_version": "1.5.0",
      "model_name": "DescriptionStyleModel",
      "state": {
       "description_width": ""
      }
     },
     "bbb8f8e13638464aab2a3f8990f2cfe0": {
      "model_module": "@jupyter-widgets/controls",
      "model_module_version": "1.5.0",
      "model_name": "DescriptionStyleModel",
      "state": {
       "description_width": ""
      }
     },
     "bbb9e1218f1440a5ba9faf8dcf7963db": {
      "model_module": "@jupyter-widgets/base",
      "model_module_version": "1.2.0",
      "model_name": "LayoutModel",
      "state": {
       "visibility": "hidden"
      }
     },
     "bc0a30144f3a4f05adf18dc81e12aa8b": {
      "model_module": "@jupyter-widgets/base",
      "model_module_version": "1.2.0",
      "model_name": "LayoutModel",
      "state": {}
     },
     "bc5515ee4a71428b8c47445da49fcabd": {
      "model_module": "@jupyter-widgets/base",
      "model_module_version": "1.2.0",
      "model_name": "LayoutModel",
      "state": {}
     },
     "bc6ba87b988942b2b0b5f60a5f9faec6": {
      "model_module": "@jupyter-widgets/controls",
      "model_module_version": "1.5.0",
      "model_name": "HTMLModel",
      "state": {
       "layout": "IPY_MODEL_5cc842bb53e445b09b01b97adfac1c38",
       "style": "IPY_MODEL_7f2a3988aed04e73ac7f0ad190853bf1",
       "value": "down (4): 100%"
      }
     },
     "bc6ea8a2b7134a0fba3921bbb4580069": {
      "model_module": "@jupyter-widgets/controls",
      "model_module_version": "1.5.0",
      "model_name": "DescriptionStyleModel",
      "state": {
       "description_width": ""
      }
     },
     "bc6fcee3ce91419d918f262c91db964f": {
      "model_module": "@jupyter-widgets/base",
      "model_module_version": "1.2.0",
      "model_name": "LayoutModel",
      "state": {
       "visibility": "hidden"
      }
     },
     "bc70dcbd213747189c6e631e65008faf": {
      "model_module": "@jupyter-widgets/controls",
      "model_module_version": "1.5.0",
      "model_name": "HTMLModel",
      "state": {
       "layout": "IPY_MODEL_104185ba99a349b9babe7094a05f02a0",
       "style": "IPY_MODEL_43694d6680ad440a9038dd58f74346a5",
       "value": "Checking: 100%"
      }
     },
     "bc74f040d1cf4208b1f3bcb180b8c6ac": {
      "model_module": "@jupyter-widgets/controls",
      "model_module_version": "1.5.0",
      "model_name": "DescriptionStyleModel",
      "state": {
       "description_width": ""
      }
     },
     "bc9a1a6ede244044ab4d40661bcb9337": {
      "model_module": "@jupyter-widgets/controls",
      "model_module_version": "1.5.0",
      "model_name": "FloatProgressModel",
      "state": {
       "layout": "IPY_MODEL_12fbe258d85649099185a5fb180f35b2",
       "max": 2364,
       "style": "IPY_MODEL_392cb1863ef54289874d9a0e391513f8",
       "value": 2364
      }
     },
     "bcafa29e67b7430c83da1f5e92fd21df": {
      "model_module": "@jupyter-widgets/controls",
      "model_module_version": "1.5.0",
      "model_name": "HTMLModel",
      "state": {
       "layout": "IPY_MODEL_55f905857e6c4819944c5477ed08d7c7",
       "style": "IPY_MODEL_3d0bfff598ac42618aced699414be7df",
       "value": " 2160/2164 [00:33&lt;00:00, 63.98it/s]"
      }
     },
     "bcf9e4118be34c68996bbb9c49e3447c": {
      "model_module": "@jupyter-widgets/controls",
      "model_module_version": "1.5.0",
      "model_name": "ProgressStyleModel",
      "state": {
       "description_width": ""
      }
     },
     "bd32ec96b6774deabdd9532d0675a887": {
      "model_module": "@jupyter-widgets/controls",
      "model_module_version": "1.5.0",
      "model_name": "HTMLModel",
      "state": {
       "layout": "IPY_MODEL_ac7a67ec5d6046e8ab2948e0bae77249",
       "style": "IPY_MODEL_a91bd6b999d04869b1ca0bc0c1caba22",
       "value": " 123/126 [00:01&lt;00:00, 63.64it/s]"
      }
     },
     "bd66c1ce29894e8bad35f6da3dffc5b8": {
      "model_module": "@jupyter-widgets/controls",
      "model_module_version": "1.5.0",
      "model_name": "ProgressStyleModel",
      "state": {
       "description_width": ""
      }
     },
     "bda9a52b508043c98034385a84f3c3f6": {
      "model_module": "@jupyter-widgets/controls",
      "model_module_version": "1.5.0",
      "model_name": "ProgressStyleModel",
      "state": {
       "description_width": ""
      }
     },
     "be4638a09b444c1ea167e6917942e2dc": {
      "model_module": "@jupyter-widgets/base",
      "model_module_version": "1.2.0",
      "model_name": "LayoutModel",
      "state": {}
     },
     "be70d880b203439b90ef90b12ffd5dbb": {
      "model_module": "@jupyter-widgets/base",
      "model_module_version": "1.2.0",
      "model_name": "LayoutModel",
      "state": {}
     },
     "bec8821729994d968f1b21cec91e5b59": {
      "model_module": "@jupyter-widgets/controls",
      "model_module_version": "1.5.0",
      "model_name": "ProgressStyleModel",
      "state": {
       "description_width": ""
      }
     },
     "beede60b78794de9b337ed2104097390": {
      "model_module": "@jupyter-widgets/controls",
      "model_module_version": "1.5.0",
      "model_name": "DescriptionStyleModel",
      "state": {
       "description_width": ""
      }
     },
     "bf05b394c66b4bac821d845a7cfbf3b2": {
      "model_module": "@jupyter-widgets/controls",
      "model_module_version": "1.5.0",
      "model_name": "DescriptionStyleModel",
      "state": {
       "description_width": ""
      }
     },
     "bf7b5fad645141ab9ba7f592de561148": {
      "model_module": "@jupyter-widgets/controls",
      "model_module_version": "1.5.0",
      "model_name": "HTMLModel",
      "state": {
       "layout": "IPY_MODEL_5635ceeed29d4c12bf1330c5f1d34cf7",
       "style": "IPY_MODEL_918a6d13a56a4baeb07d0aaaa292ef39",
       "value": " 1290/1293 [00:20&lt;00:00, 63.54it/s]"
      }
     },
     "bfb42143385f4905b45c03462b2ef1a1": {
      "model_module": "@jupyter-widgets/base",
      "model_module_version": "1.2.0",
      "model_name": "LayoutModel",
      "state": {}
     },
     "bfbf369b92774f6ea4c8227265926238": {
      "model_module": "@jupyter-widgets/controls",
      "model_module_version": "1.5.0",
      "model_name": "HTMLModel",
      "state": {
       "layout": "IPY_MODEL_75a81dc76fc74099a1070973bb437314",
       "style": "IPY_MODEL_4e2f898333f24a9c8caebe15421b9ef6",
       "value": " 1853/1858 [00:29&lt;00:00, 64.00it/s]"
      }
     },
     "c0593c5d1b6a4c4e90923e7ae531b679": {
      "model_module": "@jupyter-widgets/base",
      "model_module_version": "1.2.0",
      "model_name": "LayoutModel",
      "state": {}
     },
     "c05bc5ac12c84727a392aa7d47b5786e": {
      "model_module": "@jupyter-widgets/base",
      "model_module_version": "1.2.0",
      "model_name": "LayoutModel",
      "state": {}
     },
     "c0712ebac95f429cba5153b4f337c7a3": {
      "model_module": "@jupyter-widgets/base",
      "model_module_version": "1.2.0",
      "model_name": "LayoutModel",
      "state": {}
     },
     "c0f7c9c2746b425f9b2c7742746f80f5": {
      "model_module": "@jupyter-widgets/controls",
      "model_module_version": "1.5.0",
      "model_name": "DescriptionStyleModel",
      "state": {
       "description_width": ""
      }
     },
     "c11757e74bf44e53b88f2d37f0a6c0fa": {
      "model_module": "@jupyter-widgets/base",
      "model_module_version": "1.2.0",
      "model_name": "LayoutModel",
      "state": {}
     },
     "c16dc77010cf4b708532434394cfbb1a": {
      "model_module": "@jupyter-widgets/base",
      "model_module_version": "1.2.0",
      "model_name": "LayoutModel",
      "state": {}
     },
     "c18ba4293ef049f19ef6bb09d32f1d1c": {
      "model_module": "@jupyter-widgets/base",
      "model_module_version": "1.2.0",
      "model_name": "LayoutModel",
      "state": {
       "visibility": "hidden"
      }
     },
     "c19897908177490991f36883df5d672f": {
      "model_module": "@jupyter-widgets/base",
      "model_module_version": "1.2.0",
      "model_name": "LayoutModel",
      "state": {}
     },
     "c1cde7fe134740c388701384a0d6d66d": {
      "model_module": "@jupyter-widgets/controls",
      "model_module_version": "1.5.0",
      "model_name": "DescriptionStyleModel",
      "state": {
       "description_width": ""
      }
     },
     "c1df8513ff6d44a799087a1d25c2e7ae": {
      "model_module": "@jupyter-widgets/controls",
      "model_module_version": "1.5.0",
      "model_name": "HTMLModel",
      "state": {
       "layout": "IPY_MODEL_8e5539a14f8d4259a7b859a5a0f4bbba",
       "style": "IPY_MODEL_18435beebd5e4eedb1dfb91f121b1096",
       "value": " 165/169 [00:02&lt;00:00, 60.93it/s]"
      }
     },
     "c22fdd6939bd46fcab078cee1f97da33": {
      "model_module": "@jupyter-widgets/controls",
      "model_module_version": "1.5.0",
      "model_name": "DescriptionStyleModel",
      "state": {
       "description_width": ""
      }
     },
     "c23b227f5dd64a01bc1b3c67db6bff25": {
      "model_module": "@jupyter-widgets/controls",
      "model_module_version": "1.5.0",
      "model_name": "DescriptionStyleModel",
      "state": {
       "description_width": ""
      }
     },
     "c27850562c6e4e7aad7201cd23b11b73": {
      "model_module": "@jupyter-widgets/controls",
      "model_module_version": "1.5.0",
      "model_name": "HTMLModel",
      "state": {
       "layout": "IPY_MODEL_0af4c8eee1084f209632826e11d0d2db",
       "style": "IPY_MODEL_2ca3d5790684448ea9838233431ff62a",
       "value": "happy (4):  97%"
      }
     },
     "c2bd528b077e4eb8b2ccf900c4753b26": {
      "model_module": "@jupyter-widgets/base",
      "model_module_version": "1.2.0",
      "model_name": "LayoutModel",
      "state": {}
     },
     "c2be2a2d70594a329fddd6dcd9d7ba41": {
      "model_module": "@jupyter-widgets/base",
      "model_module_version": "1.2.0",
      "model_name": "LayoutModel",
      "state": {}
     },
     "c2f2c878d33640a9bba675393de52cfa": {
      "model_module": "@jupyter-widgets/controls",
      "model_module_version": "1.5.0",
      "model_name": "ProgressStyleModel",
      "state": {
       "description_width": ""
      }
     },
     "c2f7f0665e6b4316a6a08ad8873f6038": {
      "model_module": "@jupyter-widgets/base",
      "model_module_version": "1.2.0",
      "model_name": "LayoutModel",
      "state": {
       "visibility": "hidden"
      }
     },
     "c30205d0e6354abeaa5c9845b0db64e5": {
      "model_module": "@jupyter-widgets/base",
      "model_module_version": "1.2.0",
      "model_name": "LayoutModel",
      "state": {}
     },
     "c31c7a60f64a430289cfad12f9fdb9e3": {
      "model_module": "@jupyter-widgets/controls",
      "model_module_version": "1.5.0",
      "model_name": "HTMLModel",
      "state": {
       "layout": "IPY_MODEL_780f79999f034993b28fd312706113ca",
       "style": "IPY_MODEL_119575717c7643b8b889f6cea79a11bb",
       "value": "sheila (4): 100%"
      }
     },
     "c3b1e6e0f0074389a6334dbaf742f20b": {
      "model_module": "@jupyter-widgets/controls",
      "model_module_version": "1.5.0",
      "model_name": "HTMLModel",
      "state": {
       "layout": "IPY_MODEL_63f313ceab3d4463b1df21b64c5f37d6",
       "style": "IPY_MODEL_845f10835d12460cb325a2cf98cb8efa",
       "value": "speech_data\\_background_noise_\\exercise_bike.wav:  74%"
      }
     },
     "c43c37bf49b44d18abb1015039cfc655": {
      "model_module": "@jupyter-widgets/base",
      "model_module_version": "1.2.0",
      "model_name": "LayoutModel",
      "state": {}
     },
     "c45acf1967df4e2b9efde5eff96d609b": {
      "model_module": "@jupyter-widgets/base",
      "model_module_version": "1.2.0",
      "model_name": "LayoutModel",
      "state": {}
     },
     "c47b74ed4fab49d2a39eebd764aa5d73": {
      "model_module": "@jupyter-widgets/controls",
      "model_module_version": "1.5.0",
      "model_name": "DescriptionStyleModel",
      "state": {
       "description_width": ""
      }
     },
     "c4cf6f8c41894cc1afecf5a30848bb54": {
      "model_module": "@jupyter-widgets/controls",
      "model_module_version": "1.5.0",
      "model_name": "HTMLModel",
      "state": {
       "layout": "IPY_MODEL_9bb7fa6459ad4d7387dd9c020b57cb26",
       "style": "IPY_MODEL_89cefce187a5454886f8973951bdc763",
       "value": "Checking: 100%"
      }
     },
     "c4f5fb4e5cc84a50aa508cabeeb4f5f4": {
      "model_module": "@jupyter-widgets/base",
      "model_module_version": "1.2.0",
      "model_name": "LayoutModel",
      "state": {}
     },
     "c52b8bdb4a5c49aab54b47de9a579180": {
      "model_module": "@jupyter-widgets/base",
      "model_module_version": "1.2.0",
      "model_name": "LayoutModel",
      "state": {
       "visibility": "hidden"
      }
     },
     "c56dbe9f6f1645f68efbd7af34ae1ae1": {
      "model_module": "@jupyter-widgets/controls",
      "model_module_version": "1.5.0",
      "model_name": "FloatProgressModel",
      "state": {
       "layout": "IPY_MODEL_3b9196cdecc44cee98d18e96a6edd6ad",
       "max": 116,
       "style": "IPY_MODEL_c7db1e4c41dd40648dcf36ba13d99552",
       "value": 116
      }
     },
     "c571a90a386949d9820dda07d385001b": {
      "model_module": "@jupyter-widgets/base",
      "model_module_version": "1.2.0",
      "model_name": "LayoutModel",
      "state": {
       "visibility": "hidden"
      }
     },
     "c571f2772bfa480ea88b9e2fbfb0f121": {
      "model_module": "@jupyter-widgets/controls",
      "model_module_version": "1.5.0",
      "model_name": "HTMLModel",
      "state": {
       "layout": "IPY_MODEL_4d73b9c74b834278b3a8530c3f4ca9e6",
       "style": "IPY_MODEL_e506a358e73f4a25984b02828d833402",
       "value": " 785/790 [00:14&lt;00:00, 55.26it/s]"
      }
     },
     "c586651a81d84c66ba49ad68d2a5edc3": {
      "model_module": "@jupyter-widgets/controls",
      "model_module_version": "1.5.0",
      "model_name": "DescriptionStyleModel",
      "state": {
       "description_width": ""
      }
     },
     "c59f74a9ea3543ebb9bace696a9f74af": {
      "model_module": "@jupyter-widgets/controls",
      "model_module_version": "1.5.0",
      "model_name": "HTMLModel",
      "state": {
       "layout": "IPY_MODEL_c2bd528b077e4eb8b2ccf900c4753b26",
       "style": "IPY_MODEL_39f2af059f65420ca339bcf57190727d",
       "value": "four (4):  99%"
      }
     },
     "c630dcf816fb49a9b68df93a0d626aae": {
      "model_module": "@jupyter-widgets/controls",
      "model_module_version": "1.5.0",
      "model_name": "ProgressStyleModel",
      "state": {
       "description_width": ""
      }
     },
     "c67026e1b5c94634b3dacab4b65f4d23": {
      "model_module": "@jupyter-widgets/base",
      "model_module_version": "1.2.0",
      "model_name": "LayoutModel",
      "state": {
       "visibility": "hidden"
      }
     },
     "c6a28f4ed38249168c158d969737f2c8": {
      "model_module": "@jupyter-widgets/base",
      "model_module_version": "1.2.0",
      "model_name": "LayoutModel",
      "state": {}
     },
     "c6ba1fc28abe45d7be9b967c1c9f3123": {
      "model_module": "@jupyter-widgets/base",
      "model_module_version": "1.2.0",
      "model_name": "LayoutModel",
      "state": {
       "visibility": "hidden"
      }
     },
     "c7001e7ae2a744618ab4883b34197b01": {
      "model_module": "@jupyter-widgets/base",
      "model_module_version": "1.2.0",
      "model_name": "LayoutModel",
      "state": {}
     },
     "c705980b804e4b439d923aa857cf5437": {
      "model_module": "@jupyter-widgets/controls",
      "model_module_version": "1.5.0",
      "model_name": "HTMLModel",
      "state": {
       "layout": "IPY_MODEL_6f6b925cd55e480f8fd5ee79fe003816",
       "style": "IPY_MODEL_e42a126a745a4e9db71d0a1c12ed5c77",
       "value": "seven (4):  99%"
      }
     },
     "c73cc9b6e0324877b74538c36af1aaec": {
      "model_module": "@jupyter-widgets/controls",
      "model_module_version": "1.5.0",
      "model_name": "ProgressStyleModel",
      "state": {
       "description_width": ""
      }
     },
     "c7651c528dd9426c943c13b2b64db2c9": {
      "model_module": "@jupyter-widgets/controls",
      "model_module_version": "1.5.0",
      "model_name": "HTMLModel",
      "state": {
       "layout": "IPY_MODEL_e1ea72c5f260445e9db20bc4a978c03d",
       "style": "IPY_MODEL_3a8060dc8ee04044a6b136200277254f",
       "value": " 149/150 [00:06&lt;00:00, 21.98it/s]"
      }
     },
     "c7654a3d38d34d5f87454f59bad573c8": {
      "model_module": "@jupyter-widgets/base",
      "model_module_version": "1.2.0",
      "model_name": "LayoutModel",
      "state": {
       "visibility": "hidden"
      }
     },
     "c784161279eb4b42b17d49d5c59e1cba": {
      "model_module": "@jupyter-widgets/controls",
      "model_module_version": "1.5.0",
      "model_name": "ProgressStyleModel",
      "state": {
       "description_width": ""
      }
     },
     "c795cbf346034d54aab74ee8742d7617": {
      "model_module": "@jupyter-widgets/controls",
      "model_module_version": "1.5.0",
      "model_name": "DescriptionStyleModel",
      "state": {
       "description_width": ""
      }
     },
     "c7db1e4c41dd40648dcf36ba13d99552": {
      "model_module": "@jupyter-widgets/controls",
      "model_module_version": "1.5.0",
      "model_name": "ProgressStyleModel",
      "state": {
       "description_width": ""
      }
     },
     "c7e604b56bec43ce954b2ec41d28be08": {
      "model_module": "@jupyter-widgets/base",
      "model_module_version": "1.2.0",
      "model_name": "LayoutModel",
      "state": {}
     },
     "c7f140aa62b747cf805dacca08100d8a": {
      "model_module": "@jupyter-widgets/base",
      "model_module_version": "1.2.0",
      "model_name": "LayoutModel",
      "state": {}
     },
     "c836b0fa2d2e44278ddce4774b06f56d": {
      "model_module": "@jupyter-widgets/controls",
      "model_module_version": "1.5.0",
      "model_name": "ProgressStyleModel",
      "state": {
       "description_width": ""
      }
     },
     "c83a16c2e5a346e5a58718de04d7c52b": {
      "model_module": "@jupyter-widgets/controls",
      "model_module_version": "1.5.0",
      "model_name": "HTMLModel",
      "state": {
       "layout": "IPY_MODEL_a97247e9d5064e97aa21ed37bbc7de46",
       "style": "IPY_MODEL_9d4b0065fad54fff84dd481834cca117",
       "value": "Checking: 100%"
      }
     },
     "c8f2cc41fbf846329ababd2c7bbd459c": {
      "model_module": "@jupyter-widgets/controls",
      "model_module_version": "1.5.0",
      "model_name": "DescriptionStyleModel",
      "state": {
       "description_width": ""
      }
     },
     "c918c2967bf64b30bdfc505411d06a7a": {
      "model_module": "@jupyter-widgets/controls",
      "model_module_version": "1.5.0",
      "model_name": "HTMLModel",
      "state": {
       "layout": "IPY_MODEL_3a6f005d29594c6fa10289e38dd6c395",
       "style": "IPY_MODEL_8e7036a3235e4601a28b9b121047f446",
       "value": "nine (4): 100%"
      }
     },
     "c94463e1f11742b18dea7bd221768a03": {
      "model_module": "@jupyter-widgets/controls",
      "model_module_version": "1.5.0",
      "model_name": "HTMLModel",
      "state": {
       "layout": "IPY_MODEL_1769647e56ed4f388746aaf691f91b62",
       "style": "IPY_MODEL_b41dc19e90594be28d937a32ebe0a527",
       "value": "zero (4): 100%"
      }
     },
     "c95219016fd44501af330a04fdd242af": {
      "model_module": "@jupyter-widgets/controls",
      "model_module_version": "1.5.0",
      "model_name": "FloatProgressModel",
      "state": {
       "layout": "IPY_MODEL_ffa837e7ba724e898e0ef7510328a7e1",
       "max": 344,
       "style": "IPY_MODEL_4b14a29ffb24404ebb697b246c64c14a",
       "value": 344
      }
     },
     "c9581e49b0d443bd9d9335375e26cc13": {
      "model_module": "@jupyter-widgets/controls",
      "model_module_version": "1.5.0",
      "model_name": "FloatProgressModel",
      "state": {
       "layout": "IPY_MODEL_5af92db733174762be2558b8f610d727",
       "max": 143,
       "style": "IPY_MODEL_a6d6409d78cb49a18814461077336821",
       "value": 143
      }
     },
     "c96275804469436dbc5d87e09a589c2d": {
      "model_module": "@jupyter-widgets/base",
      "model_module_version": "1.2.0",
      "model_name": "LayoutModel",
      "state": {
       "visibility": "hidden"
      }
     },
     "ca1d505556914fb8a8c90071381c9c51": {
      "model_module": "@jupyter-widgets/controls",
      "model_module_version": "1.5.0",
      "model_name": "ProgressStyleModel",
      "state": {
       "description_width": ""
      }
     },
     "ca30e3316c1149868325bb4e66a36db9": {
      "model_module": "@jupyter-widgets/controls",
      "model_module_version": "1.5.0",
      "model_name": "HTMLModel",
      "state": {
       "layout": "IPY_MODEL_d147c41b96e3490f8cdcdc204db80c18",
       "style": "IPY_MODEL_99137b04196146ef9b773b931dde9c2e",
       "value": " 367/371 [00:05&lt;00:00, 63.47it/s]"
      }
     },
     "ca791d6666014ae5a8b749d902893bbc": {
      "model_module": "@jupyter-widgets/controls",
      "model_module_version": "1.5.0",
      "model_name": "DescriptionStyleModel",
      "state": {
       "description_width": ""
      }
     },
     "ca7d6d4d28c24e3db39535fc8558a41e": {
      "model_module": "@jupyter-widgets/controls",
      "model_module_version": "1.5.0",
      "model_name": "HTMLModel",
      "state": {
       "layout": "IPY_MODEL_57f9fa21d9904a73b1752acb57cf5f2b",
       "style": "IPY_MODEL_3752f5b8d2304ec69a839b13f3cfc9d8",
       "value": "go (4): 100%"
      }
     },
     "ca8baff47f4f4544b3271f7932b9bba7": {
      "model_module": "@jupyter-widgets/base",
      "model_module_version": "1.2.0",
      "model_name": "LayoutModel",
      "state": {}
     },
     "ca9c2a08e5fd4cd8ae05e954b3cac798": {
      "model_module": "@jupyter-widgets/controls",
      "model_module_version": "1.5.0",
      "model_name": "HTMLModel",
      "state": {
       "layout": "IPY_MODEL_66b48186c52244b8b9246e91b1a008a2",
       "style": "IPY_MODEL_d433449196a54b39ab433dea67564309",
       "value": "Checking: 100%"
      }
     },
     "cac9230e4d9d4626804ad3730e494182": {
      "model_module": "@jupyter-widgets/controls",
      "model_module_version": "1.5.0",
      "model_name": "HTMLModel",
      "state": {
       "layout": "IPY_MODEL_9e7ffdf730b5416f86c409405a89dac0",
       "style": "IPY_MODEL_bc74f040d1cf4208b1f3bcb180b8c6ac",
       "value": " 2318/2324 [00:36&lt;00:00, 64.02it/s]"
      }
     },
     "cacd2f5c64b145daa8fe52137200980e": {
      "model_module": "@jupyter-widgets/controls",
      "model_module_version": "1.5.0",
      "model_name": "HTMLModel",
      "state": {
       "layout": "IPY_MODEL_be70d880b203439b90ef90b12ffd5dbb",
       "style": "IPY_MODEL_20ef4d9fae09414dade6269270cebb24",
       "value": " 1000/1000 [00:07&lt;00:00, 166.34it/s]"
      }
     },
     "caf139bd722248dca947fce1c046e35a": {
      "model_module": "@jupyter-widgets/base",
      "model_module_version": "1.2.0",
      "model_name": "LayoutModel",
      "state": {}
     },
     "caf51cf0796948d2b10f383bb94301ed": {
      "model_module": "@jupyter-widgets/controls",
      "model_module_version": "1.5.0",
      "model_name": "DescriptionStyleModel",
      "state": {
       "description_width": ""
      }
     },
     "cb125d98610e4f4180ef0c5ca69c39fe": {
      "model_module": "@jupyter-widgets/base",
      "model_module_version": "1.2.0",
      "model_name": "LayoutModel",
      "state": {
       "visibility": "hidden"
      }
     },
     "cb56f33bef12466b84a27fb142274bde": {
      "model_module": "@jupyter-widgets/controls",
      "model_module_version": "1.5.0",
      "model_name": "HTMLModel",
      "state": {
       "layout": "IPY_MODEL_e5c62a8a103c4a0b9f03d96e135d152f",
       "style": "IPY_MODEL_1b63aa1e6a204dc7860eb79ff139976f",
       "value": " 1662/1664 [01:04&lt;00:00, 27.82it/s]"
      }
     },
     "cb5d371522ed44938e728d6d714b8496": {
      "model_module": "@jupyter-widgets/controls",
      "model_module_version": "1.5.0",
      "model_name": "DescriptionStyleModel",
      "state": {
       "description_width": ""
      }
     },
     "cb80232b8ae34fa3a91433ebd0f91780": {
      "model_module": "@jupyter-widgets/controls",
      "model_module_version": "1.5.0",
      "model_name": "HTMLModel",
      "state": {
       "layout": "IPY_MODEL_8c7a9bc0f7424ab3a906c62d874e14c6",
       "style": "IPY_MODEL_ac84285894254246a269d2c16bf84499",
       "value": "four (4): 100%"
      }
     },
     "cb8564345b264d0db4ee4b17fe6cfe71": {
      "model_module": "@jupyter-widgets/base",
      "model_module_version": "1.2.0",
      "model_name": "LayoutModel",
      "state": {}
     },
     "cc2992f233f7453287129d801a52f458": {
      "model_module": "@jupyter-widgets/controls",
      "model_module_version": "1.5.0",
      "model_name": "FloatProgressModel",
      "state": {
       "layout": "IPY_MODEL_da8238779ae24f57b0ab4a5813740449",
       "max": 282,
       "style": "IPY_MODEL_17ef8b8c417b42f08240bc565c8f0cca",
       "value": 282
      }
     },
     "cc45ae879e214f6faf610fe3e21df245": {
      "model_module": "@jupyter-widgets/controls",
      "model_module_version": "1.5.0",
      "model_name": "HTMLModel",
      "state": {
       "layout": "IPY_MODEL_14dc7128f98e4c8eb9387bc218eae1ca",
       "style": "IPY_MODEL_1f2dc7372eea47f39bc9a603bcf7a0eb",
       "value": " 129/132 [00:02&lt;00:00, 55.06it/s]"
      }
     },
     "cc6b4cbbde704ab48a7c4de72a0c202c": {
      "model_module": "@jupyter-widgets/base",
      "model_module_version": "1.2.0",
      "model_name": "LayoutModel",
      "state": {
       "visibility": "hidden"
      }
     },
     "cc71eb1f34d14d70a508b1040fdac39c": {
      "model_module": "@jupyter-widgets/base",
      "model_module_version": "1.2.0",
      "model_name": "LayoutModel",
      "state": {}
     },
     "cc87594efeda4900b6d2583b67f6f883": {
      "model_module": "@jupyter-widgets/base",
      "model_module_version": "1.2.0",
      "model_name": "LayoutModel",
      "state": {
       "visibility": "hidden"
      }
     },
     "ccad7ece44ca46ed873b8a9235785896": {
      "model_module": "@jupyter-widgets/base",
      "model_module_version": "1.2.0",
      "model_name": "LayoutModel",
      "state": {}
     },
     "cd212c1eaaaf4fa1b7cbbf8ff5c390d4": {
      "model_module": "@jupyter-widgets/controls",
      "model_module_version": "1.5.0",
      "model_name": "ProgressStyleModel",
      "state": {
       "description_width": ""
      }
     },
     "cd357b0647cb42f2aa789b072c26e323": {
      "model_module": "@jupyter-widgets/controls",
      "model_module_version": "1.5.0",
      "model_name": "DescriptionStyleModel",
      "state": {
       "description_width": ""
      }
     },
     "cd46aa625ee646808af238ccd962a193": {
      "model_module": "@jupyter-widgets/base",
      "model_module_version": "1.2.0",
      "model_name": "LayoutModel",
      "state": {
       "visibility": "hidden"
      }
     },
     "cd6cf3fc664c4c4397905eb515b7443b": {
      "model_module": "@jupyter-widgets/base",
      "model_module_version": "1.2.0",
      "model_name": "LayoutModel",
      "state": {
       "visibility": "hidden"
      }
     },
     "cd7e5457ef86449c9719e584acdc46bb": {
      "model_module": "@jupyter-widgets/controls",
      "model_module_version": "1.5.0",
      "model_name": "HTMLModel",
      "state": {
       "layout": "IPY_MODEL_b213572b99404474a690f200bf3bf3e6",
       "style": "IPY_MODEL_2f48d01f07ed4f3588c2d85fb74a0995",
       "value": "nine (4):  98%"
      }
     },
     "cdb7342aca934ea0968f44d1a63828bf": {
      "model_module": "@jupyter-widgets/base",
      "model_module_version": "1.2.0",
      "model_name": "LayoutModel",
      "state": {}
     },
     "cdc9520cfdfb46f8bf1ce34cb0678c00": {
      "model_module": "@jupyter-widgets/base",
      "model_module_version": "1.2.0",
      "model_name": "LayoutModel",
      "state": {
       "visibility": "hidden"
      }
     },
     "cdefd3ab73af4bc2ad5195683ea0e35d": {
      "model_module": "@jupyter-widgets/base",
      "model_module_version": "1.2.0",
      "model_name": "LayoutModel",
      "state": {}
     },
     "cdf414daf88c4e0f8d186433939b4cdb": {
      "model_module": "@jupyter-widgets/controls",
      "model_module_version": "1.5.0",
      "model_name": "HTMLModel",
      "state": {
       "layout": "IPY_MODEL_5f7cf375d5684325b9d8eea41bc39090",
       "style": "IPY_MODEL_caf51cf0796948d2b10f383bb94301ed",
       "value": "Checking: 100%"
      }
     },
     "ce0446b74ca744f7bdf6e4ba03b41e92": {
      "model_module": "@jupyter-widgets/controls",
      "model_module_version": "1.5.0",
      "model_name": "HTMLModel",
      "state": {
       "layout": "IPY_MODEL_7fe344fc76544d6c8114787a60a6b66b",
       "style": "IPY_MODEL_d17a3fe6ced1419b86b77f53bab21f0f",
       "value": " 143/143 [00:02&lt;00:00, 58.78it/s]"
      }
     },
     "ce3a924b9ad9482f99c1127aed3cd23e": {
      "model_module": "@jupyter-widgets/controls",
      "model_module_version": "1.5.0",
      "model_name": "DescriptionStyleModel",
      "state": {
       "description_width": ""
      }
     },
     "ce3ea3587ca94b63ba19d2733d5705eb": {
      "model_module": "@jupyter-widgets/base",
      "model_module_version": "1.2.0",
      "model_name": "LayoutModel",
      "state": {
       "visibility": "hidden"
      }
     },
     "ce5db3f249d048c892b38c7852d6918b": {
      "model_module": "@jupyter-widgets/controls",
      "model_module_version": "1.5.0",
      "model_name": "HTMLModel",
      "state": {
       "layout": "IPY_MODEL_604652b4a80f4469b8f11388d5a885f4",
       "style": "IPY_MODEL_d57c45b25cc44bef923a48844083e2f1",
       "value": " 989/1000 [00:06&lt;00:00, 172.48it/s]"
      }
     },
     "ce62ac7e0abc4dcea6f0fdd87ff865ab": {
      "model_module": "@jupyter-widgets/base",
      "model_module_version": "1.2.0",
      "model_name": "LayoutModel",
      "state": {
       "visibility": "hidden"
      }
     },
     "ce8c2c8a17c34d4daeb5abba1fb001b1": {
      "model_module": "@jupyter-widgets/controls",
      "model_module_version": "1.5.0",
      "model_name": "HTMLModel",
      "state": {
       "layout": "IPY_MODEL_da619e91473c4c7f82c0852f96e1e5da",
       "style": "IPY_MODEL_b1ccc8ae978148f290386d66be9b26cd",
       "value": "house (4):  97%"
      }
     },
     "ceee580397b141649bcaa49364a5de1d": {
      "model_module": "@jupyter-widgets/controls",
      "model_module_version": "1.5.0",
      "model_name": "HTMLModel",
      "state": {
       "layout": "IPY_MODEL_adb0148b9c254f3c92d5cd4ea4406ad0",
       "style": "IPY_MODEL_531618c81e9f4d5089ade2156f701648",
       "value": "Checking: 100%"
      }
     },
     "cef07774c4ef4e55af2bc95936f94b1d": {
      "model_module": "@jupyter-widgets/base",
      "model_module_version": "1.2.0",
      "model_name": "LayoutModel",
      "state": {}
     },
     "cef26fc0be1b4925a22876798096db44": {
      "model_module": "@jupyter-widgets/base",
      "model_module_version": "1.2.0",
      "model_name": "LayoutModel",
      "state": {}
     },
     "cefd32a4600a476eb6204f6676b170ac": {
      "model_module": "@jupyter-widgets/base",
      "model_module_version": "1.2.0",
      "model_name": "LayoutModel",
      "state": {}
     },
     "cf54ff60f7a7479e85952c2803e46a01": {
      "model_module": "@jupyter-widgets/base",
      "model_module_version": "1.2.0",
      "model_name": "LayoutModel",
      "state": {}
     },
     "cf7430e81ce4425e8d037117efcd885b": {
      "model_module": "@jupyter-widgets/controls",
      "model_module_version": "1.5.0",
      "model_name": "FloatProgressModel",
      "state": {
       "layout": "IPY_MODEL_89501c3fb8014f6d8a6b3c1699b2d027",
       "max": 5300,
       "style": "IPY_MODEL_9f338dfd80eb4dc1b4bd1d923a9ff138",
       "value": 5300
      }
     },
     "d0588a12746f41bdabbd2285f13dcbca": {
      "model_module": "@jupyter-widgets/controls",
      "model_module_version": "1.5.0",
      "model_name": "HTMLModel",
      "state": {
       "layout": "IPY_MODEL_9d66a736e8834982a366c20c83c05dd8",
       "style": "IPY_MODEL_40fb5ebab4704f93a41cac5f7080b87e",
       "value": "Checking: 100%"
      }
     },
     "d05da493a4be4d3e9505d119c5661447": {
      "model_module": "@jupyter-widgets/controls",
      "model_module_version": "1.5.0",
      "model_name": "HTMLModel",
      "state": {
       "layout": "IPY_MODEL_9ef2278ce0e04258a18ee5eb7142083d",
       "style": "IPY_MODEL_58e841ca776140f0b6349eef0f1e9b09",
       "value": "forward (0): 100%"
      }
     },
     "d0888c0e1e8e4c9f85545bad242401e3": {
      "model_module": "@jupyter-widgets/base",
      "model_module_version": "1.2.0",
      "model_name": "LayoutModel",
      "state": {
       "visibility": "hidden"
      }
     },
     "d0915cbf93824dae9484c9500fa0e1dd": {
      "model_module": "@jupyter-widgets/base",
      "model_module_version": "1.2.0",
      "model_name": "LayoutModel",
      "state": {
       "visibility": "hidden"
      }
     },
     "d0be8a4690bd468b89cb783001944791": {
      "model_module": "@jupyter-widgets/controls",
      "model_module_version": "1.5.0",
      "model_name": "DescriptionStyleModel",
      "state": {
       "description_width": ""
      }
     },
     "d0d1c8dda28f4778ac37a7d782db1508": {
      "model_module": "@jupyter-widgets/controls",
      "model_module_version": "1.5.0",
      "model_name": "DescriptionStyleModel",
      "state": {
       "description_width": ""
      }
     },
     "d118c06add9544679ad3cb3d88d994b0": {
      "model_module": "@jupyter-widgets/controls",
      "model_module_version": "1.5.0",
      "model_name": "ProgressStyleModel",
      "state": {
       "description_width": ""
      }
     },
     "d147c41b96e3490f8cdcdc204db80c18": {
      "model_module": "@jupyter-widgets/base",
      "model_module_version": "1.2.0",
      "model_name": "LayoutModel",
      "state": {}
     },
     "d152b46e090b46beb111373a5e1e8d04": {
      "model_module": "@jupyter-widgets/controls",
      "model_module_version": "1.5.0",
      "model_name": "FloatProgressModel",
      "state": {
       "layout": "IPY_MODEL_c45acf1967df4e2b9efde5eff96d609b",
       "max": 295,
       "style": "IPY_MODEL_0e342f56bf684cbb8702440f4aa7db02",
       "value": 295
      }
     },
     "d15dd01fc3644d63b8cc07e6353b7a7c": {
      "model_module": "@jupyter-widgets/controls",
      "model_module_version": "1.5.0",
      "model_name": "FloatProgressModel",
      "state": {
       "layout": "IPY_MODEL_da7a64be425143048a0adf3d2a27e22c",
       "max": 291,
       "style": "IPY_MODEL_99dd6ab5d6a040489f7108a36c8abc43",
       "value": 291
      }
     },
     "d17a3fe6ced1419b86b77f53bab21f0f": {
      "model_module": "@jupyter-widgets/controls",
      "model_module_version": "1.5.0",
      "model_name": "DescriptionStyleModel",
      "state": {
       "description_width": ""
      }
     },
     "d1877de4c7a5458987b74954cbfbdd7e": {
      "model_module": "@jupyter-widgets/base",
      "model_module_version": "1.2.0",
      "model_name": "LayoutModel",
      "state": {
       "visibility": "hidden"
      }
     },
     "d196ff3cf0784152a0c32d235dafcc20": {
      "model_module": "@jupyter-widgets/controls",
      "model_module_version": "1.5.0",
      "model_name": "DescriptionStyleModel",
      "state": {
       "description_width": ""
      }
     },
     "d1d9afe61da54df090b5fb270de034e1": {
      "model_module": "@jupyter-widgets/controls",
      "model_module_version": "1.5.0",
      "model_name": "ProgressStyleModel",
      "state": {
       "description_width": ""
      }
     },
     "d1dae641f5b8487793168f94a08f8348": {
      "model_module": "@jupyter-widgets/controls",
      "model_module_version": "1.5.0",
      "model_name": "DescriptionStyleModel",
      "state": {
       "description_width": ""
      }
     },
     "d1e481890cfb44169b1711ded3bfe678": {
      "model_module": "@jupyter-widgets/controls",
      "model_module_version": "1.5.0",
      "model_name": "FloatProgressModel",
      "state": {
       "layout": "IPY_MODEL_227b6b08866c442aad74a5abff50ad11",
       "max": 134,
       "style": "IPY_MODEL_0f69f70614d446a89884e6f61056d5f0",
       "value": 134
      }
     },
     "d226532cd5bd4baaa108192b385f2b9f": {
      "model_module": "@jupyter-widgets/controls",
      "model_module_version": "1.5.0",
      "model_name": "ProgressStyleModel",
      "state": {
       "description_width": ""
      }
     },
     "d23051bdda9d4064afaa3f2a4dd852f2": {
      "model_module": "@jupyter-widgets/controls",
      "model_module_version": "1.5.0",
      "model_name": "FloatProgressModel",
      "state": {
       "layout": "IPY_MODEL_70caad3de3eb4c1484051f33b0f75d6f",
       "max": 345,
       "style": "IPY_MODEL_2b25a4de9ede45bbae503f715173b966",
       "value": 345
      }
     },
     "d246b27a358549288db42e9f388ccb8e": {
      "model_module": "@jupyter-widgets/controls",
      "model_module_version": "1.5.0",
      "model_name": "DescriptionStyleModel",
      "state": {
       "description_width": ""
      }
     },
     "d260ffa80c874da7a33ad8908c7e4278": {
      "model_module": "@jupyter-widgets/controls",
      "model_module_version": "1.5.0",
      "model_name": "FloatProgressModel",
      "state": {
       "layout": "IPY_MODEL_01bead5372724d218ce506f7c4e76ee7",
       "max": 95,
       "style": "IPY_MODEL_00ff8b5a3ce74ca68aa29a81a7cccfe1",
       "value": 95
      }
     },
     "d2bbcaf7bc3a4d9ba74b5bd2a2c028f3": {
      "model_module": "@jupyter-widgets/base",
      "model_module_version": "1.2.0",
      "model_name": "LayoutModel",
      "state": {}
     },
     "d2e0e0350f604e67b529aa244e348f49": {
      "model_module": "@jupyter-widgets/base",
      "model_module_version": "1.2.0",
      "model_name": "LayoutModel",
      "state": {}
     },
     "d30b3a3e1e5e4c96882898404fce5fa9": {
      "model_module": "@jupyter-widgets/controls",
      "model_module_version": "1.5.0",
      "model_name": "HTMLModel",
      "state": {
       "layout": "IPY_MODEL_898c67ad3c5b43a1ae0b24a7b366250e",
       "style": "IPY_MODEL_bbb8f8e13638464aab2a3f8990f2cfe0",
       "value": " 3725/3728 [01:49&lt;00:00, 32.83it/s]"
      }
     },
     "d34c304e50394c999b1d1871ec32b39f": {
      "model_module": "@jupyter-widgets/controls",
      "model_module_version": "1.5.0",
      "model_name": "DescriptionStyleModel",
      "state": {
       "description_width": ""
      }
     },
     "d3b2cde5a54549d7a60ee6342172dff5": {
      "model_module": "@jupyter-widgets/controls",
      "model_module_version": "1.5.0",
      "model_name": "DescriptionStyleModel",
      "state": {
       "description_width": ""
      }
     },
     "d3b9a47e2a0b4db6ab72957b57210ac1": {
      "model_module": "@jupyter-widgets/base",
      "model_module_version": "1.2.0",
      "model_name": "LayoutModel",
      "state": {}
     },
     "d3b9c29bad4c46d18d104b31600b4068": {
      "model_module": "@jupyter-widgets/controls",
      "model_module_version": "1.5.0",
      "model_name": "DescriptionStyleModel",
      "state": {
       "description_width": ""
      }
     },
     "d3cc015e75054e3eacde574aff777687": {
      "model_module": "@jupyter-widgets/base",
      "model_module_version": "1.2.0",
      "model_name": "LayoutModel",
      "state": {}
     },
     "d3d34fb77dfe4beda3ae0173852a1a85": {
      "model_module": "@jupyter-widgets/controls",
      "model_module_version": "1.5.0",
      "model_name": "ProgressStyleModel",
      "state": {
       "description_width": ""
      }
     },
     "d433449196a54b39ab433dea67564309": {
      "model_module": "@jupyter-widgets/controls",
      "model_module_version": "1.5.0",
      "model_name": "DescriptionStyleModel",
      "state": {
       "description_width": ""
      }
     },
     "d4416c7317bd47718938e2a7455db3d4": {
      "model_module": "@jupyter-widgets/controls",
      "model_module_version": "1.5.0",
      "model_name": "FloatProgressModel",
      "state": {
       "layout": "IPY_MODEL_9c8fdf26c6c94f888e2f78dae4fc6001",
       "max": 179,
       "style": "IPY_MODEL_997f723de3704428994123ff12a239e4",
       "value": 179
      }
     },
     "d47a43e2dd574e46807c0038bb9a5cad": {
      "model_module": "@jupyter-widgets/base",
      "model_module_version": "1.2.0",
      "model_name": "LayoutModel",
      "state": {}
     },
     "d4a191a651ee47ed9d99c0eba37b8d55": {
      "model_module": "@jupyter-widgets/controls",
      "model_module_version": "1.5.0",
      "model_name": "HTMLModel",
      "state": {
       "layout": "IPY_MODEL_ec5c5e2e73904e3099c2b946123ef904",
       "style": "IPY_MODEL_87d575f3b61a484c93bd22df3a4c0233",
       "value": "Checking: 100%"
      }
     },
     "d4e51b080f2345f39a56e568645efc42": {
      "model_module": "@jupyter-widgets/controls",
      "model_module_version": "1.5.0",
      "model_name": "DescriptionStyleModel",
      "state": {
       "description_width": ""
      }
     },
     "d530735caa2f4f7481e49422da7c977a": {
      "model_module": "@jupyter-widgets/controls",
      "model_module_version": "1.5.0",
      "model_name": "DescriptionStyleModel",
      "state": {
       "description_width": ""
      }
     },
     "d532827f0c5040cc97267102935b99a8": {
      "model_module": "@jupyter-widgets/base",
      "model_module_version": "1.2.0",
      "model_name": "LayoutModel",
      "state": {
       "visibility": "hidden"
      }
     },
     "d53a6ab66e6b496d97af75e5fd1e4c2c": {
      "model_module": "@jupyter-widgets/controls",
      "model_module_version": "1.5.0",
      "model_name": "HTMLModel",
      "state": {
       "layout": "IPY_MODEL_8768009331c646e18e8186d64014ba9c",
       "style": "IPY_MODEL_0b60e7ddbcaf4aadb7708973c50de735",
       "value": " 248/251 [00:04&lt;00:00, 61.17it/s]"
      }
     },
     "d55432a6fdf94a7ea32ba5aac11444ca": {
      "model_module": "@jupyter-widgets/controls",
      "model_module_version": "1.5.0",
      "model_name": "ProgressStyleModel",
      "state": {
       "description_width": ""
      }
     },
     "d57c45b25cc44bef923a48844083e2f1": {
      "model_module": "@jupyter-widgets/controls",
      "model_module_version": "1.5.0",
      "model_name": "DescriptionStyleModel",
      "state": {
       "description_width": ""
      }
     },
     "d5b1dd9dd6a146fb86e137ca7c1a972f": {
      "model_module": "@jupyter-widgets/base",
      "model_module_version": "1.2.0",
      "model_name": "LayoutModel",
      "state": {}
     },
     "d5d89fc6b91e4686b5e3e63955ae7b8e": {
      "model_module": "@jupyter-widgets/controls",
      "model_module_version": "1.5.0",
      "model_name": "DescriptionStyleModel",
      "state": {
       "description_width": ""
      }
     },
     "d60353616b024f529b9db39f2cd864b8": {
      "model_module": "@jupyter-widgets/controls",
      "model_module_version": "1.5.0",
      "model_name": "DescriptionStyleModel",
      "state": {
       "description_width": ""
      }
     },
     "d6cf4b9055794e41bc4847825226715e": {
      "model_module": "@jupyter-widgets/base",
      "model_module_version": "1.2.0",
      "model_name": "LayoutModel",
      "state": {}
     },
     "d70b9595da994ee3b46fed8df060d842": {
      "model_module": "@jupyter-widgets/controls",
      "model_module_version": "1.5.0",
      "model_name": "ProgressStyleModel",
      "state": {
       "description_width": ""
      }
     },
     "d744be8b5d4f4d078045033882df0eec": {
      "model_module": "@jupyter-widgets/base",
      "model_module_version": "1.2.0",
      "model_name": "LayoutModel",
      "state": {}
     },
     "d7782500fcf44903ac51f2f785654103": {
      "model_module": "@jupyter-widgets/base",
      "model_module_version": "1.2.0",
      "model_name": "LayoutModel",
      "state": {}
     },
     "d7d5453378684aaebcdaf30f361615fa": {
      "model_module": "@jupyter-widgets/controls",
      "model_module_version": "1.5.0",
      "model_name": "DescriptionStyleModel",
      "state": {
       "description_width": ""
      }
     },
     "d8000fb48ce34c7b9fc9122e0a6c6bb7": {
      "model_module": "@jupyter-widgets/controls",
      "model_module_version": "1.5.0",
      "model_name": "HTMLModel",
      "state": {
       "layout": "IPY_MODEL_6e3ab83f849f48ab86aac67a7d4ded5f",
       "style": "IPY_MODEL_4193f3d0bf5642c08b580f2248fed11a",
       "value": " 303/308 [00:05&lt;00:00, 61.89it/s]"
      }
     },
     "d821cb110af8408990fa43bfd080738b": {
      "model_module": "@jupyter-widgets/controls",
      "model_module_version": "1.5.0",
      "model_name": "HTMLModel",
      "state": {
       "layout": "IPY_MODEL_3c1e620ce4d44e55a7a9ef141ac86f88",
       "style": "IPY_MODEL_7feaebd87e6649dbb4941084a4888c60",
       "value": " 2954/2957 [00:46&lt;00:00, 61.93it/s]"
      }
     },
     "d83e8f6f7276404d93b397d0d0d610da": {
      "model_module": "@jupyter-widgets/controls",
      "model_module_version": "1.5.0",
      "model_name": "HTMLModel",
      "state": {
       "layout": "IPY_MODEL_3776d80589974e8ebc470295c6d2e7b2",
       "style": "IPY_MODEL_b0bd383e01734fe8a6c34beb52b901a5",
       "value": "visual (4): 100%"
      }
     },
     "d8ac454b00934532a3fc40c0a0aa938b": {
      "model_module": "@jupyter-widgets/base",
      "model_module_version": "1.2.0",
      "model_name": "LayoutModel",
      "state": {}
     },
     "d8c7d2ae77404934bb254addccf9e529": {
      "model_module": "@jupyter-widgets/controls",
      "model_module_version": "1.5.0",
      "model_name": "FloatProgressModel",
      "state": {
       "layout": "IPY_MODEL_52f28f77008b48f3965e694580d4c619",
       "max": 297,
       "style": "IPY_MODEL_1251aa8896c8438a9b82a015641d0a4e",
       "value": 297
      }
     },
     "d8ec44e16ea5456ea5d17c4688ae82e9": {
      "model_module": "@jupyter-widgets/base",
      "model_module_version": "1.2.0",
      "model_name": "LayoutModel",
      "state": {
       "visibility": "hidden"
      }
     },
     "d8f3c1f67d7c4d55826ef642b2a4eade": {
      "model_module": "@jupyter-widgets/base",
      "model_module_version": "1.2.0",
      "model_name": "LayoutModel",
      "state": {
       "visibility": "hidden"
      }
     },
     "d92735f3add34f1d88ae43794ca3b646": {
      "model_module": "@jupyter-widgets/controls",
      "model_module_version": "1.5.0",
      "model_name": "ProgressStyleModel",
      "state": {
       "description_width": ""
      }
     },
     "d93ca28c46084ff6ae7751d2999e4e7d": {
      "model_module": "@jupyter-widgets/controls",
      "model_module_version": "1.5.0",
      "model_name": "ProgressStyleModel",
      "state": {
       "description_width": ""
      }
     },
     "d944e590d91e44af9335eed7c514cdb5": {
      "model_module": "@jupyter-widgets/controls",
      "model_module_version": "1.5.0",
      "model_name": "ProgressStyleModel",
      "state": {
       "description_width": ""
      }
     },
     "d98b2d98ab2f492dac538900c7c327c2": {
      "model_module": "@jupyter-widgets/controls",
      "model_module_version": "1.5.0",
      "model_name": "HTMLModel",
      "state": {
       "layout": "IPY_MODEL_80e050170bb2416a9002c07c5f4a7dd3",
       "style": "IPY_MODEL_093927f6aedc415f9364ee258ed0401d",
       "value": "learn (4): 100%"
      }
     },
     "d9a11b40b3484f97b7f7b26ba7f0a986": {
      "model_module": "@jupyter-widgets/controls",
      "model_module_version": "1.5.0",
      "model_name": "HTMLModel",
      "state": {
       "layout": "IPY_MODEL_479b813e96ec43a394738a94fbb5025b",
       "style": "IPY_MODEL_1ded186881474159b9e8fc9fdec31c32",
       "value": " 31/31 [1:13:46&lt;00:00, 92.87s/it]"
      }
     },
     "d9cc5b57d3c64d37a626d8b275dd7f24": {
      "model_module": "@jupyter-widgets/base",
      "model_module_version": "1.2.0",
      "model_name": "LayoutModel",
      "state": {}
     },
     "d9cff96f38e846aba81d1b97fd8e8e41": {
      "model_module": "@jupyter-widgets/base",
      "model_module_version": "1.2.0",
      "model_name": "LayoutModel",
      "state": {}
     },
     "da1bc6051112467cb73aa524a0aefe20": {
      "model_module": "@jupyter-widgets/controls",
      "model_module_version": "1.5.0",
      "model_name": "DescriptionStyleModel",
      "state": {
       "description_width": ""
      }
     },
     "da39431777e34c409cfe171357411c4b": {
      "model_module": "@jupyter-widgets/base",
      "model_module_version": "1.2.0",
      "model_name": "LayoutModel",
      "state": {
       "visibility": "hidden"
      }
     },
     "da619e91473c4c7f82c0852f96e1e5da": {
      "model_module": "@jupyter-widgets/base",
      "model_module_version": "1.2.0",
      "model_name": "LayoutModel",
      "state": {}
     },
     "da7a64be425143048a0adf3d2a27e22c": {
      "model_module": "@jupyter-widgets/base",
      "model_module_version": "1.2.0",
      "model_name": "LayoutModel",
      "state": {}
     },
     "da81c8801b5b4cf2aaf95c3e91c50e33": {
      "model_module": "@jupyter-widgets/base",
      "model_module_version": "1.2.0",
      "model_name": "LayoutModel",
      "state": {}
     },
     "da8238779ae24f57b0ab4a5813740449": {
      "model_module": "@jupyter-widgets/base",
      "model_module_version": "1.2.0",
      "model_name": "LayoutModel",
      "state": {}
     },
     "da8acc1681334c7bad31b882dbeb5103": {
      "model_module": "@jupyter-widgets/controls",
      "model_module_version": "1.5.0",
      "model_name": "ProgressStyleModel",
      "state": {
       "description_width": ""
      }
     },
     "daf07afa94ee44a7bf1fb98bcfb2e9b2": {
      "model_module": "@jupyter-widgets/controls",
      "model_module_version": "1.5.0",
      "model_name": "DescriptionStyleModel",
      "state": {
       "description_width": ""
      }
     },
     "db1d673ae2d04226a748f679fa76d550": {
      "model_module": "@jupyter-widgets/base",
      "model_module_version": "1.2.0",
      "model_name": "LayoutModel",
      "state": {}
     },
     "db1db6d5337f4c0cb3c5b263d7bf43ac": {
      "model_module": "@jupyter-widgets/controls",
      "model_module_version": "1.5.0",
      "model_name": "HTMLModel",
      "state": {
       "layout": "IPY_MODEL_fd0f01a5ca5147ccb183874423c4ab1f",
       "style": "IPY_MODEL_5e1f4271d4d346a7a43745e72e802351",
       "value": "three (4):  99%"
      }
     },
     "db76731e981b44cbac07797cf0ccd3b2": {
      "model_module": "@jupyter-widgets/base",
      "model_module_version": "1.2.0",
      "model_name": "LayoutModel",
      "state": {}
     },
     "db775e36b2ab4d13867f13ab5a8eb62a": {
      "model_module": "@jupyter-widgets/base",
      "model_module_version": "1.2.0",
      "model_name": "LayoutModel",
      "state": {}
     },
     "db9c4621e3f243c19f02896dd673f58e": {
      "model_module": "@jupyter-widgets/controls",
      "model_module_version": "1.5.0",
      "model_name": "DescriptionStyleModel",
      "state": {
       "description_width": ""
      }
     },
     "dba3c3c6a2314795a051d1cbdabd16cb": {
      "model_module": "@jupyter-widgets/controls",
      "model_module_version": "1.5.0",
      "model_name": "HTMLModel",
      "state": {
       "layout": "IPY_MODEL_8f95cc0cf42f411381b4f0b7286e3f0c",
       "style": "IPY_MODEL_2bd6fc71df4a436e82b3e5cea3f64598",
       "value": "backward (1): 100%"
      }
     },
     "dbb7511a158a4393a681b97cb83eb530": {
      "model_module": "@jupyter-widgets/controls",
      "model_module_version": "1.5.0",
      "model_name": "HTMLModel",
      "state": {
       "layout": "IPY_MODEL_4f5c532aafd141c39271d5f35eed6191",
       "style": "IPY_MODEL_491291924c834b46a14dccecf945a91a",
       "value": "five (4):  98%"
      }
     },
     "dbb8166a44344f5790c69d48635fdc2a": {
      "model_module": "@jupyter-widgets/controls",
      "model_module_version": "1.5.0",
      "model_name": "HTMLModel",
      "state": {
       "layout": "IPY_MODEL_0c07cf83f9f14a21ba4decb2b22f02dd",
       "style": "IPY_MODEL_397c8d66abed419f91915ab149e593ba",
       "value": " 48/61 [00:00&lt;00:00, 134.53it/s]"
      }
     },
     "dc00a620d1464e43a5beca0b73dd4e03": {
      "model_module": "@jupyter-widgets/controls",
      "model_module_version": "1.5.0",
      "model_name": "ProgressStyleModel",
      "state": {
       "description_width": ""
      }
     },
     "dc4c867832984a2ead1ab661f14a42f7": {
      "model_module": "@jupyter-widgets/base",
      "model_module_version": "1.2.0",
      "model_name": "LayoutModel",
      "state": {}
     },
     "dc5650633fcc402ba6d7b829ff7880a0": {
      "model_module": "@jupyter-widgets/base",
      "model_module_version": "1.2.0",
      "model_name": "LayoutModel",
      "state": {}
     },
     "dc6387fa23c545eebee1e74cd9315a9f": {
      "model_module": "@jupyter-widgets/controls",
      "model_module_version": "1.5.0",
      "model_name": "DescriptionStyleModel",
      "state": {
       "description_width": ""
      }
     },
     "dd2f259f022d42768e72a2f221d7eeac": {
      "model_module": "@jupyter-widgets/base",
      "model_module_version": "1.2.0",
      "model_name": "LayoutModel",
      "state": {}
     },
     "dd4a558500934d0797cb71630b0bef76": {
      "model_module": "@jupyter-widgets/controls",
      "model_module_version": "1.5.0",
      "model_name": "FloatProgressModel",
      "state": {
       "layout": "IPY_MODEL_2ab0377b9f154821906c08852d415fff",
       "max": 1000,
       "style": "IPY_MODEL_a12a377965a84c34b9a20d256bbf9852",
       "value": 1000
      }
     },
     "dd7cbbf2db0c48b596d2493d7beab1a9": {
      "model_module": "@jupyter-widgets/controls",
      "model_module_version": "1.5.0",
      "model_name": "HTMLModel",
      "state": {
       "layout": "IPY_MODEL_55809e9ffe69467fb454604ba6a77fdd",
       "style": "IPY_MODEL_08f21c761a254a6d82e001410a0e4c20",
       "value": "bird (4):  96%"
      }
     },
     "ddb4769eaf7a4238bd8db34db564ec5d": {
      "model_module": "@jupyter-widgets/controls",
      "model_module_version": "1.5.0",
      "model_name": "HTMLModel",
      "state": {
       "layout": "IPY_MODEL_6f95470eb56345b5b69cbf11e12127e0",
       "style": "IPY_MODEL_1ed1a8d3487a4c2288328fd8d6f1c727",
       "value": " 2618/2623 [00:47&lt;00:00, 56.36it/s]"
      }
     },
     "ddf23e7983b447dfab881323c369b09f": {
      "model_module": "@jupyter-widgets/base",
      "model_module_version": "1.2.0",
      "model_name": "LayoutModel",
      "state": {
       "visibility": "hidden"
      }
     },
     "de071d277da84bec97a52767b83dc4d8": {
      "model_module": "@jupyter-widgets/controls",
      "model_module_version": "1.5.0",
      "model_name": "HTMLModel",
      "state": {
       "layout": "IPY_MODEL_f28452431af148e1b550947b6107a7ba",
       "style": "IPY_MODEL_d60353616b024f529b9db39f2cd864b8",
       "value": " 48999/49000 [12:50&lt;00:00, 64.52it/s]"
      }
     },
     "de991ff4a22047de9de41669a09d15c0": {
      "model_module": "@jupyter-widgets/controls",
      "model_module_version": "1.5.0",
      "model_name": "HTMLModel",
      "state": {
       "layout": "IPY_MODEL_3e52af787658485c9dddd5d5c24a4b06",
       "style": "IPY_MODEL_0ed17898430f4e80bc10080fea11b818",
       "value": "up (4):  96%"
      }
     },
     "dea6215ffd524ac7b9a4fa6c83d763e8": {
      "model_module": "@jupyter-widgets/controls",
      "model_module_version": "1.5.0",
      "model_name": "HTMLModel",
      "state": {
       "layout": "IPY_MODEL_06cda733c5c2419fb80851fb2a9895ac",
       "style": "IPY_MODEL_766590df5470483faad36b2589c93630",
       "value": " 3719/3723 [02:07&lt;00:00, 39.98it/s]"
      }
     },
     "dec0e10244ae489e94d2b7038e9b4295": {
      "model_module": "@jupyter-widgets/controls",
      "model_module_version": "1.5.0",
      "model_name": "FloatProgressModel",
      "state": {
       "layout": "IPY_MODEL_5fe1ad5d76db418d99bd87921b6b5fea",
       "max": 6120,
       "style": "IPY_MODEL_372d26bfce7a4547998980938aed7d5e",
       "value": 6120
      }
     },
     "deda2d6c31444f9e850eba23eedb3208": {
      "model_module": "@jupyter-widgets/controls",
      "model_module_version": "1.5.0",
      "model_name": "DescriptionStyleModel",
      "state": {
       "description_width": ""
      }
     },
     "df1e5308cf064614a76dbd57589d04e6": {
      "model_module": "@jupyter-widgets/base",
      "model_module_version": "1.2.0",
      "model_name": "LayoutModel",
      "state": {}
     },
     "df6b56631b65421781359566e187065d": {
      "model_module": "@jupyter-widgets/controls",
      "model_module_version": "1.5.0",
      "model_name": "FloatProgressModel",
      "state": {
       "layout": "IPY_MODEL_97c189e7e847401fa46cca84aae4cd7a",
       "max": 37520,
       "style": "IPY_MODEL_fb6006f2e2f044c99f89dc49bf5a47df",
       "value": 37520
      }
     },
     "df892380e04f4067884c65b8e9cda511": {
      "model_module": "@jupyter-widgets/controls",
      "model_module_version": "1.5.0",
      "model_name": "DescriptionStyleModel",
      "state": {
       "description_width": ""
      }
     },
     "df93c6eee29a413ba67420277e410830": {
      "model_module": "@jupyter-widgets/controls",
      "model_module_version": "1.5.0",
      "model_name": "DescriptionStyleModel",
      "state": {
       "description_width": ""
      }
     },
     "df93f05a19534822a4aab5e105b130f2": {
      "model_module": "@jupyter-widgets/controls",
      "model_module_version": "1.5.0",
      "model_name": "FloatProgressModel",
      "state": {
       "layout": "IPY_MODEL_a461f8184aaa4694bb01518b11359b60",
       "max": 300,
       "style": "IPY_MODEL_3241a6785f064436a5d599883f6d6dc5",
       "value": 300
      }
     },
     "dfc64e399b164ee9ba08183c0411aa17": {
      "model_module": "@jupyter-widgets/controls",
      "model_module_version": "1.5.0",
      "model_name": "ProgressStyleModel",
      "state": {
       "description_width": ""
      }
     },
     "dfcf1a1e34e440319ca4299b45ba91af": {
      "model_module": "@jupyter-widgets/base",
      "model_module_version": "1.2.0",
      "model_name": "LayoutModel",
      "state": {}
     },
     "dfd65074f8bd45c587fe7de67f0e48a4": {
      "model_module": "@jupyter-widgets/base",
      "model_module_version": "1.2.0",
      "model_name": "LayoutModel",
      "state": {}
     },
     "dfe28f072a1842848b6169c6b09aaf69": {
      "model_module": "@jupyter-widgets/base",
      "model_module_version": "1.2.0",
      "model_name": "LayoutModel",
      "state": {
       "visibility": "hidden"
      }
     },
     "dff0ac8565d440d4ac7300dd2e0d26fe": {
      "model_module": "@jupyter-widgets/controls",
      "model_module_version": "1.5.0",
      "model_name": "DescriptionStyleModel",
      "state": {
       "description_width": ""
      }
     },
     "e0025023f9154eed8b48d14604fb833d": {
      "model_module": "@jupyter-widgets/controls",
      "model_module_version": "1.5.0",
      "model_name": "DescriptionStyleModel",
      "state": {
       "description_width": ""
      }
     },
     "e010c634726c449caf7b96c6c00d55b3": {
      "model_module": "@jupyter-widgets/controls",
      "model_module_version": "1.5.0",
      "model_name": "DescriptionStyleModel",
      "state": {
       "description_width": ""
      }
     },
     "e04711a18c7c4a9f850cebd2a8fc7db6": {
      "model_module": "@jupyter-widgets/controls",
      "model_module_version": "1.5.0",
      "model_name": "FloatProgressModel",
      "state": {
       "layout": "IPY_MODEL_d2e0e0350f604e67b529aa244e348f49",
       "max": 3778,
       "style": "IPY_MODEL_7560eea19d704049a73810362920112c",
       "value": 3778
      }
     },
     "e0666b9a78a049e5854954480aba21e0": {
      "model_module": "@jupyter-widgets/base",
      "model_module_version": "1.2.0",
      "model_name": "LayoutModel",
      "state": {
       "visibility": "hidden"
      }
     },
     "e06edbf086f0412cbf8c701ec7185f4f": {
      "model_module": "@jupyter-widgets/base",
      "model_module_version": "1.2.0",
      "model_name": "LayoutModel",
      "state": {}
     },
     "e07f27aa04374600a957f6793cfe4f77": {
      "model_module": "@jupyter-widgets/controls",
      "model_module_version": "1.5.0",
      "model_name": "ProgressStyleModel",
      "state": {
       "description_width": ""
      }
     },
     "e08288ac6bf3490a9a803e440116dd85": {
      "model_module": "@jupyter-widgets/controls",
      "model_module_version": "1.5.0",
      "model_name": "DescriptionStyleModel",
      "state": {
       "description_width": ""
      }
     },
     "e09540c4682f4dd484974787b924e642": {
      "model_module": "@jupyter-widgets/base",
      "model_module_version": "1.2.0",
      "model_name": "LayoutModel",
      "state": {
       "visibility": "hidden"
      }
     },
     "e0da935f8597417680e65f0219c8c65d": {
      "model_module": "@jupyter-widgets/controls",
      "model_module_version": "1.5.0",
      "model_name": "HTMLModel",
      "state": {
       "layout": "IPY_MODEL_c16dc77010cf4b708532434394cfbb1a",
       "style": "IPY_MODEL_2c6f204e0da5472bab68f9405029cfdc",
       "value": "off (4): 100%"
      }
     },
     "e1123ac6a46b4418b68ae622d6336739": {
      "model_module": "@jupyter-widgets/base",
      "model_module_version": "1.2.0",
      "model_name": "LayoutModel",
      "state": {}
     },
     "e12000933e1743da8d668e1efcba1496": {
      "model_module": "@jupyter-widgets/controls",
      "model_module_version": "1.5.0",
      "model_name": "DescriptionStyleModel",
      "state": {
       "description_width": ""
      }
     },
     "e1749db8f11545e69d7a73fc8ee5dc9f": {
      "model_module": "@jupyter-widgets/base",
      "model_module_version": "1.2.0",
      "model_name": "LayoutModel",
      "state": {}
     },
     "e1c81449bd9744fb8fd93bf6a6b99656": {
      "model_module": "@jupyter-widgets/base",
      "model_module_version": "1.2.0",
      "model_name": "LayoutModel",
      "state": {}
     },
     "e1ea72c5f260445e9db20bc4a978c03d": {
      "model_module": "@jupyter-widgets/base",
      "model_module_version": "1.2.0",
      "model_name": "LayoutModel",
      "state": {}
     },
     "e1ff1279611e428284d59eafa7ac8120": {
      "model_module": "@jupyter-widgets/base",
      "model_module_version": "1.2.0",
      "model_name": "LayoutModel",
      "state": {}
     },
     "e224c6dd375c4fe396321bd13de7a3c3": {
      "model_module": "@jupyter-widgets/controls",
      "model_module_version": "1.5.0",
      "model_name": "FloatProgressModel",
      "state": {
       "layout": "IPY_MODEL_d3b9a47e2a0b4db6ab72957b57210ac1",
       "max": 137,
       "style": "IPY_MODEL_d3d34fb77dfe4beda3ae0173852a1a85",
       "value": 137
      }
     },
     "e2b17986087840bb980ed231fbd15a02": {
      "model_module": "@jupyter-widgets/controls",
      "model_module_version": "1.5.0",
      "model_name": "DescriptionStyleModel",
      "state": {
       "description_width": ""
      }
     },
     "e2dce5758535414ca8308e3c9483816c": {
      "model_module": "@jupyter-widgets/base",
      "model_module_version": "1.2.0",
      "model_name": "LayoutModel",
      "state": {}
     },
     "e2dd4f2664d64bfc98ec85ebeb307922": {
      "model_module": "@jupyter-widgets/controls",
      "model_module_version": "1.5.0",
      "model_name": "DescriptionStyleModel",
      "state": {
       "description_width": ""
      }
     },
     "e3354179558145959e3f750de890f02c": {
      "model_module": "@jupyter-widgets/base",
      "model_module_version": "1.2.0",
      "model_name": "LayoutModel",
      "state": {
       "visibility": "hidden"
      }
     },
     "e35396b4fab94e9ca271f3eeacb1f756": {
      "model_module": "@jupyter-widgets/controls",
      "model_module_version": "1.5.0",
      "model_name": "DescriptionStyleModel",
      "state": {
       "description_width": ""
      }
     },
     "e39aef497d524924b395873ff3d9d4c3": {
      "model_module": "@jupyter-widgets/base",
      "model_module_version": "1.2.0",
      "model_name": "LayoutModel",
      "state": {}
     },
     "e3a258f995d34f259829870d068617fb": {
      "model_module": "@jupyter-widgets/controls",
      "model_module_version": "1.5.0",
      "model_name": "DescriptionStyleModel",
      "state": {
       "description_width": ""
      }
     },
     "e3b02ff159b8404aaa05a95f809a9321": {
      "model_module": "@jupyter-widgets/base",
      "model_module_version": "1.2.0",
      "model_name": "LayoutModel",
      "state": {}
     },
     "e3be943e16cd437aac06585596991525": {
      "model_module": "@jupyter-widgets/base",
      "model_module_version": "1.2.0",
      "model_name": "LayoutModel",
      "state": {}
     },
     "e3ebca157edf4bcfa4f8986730eda534": {
      "model_module": "@jupyter-widgets/controls",
      "model_module_version": "1.5.0",
      "model_name": "FloatProgressModel",
      "state": {
       "layout": "IPY_MODEL_2b3b451825af4a9ca9fc69a3b9bca414",
       "max": 3727,
       "style": "IPY_MODEL_10dcdb1dca214f84a61bfa63c9639385",
       "value": 3727
      }
     },
     "e3ff63e1e6d14b3aa234051849c605fb": {
      "model_module": "@jupyter-widgets/controls",
      "model_module_version": "1.5.0",
      "model_name": "HTMLModel",
      "state": {
       "layout": "IPY_MODEL_86c126f595184cb29e2d45149d1de3ae",
       "style": "IPY_MODEL_555296dd00dd45e39fd45d11b65bb260",
       "value": " 249/250 [00:04&lt;00:00, 63.08it/s]"
      }
     },
     "e40377bb503a42fa809427dba8a8f83d": {
      "model_module": "@jupyter-widgets/controls",
      "model_module_version": "1.5.0",
      "model_name": "HTMLModel",
      "state": {
       "layout": "IPY_MODEL_dc5650633fcc402ba6d7b829ff7880a0",
       "style": "IPY_MODEL_301b44f94e59427090f144e7a5016050",
       "value": " 277/281 [00:04&lt;00:00, 63.97it/s]"
      }
     },
     "e426c0aed8814702a900093e43d7e517": {
      "model_module": "@jupyter-widgets/controls",
      "model_module_version": "1.5.0",
      "model_name": "DescriptionStyleModel",
      "state": {
       "description_width": ""
      }
     },
     "e42a126a745a4e9db71d0a1c12ed5c77": {
      "model_module": "@jupyter-widgets/controls",
      "model_module_version": "1.5.0",
      "model_name": "DescriptionStyleModel",
      "state": {
       "description_width": ""
      }
     },
     "e4445891d4e2402fb4f408a4e8ddaee8": {
      "model_module": "@jupyter-widgets/base",
      "model_module_version": "1.2.0",
      "model_name": "LayoutModel",
      "state": {
       "visibility": "hidden"
      }
     },
     "e460615e50964761b022522f9a54c128": {
      "model_module": "@jupyter-widgets/base",
      "model_module_version": "1.2.0",
      "model_name": "LayoutModel",
      "state": {}
     },
     "e48d961b92ef451c9e7320815b5e2c40": {
      "model_module": "@jupyter-widgets/controls",
      "model_module_version": "1.5.0",
      "model_name": "ProgressStyleModel",
      "state": {
       "description_width": ""
      }
     },
     "e48daf39ebea4371afbdad59056619ac": {
      "model_module": "@jupyter-widgets/controls",
      "model_module_version": "1.5.0",
      "model_name": "HBoxModel",
      "state": {
       "children": [
        "IPY_MODEL_91d055d1108a45bcbe93081f11f43cbf",
        "IPY_MODEL_3c157946c68046ebac8d95dd3e9757cc",
        "IPY_MODEL_36aace59119942df84fc15e2f7dca7d7"
       ],
       "layout": "IPY_MODEL_ad150bdceb0a4e85bba4a6c3096fda25"
      }
     },
     "e4dca08760af41039c2909a850696e60": {
      "model_module": "@jupyter-widgets/base",
      "model_module_version": "1.2.0",
      "model_name": "LayoutModel",
      "state": {}
     },
     "e4f220cbb540442db9ac604d5e04f02a": {
      "model_module": "@jupyter-widgets/controls",
      "model_module_version": "1.5.0",
      "model_name": "HTMLModel",
      "state": {
       "layout": "IPY_MODEL_0a8a81eb1f8c44968dcc597fcbaa8017",
       "style": "IPY_MODEL_cd357b0647cb42f2aa789b072c26e323",
       "value": "wow (4): 100%"
      }
     },
     "e506a358e73f4a25984b02828d833402": {
      "model_module": "@jupyter-widgets/controls",
      "model_module_version": "1.5.0",
      "model_name": "DescriptionStyleModel",
      "state": {
       "description_width": ""
      }
     },
     "e5129cc9f08844adb0f88e8f31d06eb9": {
      "model_module": "@jupyter-widgets/base",
      "model_module_version": "1.2.0",
      "model_name": "LayoutModel",
      "state": {
       "visibility": "hidden"
      }
     },
     "e53cfdf6fc544c46b00a992e0e741f9f": {
      "model_module": "@jupyter-widgets/base",
      "model_module_version": "1.2.0",
      "model_name": "LayoutModel",
      "state": {
       "visibility": "hidden"
      }
     },
     "e540b30b9b174064b8353f67ccacde08": {
      "model_module": "@jupyter-widgets/base",
      "model_module_version": "1.2.0",
      "model_name": "LayoutModel",
      "state": {}
     },
     "e550ba26187a409aa719a9987c4ccea8": {
      "model_module": "@jupyter-widgets/controls",
      "model_module_version": "1.5.0",
      "model_name": "DescriptionStyleModel",
      "state": {
       "description_width": ""
      }
     },
     "e591a18d22a941d69ab55d6daf5b100d": {
      "model_module": "@jupyter-widgets/controls",
      "model_module_version": "1.5.0",
      "model_name": "HTMLModel",
      "state": {
       "layout": "IPY_MODEL_65f444d16c864d45a60ff7ac5746ebd6",
       "style": "IPY_MODEL_bc6ea8a2b7134a0fba3921bbb4580069",
       "value": "Checking: 100%"
      }
     },
     "e5a9ea2fe32a4c9c8d01e5f6ee173b84": {
      "model_module": "@jupyter-widgets/controls",
      "model_module_version": "1.5.0",
      "model_name": "HTMLModel",
      "state": {
       "layout": "IPY_MODEL_42661ce69c80418886c3159e7358a6dc",
       "style": "IPY_MODEL_fcc660f7335c4a0591708b17faf97876",
       "value": " 1186/1188 [00:27&lt;00:00, 11.28it/s]"
      }
     },
     "e5c62a8a103c4a0b9f03d96e135d152f": {
      "model_module": "@jupyter-widgets/base",
      "model_module_version": "1.2.0",
      "model_name": "LayoutModel",
      "state": {}
     },
     "e60b7b1cab0447cc8779e207f524892c": {
      "model_module": "@jupyter-widgets/controls",
      "model_module_version": "1.5.0",
      "model_name": "HTMLModel",
      "state": {
       "layout": "IPY_MODEL_952bd1b497cb41158965f7555a846852",
       "style": "IPY_MODEL_9e4909e912b34b5db364f11ae84ca814",
       "value": "go (4):  99%"
      }
     },
     "e6921e2644a5426aab1e5c0e4336e378": {
      "model_module": "@jupyter-widgets/base",
      "model_module_version": "1.2.0",
      "model_name": "LayoutModel",
      "state": {
       "visibility": "hidden"
      }
     },
     "e6948fb1f88946b08eff0ecad3c4d555": {
      "model_module": "@jupyter-widgets/base",
      "model_module_version": "1.2.0",
      "model_name": "LayoutModel",
      "state": {
       "visibility": "hidden"
      }
     },
     "e7292a9db0ad43c695a8c618ca2f2896": {
      "model_module": "@jupyter-widgets/base",
      "model_module_version": "1.2.0",
      "model_name": "LayoutModel",
      "state": {}
     },
     "e748674e952843dab782b20a578d17d1": {
      "model_module": "@jupyter-widgets/base",
      "model_module_version": "1.2.0",
      "model_name": "LayoutModel",
      "state": {}
     },
     "e7616ac1abff4b57ae47f905b2166f51": {
      "model_module": "@jupyter-widgets/base",
      "model_module_version": "1.2.0",
      "model_name": "LayoutModel",
      "state": {}
     },
     "e77e4968715b4b56b64011e5fd5b9cf7": {
      "model_module": "@jupyter-widgets/base",
      "model_module_version": "1.2.0",
      "model_name": "LayoutModel",
      "state": {
       "visibility": "hidden"
      }
     },
     "e7867b10f87f4678b4d56ec6610283ad": {
      "model_module": "@jupyter-widgets/base",
      "model_module_version": "1.2.0",
      "model_name": "LayoutModel",
      "state": {}
     },
     "e7c9bb097a5e4a718ccca99787e1cb91": {
      "model_module": "@jupyter-widgets/controls",
      "model_module_version": "1.5.0",
      "model_name": "FloatProgressModel",
      "state": {
       "layout": "IPY_MODEL_327dba0d242045f19296f35d52fd341f",
       "max": 1000,
       "style": "IPY_MODEL_955d925d29b444df8d84d78c1464edf5",
       "value": 1000
      }
     },
     "e7ce2722b5cb4f66bed263aef27c114d": {
      "model_module": "@jupyter-widgets/base",
      "model_module_version": "1.2.0",
      "model_name": "LayoutModel",
      "state": {
       "visibility": "hidden"
      }
     },
     "e7d0da804b584e559abc90dea41fa4a8": {
      "model_module": "@jupyter-widgets/controls",
      "model_module_version": "1.5.0",
      "model_name": "HTMLModel",
      "state": {
       "layout": "IPY_MODEL_7f96a943847e4958baf6c960ef374ad2",
       "style": "IPY_MODEL_06cd2bc31f994fc8ae79c09bbe9cd81c",
       "value": " 325/327 [00:05&lt;00:00, 56.88it/s]"
      }
     },
     "e7f8588af5fc4c4d8a1d63c57444f539": {
      "model_module": "@jupyter-widgets/base",
      "model_module_version": "1.2.0",
      "model_name": "LayoutModel",
      "state": {}
     },
     "e83141004c2b41fb972537b0f01769d9": {
      "model_module": "@jupyter-widgets/base",
      "model_module_version": "1.2.0",
      "model_name": "LayoutModel",
      "state": {}
     },
     "e8596b712b3e44a1b388f2f9428a7fd5": {
      "model_module": "@jupyter-widgets/controls",
      "model_module_version": "1.5.0",
      "model_name": "FloatProgressModel",
      "state": {
       "layout": "IPY_MODEL_f3f0549b12e74eeb9eede907629d0c35",
       "max": 141,
       "style": "IPY_MODEL_76ee10fb685d45c8b9fbb7fef2b9342b",
       "value": 141
      }
     },
     "e889d13f9f9f469095681b565dc797e0": {
      "model_module": "@jupyter-widgets/base",
      "model_module_version": "1.2.0",
      "model_name": "LayoutModel",
      "state": {}
     },
     "e8aeee10c29e439eb22f5ad832d398af": {
      "model_module": "@jupyter-widgets/base",
      "model_module_version": "1.2.0",
      "model_name": "LayoutModel",
      "state": {}
     },
     "e8b9cfca8ac04de5a13514a68f089e07": {
      "model_module": "@jupyter-widgets/controls",
      "model_module_version": "1.5.0",
      "model_name": "FloatProgressModel",
      "state": {
       "layout": "IPY_MODEL_9a2da42c0966431782feeca799f80ffd",
       "max": 3998,
       "style": "IPY_MODEL_dc00a620d1464e43a5beca0b73dd4e03",
       "value": 3998
      }
     },
     "e8c76e07576948ca9a9b032970dcda9f": {
      "model_module": "@jupyter-widgets/controls",
      "model_module_version": "1.5.0",
      "model_name": "ProgressStyleModel",
      "state": {
       "description_width": ""
      }
     },
     "e90e0b39ae51444ea357880431515b52": {
      "model_module": "@jupyter-widgets/base",
      "model_module_version": "1.2.0",
      "model_name": "LayoutModel",
      "state": {}
     },
     "e934935a66f4431da922e68826f4b8c1": {
      "model_module": "@jupyter-widgets/controls",
      "model_module_version": "1.5.0",
      "model_name": "HTMLModel",
      "state": {
       "layout": "IPY_MODEL_2386d829c91f40b8b7ff6445391852cf",
       "style": "IPY_MODEL_4e95b68d8107427d8ae635e83ce58074",
       "value": " 4677/4680 [01:52&lt;00:00, 45.92it/s]"
      }
     },
     "e94a402f871e48bdba1080a9fb13a17d": {
      "model_module": "@jupyter-widgets/base",
      "model_module_version": "1.2.0",
      "model_name": "LayoutModel",
      "state": {}
     },
     "e962688aeebb4e2c9e19b01a74ab8659": {
      "model_module": "@jupyter-widgets/controls",
      "model_module_version": "1.5.0",
      "model_name": "ProgressStyleModel",
      "state": {
       "description_width": ""
      }
     },
     "e9a585860a8d4d668ffb22ef7c442d94": {
      "model_module": "@jupyter-widgets/controls",
      "model_module_version": "1.5.0",
      "model_name": "HTMLModel",
      "state": {
       "layout": "IPY_MODEL_f481db36586a4979a405e63ac4d5872e",
       "style": "IPY_MODEL_46fe4ca70baf4dbaa4eb4da32006d7b7",
       "value": " 920/921 [00:15&lt;00:00, 62.12it/s]"
      }
     },
     "e9b442b8d7d04a73ab4a8171908737b6": {
      "model_module": "@jupyter-widgets/base",
      "model_module_version": "1.2.0",
      "model_name": "LayoutModel",
      "state": {}
     },
     "e9c20f5be927454d899bf0089e582492": {
      "model_module": "@jupyter-widgets/controls",
      "model_module_version": "1.5.0",
      "model_name": "DescriptionStyleModel",
      "state": {
       "description_width": ""
      }
     },
     "e9e678c3cd4f4419a2fca83d9af1e89e": {
      "model_module": "@jupyter-widgets/controls",
      "model_module_version": "1.5.0",
      "model_name": "FloatProgressModel",
      "state": {
       "layout": "IPY_MODEL_4cddaed720714a3ab60aedc5478b5a55",
       "max": 790,
       "style": "IPY_MODEL_06540289351740f29149943bb0621319",
       "value": 790
      }
     },
     "ea04613239694fe69f49df164ea9ae9f": {
      "model_module": "@jupyter-widgets/controls",
      "model_module_version": "1.5.0",
      "model_name": "FloatProgressModel",
      "state": {
       "layout": "IPY_MODEL_9e7d87e296bb42e59fd8147948ec90d0",
       "max": 142,
       "style": "IPY_MODEL_74cfabc4dfa94ff0a0f6ada2fcf1037c",
       "value": 142
      }
     },
     "ea22b625d21f474d833dee3575259f6f": {
      "model_module": "@jupyter-widgets/controls",
      "model_module_version": "1.5.0",
      "model_name": "HTMLModel",
      "state": {
       "layout": "IPY_MODEL_f79e4dcb38c840538deabe8e0f6afad0",
       "style": "IPY_MODEL_2f804b780a52491495a1efb6ab227c30",
       "value": "Checking: 100%"
      }
     },
     "ea3ce6c9fb6d4383bdd146324b5f733e": {
      "model_module": "@jupyter-widgets/controls",
      "model_module_version": "1.5.0",
      "model_name": "DescriptionStyleModel",
      "state": {
       "description_width": ""
      }
     },
     "ea64726e80c3434d84e85da06f6568ab": {
      "model_module": "@jupyter-widgets/controls",
      "model_module_version": "1.5.0",
      "model_name": "ProgressStyleModel",
      "state": {
       "description_width": ""
      }
     },
     "ea67a7a5db874791900a706dc05f2c2f": {
      "model_module": "@jupyter-widgets/controls",
      "model_module_version": "1.5.0",
      "model_name": "FloatProgressModel",
      "state": {
       "layout": "IPY_MODEL_06993e4aeb294951a93dbb6ae50c3b3a",
       "max": 344,
       "style": "IPY_MODEL_f03a76ee2a2c42a4b00bb0e7e3fd5043",
       "value": 344
      }
     },
     "eaae18b50e7649e0a9ee91cf13764591": {
      "model_module": "@jupyter-widgets/base",
      "model_module_version": "1.2.0",
      "model_name": "LayoutModel",
      "state": {}
     },
     "eae150fec2dd48d5bd49ebd3fce032ed": {
      "model_module": "@jupyter-widgets/controls",
      "model_module_version": "1.5.0",
      "model_name": "FloatProgressModel",
      "state": {
       "layout": "IPY_MODEL_f78a276ad49b4876a329d09e73d3d4b5",
       "max": 1384,
       "style": "IPY_MODEL_5a33d9d1453149b0ad1fe51fdab09905",
       "value": 1384
      }
     },
     "eb87adc4d89242638cda1f0f4ed34956": {
      "model_module": "@jupyter-widgets/base",
      "model_module_version": "1.2.0",
      "model_name": "LayoutModel",
      "state": {}
     },
     "eba5fd2888064667a3f4a9ad732caa00": {
      "model_module": "@jupyter-widgets/controls",
      "model_module_version": "1.5.0",
      "model_name": "HTMLModel",
      "state": {
       "layout": "IPY_MODEL_b1cce581af9b49089b865f9c40b61e26",
       "style": "IPY_MODEL_0b37e404392848cdb1502980b8566ba6",
       "value": "speech_data\\_background_noise_\\white_noise.wav:  86%"
      }
     },
     "ebb25fb6014e4936959feabd8bb6fb1b": {
      "model_module": "@jupyter-widgets/base",
      "model_module_version": "1.2.0",
      "model_name": "LayoutModel",
      "state": {}
     },
     "ebbc1bf735e241e4b9de1359080f4f96": {
      "model_module": "@jupyter-widgets/controls",
      "model_module_version": "1.5.0",
      "model_name": "DescriptionStyleModel",
      "state": {
       "description_width": ""
      }
     },
     "ebde4cd1d5d6467d98b7e0321d5d3f9d": {
      "model_module": "@jupyter-widgets/controls",
      "model_module_version": "1.5.0",
      "model_name": "DescriptionStyleModel",
      "state": {
       "description_width": ""
      }
     },
     "ec2106907e1a4ff5926a62b2760caa5f": {
      "model_module": "@jupyter-widgets/controls",
      "model_module_version": "1.5.0",
      "model_name": "HTMLModel",
      "state": {
       "layout": "IPY_MODEL_f1722719dfab4178ad40f76373034f76",
       "style": "IPY_MODEL_deda2d6c31444f9e850eba23eedb3208",
       "value": "left (2): 100%"
      }
     },
     "ec5c5e2e73904e3099c2b946123ef904": {
      "model_module": "@jupyter-widgets/base",
      "model_module_version": "1.2.0",
      "model_name": "LayoutModel",
      "state": {}
     },
     "ec5d645dd93844db80d1fd83a7e3b4d7": {
      "model_module": "@jupyter-widgets/controls",
      "model_module_version": "1.5.0",
      "model_name": "HTMLModel",
      "state": {
       "layout": "IPY_MODEL_912f177b92db42528d6a9f530e517f14",
       "style": "IPY_MODEL_f1271c13f36648f89925e56fa9ce98bf",
       "value": "six (4):  98%"
      }
     },
     "ecf451fdba984835bc442de389ea9344": {
      "model_module": "@jupyter-widgets/controls",
      "model_module_version": "1.5.0",
      "model_name": "DescriptionStyleModel",
      "state": {
       "description_width": ""
      }
     },
     "ed2c4bdc90e841febfe7ce66be277ab4": {
      "model_module": "@jupyter-widgets/controls",
      "model_module_version": "1.5.0",
      "model_name": "HTMLModel",
      "state": {
       "layout": "IPY_MODEL_c6a28f4ed38249168c158d969737f2c8",
       "style": "IPY_MODEL_eeec8de262f84afc873296a4930619b9",
       "value": " 177/181 [00:02&lt;00:00, 63.03it/s]"
      }
     },
     "ed5c700b226d4df5bda31af2cb4d0ee9": {
      "model_module": "@jupyter-widgets/base",
      "model_module_version": "1.2.0",
      "model_name": "LayoutModel",
      "state": {}
     },
     "ed686b041231487890ae11d6d80e70cb": {
      "model_module": "@jupyter-widgets/controls",
      "model_module_version": "1.5.0",
      "model_name": "FloatProgressModel",
      "state": {
       "layout": "IPY_MODEL_e889d13f9f9f469095681b565dc797e0",
       "max": 1575,
       "style": "IPY_MODEL_00f99854be6148138963256603cde02f",
       "value": 1575
      }
     },
     "ed70b42ab06e4736ac7c2d0391fa541b": {
      "model_module": "@jupyter-widgets/controls",
      "model_module_version": "1.5.0",
      "model_name": "HTMLModel",
      "state": {
       "layout": "IPY_MODEL_0f27aedea7ca406f8b1e8436eb662d7f",
       "style": "IPY_MODEL_739ec3ddebf24a868678997020298c57",
       "value": " 158/163 [00:02&lt;00:00, 62.93it/s]"
      }
     },
     "ee6f363a16124201a492ede64022b55a": {
      "model_module": "@jupyter-widgets/controls",
      "model_module_version": "1.5.0",
      "model_name": "ProgressStyleModel",
      "state": {
       "description_width": ""
      }
     },
     "ee8cbb1c8fca4cfea3091e03efab1ad1": {
      "model_module": "@jupyter-widgets/controls",
      "model_module_version": "1.5.0",
      "model_name": "FloatProgressModel",
      "state": {
       "layout": "IPY_MODEL_8afe4c743f30495fbf999fde88f9fc7e",
       "max": 2001,
       "style": "IPY_MODEL_f805ca0c3d2c498b91eeb89eeb6019bb",
       "value": 2001
      }
     },
     "eeb30998f0c5493dadec8761ae629897": {
      "model_module": "@jupyter-widgets/controls",
      "model_module_version": "1.5.0",
      "model_name": "ProgressStyleModel",
      "state": {
       "description_width": ""
      }
     },
     "eeec8de262f84afc873296a4930619b9": {
      "model_module": "@jupyter-widgets/controls",
      "model_module_version": "1.5.0",
      "model_name": "DescriptionStyleModel",
      "state": {
       "description_width": ""
      }
     },
     "ef086b64628d4b6c8e715194c42fe614": {
      "model_module": "@jupyter-widgets/controls",
      "model_module_version": "1.5.0",
      "model_name": "FloatProgressModel",
      "state": {
       "layout": "IPY_MODEL_e39aef497d524924b395873ff3d9d4c3",
       "max": 2376,
       "style": "IPY_MODEL_ee6f363a16124201a492ede64022b55a",
       "value": 2376
      }
     },
     "ef43054354b34cb49d02f7748646a5ad": {
      "model_module": "@jupyter-widgets/controls",
      "model_module_version": "1.5.0",
      "model_name": "DescriptionStyleModel",
      "state": {
       "description_width": ""
      }
     },
     "efec8e3b4bc64c178a2aa6fe584f177e": {
      "model_module": "@jupyter-widgets/controls",
      "model_module_version": "1.5.0",
      "model_name": "DescriptionStyleModel",
      "state": {
       "description_width": ""
      }
     },
     "effd1a03ecfe4381b384015144f1169c": {
      "model_module": "@jupyter-widgets/base",
      "model_module_version": "1.2.0",
      "model_name": "LayoutModel",
      "state": {}
     },
     "f0390627805847da8848237336ff4362": {
      "model_module": "@jupyter-widgets/controls",
      "model_module_version": "1.5.0",
      "model_name": "FloatProgressModel",
      "state": {
       "layout": "IPY_MODEL_ac97242c29824ff0984a2a4a626d6194",
       "max": 251,
       "style": "IPY_MODEL_f98e7e816ee54c5ca406b5cb50356e3b",
       "value": 251
      }
     },
     "f03a76ee2a2c42a4b00bb0e7e3fd5043": {
      "model_module": "@jupyter-widgets/controls",
      "model_module_version": "1.5.0",
      "model_name": "ProgressStyleModel",
      "state": {
       "description_width": ""
      }
     },
     "f05cfb9b2e70458caacb5d17ce6c994c": {
      "model_module": "@jupyter-widgets/controls",
      "model_module_version": "1.5.0",
      "model_name": "ProgressStyleModel",
      "state": {
       "description_width": ""
      }
     },
     "f06d7d721c8044f0b12a73ca199c960c": {
      "model_module": "@jupyter-widgets/controls",
      "model_module_version": "1.5.0",
      "model_name": "HTMLModel",
      "state": {
       "layout": "IPY_MODEL_7b060bc4bdec418fa14e6427e2aa3ea8",
       "style": "IPY_MODEL_554e26fcaa52472ea3b17c31e255de72",
       "value": " 1059/1063 [00:16&lt;00:00, 63.50it/s]"
      }
     },
     "f0765af6ba9f421e9bf774d6495ad652": {
      "model_module": "@jupyter-widgets/base",
      "model_module_version": "1.2.0",
      "model_name": "LayoutModel",
      "state": {}
     },
     "f0b0a7cf3fc544219f414f043a61700e": {
      "model_module": "@jupyter-widgets/base",
      "model_module_version": "1.2.0",
      "model_name": "LayoutModel",
      "state": {}
     },
     "f0b3c1c3e0b74112bdd60c187e5500d1": {
      "model_module": "@jupyter-widgets/controls",
      "model_module_version": "1.5.0",
      "model_name": "HTMLModel",
      "state": {
       "layout": "IPY_MODEL_54aadba64cf341f79dc45c6a9c44c9a8",
       "style": "IPY_MODEL_4d54877b64414ffa8c423331b64805fc",
       "value": " 2061/2064 [00:57&lt;00:00, 35.93it/s]"
      }
     },
     "f0fbee39eac0456983a15fe998f8dea0": {
      "model_module": "@jupyter-widgets/controls",
      "model_module_version": "1.5.0",
      "model_name": "HTMLModel",
      "state": {
       "layout": "IPY_MODEL_23778a98710d4ebe9844c7f74e6487af",
       "style": "IPY_MODEL_1a755625fd5f452cba0c7aa021ed71bd",
       "value": "forward (0): 100%"
      }
     },
     "f1271c13f36648f89925e56fa9ce98bf": {
      "model_module": "@jupyter-widgets/controls",
      "model_module_version": "1.5.0",
      "model_name": "DescriptionStyleModel",
      "state": {
       "description_width": ""
      }
     },
     "f12a6426e01e4341998a0b40e4558894": {
      "model_module": "@jupyter-widgets/controls",
      "model_module_version": "1.5.0",
      "model_name": "ProgressStyleModel",
      "state": {
       "description_width": ""
      }
     },
     "f1722719dfab4178ad40f76373034f76": {
      "model_module": "@jupyter-widgets/base",
      "model_module_version": "1.2.0",
      "model_name": "LayoutModel",
      "state": {}
     },
     "f24d1c50883a4323bc5c6aaea172e834": {
      "model_module": "@jupyter-widgets/controls",
      "model_module_version": "1.5.0",
      "model_name": "DescriptionStyleModel",
      "state": {
       "description_width": ""
      }
     },
     "f268edc1d63847f394b54e6e42f08a59": {
      "model_module": "@jupyter-widgets/controls",
      "model_module_version": "1.5.0",
      "model_name": "ProgressStyleModel",
      "state": {
       "description_width": ""
      }
     },
     "f28452431af148e1b550947b6107a7ba": {
      "model_module": "@jupyter-widgets/base",
      "model_module_version": "1.2.0",
      "model_name": "LayoutModel",
      "state": {}
     },
     "f2bd74e87e8144f79f07f2854821d771": {
      "model_module": "@jupyter-widgets/controls",
      "model_module_version": "1.5.0",
      "model_name": "HTMLModel",
      "state": {
       "layout": "IPY_MODEL_43c5113804ab4d8bb87264f0401aba47",
       "style": "IPY_MODEL_9068f6f5ea924e8e82df08f05b68e29e",
       "value": " 42216/42220 [13:08&lt;00:00, 55.12it/s]"
      }
     },
     "f2c2ec3a6f5349eeaa6ee68664a74f0f": {
      "model_module": "@jupyter-widgets/base",
      "model_module_version": "1.2.0",
      "model_name": "LayoutModel",
      "state": {}
     },
     "f30470001c37438a9c1c797b5a9d43c4": {
      "model_module": "@jupyter-widgets/controls",
      "model_module_version": "1.5.0",
      "model_name": "HTMLModel",
      "state": {
       "layout": "IPY_MODEL_fdff3a2be99f44cb90d9b0d9af028d64",
       "style": "IPY_MODEL_6581bfdfb5104936ac26ca5ba2a806e3",
       "value": " 1756/1759 [00:53&lt;00:00, 34.57it/s]"
      }
     },
     "f3145d7905b24978b238c510e4431b67": {
      "model_module": "@jupyter-widgets/controls",
      "model_module_version": "1.5.0",
      "model_name": "DescriptionStyleModel",
      "state": {
       "description_width": ""
      }
     },
     "f358911f3f3e4b03a1b224eea96ec118": {
      "model_module": "@jupyter-widgets/controls",
      "model_module_version": "1.5.0",
      "model_name": "DescriptionStyleModel",
      "state": {
       "description_width": ""
      }
     },
     "f3877bf485f24682b2b4f4f9ed635be2": {
      "model_module": "@jupyter-widgets/base",
      "model_module_version": "1.2.0",
      "model_name": "LayoutModel",
      "state": {}
     },
     "f3a82e2d40cc4e11978b1cc56f50ebfb": {
      "model_module": "@jupyter-widgets/base",
      "model_module_version": "1.2.0",
      "model_name": "LayoutModel",
      "state": {}
     },
     "f3b3282436744b55a6f01f5aa56f97f6": {
      "model_module": "@jupyter-widgets/controls",
      "model_module_version": "1.5.0",
      "model_name": "ProgressStyleModel",
      "state": {
       "description_width": ""
      }
     },
     "f3e95aad34364be89c838a1d85ddbd36": {
      "model_module": "@jupyter-widgets/controls",
      "model_module_version": "1.5.0",
      "model_name": "ProgressStyleModel",
      "state": {
       "description_width": ""
      }
     },
     "f3f0549b12e74eeb9eede907629d0c35": {
      "model_module": "@jupyter-widgets/base",
      "model_module_version": "1.2.0",
      "model_name": "LayoutModel",
      "state": {}
     },
     "f4390991d78e4ea69bf62807c6445196": {
      "model_module": "@jupyter-widgets/controls",
      "model_module_version": "1.5.0",
      "model_name": "HTMLModel",
      "state": {
       "layout": "IPY_MODEL_76894e1d251b4046a97556e237c1e5c0",
       "style": "IPY_MODEL_4e1cef3e841e4c408694407cfa7600c5",
       "value": " 136/139 [00:02&lt;00:00, 63.38it/s]"
      }
     },
     "f443542d27ee45c3b3e6907ca384acf9": {
      "model_module": "@jupyter-widgets/controls",
      "model_module_version": "1.5.0",
      "model_name": "HTMLModel",
      "state": {
       "layout": "IPY_MODEL_9116c36a51a448cfbeb3e2031deaaa9d",
       "style": "IPY_MODEL_1744b218982448cb873985b4901b2d8c",
       "value": "Checking: 100%"
      }
     },
     "f47cff8d806547f082ac739ebe28a239": {
      "model_module": "@jupyter-widgets/controls",
      "model_module_version": "1.5.0",
      "model_name": "HTMLModel",
      "state": {
       "layout": "IPY_MODEL_1df3bfca34e042c08caae8a6fc7705e9",
       "style": "IPY_MODEL_982cd96705c5450d98cc45c67135bbe1",
       "value": " 4042/4044 [02:21&lt;00:00, 24.91it/s]"
      }
     },
     "f481db36586a4979a405e63ac4d5872e": {
      "model_module": "@jupyter-widgets/base",
      "model_module_version": "1.2.0",
      "model_name": "LayoutModel",
      "state": {}
     },
     "f532cb2b32e84f0cbb48b362d20ab055": {
      "model_module": "@jupyter-widgets/controls",
      "model_module_version": "1.5.0",
      "model_name": "HTMLModel",
      "state": {
       "layout": "IPY_MODEL_274fbda7237b4134a6cd90c57b7a5334",
       "style": "IPY_MODEL_410c37d3ec38428db7af6a6b582b21fd",
       "value": " 2371/2376 [00:38&lt;00:00, 64.00it/s]"
      }
     },
     "f5e12ef10202435b8d5d79cfd625cf86": {
      "model_module": "@jupyter-widgets/base",
      "model_module_version": "1.2.0",
      "model_name": "LayoutModel",
      "state": {}
     },
     "f683a5af93a34b8684a7f3e69ac8809a": {
      "model_module": "@jupyter-widgets/controls",
      "model_module_version": "1.5.0",
      "model_name": "DescriptionStyleModel",
      "state": {
       "description_width": ""
      }
     },
     "f6d39ae7ee074f92938fdf2ee10476c9": {
      "model_module": "@jupyter-widgets/base",
      "model_module_version": "1.2.0",
      "model_name": "LayoutModel",
      "state": {}
     },
     "f6d8f67bfce840128c8bf8ffdcb43b1d": {
      "model_module": "@jupyter-widgets/base",
      "model_module_version": "1.2.0",
      "model_name": "LayoutModel",
      "state": {}
     },
     "f732d82e226144b4850becbcd53336df": {
      "model_module": "@jupyter-widgets/controls",
      "model_module_version": "1.5.0",
      "model_name": "DescriptionStyleModel",
      "state": {
       "description_width": ""
      }
     },
     "f7410f9400734a36b7ab14d6ba299dcc": {
      "model_module": "@jupyter-widgets/base",
      "model_module_version": "1.2.0",
      "model_name": "LayoutModel",
      "state": {}
     },
     "f78a276ad49b4876a329d09e73d3d4b5": {
      "model_module": "@jupyter-widgets/base",
      "model_module_version": "1.2.0",
      "model_name": "LayoutModel",
      "state": {}
     },
     "f79a0427bb374bfc8a083d8bbda56178": {
      "model_module": "@jupyter-widgets/controls",
      "model_module_version": "1.5.0",
      "model_name": "DescriptionStyleModel",
      "state": {
       "description_width": ""
      }
     },
     "f79e4dcb38c840538deabe8e0f6afad0": {
      "model_module": "@jupyter-widgets/base",
      "model_module_version": "1.2.0",
      "model_name": "LayoutModel",
      "state": {}
     },
     "f7b5a5e4c5ce4665af572dcd8c41a997": {
      "model_module": "@jupyter-widgets/controls",
      "model_module_version": "1.5.0",
      "model_name": "HTMLModel",
      "state": {
       "layout": "IPY_MODEL_0e24e33dccbb405897909831c8b575a1",
       "style": "IPY_MODEL_fb8dc7c5f72a4d7688f17ff4c00f28ce",
       "value": " 2022/2022 [00:54&lt;00:00, 41.18it/s]"
      }
     },
     "f7c8b6aa96794a4ca54ab99324c52ca4": {
      "model_module": "@jupyter-widgets/controls",
      "model_module_version": "1.5.0",
      "model_name": "HTMLModel",
      "state": {
       "layout": "IPY_MODEL_9817ebbe111e4027a9d6a1528ef6183a",
       "style": "IPY_MODEL_a6a1083c9a00478d9d68007cf81e35c0",
       "value": "speech_data\\_background_noise_\\pink_noise.wav:  83%"
      }
     },
     "f7d969507d5c4458ad8c1deb2ab583f1": {
      "model_module": "@jupyter-widgets/base",
      "model_module_version": "1.2.0",
      "model_name": "LayoutModel",
      "state": {}
     },
     "f7e6082d92a246379de22e2ddc67571b": {
      "model_module": "@jupyter-widgets/base",
      "model_module_version": "1.2.0",
      "model_name": "LayoutModel",
      "state": {}
     },
     "f805ca0c3d2c498b91eeb89eeb6019bb": {
      "model_module": "@jupyter-widgets/controls",
      "model_module_version": "1.5.0",
      "model_name": "ProgressStyleModel",
      "state": {
       "description_width": ""
      }
     },
     "f8a317d0a4414956a660b0e7606fdf55": {
      "model_module": "@jupyter-widgets/base",
      "model_module_version": "1.2.0",
      "model_name": "LayoutModel",
      "state": {}
     },
     "f8aea49b6d534157b64c623a323bd3d9": {
      "model_module": "@jupyter-widgets/base",
      "model_module_version": "1.2.0",
      "model_name": "LayoutModel",
      "state": {}
     },
     "f8ec9e882b364178ba88d8a406c7a114": {
      "model_module": "@jupyter-widgets/base",
      "model_module_version": "1.2.0",
      "model_name": "LayoutModel",
      "state": {}
     },
     "f93305c8f91f4649a15a4e909449ffce": {
      "model_module": "@jupyter-widgets/base",
      "model_module_version": "1.2.0",
      "model_name": "LayoutModel",
      "state": {
       "visibility": "hidden"
      }
     },
     "f9571b3eae3546ff9198c4b703ecd4bf": {
      "model_module": "@jupyter-widgets/controls",
      "model_module_version": "1.5.0",
      "model_name": "ProgressStyleModel",
      "state": {
       "description_width": ""
      }
     },
     "f98bd7dd57a54baa925077d9c5a3d85b": {
      "model_module": "@jupyter-widgets/base",
      "model_module_version": "1.2.0",
      "model_name": "LayoutModel",
      "state": {
       "visibility": "hidden"
      }
     },
     "f98ce26589e24074b5994c3d5d8a7bef": {
      "model_module": "@jupyter-widgets/controls",
      "model_module_version": "1.5.0",
      "model_name": "HTMLModel",
      "state": {
       "layout": "IPY_MODEL_ff67a9b10e5a4e67bec363d1d421252e",
       "style": "IPY_MODEL_ebbc1bf735e241e4b9de1359080f4f96",
       "value": "Simulated Words:  99%"
      }
     },
     "f98e7e816ee54c5ca406b5cb50356e3b": {
      "model_module": "@jupyter-widgets/controls",
      "model_module_version": "1.5.0",
      "model_name": "ProgressStyleModel",
      "state": {
       "description_width": ""
      }
     },
     "f9e20b058102407e8ed35f93e81b161a": {
      "model_module": "@jupyter-widgets/base",
      "model_module_version": "1.2.0",
      "model_name": "LayoutModel",
      "state": {
       "visibility": "hidden"
      }
     },
     "f9f90e82efc44ddabb42d71bbefea4c4": {
      "model_module": "@jupyter-widgets/controls",
      "model_module_version": "1.5.0",
      "model_name": "FloatProgressModel",
      "state": {
       "layout": "IPY_MODEL_d2bbcaf7bc3a4d9ba74b5bd2a2c028f3",
       "max": 1149,
       "style": "IPY_MODEL_3d9e9f1a2e794143862ec4c416e9bfed",
       "value": 1149
      }
     },
     "fa79afb2df9d4b7da99f1c9a4b26b1c8": {
      "model_module": "@jupyter-widgets/controls",
      "model_module_version": "1.5.0",
      "model_name": "ProgressStyleModel",
      "state": {
       "description_width": ""
      }
     },
     "fa8965e9e78d498296eceae6d132f9dd": {
      "model_module": "@jupyter-widgets/controls",
      "model_module_version": "1.5.0",
      "model_name": "HTMLModel",
      "state": {
       "layout": "IPY_MODEL_04372398fdc442418391b55a52a83e9c",
       "style": "IPY_MODEL_71811dc4d38b4a81ad09c55a1bfe6567",
       "value": " 1131/1132 [00:18&lt;00:00, 62.16it/s]"
      }
     },
     "fab98ba9ef114dad9c98bc0bbd0ef8cd": {
      "model_module": "@jupyter-widgets/controls",
      "model_module_version": "1.5.0",
      "model_name": "DescriptionStyleModel",
      "state": {
       "description_width": ""
      }
     },
     "fae71f24c86e444798847fb8a60ca39f": {
      "model_module": "@jupyter-widgets/controls",
      "model_module_version": "1.5.0",
      "model_name": "FloatProgressModel",
      "state": {
       "layout": "IPY_MODEL_c7001e7ae2a744618ab4883b34197b01",
       "max": 59,
       "style": "IPY_MODEL_9c2028df4d514912864a83eff2a1ccd3",
       "value": 59
      }
     },
     "faedee70fffe4a9aa96db20445f73a1c": {
      "model_module": "@jupyter-widgets/controls",
      "model_module_version": "1.5.0",
      "model_name": "DescriptionStyleModel",
      "state": {
       "description_width": ""
      }
     },
     "fafc9074b90b47b9a054a08ee3defbfb": {
      "model_module": "@jupyter-widgets/controls",
      "model_module_version": "1.5.0",
      "model_name": "DescriptionStyleModel",
      "state": {
       "description_width": ""
      }
     },
     "fb0259d2ce9d4350b757ccb88900ccd0": {
      "model_module": "@jupyter-widgets/controls",
      "model_module_version": "1.5.0",
      "model_name": "HTMLModel",
      "state": {
       "layout": "IPY_MODEL_ab2cb5f0488f4b349eb3ff59c9627bad",
       "style": "IPY_MODEL_c23b227f5dd64a01bc1b3c67db6bff25",
       "value": "seven (4): 100%"
      }
     },
     "fb43067965a54fed8a1bc58bb55f8800": {
      "model_module": "@jupyter-widgets/controls",
      "model_module_version": "1.5.0",
      "model_name": "DescriptionStyleModel",
      "state": {
       "description_width": ""
      }
     },
     "fb474e89ed694721984cc41fea32e6b4": {
      "model_module": "@jupyter-widgets/base",
      "model_module_version": "1.2.0",
      "model_name": "LayoutModel",
      "state": {
       "visibility": "hidden"
      }
     },
     "fb6006f2e2f044c99f89dc49bf5a47df": {
      "model_module": "@jupyter-widgets/controls",
      "model_module_version": "1.5.0",
      "model_name": "ProgressStyleModel",
      "state": {
       "description_width": ""
      }
     },
     "fb8dc7c5f72a4d7688f17ff4c00f28ce": {
      "model_module": "@jupyter-widgets/controls",
      "model_module_version": "1.5.0",
      "model_name": "DescriptionStyleModel",
      "state": {
       "description_width": ""
      }
     },
     "fb9c7f27f6e340a6a4792063b231c4d5": {
      "model_module": "@jupyter-widgets/base",
      "model_module_version": "1.2.0",
      "model_name": "LayoutModel",
      "state": {}
     },
     "fc013a86d67c44a0bb38566c8733a5fb": {
      "model_module": "@jupyter-widgets/base",
      "model_module_version": "1.2.0",
      "model_name": "LayoutModel",
      "state": {}
     },
     "fc22e6cf560740e8ac77931eb4d91215": {
      "model_module": "@jupyter-widgets/controls",
      "model_module_version": "1.5.0",
      "model_name": "HTMLModel",
      "state": {
       "layout": "IPY_MODEL_34d32b15ab3f4e27a492a84257186bda",
       "style": "IPY_MODEL_aa7a02c9ba694948b60044f0a9dbf227",
       "value": " 367/369 [00:06&lt;00:00, 63.25it/s]"
      }
     },
     "fc4b78265a9746cc9add9da3e02139b3": {
      "model_module": "@jupyter-widgets/base",
      "model_module_version": "1.2.0",
      "model_name": "LayoutModel",
      "state": {}
     },
     "fcc660f7335c4a0591708b17faf97876": {
      "model_module": "@jupyter-widgets/controls",
      "model_module_version": "1.5.0",
      "model_name": "DescriptionStyleModel",
      "state": {
       "description_width": ""
      }
     },
     "fce76e53233847598b85c7c0f25b1300": {
      "model_module": "@jupyter-widgets/controls",
      "model_module_version": "1.5.0",
      "model_name": "DescriptionStyleModel",
      "state": {
       "description_width": ""
      }
     },
     "fcfb41a0845b4973bbba88d9b0396758": {
      "model_module": "@jupyter-widgets/controls",
      "model_module_version": "1.5.0",
      "model_name": "ProgressStyleModel",
      "state": {
       "description_width": ""
      }
     },
     "fd0f01a5ca5147ccb183874423c4ab1f": {
      "model_module": "@jupyter-widgets/base",
      "model_module_version": "1.2.0",
      "model_name": "LayoutModel",
      "state": {}
     },
     "fd40d8650e7c4efab968cc263045fa11": {
      "model_module": "@jupyter-widgets/controls",
      "model_module_version": "1.5.0",
      "model_name": "ProgressStyleModel",
      "state": {
       "description_width": ""
      }
     },
     "fd44c57d0f4744bfab70634ca947c8d4": {
      "model_module": "@jupyter-widgets/base",
      "model_module_version": "1.2.0",
      "model_name": "LayoutModel",
      "state": {}
     },
     "fdacb3cd9522451599221a5819bcd1b7": {
      "model_module": "@jupyter-widgets/controls",
      "model_module_version": "1.5.0",
      "model_name": "DescriptionStyleModel",
      "state": {
       "description_width": ""
      }
     },
     "fdb9f14f8694478a996d27010206dc52": {
      "model_module": "@jupyter-widgets/base",
      "model_module_version": "1.2.0",
      "model_name": "LayoutModel",
      "state": {}
     },
     "fdc1ad694e034107869a675bae4f2f67": {
      "model_module": "@jupyter-widgets/base",
      "model_module_version": "1.2.0",
      "model_name": "LayoutModel",
      "state": {}
     },
     "fdff3a2be99f44cb90d9b0d9af028d64": {
      "model_module": "@jupyter-widgets/base",
      "model_module_version": "1.2.0",
      "model_name": "LayoutModel",
      "state": {}
     },
     "fe88f1d837e4469abc95af40f8622919": {
      "model_module": "@jupyter-widgets/controls",
      "model_module_version": "1.5.0",
      "model_name": "DescriptionStyleModel",
      "state": {
       "description_width": ""
      }
     },
     "fee0a796eee243bfb10f6ca9f3cf7100": {
      "model_module": "@jupyter-widgets/controls",
      "model_module_version": "1.5.0",
      "model_name": "FloatProgressModel",
      "state": {
       "layout": "IPY_MODEL_700b5f1e69ee4b7d9eb6dc717a7cdcbf",
       "max": 3890,
       "style": "IPY_MODEL_8826aff927d44e3f8438cb203e350995",
       "value": 3890
      }
     },
     "fee5ef9507ee44d0bf192419144d055f": {
      "model_module": "@jupyter-widgets/controls",
      "model_module_version": "1.5.0",
      "model_name": "FloatProgressModel",
      "state": {
       "layout": "IPY_MODEL_5886a34ed4bc4c89b29b79b98ca4b8fc",
       "max": 2464,
       "style": "IPY_MODEL_fcfb41a0845b4973bbba88d9b0396758",
       "value": 2464
      }
     },
     "ff3610bc4e8a41a280058e454511bff0": {
      "model_module": "@jupyter-widgets/base",
      "model_module_version": "1.2.0",
      "model_name": "LayoutModel",
      "state": {}
     },
     "ff37b7a519f0407b89ba207449638c33": {
      "model_module": "@jupyter-widgets/base",
      "model_module_version": "1.2.0",
      "model_name": "LayoutModel",
      "state": {
       "visibility": "hidden"
      }
     },
     "ff4fc753f6e6452b87629f05762823b1": {
      "model_module": "@jupyter-widgets/controls",
      "model_module_version": "1.5.0",
      "model_name": "HTMLModel",
      "state": {
       "layout": "IPY_MODEL_b1d4b1e1c5e44dd7b14dbecf92840b34",
       "style": "IPY_MODEL_ad2fdfdcd2c54f078b2b6ed8b8d33139",
       "value": " 2319/2321 [00:37&lt;00:00, 64.02it/s]"
      }
     },
     "ff67a9b10e5a4e67bec363d1d421252e": {
      "model_module": "@jupyter-widgets/base",
      "model_module_version": "1.2.0",
      "model_name": "LayoutModel",
      "state": {}
     },
     "ff6aca03015744c19712a5ed1f292121": {
      "model_module": "@jupyter-widgets/base",
      "model_module_version": "1.2.0",
      "model_name": "LayoutModel",
      "state": {}
     },
     "ffa837e7ba724e898e0ef7510328a7e1": {
      "model_module": "@jupyter-widgets/base",
      "model_module_version": "1.2.0",
      "model_name": "LayoutModel",
      "state": {}
     },
     "ffabd4fa2f8040fa84b6d0fd78a0a46f": {
      "model_module": "@jupyter-widgets/controls",
      "model_module_version": "1.5.0",
      "model_name": "ProgressStyleModel",
      "state": {
       "description_width": ""
      }
     },
     "ffb8f0c70b3c4f2296b3ac7f3c8cbe16": {
      "model_module": "@jupyter-widgets/base",
      "model_module_version": "1.2.0",
      "model_name": "LayoutModel",
      "state": {}
     }
    },
    "version_major": 2,
    "version_minor": 0
   }
  }
 },
 "nbformat": 4,
 "nbformat_minor": 4
}
